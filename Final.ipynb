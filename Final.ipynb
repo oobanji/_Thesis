{
 "cells": [
  {
   "cell_type": "markdown",
   "metadata": {},
   "source": [
    "# Inferring Grammars from Binary Programs using String Inclusion\n",
    "\n",
    "* Evaluation starts [here](#Evaluation)\n",
    "  * The evaluation on specific subjects starts [here](#Subjects)\n",
    "    * [Calculator](#Calculator)\n",
    "    * [CSV](#CSV)\n",
    "    * [URLParse](#URLParse)\n",
    "    * [JSON](#JSON)\n",
    "    * [TinyExpr](#TinyExpr)\n",
    "    * [INI](#INI)\n",
    "* Results are [here](#Results)"
   ]
  },
  {
   "cell_type": "markdown",
   "metadata": {
    "ExecuteTime": {
     "end_time": "2021-03-23T09:07:09.244530Z",
     "start_time": "2021-03-23T09:07:09.124208Z"
    }
   },
   "source": [
    "## Install Prerequisites"
   ]
  },
  {
   "cell_type": "markdown",
   "metadata": {},
   "source": [
    "Our code is based on the utilities provided by the [Fuzzingbook](http://fuzzingbook.org). We can simply install FuzzingBook using the command below."
   ]
  },
  {
   "cell_type": "code",
   "execution_count": 411,
   "metadata": {
    "ExecuteTime": {
     "end_time": "2021-10-06T12:09:56.039514Z",
     "start_time": "2021-10-06T12:09:53.978306Z"
    },
    "scrolled": true
   },
   "outputs": [
    {
     "name": "stdout",
     "output_type": "stream",
     "text": [
      "Requirement already satisfied: fuzzingbook==0.8.1 in /home/admin1/anaconda3/lib/python3.7/site-packages (0.8.1)\r\n"
     ]
    }
   ],
   "source": [
    "!pip install fuzzingbook==0.8.1"
   ]
  },
  {
   "cell_type": "code",
   "execution_count": null,
   "metadata": {},
   "outputs": [],
   "source": [
    "!pip install nbconvert"
   ]
  },
  {
   "cell_type": "markdown",
   "metadata": {},
   "source": [
    "### GDB Installation\n",
    "\n",
    "**NOTE**: Please verify GDB installation on your environment before running this notebook. For details on GDB installtion, see the link below;"
   ]
  },
  {
   "cell_type": "markdown",
   "metadata": {},
   "source": [
    "* For **MacOS** installation [see](https://dev.to/jasonelwood/setup-gdb-on-macos-in-2020-489k)\n",
    "* For **Linux** installation [see](http://www.gdbtutorial.com/tutorial/how-install-gdb)"
   ]
  },
  {
   "cell_type": "code",
   "execution_count": 412,
   "metadata": {
    "ExecuteTime": {
     "end_time": "2021-10-06T12:09:56.044416Z",
     "start_time": "2021-10-06T12:09:56.041550Z"
    }
   },
   "outputs": [],
   "source": [
    "import fuzzingbook.fuzzingbook_utils"
   ]
  },
  {
   "cell_type": "markdown",
   "metadata": {},
   "source": [
    "## X86 Instruction"
   ]
  },
  {
   "cell_type": "markdown",
   "metadata": {},
   "source": [
    "An X86 instruction is typically made up of a line address, an instruction type which represents what type of action the instruction is meant to carry out and also a register where the action is operation on.\n",
    "\n",
    "Below is an example of an instruction that moves a value from one register to another;\n",
    "\n",
    "    `0x555555554892:      mov    %rsp,%rbp` \n",
    "where `0x555555554892` is the current line address, `mov` is the type of instruction that should be carried out and lastly `%rsp`,`%rbp` which represents the registers where the `mov` operation should be carried out. In this case, `mov` the content in register `rsp` to `rbp`."
   ]
  },
  {
   "cell_type": "markdown",
   "metadata": {},
   "source": [
    "### Instruction Type\n",
    "\n",
    "We represent function call and return in an instruction set as variables. for example, an instruction type can be `call` which represent a function call."
   ]
  },
  {
   "cell_type": "code",
   "execution_count": 413,
   "metadata": {
    "ExecuteTime": {
     "end_time": "2021-10-06T12:09:56.049701Z",
     "start_time": "2021-10-06T12:09:56.047104Z"
    }
   },
   "outputs": [],
   "source": [
    "CALL = 'callq'\n",
    "RETURN = 'retq'"
   ]
  },
  {
   "cell_type": "markdown",
   "metadata": {},
   "source": [
    "### Registers\n",
    "\n",
    "We represent X86 registers as an array of string values"
   ]
  },
  {
   "cell_type": "code",
   "execution_count": 414,
   "metadata": {
    "ExecuteTime": {
     "end_time": "2021-10-06T12:09:56.057429Z",
     "start_time": "2021-10-06T12:09:56.052955Z"
    }
   },
   "outputs": [],
   "source": [
    "REGISTERS = ['rdi', 'rdx', 'rcx', 'r8', 'r9', 'rbx', 'rax', 'rsp', 'rbp', 'al']"
   ]
  },
  {
   "cell_type": "markdown",
   "metadata": {},
   "source": [
    "**NOTE**: Since we are working with `GDB` we cannot run our implement directly within jupyter notebook. Therefore, we save all code implementation and variables into a single script that can be executed from command line."
   ]
  },
  {
   "cell_type": "code",
   "execution_count": 415,
   "metadata": {
    "ExecuteTime": {
     "end_time": "2021-10-06T12:09:56.063818Z",
     "start_time": "2021-10-06T12:09:56.060211Z"
    }
   },
   "outputs": [],
   "source": [
    "VARIABLES = '''\n",
    "CALL = 'callq'\n",
    "RETURN = 'retq'\n",
    "\n",
    "REGISTERS = ['rdi', 'rdx', 'rcx', 'r8', 'r9', 'rbx', 'rax', 'rsp', 'rbp', 'al']\n",
    "'''"
   ]
  },
  {
   "cell_type": "markdown",
   "metadata": {},
   "source": [
    "### Instruction\n",
    "\n",
    "With the information that can be obtained from instructions set, we represents this as a class `Instruction`."
   ]
  },
  {
   "cell_type": "code",
   "execution_count": 416,
   "metadata": {
    "ExecuteTime": {
     "end_time": "2021-10-06T12:09:56.166996Z",
     "start_time": "2021-10-06T12:09:56.162185Z"
    }
   },
   "outputs": [],
   "source": [
    "class Instruction:\n",
    "    def __init__(self, instr):\n",
    "        self.symbol_name = None\n",
    "        self.pointed_address = None\n",
    "        self.dest_reg = None\n",
    "        self.instr_type = None\n",
    "        self._parse(instr)"
   ]
  },
  {
   "cell_type": "markdown",
   "metadata": {},
   "source": [
    "Firstly within the constructor of the `Instruction` class, the variable `symbol_name` is used to hold the name of a function, variable `pointed_address` is used to hold the address of a function that is about to be called, variable `dest_reg` is used to hold the name of the register where an operation has been carried out."
   ]
  },
  {
   "cell_type": "markdown",
   "metadata": {},
   "source": [
    "method `get_pointed_address()` is used to get the address of a function that is about to be called. This method is useful when we have a `call` instruction"
   ]
  },
  {
   "cell_type": "code",
   "execution_count": 417,
   "metadata": {
    "ExecuteTime": {
     "end_time": "2021-10-06T12:09:56.639282Z",
     "start_time": "2021-10-06T12:09:56.635064Z"
    }
   },
   "outputs": [],
   "source": [
    "class Instruction(Instruction):\n",
    "    def get_pointed_address(self, inp_value):\n",
    "        inp_value = inp_value.strip('%*')\n",
    "        if inp_value in REGISTERS:\n",
    "            pointed_address = gdb.execute('x/s $%s' % (inp_value),to_string=True)\n",
    "            pointed_address = pointed_address.split(':')\n",
    "            return pointed_address[0]\n",
    "        return inp_value"
   ]
  },
  {
   "cell_type": "markdown",
   "metadata": {},
   "source": [
    " method `resolve_addressing_mode()` used to derive an expression that calculates an address in memory to be read/written to. For example, if we have the instruction `movl $1, -24(%rbp)`, we can resolve the address where the value of such instruction is located by computing `address = base $rbp + displacement -24)`"
   ]
  },
  {
   "cell_type": "code",
   "execution_count": 418,
   "metadata": {
    "ExecuteTime": {
     "end_time": "2021-10-06T12:09:56.886559Z",
     "start_time": "2021-10-06T12:09:56.877977Z"
    }
   },
   "outputs": [],
   "source": [
    "class Instruction(Instruction):\n",
    "    def resolve_addressing_mode(self, instruction):\n",
    "        splited_instruction = instruction.split(',')\n",
    "        if len(splited_instruction) > 2:\n",
    "            if instruction.startswith('%'):\n",
    "                return '$%s' % (splited_instruction[0][1:])\n",
    "            else:\n",
    "                if instruction.startswith('-') or instruction.startswith('0x'):\n",
    "                    displacement, base = tuple(\n",
    "                        splited_instruction[0].split('(%'))\n",
    "                    index = splited_instruction[1][1:]\n",
    "                    scale = splited_instruction[2].strip(')')\n",
    "                    return '$%s+%s+%s*$%s' % (base, displacement, scale, index)\n",
    "\n",
    "        src = splited_instruction[-1]\n",
    "        if '(' not in src:\n",
    "            if src[1:] in REGISTERS:\n",
    "                return '$%s' % src[1:]\n",
    "        else:\n",
    "            if src.startswith('-'):\n",
    "                displacement, rest = tuple(src.split('(%'))\n",
    "                return '$%s%s' % (rest[:-1], displacement)\n",
    "            elif src.startswith('(') and src.endswith(')'):\n",
    "                return '$%s' % src[2:-1]\n",
    "            else:\n",
    "                displacement, rest = tuple(src.split('(%'))\n",
    "                return '$%s+%s' % (rest[:-1], displacement)"
   ]
  },
  {
   "cell_type": "markdown",
   "metadata": {},
   "source": [
    "method `_parse()` makes use of all the functions and variables defined so far. It basically splits an instruction string into parts and assign useful part of the splited instruction into the variables defined in the constructor. Also, it resolves addressing for data movement instructions. \n",
    "\n",
    "Data movement instructions are instructions which basically equivalent to variable assignment. Such instruction types includes `mov`, `push`, `pop`."
   ]
  },
  {
   "cell_type": "code",
   "execution_count": 419,
   "metadata": {
    "ExecuteTime": {
     "end_time": "2021-10-06T12:09:57.168609Z",
     "start_time": "2021-10-06T12:09:57.150158Z"
    },
    "code_folding": []
   },
   "outputs": [],
   "source": [
    "class Instruction(Instruction):\n",
    "    def _parse(self, instr):\n",
    "        instr_list = instr.split()\n",
    "        instr_list.pop(0)\n",
    "\n",
    "        self.current_address = instr_list[0]\n",
    "        if \"<\" in instr_list[1]:\n",
    "            instr_list.pop(1)\n",
    "        self.instr_type = instr_list[1]\n",
    "\n",
    "        if self.instr_type == CALL:\n",
    "            self.pointed_address = self.get_pointed_address(instr_list[2])\n",
    "            if len(instr_list) > 3:\n",
    "                self.symbol_name = instr_list[-1]\n",
    "\n",
    "        elif self.instr_type.startswith('mov') or self.instr_type == 'push' or \\\n",
    "            self.instr_type == 'pop' or self.instr_type == 'cmp':\n",
    "            self.dest_reg = self.resolve_addressing_mode(instr_list[2])"
   ]
  },
  {
   "cell_type": "markdown",
   "metadata": {},
   "source": [
    "### Accessing memory content of registers and address\n",
    "\n",
    "After representing instructions as an object and defining how to resolve addressing, we need read the memory content of registers or addresses pointed by the register.\n",
    "\n",
    "Gdb provides command for reading the content of registers or an address. General format for the command is `x/nfu addr`. `x` to examine memory in any of several formats. `n`, `f`, and `u` are all optional parameters that specify how much memory to display and how to format it.\n",
    "\n",
    "In this work, we use the commands `x/s`, `x/a` `p/c` for reading, printing string, address and single character values respectively."
   ]
  },
  {
   "cell_type": "markdown",
   "metadata": {},
   "source": [
    "The method `read_memory()` uses the desired format passed to it to read memory content."
   ]
  },
  {
   "cell_type": "code",
   "execution_count": 420,
   "metadata": {
    "ExecuteTime": {
     "end_time": "2021-10-06T12:09:57.775871Z",
     "start_time": "2021-10-06T12:09:57.771021Z"
    }
   },
   "outputs": [],
   "source": [
    "def read_memory(reg, fmt):\n",
    "    try:\n",
    "        output = gdb.execute('%s %s' % (fmt, reg), to_string=True)\n",
    "        return extract_string(output)\n",
    "    except Exception:\n",
    "        return"
   ]
  },
  {
   "cell_type": "code",
   "execution_count": 421,
   "metadata": {
    "ExecuteTime": {
     "end_time": "2021-10-06T12:09:57.787121Z",
     "start_time": "2021-10-06T12:09:57.783287Z"
    }
   },
   "outputs": [],
   "source": [
    "def extract_string(string):\n",
    "    return_str = None\n",
    "    for idx, char in enumerate(string):\n",
    "        if string[idx] == ':':\n",
    "            return_str = string[idx + 1:]\n",
    "            return_str = return_str.strip()\n",
    "            break\n",
    "    return return_str"
   ]
  },
  {
   "cell_type": "code",
   "execution_count": 422,
   "metadata": {
    "ExecuteTime": {
     "end_time": "2021-10-06T12:09:57.799294Z",
     "start_time": "2021-10-06T12:09:57.795979Z"
    }
   },
   "outputs": [],
   "source": [
    "def extract_char(addr):\n",
    "    char_val = gdb.execute('p/c %s' % (addr), to_string=True)\n",
    "    char_val = char_val.split()\n",
    "    char_val = char_val[-1]\n",
    "    return char_val[1:-1]"
   ]
  },
  {
   "cell_type": "code",
   "execution_count": 423,
   "metadata": {
    "ExecuteTime": {
     "end_time": "2021-10-06T12:09:57.809326Z",
     "start_time": "2021-10-06T12:09:57.806681Z"
    }
   },
   "outputs": [],
   "source": [
    "read_address_string_methods = '''\n",
    "def read_memory(reg, fmt):\n",
    "    try:\n",
    "        output = gdb.execute('%s %s' % (fmt, reg), to_string=True)\n",
    "        return extract_string(output)\n",
    "    except Exception:\n",
    "        return\n",
    "        \n",
    "def extract_string(string):\n",
    "    return_str = None\n",
    "    for idx, char in enumerate(string):\n",
    "        if string[idx] == ':':\n",
    "            return_str = string[idx + 1:]\n",
    "            return_str = return_str.strip()\n",
    "            break\n",
    "    return return_str\n",
    "\n",
    "def extract_char(addr):\n",
    "    char_val = gdb.execute('p/c %s' % (addr), to_string=True)\n",
    "    char_val = char_val.split()\n",
    "    char_val = char_val[-1]\n",
    "    return char_val[1:-1]\n",
    "'''"
   ]
  },
  {
   "cell_type": "markdown",
   "metadata": {},
   "source": [
    "#### Combining both\n",
    "\n",
    "This method `read_register_value` makes use of the above defined methods in reading the content of an address or register during debugging."
   ]
  },
  {
   "cell_type": "code",
   "execution_count": 424,
   "metadata": {
    "ExecuteTime": {
     "end_time": "2021-10-06T12:09:58.104543Z",
     "start_time": "2021-10-06T12:09:58.097024Z"
    }
   },
   "outputs": [],
   "source": [
    "def read_register_value(reg, original, instr_type):\n",
    "    if not reg: return None\n",
    "\n",
    "    if instr_type.endswith('movb'):\n",
    "        hex_value = read_memory(reg, 'x/x')\n",
    "        if hex_value: return extract_char(hex_value)\n",
    "\n",
    "    if reg == '$al':\n",
    "        return extract_char(reg)\n",
    "\n",
    "    val = read_memory(reg, 'x/s')\n",
    "    if not val or 'error' in val:\n",
    "        return None\n",
    "    elif val in original:\n",
    "        return val\n",
    "    else:\n",
    "        if val[1:-1] in original:\n",
    "            return val[1:-1]\n",
    "        address = read_memory(reg, 'x/a')\n",
    "        str_val = read_register_value(address, original, instr_type)\n",
    "        return str_val"
   ]
  },
  {
   "cell_type": "code",
   "execution_count": 425,
   "metadata": {
    "ExecuteTime": {
     "end_time": "2021-10-06T12:09:58.114213Z",
     "start_time": "2021-10-06T12:09:58.111068Z"
    }
   },
   "outputs": [],
   "source": [
    "read_register_value = '''\n",
    "def read_register_value(reg, original, instr_type):\n",
    "    if not reg: return None\n",
    "\n",
    "    if instr_type.endswith('movb'):\n",
    "        hex_value = read_memory(reg, 'x/x')\n",
    "        if hex_value: return extract_char(hex_value)\n",
    "\n",
    "    if reg == '$al':\n",
    "        return extract_char(reg)\n",
    "\n",
    "    val = read_memory(reg, 'x/s')\n",
    "    if not val or 'error' in val:\n",
    "        return None\n",
    "    elif val in original:\n",
    "        return val\n",
    "    else:\n",
    "        if val[1:-1] in original:\n",
    "            return val[1:-1]\n",
    "        address = read_memory(reg, 'x/a')\n",
    "        str_val = read_register_value(address, original, instr_type)\n",
    "        return str_val\n",
    "'''"
   ]
  },
  {
   "cell_type": "code",
   "execution_count": 426,
   "metadata": {
    "ExecuteTime": {
     "end_time": "2021-10-06T12:09:58.132631Z",
     "start_time": "2021-10-06T12:09:58.126431Z"
    }
   },
   "outputs": [
    {
     "name": "stdout",
     "output_type": "stream",
     "text": [
      "\n",
      "def read_register_value(reg, original, instr_type):\n",
      "    if not reg: return None\n",
      "\n",
      "    if instr_type.endswith('movb'):\n",
      "        hex_value = read_memory(reg, 'x/x')\n",
      "        if hex_value: return extract_char(hex_value)\n",
      "\n",
      "    if reg == '$al':\n",
      "        return extract_char(reg)\n",
      "\n",
      "    val = read_memory(reg, 'x/s')\n",
      "    if not val or 'error' in val:\n",
      "        return None\n",
      "    elif val in original:\n",
      "        return val\n",
      "    else:\n",
      "        if val[1:-1] in original:\n",
      "            return val[1:-1]\n",
      "        address = read_memory(reg, 'x/a')\n",
      "        str_val = read_register_value(address, original, instr_type)\n",
      "        return str_val\n",
      "\n"
     ]
    }
   ],
   "source": [
    "print(read_register_value)"
   ]
  },
  {
   "cell_type": "markdown",
   "metadata": {},
   "source": [
    "## BinaryDebugger"
   ]
  },
  {
   "cell_type": "markdown",
   "metadata": {},
   "source": [
    "The `BinaryDebugger` makes use of all the above implementation so far. It is used to obtain a trace which is then used in building a grammar. The goal here is to trace through a given binary, examine instructions and extract useful information from each instruction using our `Instruction` class defined above and finally return a trace."
   ]
  },
  {
   "cell_type": "code",
   "execution_count": 427,
   "metadata": {
    "ExecuteTime": {
     "end_time": "2021-10-06T12:09:58.685851Z",
     "start_time": "2021-10-06T12:09:58.678468Z"
    }
   },
   "outputs": [],
   "source": [
    "class BinaryDebugger:\n",
    "    def __init__(self, inp, binary, fn_list):\n",
    "        self.inp = inp\n",
    "        self.binary = binary\n",
    "        self.functions = fn_list\n",
    "        self._set_logger()\n",
    "        self.tree = {}\n",
    "        self.mid = None\n",
    "        self.method_map, self.method_stack = {}, []"
   ]
  },
  {
   "cell_type": "markdown",
   "metadata": {},
   "source": [
    "### Binary Debugger"
   ]
  },
  {
   "cell_type": "markdown",
   "metadata": {},
   "source": [
    "Here we define with some common functionalities which a debugger needs to have to debug a program. Methods `break_at()`, `finish()`, `get_instructon()`, `nexti()`, `resume()`, `run()` and `step()` are used to set breakpoint, complete program execution, get the current instruction, step to the next instruction, resume program execution and step into a function respectively."
   ]
  },
  {
   "cell_type": "code",
   "execution_count": 428,
   "metadata": {
    "ExecuteTime": {
     "end_time": "2021-10-06T12:09:59.280428Z",
     "start_time": "2021-10-06T12:09:59.275608Z"
    }
   },
   "outputs": [],
   "source": [
    "class BinaryDebugger(BinaryDebugger):\n",
    "    def break_at(self, address):\n",
    "        gdb.execute(\"break *%s\" % address)\n",
    "\n",
    "    def finish(self):\n",
    "        gdb.execute('finish')\n",
    "\n",
    "    def get_instruction(self):\n",
    "        return gdb.execute('x/i $rip', to_string=True)\n",
    "\n",
    "    def nexti(self):\n",
    "        gdb.execute('nexti')\n",
    "\n",
    "    def resume(self):\n",
    "        gdb.execute('continue')\n",
    "\n",
    "    def run(self):\n",
    "        gdb.execute('run')\n",
    "\n",
    "    def step(self):\n",
    "        gdb.execute('stepi')"
   ]
  },
  {
   "cell_type": "markdown",
   "metadata": {},
   "source": [
    "method `_set_logger()` function is used to configure logging."
   ]
  },
  {
   "cell_type": "code",
   "execution_count": 429,
   "metadata": {
    "ExecuteTime": {
     "end_time": "2021-10-06T12:09:59.564383Z",
     "start_time": "2021-10-06T12:09:59.560931Z"
    }
   },
   "outputs": [],
   "source": [
    "class BinaryDebugger(BinaryDebugger):\n",
    "    def _set_logger(self):\n",
    "        gdb.execute('set logging overwrite on')\n",
    "        gdb.execute('set logging redirect on')\n",
    "        gdb.execute('set logging on')"
   ]
  },
  {
   "cell_type": "markdown",
   "metadata": {},
   "source": [
    "method `start_program()` sets the input to the program and the target binary want to debug"
   ]
  },
  {
   "cell_type": "code",
   "execution_count": 430,
   "metadata": {
    "ExecuteTime": {
     "end_time": "2021-10-06T12:09:59.882791Z",
     "start_time": "2021-10-06T12:09:59.879349Z"
    }
   },
   "outputs": [],
   "source": [
    "class BinaryDebugger(BinaryDebugger):\n",
    "    def start_program(self):\n",
    "        gdb.execute(\"set args '%s'\" % self.inp)\n",
    "        gdb.execute(\"file %s\" % self.binary)"
   ]
  },
  {
   "cell_type": "markdown",
   "metadata": {},
   "source": [
    "method `_get_address_range()` gets the address range where the program lies. The address range is needed to guide the debugger to avoid tracing scope that are not of interest."
   ]
  },
  {
   "cell_type": "code",
   "execution_count": 431,
   "metadata": {
    "ExecuteTime": {
     "end_time": "2021-10-06T12:10:00.182513Z",
     "start_time": "2021-10-06T12:10:00.173174Z"
    }
   },
   "outputs": [],
   "source": [
    "class BinaryDebugger(BinaryDebugger):\n",
    "    def _get_address_range(self):\n",
    "        s1 = s2 = None\n",
    "        e1 = e2 = None\n",
    "        mappings = gdb.execute('info proc mappings', to_string=True)\n",
    "        for i, line in enumerate(mappings.splitlines()):\n",
    "            if i == 4:\n",
    "                s1 = line.split()[0]\n",
    "            elif i == 6:\n",
    "                e1 = line.split()[1]\n",
    "            elif i == 7:\n",
    "                s2 = line.split()[0]\n",
    "            elif i == 10:\n",
    "                e2 = line.split()[1]\n",
    "        return (s1, e1, s2, e2)"
   ]
  },
  {
   "cell_type": "markdown",
   "metadata": {},
   "source": [
    "method `_in_scope()` serves as a guide when tracing through the binary. If we are in the wrong scope the debugger exits from such scope and continues tracing."
   ]
  },
  {
   "cell_type": "code",
   "execution_count": 432,
   "metadata": {
    "ExecuteTime": {
     "end_time": "2021-10-06T12:10:00.464886Z",
     "start_time": "2021-10-06T12:10:00.461843Z"
    }
   },
   "outputs": [],
   "source": [
    "def get_curr_address(instr):\n",
    "    instr = instr.split()\n",
    "    instr.pop(0)\n",
    "    return instr[0].strip(':')"
   ]
  },
  {
   "cell_type": "code",
   "execution_count": 433,
   "metadata": {
    "ExecuteTime": {
     "end_time": "2021-10-06T12:10:00.479419Z",
     "start_time": "2021-10-06T12:10:00.474941Z"
    }
   },
   "outputs": [],
   "source": [
    "class BinaryDebugger(BinaryDebugger):\n",
    "    def _in_scope(self, instr, addr_range):\n",
    "        s1, e1, s2, e2 = addr_range\n",
    "\n",
    "        current_addr = get_curr_address(instr)\n",
    "        hex_value = int(current_addr, 16)\n",
    "        return True if hex_value in range(int(s1, 16), int(\n",
    "            e1, 16)) or hex_value in range(int(s2, 16), int(e2, 16)) else False"
   ]
  },
  {
   "cell_type": "code",
   "execution_count": 434,
   "metadata": {
    "ExecuteTime": {
     "end_time": "2021-10-06T12:10:00.488002Z",
     "start_time": "2021-10-06T12:10:00.484895Z"
    }
   },
   "outputs": [],
   "source": [
    "in_scope_helper = '''\n",
    "def get_curr_address(instr):\n",
    "    instr = instr.split()\n",
    "    instr.pop(0)\n",
    "    return instr[0].strip(':')\n",
    "'''"
   ]
  },
  {
   "cell_type": "markdown",
   "metadata": {},
   "source": [
    "method `_get_entry_address()` the function is used to get the entry point of a program which has no debugging symbol."
   ]
  },
  {
   "cell_type": "code",
   "execution_count": 435,
   "metadata": {
    "ExecuteTime": {
     "end_time": "2021-10-06T12:10:00.779971Z",
     "start_time": "2021-10-06T12:10:00.775036Z"
    }
   },
   "outputs": [],
   "source": [
    "class BinaryDebugger(BinaryDebugger):\n",
    "    def _get_entry_address(self):\n",
    "        self.start_program()\n",
    "        self.run()\n",
    "\n",
    "        info_file = gdb.execute('info file', to_string=True)\n",
    "        entry = None\n",
    "\n",
    "        entry_line = [\n",
    "            line for line in info_file.splitlines() if 'Entry point' in line\n",
    "        ]\n",
    "        entry = entry_line[0]\n",
    "        entry = entry.split(':')[1]\n",
    "        return entry"
   ]
  },
  {
   "cell_type": "markdown",
   "metadata": {},
   "source": [
    "method `_get_main_address()` makes use of the entry point obtained from the method `_get_entry_address()` in order to get the main address which is the starting point of the program."
   ]
  },
  {
   "cell_type": "code",
   "execution_count": 436,
   "metadata": {
    "ExecuteTime": {
     "end_time": "2021-10-06T12:10:01.088254Z",
     "start_time": "2021-10-06T12:10:01.077161Z"
    }
   },
   "outputs": [],
   "source": [
    "class BinaryDebugger(BinaryDebugger):\n",
    "    def _get_main_address(self):\n",
    "        entry = self._get_entry_address()\n",
    "        self.break_at(entry)\n",
    "        self.run()\n",
    "\n",
    "        instr = []\n",
    "        while True:\n",
    "            next_i = self.get_instruction()\n",
    "            if CALL in next_i:\n",
    "                break\n",
    "            instr.append(next_i)\n",
    "            self.step()\n",
    "\n",
    "        instr = instr[-1].split()\n",
    "        if len(instr) == 6:\n",
    "            s = instr[3]\n",
    "        else:\n",
    "            s = instr[4]\n",
    "\n",
    "        register = s[-3:]\n",
    "        main_addr = gdb.execute('p/x $%s' % register, to_string=True)\n",
    "        main_addr = main_addr.partition(\"= \")\n",
    "        main_addr = main_addr[-1]\n",
    "\n",
    "        return main_addr"
   ]
  },
  {
   "cell_type": "markdown",
   "metadata": {},
   "source": [
    "method `_lookup_address()` looks up the symbol name that corresponds the a given address whenever there is an instruction type `call`"
   ]
  },
  {
   "cell_type": "code",
   "execution_count": 437,
   "metadata": {
    "ExecuteTime": {
     "end_time": "2021-10-06T12:10:01.404960Z",
     "start_time": "2021-10-06T12:10:01.397343Z"
    }
   },
   "outputs": [],
   "source": [
    "class BinaryDebugger(BinaryDebugger):\n",
    "    def _lookup_address(self, addr, symbol):\n",
    "        addr = addr.rstrip(\"\\n\")\n",
    "        if addr in self.functions.keys():\n",
    "            return self.functions[addr]\n",
    "        else:\n",
    "            if symbol:\n",
    "                return symbol\n",
    "            return None"
   ]
  },
  {
   "cell_type": "markdown",
   "metadata": {},
   "source": [
    "method `_init_methodMap_methodStack()` creates and initializes a map which is used to build our method trace during program execution.\n",
    "\n",
    "The  format for our method trace is of the form; \n",
    "```\n",
    "key   : [ mid, method_name, children_ids ]\n",
    "```\n",
    "When this method is invoked, method trace is set with `None` as the parent and the `main`.\n",
    "\n",
    "Also, the variable `method_stack` keeps track of method id when there is a function call and function return."
   ]
  },
  {
   "cell_type": "code",
   "execution_count": 438,
   "metadata": {
    "ExecuteTime": {
     "end_time": "2021-10-06T12:10:01.755949Z",
     "start_time": "2021-10-06T12:10:01.751587Z"
    }
   },
   "outputs": [],
   "source": [
    "class BinaryDebugger(BinaryDebugger):\n",
    "    def _init_methodMap_methodStack(self, mname):\n",
    "        self.method_map = {'0': [0, None, [1]], '1': [1, mname, []]}\n",
    "        self.method_stack = ['0', '1']"
   ]
  },
  {
   "cell_type": "markdown",
   "metadata": {},
   "source": [
    "method `_init_result()` creates a map which holds all the information derived during the tracing process.\n",
    "\n",
    "The key `methodMap` holds the derived method trace as a value. Also, the key `comparisons` holds an array of all characters processed during program execution. Each item in the `comparisons`array is of the form;\n",
    "```\n",
    "    [index, character, method_id]\n",
    "```\n",
    "where index represents the position of a fragment within the input string, character represents the character which was processed, method id represents the method where such character was being processed."
   ]
  },
  {
   "cell_type": "code",
   "execution_count": 439,
   "metadata": {
    "ExecuteTime": {
     "end_time": "2021-10-06T12:10:02.065593Z",
     "start_time": "2021-10-06T12:10:02.061620Z"
    }
   },
   "outputs": [],
   "source": [
    "class BinaryDebugger(BinaryDebugger):\n",
    "    def _init_result(self, inp, arg1=None):\n",
    "        self.result = {\n",
    "            'inputstr': inp,\n",
    "            'arg': inp,\n",
    "            'original': arg1,\n",
    "            'methodMap': {},\n",
    "            'comparisons': []\n",
    "        }"
   ]
  },
  {
   "cell_type": "markdown",
   "metadata": {},
   "source": [
    "One interesting question we might ask ourself is that in the case of non unique characters in an input string, how do we know which index was consumed by what function when adding items to `Comparisons` array?"
   ]
  },
  {
   "cell_type": "markdown",
   "metadata": {},
   "source": [
    "###  Resolving ambiguous fragments"
   ]
  },
  {
   "cell_type": "markdown",
   "metadata": {},
   "source": [
    "Suppose we have an input string `13+(73)` which is being parsed by a program. Our goal when building `Comparisons` for such input string is that we do not want to confuse index 1 of the input string (with value 3) with the index 5 of the input string (with value 3) since they are non unique.\n",
    "\n",
    "For example, \n",
    "    if index 1 was parsed by `method_id` = 2 and index 5 was parsed by `method_id` = 7. we want to avoid having;\n",
    "```\n",
    "      [1, '3', 2],\n",
    "      [1, '3', 7]\n",
    "```\n",
    "but rather,\n",
    "```\n",
    "      [1, '3', 2],\n",
    "      [5, '3', 7]\n",
    "```\n",
    "\n",
    "To achieve this, we used a mutation strategy as described below;"
   ]
  },
  {
   "cell_type": "markdown",
   "metadata": {},
   "source": [
    "* First we identify all indexes of the non unique character in the input string.\n",
    "* Mutate all the indexes of the non unique character except the index we are interested in verifying.\n",
    "* Re-run `BinaryDebugger` with the mutated string.\n",
    "    * If the index of interested flows in the mutated string flows through the same part as index of interest in the original input string, then we found the true index.\n",
    "    * If not, we try the next index in the list of duplicate index"
   ]
  },
  {
   "cell_type": "markdown",
   "metadata": {},
   "source": [
    "#### Mutating input string"
   ]
  },
  {
   "cell_type": "markdown",
   "metadata": {},
   "source": [
    "The `get_duplicate_indexes()` function finds all indexes of the target in the input string"
   ]
  },
  {
   "cell_type": "code",
   "execution_count": 440,
   "metadata": {
    "ExecuteTime": {
     "end_time": "2021-10-06T12:10:03.930032Z",
     "start_time": "2021-10-06T12:10:03.925823Z"
    }
   },
   "outputs": [],
   "source": [
    "def get_duplicate_indexes(input_str, target):\n",
    "    return [i for i, c in enumerate(input_str) if target == c]"
   ]
  },
  {
   "cell_type": "markdown",
   "metadata": {},
   "source": [
    "The `get_alternative_chars()` is used to find a list possible alternatives that can be used for mutating indexes in the input string."
   ]
  },
  {
   "cell_type": "code",
   "execution_count": 441,
   "metadata": {
    "ExecuteTime": {
     "end_time": "2021-10-06T12:10:04.249761Z",
     "start_time": "2021-10-06T12:10:04.244661Z"
    }
   },
   "outputs": [],
   "source": [
    "import string\n",
    "\n",
    "\n",
    "def get_alternative_chars(s):\n",
    "    if s.isdigit():\n",
    "        return list(string.digits.replace(s, ''))\n",
    "    else:\n",
    "        return list(string.ascii_letters.replace(s, ''))"
   ]
  },
  {
   "cell_type": "code",
   "execution_count": 442,
   "metadata": {
    "ExecuteTime": {
     "end_time": "2021-10-06T12:10:04.258345Z",
     "start_time": "2021-10-06T12:10:04.255721Z"
    }
   },
   "outputs": [],
   "source": [
    "mutate_string_method = '''\n",
    "def get_duplicate_indexes(input_str, target):\n",
    "    return [i for i, c in enumerate(input_str) if target == c]\n",
    "\n",
    "import string\n",
    "def get_alternative_chars(s):\n",
    "    if s.isdigit():\n",
    "        return list(string.digits.replace(s, ''))\n",
    "    else:\n",
    "        return list(string.ascii_letters.replace(s, ''))\n",
    "'''"
   ]
  },
  {
   "cell_type": "markdown",
   "metadata": {},
   "source": [
    "The method `verify_substr_path()` is used to verify the index of a non unique character in the input string. \n",
    "For a given character,\n",
    "* It gets all index of the character in the input string\n",
    "* For each index in the list of duplicates, it mutate all other indexes in the list of duplicates to form a new string. \n",
    "* For each newly mutated string, we re-run the program with the mutated string until we find the right index of the given character.\n",
    "\n",
    "mutated string are passed as input into the `check()` function which does the re-run."
   ]
  },
  {
   "cell_type": "code",
   "execution_count": 443,
   "metadata": {
    "ExecuteTime": {
     "end_time": "2021-10-06T12:10:04.631249Z",
     "start_time": "2021-10-06T12:10:04.620915Z"
    },
    "code_folding": []
   },
   "outputs": [],
   "source": [
    "def verify_substr_path(inputstr, val, mid, module, comparisons, instr_count):\n",
    "    duplicate_idxes = get_duplicate_indexes(inputstr, val)\n",
    "    alternative_chars = get_alternative_chars(val)\n",
    "\n",
    "    for i in duplicate_idxes:\n",
    "        new_str = inputstr\n",
    "        for j in duplicate_idxes:\n",
    "            if i != j and j > i:\n",
    "                c = random.choice(alternative_chars)\n",
    "                new_str = new_str[:j] + c + new_str[j + 1:]\n",
    "\n",
    "        comparison = check(new_str, [i, val, mid], module, inputstr,\n",
    "                           instr_count)\n",
    "        if comparison and comparison not in comparisons:\n",
    "            comparisons.append(comparison)\n",
    "            return comparisons\n",
    "        else:\n",
    "            if comparison: return comparisons\n",
    "    return comparisons"
   ]
  },
  {
   "cell_type": "code",
   "execution_count": 444,
   "metadata": {
    "ExecuteTime": {
     "end_time": "2021-10-06T12:10:04.644886Z",
     "start_time": "2021-10-06T12:10:04.639224Z"
    }
   },
   "outputs": [],
   "source": [
    "verify_substr_path_method = '''\n",
    "def verify_substr_path(inputstr, val, mid, module, comparisons, instr_count):\n",
    "    duplicate_idxes = get_duplicate_indexes(inputstr, val)\n",
    "    alternative_chars = get_alternative_chars(val)\n",
    "\n",
    "    for i in duplicate_idxes:\n",
    "        new_str = inputstr\n",
    "        for j in duplicate_idxes:\n",
    "            if i != j and j > i:\n",
    "                c = random.choice(alternative_chars)\n",
    "                new_str = new_str[:j] + c + new_str[j + 1:]\n",
    "\n",
    "        comparison = check(new_str, [i, val, mid], module, inputstr, instr_count)\n",
    "        if comparison and comparison not in comparisons:\n",
    "            comparisons.append(comparison)\n",
    "            return comparisons\n",
    "        else:\n",
    "            if comparison: return comparisons\n",
    "    return comparisons\n",
    "'''"
   ]
  },
  {
   "cell_type": "markdown",
   "metadata": {},
   "source": [
    "#### Re-running the program with mutated input"
   ]
  },
  {
   "cell_type": "markdown",
   "metadata": {},
   "source": [
    "The method `check()` runs the new mutated string on the input binary and check that the character we are interested in verifying flows through the same path as what was observed in the original string. \n",
    "\n",
    "The argument `comparison` in the `check()` method definition represents `[index, character, method_id]` we want to verify."
   ]
  },
  {
   "cell_type": "code",
   "execution_count": 445,
   "metadata": {
    "ExecuteTime": {
     "end_time": "2021-10-06T12:10:05.302607Z",
     "start_time": "2021-10-06T12:10:05.292234Z"
    }
   },
   "outputs": [],
   "source": [
    "def check(new_str, comparison, module, originalstr, instr_count):\n",
    "    with open(f'inp.0.txt', 'w+') as f:\n",
    "        print(new_str, file=f)\n",
    "\n",
    "    with open(f'comparison.txt', 'w+') as f:\n",
    "        print(comparison, file=f)\n",
    "\n",
    "    subprocess.call([\n",
    "        'gdb', '--batch-silent', '-ex',\n",
    "        \"py arg0='%s'\" % new_str, '-ex',\n",
    "        'py arg1=\"%s\"' % module, '-ex',\n",
    "        'py arg2=\"%s\"' % instr_count, \"-x\", \"check2.py\"\n",
    "    ])\n",
    "\n",
    "    with open(f'inp.0.txt', 'w+') as f:\n",
    "        print(originalstr, file=f)\n",
    "\n",
    "    result = None\n",
    "    try:\n",
    "        with open(f'updated_comparisons', 'rb') as f:\n",
    "            result = jsonpickle.decode(f.read())\n",
    "\n",
    "        if result and result == comparison: return result\n",
    "    except FileNotFoundError:\n",
    "        return result"
   ]
  },
  {
   "cell_type": "code",
   "execution_count": 446,
   "metadata": {
    "ExecuteTime": {
     "end_time": "2021-10-06T12:10:05.310122Z",
     "start_time": "2021-10-06T12:10:05.306537Z"
    }
   },
   "outputs": [],
   "source": [
    "check_method = '''\n",
    "def check(new_str, comparison, module, originalstr, instr_count):\n",
    "    with open(f'inp.0.txt', 'w+') as f:\n",
    "        print(new_str, file=f)\n",
    "\n",
    "    with open(f'comparison.txt', 'w+') as f:\n",
    "        print(comparison, file=f)\n",
    "\n",
    "    subprocess.call(['gdb', '--batch-silent', '-ex', \"py arg0='%s'\" % new_str,\n",
    "    '-ex', 'py arg1=\"%s\"' % module, '-ex', 'py arg2=\"%s\"' % instr_count, \"-x\", \"check2.py\"])\n",
    "\n",
    "    with open(f'inp.0.txt', 'w+') as f:\n",
    "        print(originalstr, file=f)\n",
    "\n",
    "    result = None\n",
    "    try:\n",
    "        with open(f'updated_comparisons', 'rb') as f:\n",
    "            result = jsonpickle.decode(f.read())\n",
    "\n",
    "        if result and result == comparison: return result\n",
    "    except FileNotFoundError:\n",
    "        return result\n",
    "'''"
   ]
  },
  {
   "cell_type": "markdown",
   "metadata": {},
   "source": [
    "The method `add_value_to_comparisons()` is used in building comparisons for all values extracted during tracing. The method takes as argument value extracted during tracing, the `method id` the value was extracted, the original input string, and the input program.\n",
    "\n",
    "`add_value_to_comparisons()` utilizes the mutation strategy above to resolve all fragments and their respective index."
   ]
  },
  {
   "cell_type": "code",
   "execution_count": 447,
   "metadata": {
    "ExecuteTime": {
     "end_time": "2021-10-06T12:10:05.657404Z",
     "start_time": "2021-10-06T12:10:05.651128Z"
    }
   },
   "outputs": [],
   "source": [
    "def add_value_to_comparisons(val, mid, inputstr, comparisons, module,\n",
    "                             instr_count):\n",
    "    if val and val != inputstr and mid:\n",
    "        if len(val) > 1 and inputstr.count(val) == 1:\n",
    "            idx = inputstr.find(val)\n",
    "            if idx != -1:\n",
    "                for idx in range(idx, idx + len(val)):\n",
    "                    c = [idx, inputstr[idx], mid]\n",
    "                    if c not in comparisons:\n",
    "                        comparisons.append(c)\n",
    "        elif len(val) > 1 and inputstr.count(val) > 1:\n",
    "            for c in val:\n",
    "                comparisons = verify_substr_path(inputstr, c, mid, module,\n",
    "                                                 comparisons, instr_count)\n",
    "        else:\n",
    "            count = inputstr.count(val)\n",
    "            if count == 1:\n",
    "                idx = inputstr.find(val)\n",
    "                comparisons.append([idx, val, mid])\n",
    "            else:\n",
    "                comparisons = verify_substr_path(inputstr, val, mid, module,\n",
    "                                                 comparisons, instr_count)\n",
    "    return comparisons"
   ]
  },
  {
   "cell_type": "code",
   "execution_count": 448,
   "metadata": {
    "ExecuteTime": {
     "end_time": "2021-10-06T12:10:05.668553Z",
     "start_time": "2021-10-06T12:10:05.664575Z"
    }
   },
   "outputs": [],
   "source": [
    "add_value_to_comparisons_method = '''\n",
    "def add_value_to_comparisons(val, mid, inputstr, comparisons, module,\n",
    "                             instr_count):\n",
    "    if val and val != inputstr and mid:\n",
    "        if len(val) > 1 and inputstr.count(val) == 1:\n",
    "            idx = inputstr.find(val)\n",
    "            if idx != -1:\n",
    "                for idx in range(idx, idx + len(val)):\n",
    "                    c = [idx, inputstr[idx], mid]\n",
    "                    if c not in comparisons:\n",
    "                        comparisons.append(c)\n",
    "        elif len(val) > 1 and inputstr.count(val) > 1:\n",
    "            for c in val:\n",
    "                comparisons = verify_substr_path(inputstr, c, mid, module,\n",
    "                                                 comparisons, instr_count)\n",
    "        else:\n",
    "            count = inputstr.count(val)\n",
    "            if count == 1:\n",
    "                idx = inputstr.find(val)\n",
    "                comparisons.append([idx, val, mid])\n",
    "            else:\n",
    "                comparisons = verify_substr_path(inputstr, val, mid, module,\n",
    "                                                 comparisons, instr_count)\n",
    "    return comparisons\n",
    "'''"
   ]
  },
  {
   "cell_type": "markdown",
   "metadata": {},
   "source": [
    "### The event loop method"
   ]
  },
  {
   "cell_type": "markdown",
   "metadata": {},
   "source": [
    "method `event_loop` represents the heart of the debugger which orchestrate tracing. This method brings together all the functions we have defined so far in order to derive a trace which can be used to build our desired grammar. "
   ]
  },
  {
   "cell_type": "code",
   "execution_count": 449,
   "metadata": {
    "ExecuteTime": {
     "end_time": "2021-10-06T12:10:06.577678Z",
     "start_time": "2021-10-06T12:10:06.574073Z"
    }
   },
   "outputs": [],
   "source": [
    "from fuzzingbook.GrammarMiner import CallStack"
   ]
  },
  {
   "cell_type": "code",
   "execution_count": 450,
   "metadata": {
    "ExecuteTime": {
     "end_time": "2021-10-06T12:10:06.609211Z",
     "start_time": "2021-10-06T12:10:06.588566Z"
    },
    "code_folding": []
   },
   "outputs": [],
   "source": [
    "class BinaryDebugger(BinaryDebugger):\n",
    "    def event_loop(self):\n",
    "        main = self._get_main_address()\n",
    "        mname = self._lookup_address(main, None)\n",
    "        cs = CallStack()\n",
    "        cs.enter(mname)\n",
    "        _, self.mid = cs.method_id\n",
    "\n",
    "        self._init_methodMap_methodStack(mname)\n",
    "        self._init_result(self.inp, arg1)\n",
    "        self.break_at(main)\n",
    "        self.resume()\n",
    "        addr_range = self._get_address_range()\n",
    "        instr_count = 0\n",
    "\n",
    "        while True:\n",
    "            try:\n",
    "                nexti = self.get_instruction()\n",
    "                if self._in_scope(nexti, addr_range):\n",
    "                    instr = Instruction(nexti)\n",
    "                    if instr.instr_type == CALL:\n",
    "                        name = self._lookup_address(instr.pointed_address,\n",
    "                                                    instr.symbol_name)\n",
    "                        if not name or '@plt' in name or '@GLIBC' in name:\n",
    "                            self.step()\n",
    "                            self.finish()\n",
    "                        else:\n",
    "                            self.step()\n",
    "                            cs.enter(name)\n",
    "                            _, self.mid = cs.method_id\n",
    "                            self.method_map[self.method_stack[-1]][-1].append(\n",
    "                                self.mid)\n",
    "                            self.method_map[str(\n",
    "                                self.mid)] = [self.mid, name, []]\n",
    "                            self.method_stack.append(str(self.mid))\n",
    "                    elif instr.instr_type == RETURN:\n",
    "                        self.step()\n",
    "                        instr_count += 1\n",
    "                        cs.leave()\n",
    "                        if len(self.method_stack) > 1:\n",
    "                            self.method_stack.pop()\n",
    "                        self.mid = cs.method_id[1]\n",
    "                    else:\n",
    "                        self.step()\n",
    "                        instr_count += 1\n",
    "                        value = read_register_value(instr.dest_reg, self.inp,\n",
    "                                                    instr.instr_type)\n",
    "                        if value:\n",
    "                            comparisons = self.result['comparisons']\n",
    "                            self.result['comparisons'] = add_value_to_comparisons(value, self.mid, \\\n",
    "                                self.inp, comparisons, self.result['original'], instr_count)\n",
    "                else:\n",
    "                    self.finish()\n",
    "            except gdb.error:\n",
    "                break\n",
    "        self.result['method_map'] = self.method_map\n",
    "        self.result['comparisons'].sort(key=lambda x: x[0])\n",
    "        with open('tree', 'w+') as f:\n",
    "            result = jsonpickle.encode(self.result)\n",
    "            f.write(result)"
   ]
  },
  {
   "cell_type": "markdown",
   "metadata": {},
   "source": [
    "### Extracting function names from binary\n",
    "\n",
    "Since we want to work directly with stripped version of a given binary, we first need to extract all the function names which will be needed for us in building a reasonable grammar.\n",
    "\n",
    "The below functions carries out the extraction for us."
   ]
  },
  {
   "cell_type": "code",
   "execution_count": 451,
   "metadata": {
    "ExecuteTime": {
     "end_time": "2021-10-06T12:10:07.114543Z",
     "start_time": "2021-10-06T12:10:07.110049Z"
    }
   },
   "outputs": [],
   "source": [
    "def list_objfile_symbols():\n",
    "    proc = subprocess.Popen(['nm', 'a.out'], stdout=subprocess.PIPE)\n",
    "    output = proc.stdout.read()\n",
    "    output = output.splitlines()\n",
    "    return output"
   ]
  },
  {
   "cell_type": "code",
   "execution_count": 452,
   "metadata": {
    "ExecuteTime": {
     "end_time": "2021-10-06T12:10:07.129369Z",
     "start_time": "2021-10-06T12:10:07.125116Z"
    }
   },
   "outputs": [],
   "source": [
    "def get_names_from_symbols(objfile):\n",
    "    names = []\n",
    "    for name in objfile:\n",
    "        name = name.split()\n",
    "        name = name[-1].decode('utf-8')\n",
    "        if '@@GLIBC' not in name:\n",
    "            names.append(name)\n",
    "        continue\n",
    "    return names"
   ]
  },
  {
   "cell_type": "code",
   "execution_count": 453,
   "metadata": {
    "ExecuteTime": {
     "end_time": "2021-10-06T12:10:07.146956Z",
     "start_time": "2021-10-06T12:10:07.139815Z"
    }
   },
   "outputs": [],
   "source": [
    "def get_function_names(inp, binary):\n",
    "    function_dict = {}\n",
    "    function_names = []\n",
    "\n",
    "    symbols = list_objfile_symbols()\n",
    "    functions = get_names_from_symbols(symbols)\n",
    "\n",
    "    gdb.execute(\"set args '%s'\" % inp)\n",
    "    gdb.execute(\"file %s\" % binary)\n",
    "    gdb.execute('set confirm off')\n",
    "    gdb.execute('run')\n",
    "    for function in functions:\n",
    "        try:\n",
    "            info_address = gdb.execute('info address %s' % function,\n",
    "                            to_string=True).split(' ')\n",
    "            if info_address[4].startswith('0x'):\n",
    "                v = info_address[4].rstrip()\n",
    "                u = v.strip('.')\n",
    "                function_dict[v] = function\n",
    "            else:\n",
    "                u = info_address[-1].rstrip()\n",
    "                u = u.strip('.')\n",
    "                function_dict[u] = function\n",
    "        except gdb.error:\n",
    "            continue\n",
    "    return function_dict"
   ]
  },
  {
   "cell_type": "code",
   "execution_count": 454,
   "metadata": {
    "ExecuteTime": {
     "end_time": "2021-10-06T12:10:07.163952Z",
     "start_time": "2021-10-06T12:10:07.158961Z"
    }
   },
   "outputs": [],
   "source": [
    "list_objfile_symbols_mtd = '''\n",
    "def list_objfile_symbols():\n",
    "    proc = subprocess.Popen(['nm', 'a.out'], stdout=subprocess.PIPE)\n",
    "    output = proc.stdout.read()\n",
    "    output = output.splitlines()\n",
    "    return output\n",
    "'''\n",
    "get_names_from_symbols_mtd = '''    \n",
    "def get_names_from_symbols(objfile):\n",
    "    names = []\n",
    "    for name in objfile:\n",
    "        name = name.split()\n",
    "        name = name[-1].decode('utf-8')\n",
    "        if '@@GLIBC' not in name:\n",
    "            names.append(name)\n",
    "        continue\n",
    "    return names\n",
    "'''\n",
    "get_function_names_mtd = '''\n",
    "def get_function_names(inp, binary):\n",
    "    function_dict = {}\n",
    "    function_names = []\n",
    "\n",
    "    symbols = list_objfile_symbols()\n",
    "    functions = get_names_from_symbols(symbols)\n",
    "\n",
    "    gdb.execute(\"set args '%s'\" % inp)\n",
    "    gdb.execute(\"file %s\" % binary)\n",
    "    gdb.execute('set confirm off')\n",
    "    gdb.execute('run')\n",
    "    for function in functions:\n",
    "        try:\n",
    "            info_address = gdb.execute('info address %s' % function,\n",
    "                            to_string=True).split(' ')\n",
    "            if info_address[4].startswith('0x'):\n",
    "                v = info_address[4].rstrip()\n",
    "                u = v.strip('.')\n",
    "                function_dict[v] = function\n",
    "            else:\n",
    "                u = info_address[-1].rstrip()\n",
    "                u = u.strip('.')\n",
    "                function_dict[u] = function\n",
    "        except gdb.error:\n",
    "            continue\n",
    "    return function_dict\n",
    "'''"
   ]
  },
  {
   "cell_type": "markdown",
   "metadata": {},
   "source": [
    "### Bringing all together"
   ]
  },
  {
   "cell_type": "markdown",
   "metadata": {},
   "source": [
    "In order to run the full implementation we put the source code into a single script which would then be execute using `GDB` CLI"
   ]
  },
  {
   "cell_type": "markdown",
   "metadata": {},
   "source": [
    "#### The Complete Binary Debugger Implementation"
   ]
  },
  {
   "cell_type": "code",
   "execution_count": 455,
   "metadata": {
    "ExecuteTime": {
     "end_time": "2021-10-06T12:10:08.765229Z",
     "start_time": "2021-10-06T12:10:08.762121Z"
    }
   },
   "outputs": [],
   "source": [
    "miner_execution_code = '''\n",
    "arg_0 = None\n",
    "with open(f'inp.0.txt', 'r+') as f:\n",
    "    arg_0 = f.read().strip()\n",
    "\n",
    "fnames = get_function_names(arg_0, \"a.out\")\n",
    "subprocess.call(['strip', '-s', \"a.out\"])\n",
    "\n",
    "debugger = BinaryDebugger(arg_0, 'a.out', fnames)\n",
    "debugger.event_loop()\n",
    "'''"
   ]
  },
  {
   "cell_type": "code",
   "execution_count": 456,
   "metadata": {
    "ExecuteTime": {
     "end_time": "2021-10-06T12:10:08.776193Z",
     "start_time": "2021-10-06T12:10:08.773539Z"
    }
   },
   "outputs": [],
   "source": [
    "import sys\n",
    "from fuzzingbook import fuzzingbook_utils"
   ]
  },
  {
   "cell_type": "code",
   "execution_count": 457,
   "metadata": {
    "ExecuteTime": {
     "end_time": "2021-10-06T12:10:08.805979Z",
     "start_time": "2021-10-06T12:10:08.782156Z"
    }
   },
   "outputs": [],
   "source": [
    "head = \"\"\"\\\n",
    "import sys\n",
    "sys.path.extend([%s])\n",
    "sys.path.append('.')\n",
    "import matplotlib.pyplot\n",
    "matplotlib.pyplot._IP_REGISTERED = True\n",
    "#import fuzzingbook_utils\n",
    "import fuzzingbook\n",
    "from fuzzingbook.GrammarMiner import CallStack\n",
    "import jsonpickle\n",
    "import os, subprocess\n",
    "import gdb\n",
    "import re, json, random\n",
    "\"\"\" % (', '.join(\"'%s'\" % str(i) for i in sys.path if i))\n",
    "Instruction_src = fuzzingbook_utils.extract_class_definition(Instruction)\n",
    "BinaryDebugger_src = fuzzingbook_utils.extract_class_definition(BinaryDebugger)\n",
    "\n",
    "miner_src = '\\n'.join([\n",
    "    head, VARIABLES, Instruction_src, list_objfile_symbols_mtd,\n",
    "    get_names_from_symbols_mtd, get_function_names_mtd, in_scope_helper,\n",
    "    BinaryDebugger_src, read_address_string_methods, read_register_value,\n",
    "    mutate_string_method, verify_substr_path_method,\n",
    "    add_value_to_comparisons_method, check_method, miner_execution_code\n",
    "])"
   ]
  },
  {
   "cell_type": "code",
   "execution_count": 458,
   "metadata": {
    "ExecuteTime": {
     "end_time": "2021-10-06T12:10:08.811530Z",
     "start_time": "2021-10-06T12:10:08.807978Z"
    }
   },
   "outputs": [],
   "source": [
    "with open('BMiner.py', 'w+') as f:\n",
    "    print(miner_src, file=f)"
   ]
  },
  {
   "cell_type": "markdown",
   "metadata": {},
   "source": [
    "#### The Complete Verifier"
   ]
  },
  {
   "cell_type": "markdown",
   "metadata": {},
   "source": [
    "We create a separate script of the complete binary debugger with a slight variation in the `BinaryDebugger` class. We use this variation in order to verify input flow of non unique character."
   ]
  },
  {
   "cell_type": "markdown",
   "metadata": {},
   "source": [
    "First of all we need to modify the `event_loop()` method in the `BinaryDebugger` class. \n",
    "\n",
    "The intuition behind this modification is the following;\n",
    "* We are not interested in generating any trace for the mutated input.\n",
    "* We only need to verify a character flow and once that is done we exit the program."
   ]
  },
  {
   "cell_type": "code",
   "execution_count": 459,
   "metadata": {
    "ExecuteTime": {
     "end_time": "2021-10-06T12:10:10.368361Z",
     "start_time": "2021-10-06T12:10:10.350957Z"
    }
   },
   "outputs": [],
   "source": [
    "class BinaryDebugger(BinaryDebugger):\n",
    "    def event_loop(self):\n",
    "        main = self._get_main_address()\n",
    "        mname = self._lookup_address(main, None)\n",
    "        cs = CallStack()\n",
    "        cs.enter(mname)\n",
    "        _, self.mid = cs.method_id\n",
    "        \n",
    "        self._init_methodMap_methodStack(mname)\n",
    "        self._init_result(self.inp, arg1)\n",
    "        self.break_at(main)\n",
    "        self.resume()\n",
    "        addr_range = self._get_address_range()\n",
    "        instr_count = 0\n",
    "        \n",
    "        while True:\n",
    "            try:\n",
    "                nexti = self.get_instruction()\n",
    "                if self._in_scope(nexti, addr_range):\n",
    "                    instr = Instruction(nexti)\n",
    "                    if instr.instr_type == CALL:\n",
    "                        name = self._lookup_address(instr.pointed_address, instr.symbol_name)\n",
    "                        if not name or '@plt' in name or '@GLIBC' in name:\n",
    "                            self.step()\n",
    "                            self.finish()\n",
    "                        else:\n",
    "                            self.step()\n",
    "                            cs.enter(name)\n",
    "                            _, self.mid = cs.method_id\n",
    "                            self.method_map[self.method_stack[-1]][-1].append(self.mid)\n",
    "                            self.method_map[str(self.mid)] = [self.mid, name, []]\n",
    "                            self.method_stack.append(str(self.mid))\n",
    "                    elif instr.instr_type == RETURN:\n",
    "                        self.step()\n",
    "                        instr_count += 1\n",
    "                        cs.leave()\n",
    "                        if len(self.method_stack) > 1: \n",
    "                            self.method_stack.pop()\n",
    "                        self.mid = cs.method_id[1]\n",
    "                    else:\n",
    "                        self.step()\n",
    "                        instr_count += 1\n",
    "                        value = read_register_value(instr.dest_reg, self.inp, instr.instr_type)\n",
    "                        if value and len(value) == 1:\n",
    "                            new_arg2 = ast.literal_eval(arg_2)\n",
    "                            result = value == new_arg2[1] and self.mid == new_arg2[2] \\\n",
    "                                and instr_count == int(arg2)\n",
    "                            if result:\n",
    "                                with open('updated_comparisons', 'w+') as f:\n",
    "                                    obj = jsonpickle.encode([new_arg2[0], value, self.mid])\n",
    "                                    f.write(obj)\n",
    "                                self.finish()\n",
    "                                break\n",
    "                            else:\n",
    "                                with open('updated_comparisons', 'w+') as f:\n",
    "                                    obj = jsonpickle.encode([0, 0, 0])\n",
    "                                    f.write(obj)\n",
    "                else:\n",
    "                    self.finish()\n",
    "            except gdb.error:\n",
    "                break"
   ]
  },
  {
   "cell_type": "code",
   "execution_count": 460,
   "metadata": {
    "ExecuteTime": {
     "end_time": "2021-10-06T12:10:10.374749Z",
     "start_time": "2021-10-06T12:10:10.371068Z"
    }
   },
   "outputs": [],
   "source": [
    "get_function_names_mtd1 = '''\n",
    "def list_objfile_symbols():\n",
    "    proc = subprocess.Popen(['nm', 'check'], stdout=subprocess.PIPE)\n",
    "    output = proc.stdout.read()\n",
    "    output = output.splitlines()\n",
    "    return output\n",
    "'''"
   ]
  },
  {
   "cell_type": "code",
   "execution_count": 461,
   "metadata": {
    "ExecuteTime": {
     "end_time": "2021-10-06T12:10:10.381560Z",
     "start_time": "2021-10-06T12:10:10.377795Z"
    }
   },
   "outputs": [],
   "source": [
    "miner_execution_code1 = '''\n",
    "arg_0 = None\n",
    "with open(f'inp.0.txt', 'r+') as f:\n",
    "    arg_0 = f.read().strip()\n",
    "\n",
    "with open(f'comparison.txt', 'r+') as f:\n",
    "    arg_2 = f.read().strip()\n",
    "\n",
    "flag = None\n",
    "if os.path.exists('flag.txt'):\n",
    "    with open(f'flag.txt', 'r+') as f:\n",
    "        flag = f.read().strip()\n",
    "        subprocess.call(['gcc', '-g', arg1, '-o', 'check', flag])\n",
    "else:\n",
    "    subprocess.call(['gcc', '-g', arg1, '-o', 'check'])\n",
    "\n",
    "fnames = get_function_names(arg_0, \"check\")\n",
    "subprocess.call(['strip', '-s', \"check\"])\n",
    "\n",
    "debugger = BinaryDebugger(arg_0, 'check', fnames)\n",
    "debugger.event_loop()\n",
    "'''"
   ]
  },
  {
   "cell_type": "code",
   "execution_count": 462,
   "metadata": {
    "ExecuteTime": {
     "end_time": "2021-10-06T12:10:10.414331Z",
     "start_time": "2021-10-06T12:10:10.388293Z"
    }
   },
   "outputs": [],
   "source": [
    "head = \"\"\"\\\n",
    "import sys\n",
    "sys.path.extend([%s])\n",
    "sys.path.append('.')\n",
    "import matplotlib.pyplot\n",
    "matplotlib.pyplot._IP_REGISTERED = True\n",
    "#import fuzzingbook_utils\n",
    "import fuzzingbook\n",
    "from fuzzingbook.GrammarMiner import CallStack\n",
    "import jsonpickle\n",
    "import os, subprocess\n",
    "import gdb\n",
    "import re, json, random, ast\n",
    "\"\"\" % (', '.join(\"'%s'\" % str(i) for i in sys.path if i))\n",
    "Instruction_src = fuzzingbook_utils.extract_class_definition(Instruction)\n",
    "BinaryDebugger_src = fuzzingbook_utils.extract_class_definition(BinaryDebugger)\n",
    "\n",
    "check_src = '\\n'.join([\n",
    "    head, VARIABLES, Instruction_src, get_function_names_mtd1,\n",
    "    get_names_from_symbols_mtd, get_function_names_mtd, in_scope_helper,\n",
    "    BinaryDebugger_src, read_address_string_methods, read_register_value,\n",
    "    mutate_string_method, verify_substr_path_method,\n",
    "    add_value_to_comparisons_method, check_method, miner_execution_code1\n",
    "])"
   ]
  },
  {
   "cell_type": "code",
   "execution_count": 463,
   "metadata": {
    "ExecuteTime": {
     "end_time": "2021-10-06T12:10:10.423037Z",
     "start_time": "2021-10-06T12:10:10.418451Z"
    }
   },
   "outputs": [],
   "source": [
    "with open('check2.py', 'w+') as f:\n",
    "    print(check_src, file=f)"
   ]
  },
  {
   "cell_type": "markdown",
   "metadata": {},
   "source": [
    "## Generating Traces"
   ]
  },
  {
   "cell_type": "markdown",
   "metadata": {},
   "source": [
    "Here is how one can generate traces for the `csv` program."
   ]
  },
  {
   "cell_type": "code",
   "execution_count": 464,
   "metadata": {
    "ExecuteTime": {
     "end_time": "2021-10-06T12:10:11.263468Z",
     "start_time": "2021-10-06T12:10:11.258100Z"
    }
   },
   "outputs": [],
   "source": [
    "inp = '1997,van,Ford,E350'\n",
    "source = 'subject/csv/csv.c'\n",
    "\n",
    "with open(f'inp.0.txt', 'w+') as f:\n",
    "    print(inp, file=f)"
   ]
  },
  {
   "cell_type": "code",
   "execution_count": 465,
   "metadata": {
    "ExecuteTime": {
     "end_time": "2021-10-06T12:13:20.105876Z",
     "start_time": "2021-10-06T12:10:11.273074Z"
    },
    "scrolled": true
   },
   "outputs": [],
   "source": [
    "arg0 = \"\\\"py arg0='%s'\\\"\" % inp\n",
    "arg1 = '\\'py arg1=\"%s\"\\'' % source\n",
    "\n",
    "!gcc -g {source}\n",
    "!gdb --batch-silent -ex {arg0} -ex {arg1} -x BMiner.py"
   ]
  },
  {
   "cell_type": "code",
   "execution_count": 466,
   "metadata": {
    "ExecuteTime": {
     "end_time": "2021-10-06T12:13:20.158622Z",
     "start_time": "2021-10-06T12:13:20.112401Z"
    },
    "scrolled": true
   },
   "outputs": [
    {
     "data": {
      "text/plain": [
       "[{'inputstr': '1997,van,Ford,E350',\n",
       "  'arg': '1997,van,Ford,E350',\n",
       "  'original': 'subject/csv/csv.c',\n",
       "  'methodMap': {},\n",
       "  'comparisons': [[0, '1', 8],\n",
       "   [0, '1', 8],\n",
       "   [0, '1', 8],\n",
       "   [0, '1', 9],\n",
       "   [0, '1', 9],\n",
       "   [0, '1', 9],\n",
       "   [0, '1', 9],\n",
       "   [0, '1', 8],\n",
       "   [0, '1', 10],\n",
       "   [0, '1', 10],\n",
       "   [0, '1', 10],\n",
       "   [0, '1', 10],\n",
       "   [0, '1', 10],\n",
       "   [0, '1', 10],\n",
       "   [0, '1', 10],\n",
       "   [0, '1', 10],\n",
       "   [0, '1', 10],\n",
       "   [0, '1', 10],\n",
       "   [0, '1', 11],\n",
       "   [0, '1', 12],\n",
       "   [0, '1', 13],\n",
       "   [0, '1', 3],\n",
       "   [0, '1', 14],\n",
       "   [0, '1', 22],\n",
       "   [0, '1', 31],\n",
       "   [1, '9', 8],\n",
       "   [1, '9', 10],\n",
       "   [1, '9', 11],\n",
       "   [1, '9', 12],\n",
       "   [1, '9', 13],\n",
       "   [1, '9', 3],\n",
       "   [1, '9', 14],\n",
       "   [1, '9', 22],\n",
       "   [1, '9', 31],\n",
       "   [2, '9', 8],\n",
       "   [2, '9', 11],\n",
       "   [2, '9', 12],\n",
       "   [2, '9', 13],\n",
       "   [2, '9', 3],\n",
       "   [2, '9', 14],\n",
       "   [2, '9', 22],\n",
       "   [2, '9', 31],\n",
       "   [3, '7', 8],\n",
       "   [3, '7', 8],\n",
       "   [3, '7', 8],\n",
       "   [3, '7', 12],\n",
       "   [3, '7', 12],\n",
       "   [3, '7', 13],\n",
       "   [3, '7', 3],\n",
       "   [3, '7', 14],\n",
       "   [3, '7', 22],\n",
       "   [3, '7', 31],\n",
       "   [4, ',', 2],\n",
       "   [4, ',', 8],\n",
       "   [5, 'v', 17],\n",
       "   [5, 'v', 17],\n",
       "   [5, 'v', 17],\n",
       "   [5, 'v', 18],\n",
       "   [5, 'v', 18],\n",
       "   [5, 'v', 18],\n",
       "   [5, 'v', 18],\n",
       "   [5, 'v', 17],\n",
       "   [5, 'v', 19],\n",
       "   [5, 'v', 19],\n",
       "   [5, 'v', 19],\n",
       "   [5, 'v', 19],\n",
       "   [5, 'v', 19],\n",
       "   [5, 'v', 19],\n",
       "   [5, 'v', 19],\n",
       "   [5, 'v', 19],\n",
       "   [5, 'v', 19],\n",
       "   [5, 'v', 19],\n",
       "   [5, 'v', 20],\n",
       "   [5, 'v', 21],\n",
       "   [6, 'a', 17],\n",
       "   [6, 'a', 17],\n",
       "   [6, 'a', 17],\n",
       "   [6, 'a', 19],\n",
       "   [6, 'a', 19],\n",
       "   [6, 'a', 20],\n",
       "   [6, 'a', 21],\n",
       "   [7, 'n', 17],\n",
       "   [7, 'n', 17],\n",
       "   [7, 'n', 17],\n",
       "   [7, 'n', 20],\n",
       "   [7, 'n', 20],\n",
       "   [7, 'n', 21],\n",
       "   [8, ',', 17],\n",
       "   [9, 'F', 25],\n",
       "   [9, 'F', 25],\n",
       "   [9, 'F', 25],\n",
       "   [9, 'F', 26],\n",
       "   [9, 'F', 26],\n",
       "   [9, 'F', 26],\n",
       "   [9, 'F', 26],\n",
       "   [9, 'F', 25],\n",
       "   [9, 'F', 27],\n",
       "   [9, 'F', 27],\n",
       "   [9, 'F', 27],\n",
       "   [9, 'F', 27],\n",
       "   [9, 'F', 27],\n",
       "   [9, 'F', 27],\n",
       "   [9, 'F', 27],\n",
       "   [9, 'F', 27],\n",
       "   [9, 'F', 27],\n",
       "   [9, 'F', 27],\n",
       "   [9, 'F', 28],\n",
       "   [9, 'F', 29],\n",
       "   [9, 'F', 30],\n",
       "   [10, 'o', 25],\n",
       "   [10, 'o', 25],\n",
       "   [10, 'o', 25],\n",
       "   [10, 'o', 27],\n",
       "   [10, 'o', 27],\n",
       "   [10, 'o', 28],\n",
       "   [10, 'o', 29],\n",
       "   [10, 'o', 30],\n",
       "   [11, 'r', 25],\n",
       "   [11, 'r', 25],\n",
       "   [11, 'r', 25],\n",
       "   [11, 'r', 28],\n",
       "   [11, 'r', 28],\n",
       "   [11, 'r', 29],\n",
       "   [11, 'r', 30],\n",
       "   [12, 'd', 25],\n",
       "   [12, 'd', 25],\n",
       "   [12, 'd', 25],\n",
       "   [12, 'd', 29],\n",
       "   [12, 'd', 29],\n",
       "   [12, 'd', 30],\n",
       "   [13, ',', 25],\n",
       "   [14, 'E', 34],\n",
       "   [14, 'E', 34],\n",
       "   [14, 'E', 34],\n",
       "   [14, 'E', 35],\n",
       "   [14, 'E', 35],\n",
       "   [14, 'E', 35],\n",
       "   [14, 'E', 35],\n",
       "   [14, 'E', 34],\n",
       "   [14, 'E', 36],\n",
       "   [14, 'E', 36],\n",
       "   [14, 'E', 36],\n",
       "   [14, 'E', 36],\n",
       "   [14, 'E', 36],\n",
       "   [14, 'E', 36],\n",
       "   [14, 'E', 36],\n",
       "   [14, 'E', 36],\n",
       "   [14, 'E', 36],\n",
       "   [14, 'E', 36],\n",
       "   [14, 'E', 37],\n",
       "   [14, 'E', 38],\n",
       "   [14, 'E', 39],\n",
       "   [15, '3', 34],\n",
       "   [15, '3', 34],\n",
       "   [15, '3', 34],\n",
       "   [15, '3', 36],\n",
       "   [15, '3', 36],\n",
       "   [15, '3', 37],\n",
       "   [15, '3', 38],\n",
       "   [15, '3', 39],\n",
       "   [16, '5', 34],\n",
       "   [16, '5', 34],\n",
       "   [16, '5', 34],\n",
       "   [16, '5', 37],\n",
       "   [16, '5', 37],\n",
       "   [16, '5', 38],\n",
       "   [16, '5', 39],\n",
       "   [17, '0', 34],\n",
       "   [17, '0', 34],\n",
       "   [17, '0', 34],\n",
       "   [17, '0', 38],\n",
       "   [17, '0', 38],\n",
       "   [17, '0', 39]],\n",
       "  'method_map': {'0': [0, None, [1, 40]],\n",
       "   '1': [1, 'main', [2, 3]],\n",
       "   '2': [2, 'csv_create_buffer', []],\n",
       "   '3': [3, 'csv_load', [4, 8, 14, 17, 22, 25, 31, 34]],\n",
       "   '4': [4, 'append_row', [5]],\n",
       "   '5': [5, 'append_field', [6]],\n",
       "   '6': [6, 'create_field', [7]],\n",
       "   '7': [7, 'set_field', []],\n",
       "   '8': [8, 'read_next_field', [9, 10, 11, 12, 13]],\n",
       "   '9': [9, 'add_char', []],\n",
       "   '10': [10, 'add_char', []],\n",
       "   '11': [11, 'add_char', []],\n",
       "   '12': [12, 'add_char', []],\n",
       "   '13': [13, 'set_field', []],\n",
       "   '14': [14, 'append_field', [15]],\n",
       "   '15': [15, 'create_field', [16]],\n",
       "   '16': [16, 'set_field', []],\n",
       "   '17': [17, 'read_next_field', [18, 19, 20, 21]],\n",
       "   '18': [18, 'add_char', []],\n",
       "   '19': [19, 'add_char', []],\n",
       "   '20': [20, 'add_char', []],\n",
       "   '21': [21, 'set_field', []],\n",
       "   '22': [22, 'append_field', [23]],\n",
       "   '23': [23, 'create_field', [24]],\n",
       "   '24': [24, 'set_field', []],\n",
       "   '25': [25, 'read_next_field', [26, 27, 28, 29, 30]],\n",
       "   '26': [26, 'add_char', []],\n",
       "   '27': [27, 'add_char', []],\n",
       "   '28': [28, 'add_char', []],\n",
       "   '29': [29, 'add_char', []],\n",
       "   '30': [30, 'set_field', []],\n",
       "   '31': [31, 'append_field', [32]],\n",
       "   '32': [32, 'create_field', [33]],\n",
       "   '33': [33, 'set_field', []],\n",
       "   '34': [34, 'read_next_field', [35, 36, 37, 38, 39]],\n",
       "   '35': [35, 'add_char', []],\n",
       "   '36': [36, 'add_char', []],\n",
       "   '37': [37, 'add_char', []],\n",
       "   '38': [38, 'add_char', []],\n",
       "   '39': [39, 'set_field', []],\n",
       "   '40': [40, '<__GI_exit>', [41]],\n",
       "   '41': [41, '<__run_exit_handlers>', [42, 43]],\n",
       "   '42': [42, '<__GI___call_tls_dtors>', []],\n",
       "   '43': [43, '<__GI__exit>', []]}}]"
      ]
     },
     "execution_count": 466,
     "metadata": {},
     "output_type": "execute_result"
    }
   ],
   "source": [
    "import jsonpickle\n",
    "csv_trace = []\n",
    "with open(f'tree', 'rb') as f:\n",
    "    csv_trace.append((jsonpickle.decode(f.read())))\n",
    "\n",
    "csv_trace"
   ]
  },
  {
   "cell_type": "markdown",
   "metadata": {},
   "source": [
    "## Mining the Traces Generated"
   ]
  },
  {
   "cell_type": "markdown",
   "metadata": {},
   "source": [
    "### Reconstructing the Method Tree with Attached Character Comparisons\n",
    "\n",
    "Reconstruct the actual method trace from a trace with the following\n",
    "format\n",
    "```\n",
    "key   : [ mid, method_name, children_ids ]\n",
    "```"
   ]
  },
  {
   "cell_type": "code",
   "execution_count": 467,
   "metadata": {
    "ExecuteTime": {
     "end_time": "2021-10-06T12:13:20.183197Z",
     "start_time": "2021-10-06T12:13:20.168488Z"
    }
   },
   "outputs": [],
   "source": [
    "def reconstruct_method_tree(method_map):\n",
    "    first_id = None\n",
    "    tree_map = {}\n",
    "    for key in method_map:\n",
    "        m_id, m_name, m_children = method_map[key]\n",
    "        children = []\n",
    "        if m_id in tree_map:\n",
    "            # just update the name and children\n",
    "            assert not tree_map[m_id]\n",
    "            tree_map[m_id]['id'] = m_id\n",
    "            tree_map[m_id]['name'] = m_name\n",
    "            tree_map[m_id]['indexes'] = []\n",
    "            tree_map[m_id]['children'] = children\n",
    "        else:\n",
    "            assert first_id is None\n",
    "            tree_map[m_id] = {'id': m_id, 'name': m_name, 'children': children, 'indexes': []}\n",
    "            first_id = m_id\n",
    "\n",
    "        for c in m_children:\n",
    "            assert c not in tree_map\n",
    "            val = {}\n",
    "            tree_map[c] = val\n",
    "            children.append(val)\n",
    "    return first_id, tree_map"
   ]
  },
  {
   "cell_type": "code",
   "execution_count": 468,
   "metadata": {
    "ExecuteTime": {
     "end_time": "2021-10-06T12:13:20.199785Z",
     "start_time": "2021-10-06T12:13:20.189826Z"
    }
   },
   "outputs": [],
   "source": [
    "from fuzzingbook.GrammarFuzzer import display_tree"
   ]
  },
  {
   "cell_type": "code",
   "execution_count": 469,
   "metadata": {
    "ExecuteTime": {
     "end_time": "2021-10-06T12:13:20.220991Z",
     "start_time": "2021-10-06T12:13:20.212190Z"
    }
   },
   "outputs": [],
   "source": [
    "first, csv_method_tree = reconstruct_method_tree(csv_trace[0]['method_map'])"
   ]
  },
  {
   "cell_type": "code",
   "execution_count": 470,
   "metadata": {
    "ExecuteTime": {
     "end_time": "2021-10-06T12:13:20.246332Z",
     "start_time": "2021-10-06T12:13:20.226769Z"
    }
   },
   "outputs": [],
   "source": [
    "def extract_node(node, id):\n",
    "    symbol = str(node['id'])\n",
    "    children = node['children']\n",
    "    annotation = str(node['name'])\n",
    "    return \"%s:%s\" % (symbol, annotation), children, ''"
   ]
  },
  {
   "cell_type": "code",
   "execution_count": 471,
   "metadata": {
    "ExecuteTime": {
     "end_time": "2021-10-06T12:13:20.568692Z",
     "start_time": "2021-10-06T12:13:20.252677Z"
    },
    "scrolled": false
   },
   "outputs": [
    {
     "data": {
      "image/svg+xml": [
       "<?xml version=\"1.0\" encoding=\"UTF-8\" standalone=\"no\"?>\n",
       "<!DOCTYPE svg PUBLIC \"-//W3C//DTD SVG 1.1//EN\"\n",
       " \"http://www.w3.org/Graphics/SVG/1.1/DTD/svg11.dtd\">\n",
       "<!-- Generated by graphviz version 2.43.0 (0)\n",
       " -->\n",
       "<!-- Title: %3 Pages: 1 -->\n",
       "<svg width=\"2528pt\" height=\"329pt\"\n",
       " viewBox=\"0.00 0.00 2527.50 329.00\" xmlns=\"http://www.w3.org/2000/svg\" xmlns:xlink=\"http://www.w3.org/1999/xlink\">\n",
       "<g id=\"graph0\" class=\"graph\" transform=\"scale(1 1) rotate(0) translate(4 325)\">\n",
       "<title>%3</title>\n",
       "<polygon fill=\"white\" stroke=\"transparent\" points=\"-4,4 -4,-325 2523.5,-325 2523.5,4 -4,4\"/>\n",
       "<!-- 0 -->\n",
       "<g id=\"node1\" class=\"node\">\n",
       "<title>0</title>\n",
       "<text text-anchor=\"middle\" x=\"1285.5\" y=\"-309.8\" font-family=\"Times,serif\" font-size=\"14.00\">0:None</text>\n",
       "</g>\n",
       "<!-- 1 -->\n",
       "<g id=\"node2\" class=\"node\">\n",
       "<title>1</title>\n",
       "<text text-anchor=\"middle\" x=\"1236.5\" y=\"-258.8\" font-family=\"Times,serif\" font-size=\"14.00\">1:main</text>\n",
       "</g>\n",
       "<!-- 0&#45;&gt;1 -->\n",
       "<g id=\"edge1\" class=\"edge\">\n",
       "<title>0&#45;&gt;1</title>\n",
       "<path fill=\"none\" stroke=\"black\" d=\"M1278.69,-305.69C1271.45,-298.45 1259.79,-286.79 1250.57,-277.57\"/>\n",
       "<polygon fill=\"black\" stroke=\"black\" points=\"1252.8,-274.85 1243.26,-270.26 1247.85,-279.8 1252.8,-274.85\"/>\n",
       "</g>\n",
       "<!-- 40 -->\n",
       "<g id=\"node41\" class=\"node\">\n",
       "<title>40</title>\n",
       "<text text-anchor=\"middle\" x=\"1810.5\" y=\"-258.8\" font-family=\"Times,serif\" font-size=\"14.00\">40:&lt;__GI_exit&gt;</text>\n",
       "</g>\n",
       "<!-- 0&#45;&gt;40 -->\n",
       "<g id=\"edge40\" class=\"edge\">\n",
       "<title>0&#45;&gt;40</title>\n",
       "<path fill=\"none\" stroke=\"black\" d=\"M1311.53,-310.07C1390.36,-302.71 1628.17,-280.52 1744.7,-269.64\"/>\n",
       "<polygon fill=\"black\" stroke=\"black\" points=\"1745.29,-273.1 1754.92,-268.69 1744.63,-266.13 1745.29,-273.1\"/>\n",
       "</g>\n",
       "<!-- 2 -->\n",
       "<g id=\"node3\" class=\"node\">\n",
       "<title>2</title>\n",
       "<text text-anchor=\"middle\" x=\"1111.5\" y=\"-207.8\" font-family=\"Times,serif\" font-size=\"14.00\">2:csv_create_buffer</text>\n",
       "</g>\n",
       "<!-- 1&#45;&gt;2 -->\n",
       "<g id=\"edge2\" class=\"edge\">\n",
       "<title>1&#45;&gt;2</title>\n",
       "<path fill=\"none\" stroke=\"black\" d=\"M1219.9,-254.99C1198.89,-246.76 1162.45,-232.47 1137.67,-222.76\"/>\n",
       "<polygon fill=\"black\" stroke=\"black\" points=\"1138.76,-219.42 1128.17,-219.03 1136.2,-225.94 1138.76,-219.42\"/>\n",
       "</g>\n",
       "<!-- 3 -->\n",
       "<g id=\"node4\" class=\"node\">\n",
       "<title>3</title>\n",
       "<text text-anchor=\"middle\" x=\"1236.5\" y=\"-207.8\" font-family=\"Times,serif\" font-size=\"14.00\">3:csv_load</text>\n",
       "</g>\n",
       "<!-- 1&#45;&gt;3 -->\n",
       "<g id=\"edge3\" class=\"edge\">\n",
       "<title>1&#45;&gt;3</title>\n",
       "<path fill=\"none\" stroke=\"black\" d=\"M1236.5,-254.69C1236.5,-248.18 1236.5,-238.1 1236.5,-229.43\"/>\n",
       "<polygon fill=\"black\" stroke=\"black\" points=\"1240,-229.26 1236.5,-219.26 1233,-229.26 1240,-229.26\"/>\n",
       "</g>\n",
       "<!-- 4 -->\n",
       "<g id=\"node5\" class=\"node\">\n",
       "<title>4</title>\n",
       "<text text-anchor=\"middle\" x=\"146.5\" y=\"-156.8\" font-family=\"Times,serif\" font-size=\"14.00\">4:append_row</text>\n",
       "</g>\n",
       "<!-- 3&#45;&gt;4 -->\n",
       "<g id=\"edge4\" class=\"edge\">\n",
       "<title>3&#45;&gt;4</title>\n",
       "<path fill=\"none\" stroke=\"black\" d=\"M1199.34,-205.02C1196.02,-204.64 1192.7,-204.29 1189.5,-204 1091.87,-195.28 414.34,-170.94 206.79,-163.62\"/>\n",
       "<polygon fill=\"black\" stroke=\"black\" points=\"206.8,-160.11 196.69,-163.26 206.56,-167.11 206.8,-160.11\"/>\n",
       "</g>\n",
       "<!-- 8 -->\n",
       "<g id=\"node9\" class=\"node\">\n",
       "<title>8</title>\n",
       "<text text-anchor=\"middle\" x=\"422.5\" y=\"-156.8\" font-family=\"Times,serif\" font-size=\"14.00\">8:read_next_field</text>\n",
       "</g>\n",
       "<!-- 3&#45;&gt;8 -->\n",
       "<g id=\"edge8\" class=\"edge\">\n",
       "<title>3&#45;&gt;8</title>\n",
       "<path fill=\"none\" stroke=\"black\" d=\"M1199.33,-205.07C1196.01,-204.68 1192.7,-204.31 1189.5,-204 934.63,-179.36 630.63,-167.77 494.56,-163.52\"/>\n",
       "<polygon fill=\"black\" stroke=\"black\" points=\"494.37,-160.01 484.27,-163.2 494.16,-167.01 494.37,-160.01\"/>\n",
       "</g>\n",
       "<!-- 14 -->\n",
       "<g id=\"node15\" class=\"node\">\n",
       "<title>14</title>\n",
       "<text text-anchor=\"middle\" x=\"785.5\" y=\"-156.8\" font-family=\"Times,serif\" font-size=\"14.00\">14:append_field</text>\n",
       "</g>\n",
       "<!-- 3&#45;&gt;14 -->\n",
       "<g id=\"edge14\" class=\"edge\">\n",
       "<title>3&#45;&gt;14</title>\n",
       "<path fill=\"none\" stroke=\"black\" d=\"M1199.31,-205.24C1196,-204.81 1192.69,-204.39 1189.5,-204 1071.17,-189.6 932.98,-175.69 852.74,-167.9\"/>\n",
       "<polygon fill=\"black\" stroke=\"black\" points=\"853.06,-164.41 842.77,-166.93 852.38,-171.38 853.06,-164.41\"/>\n",
       "</g>\n",
       "<!-- 17 -->\n",
       "<g id=\"node18\" class=\"node\">\n",
       "<title>17</title>\n",
       "<text text-anchor=\"middle\" x=\"1019.5\" y=\"-156.8\" font-family=\"Times,serif\" font-size=\"14.00\">17:read_next_field</text>\n",
       "</g>\n",
       "<!-- 3&#45;&gt;17 -->\n",
       "<g id=\"edge17\" class=\"edge\">\n",
       "<title>3&#45;&gt;17</title>\n",
       "<path fill=\"none\" stroke=\"black\" d=\"M1207.68,-203.99C1169.26,-195.32 1101.12,-179.93 1058.23,-170.25\"/>\n",
       "<polygon fill=\"black\" stroke=\"black\" points=\"1058.96,-166.82 1048.44,-168.03 1057.42,-173.65 1058.96,-166.82\"/>\n",
       "</g>\n",
       "<!-- 22 -->\n",
       "<g id=\"node23\" class=\"node\">\n",
       "<title>22</title>\n",
       "<text text-anchor=\"middle\" x=\"1236.5\" y=\"-156.8\" font-family=\"Times,serif\" font-size=\"14.00\">22:append_field</text>\n",
       "</g>\n",
       "<!-- 3&#45;&gt;22 -->\n",
       "<g id=\"edge22\" class=\"edge\">\n",
       "<title>3&#45;&gt;22</title>\n",
       "<path fill=\"none\" stroke=\"black\" d=\"M1236.5,-203.69C1236.5,-197.18 1236.5,-187.1 1236.5,-178.43\"/>\n",
       "<polygon fill=\"black\" stroke=\"black\" points=\"1240,-178.26 1236.5,-168.26 1233,-178.26 1240,-178.26\"/>\n",
       "</g>\n",
       "<!-- 25 -->\n",
       "<g id=\"node26\" class=\"node\">\n",
       "<title>25</title>\n",
       "<text text-anchor=\"middle\" x=\"1510.5\" y=\"-156.8\" font-family=\"Times,serif\" font-size=\"14.00\">25:read_next_field</text>\n",
       "</g>\n",
       "<!-- 3&#45;&gt;25 -->\n",
       "<g id=\"edge25\" class=\"edge\">\n",
       "<title>3&#45;&gt;25</title>\n",
       "<path fill=\"none\" stroke=\"black\" d=\"M1272.89,-203.99C1322.12,-195.19 1409.99,-179.47 1463.97,-169.82\"/>\n",
       "<polygon fill=\"black\" stroke=\"black\" points=\"1464.74,-173.24 1473.96,-168.03 1463.5,-166.35 1464.74,-173.24\"/>\n",
       "</g>\n",
       "<!-- 31 -->\n",
       "<g id=\"node32\" class=\"node\">\n",
       "<title>31</title>\n",
       "<text text-anchor=\"middle\" x=\"1769.5\" y=\"-156.8\" font-family=\"Times,serif\" font-size=\"14.00\">31:append_field</text>\n",
       "</g>\n",
       "<!-- 3&#45;&gt;31 -->\n",
       "<g id=\"edge31\" class=\"edge\">\n",
       "<title>3&#45;&gt;31</title>\n",
       "<path fill=\"none\" stroke=\"black\" d=\"M1273.56,-207.09C1362.47,-198.92 1588.94,-178.1 1702.48,-167.66\"/>\n",
       "<polygon fill=\"black\" stroke=\"black\" points=\"1702.8,-171.15 1712.44,-166.75 1702.16,-164.18 1702.8,-171.15\"/>\n",
       "</g>\n",
       "<!-- 34 -->\n",
       "<g id=\"node35\" class=\"node\">\n",
       "<title>34</title>\n",
       "<text text-anchor=\"middle\" x=\"2107.5\" y=\"-156.8\" font-family=\"Times,serif\" font-size=\"14.00\">34:read_next_field</text>\n",
       "</g>\n",
       "<!-- 3&#45;&gt;34 -->\n",
       "<g id=\"edge34\" class=\"edge\">\n",
       "<title>3&#45;&gt;34</title>\n",
       "<path fill=\"none\" stroke=\"black\" d=\"M1273.65,-208.41C1405.28,-201.01 1851.2,-175.92 2031.21,-165.79\"/>\n",
       "<polygon fill=\"black\" stroke=\"black\" points=\"2031.6,-169.28 2041.38,-165.22 2031.2,-162.29 2031.6,-169.28\"/>\n",
       "</g>\n",
       "<!-- 5 -->\n",
       "<g id=\"node6\" class=\"node\">\n",
       "<title>5</title>\n",
       "<text text-anchor=\"middle\" x=\"52.5\" y=\"-105.8\" font-family=\"Times,serif\" font-size=\"14.00\">5:append_field</text>\n",
       "</g>\n",
       "<!-- 4&#45;&gt;5 -->\n",
       "<g id=\"edge5\" class=\"edge\">\n",
       "<title>4&#45;&gt;5</title>\n",
       "<path fill=\"none\" stroke=\"black\" d=\"M133.82,-152.89C118.46,-144.88 92.34,-131.27 73.85,-121.63\"/>\n",
       "<polygon fill=\"black\" stroke=\"black\" points=\"75.46,-118.52 64.98,-117 72.23,-124.73 75.46,-118.52\"/>\n",
       "</g>\n",
       "<!-- 6 -->\n",
       "<g id=\"node7\" class=\"node\">\n",
       "<title>6</title>\n",
       "<text text-anchor=\"middle\" x=\"52.5\" y=\"-54.8\" font-family=\"Times,serif\" font-size=\"14.00\">6:create_field</text>\n",
       "</g>\n",
       "<!-- 5&#45;&gt;6 -->\n",
       "<g id=\"edge6\" class=\"edge\">\n",
       "<title>5&#45;&gt;6</title>\n",
       "<path fill=\"none\" stroke=\"black\" d=\"M52.5,-101.69C52.5,-95.18 52.5,-85.1 52.5,-76.43\"/>\n",
       "<polygon fill=\"black\" stroke=\"black\" points=\"56,-76.26 52.5,-66.26 49,-76.26 56,-76.26\"/>\n",
       "</g>\n",
       "<!-- 7 -->\n",
       "<g id=\"node8\" class=\"node\">\n",
       "<title>7</title>\n",
       "<text text-anchor=\"middle\" x=\"52.5\" y=\"-3.8\" font-family=\"Times,serif\" font-size=\"14.00\">7:set_field</text>\n",
       "</g>\n",
       "<!-- 6&#45;&gt;7 -->\n",
       "<g id=\"edge7\" class=\"edge\">\n",
       "<title>6&#45;&gt;7</title>\n",
       "<path fill=\"none\" stroke=\"black\" d=\"M52.5,-50.69C52.5,-44.18 52.5,-34.1 52.5,-25.43\"/>\n",
       "<polygon fill=\"black\" stroke=\"black\" points=\"56,-25.26 52.5,-15.26 49,-25.26 56,-25.26\"/>\n",
       "</g>\n",
       "<!-- 9 -->\n",
       "<g id=\"node10\" class=\"node\">\n",
       "<title>9</title>\n",
       "<text text-anchor=\"middle\" x=\"162.5\" y=\"-105.8\" font-family=\"Times,serif\" font-size=\"14.00\">9:add_char</text>\n",
       "</g>\n",
       "<!-- 8&#45;&gt;9 -->\n",
       "<g id=\"edge9\" class=\"edge\">\n",
       "<title>8&#45;&gt;9</title>\n",
       "<path fill=\"none\" stroke=\"black\" d=\"M387.97,-152.99C341.45,-144.23 258.57,-128.61 207.29,-118.94\"/>\n",
       "<polygon fill=\"black\" stroke=\"black\" points=\"207.64,-115.45 197.17,-117.03 206.35,-122.33 207.64,-115.45\"/>\n",
       "</g>\n",
       "<!-- 10 -->\n",
       "<g id=\"node11\" class=\"node\">\n",
       "<title>10</title>\n",
       "<text text-anchor=\"middle\" x=\"263.5\" y=\"-105.8\" font-family=\"Times,serif\" font-size=\"14.00\">10:add_char</text>\n",
       "</g>\n",
       "<!-- 8&#45;&gt;10 -->\n",
       "<g id=\"edge10\" class=\"edge\">\n",
       "<title>8&#45;&gt;10</title>\n",
       "<path fill=\"none\" stroke=\"black\" d=\"M401.39,-152.99C373.94,-144.54 325.82,-129.71 294.3,-119.99\"/>\n",
       "<polygon fill=\"black\" stroke=\"black\" points=\"295.29,-116.63 284.7,-117.03 293.23,-123.32 295.29,-116.63\"/>\n",
       "</g>\n",
       "<!-- 11 -->\n",
       "<g id=\"node12\" class=\"node\">\n",
       "<title>11</title>\n",
       "<text text-anchor=\"middle\" x=\"369.5\" y=\"-105.8\" font-family=\"Times,serif\" font-size=\"14.00\">11:add_char</text>\n",
       "</g>\n",
       "<!-- 8&#45;&gt;11 -->\n",
       "<g id=\"edge11\" class=\"edge\">\n",
       "<title>8&#45;&gt;11</title>\n",
       "<path fill=\"none\" stroke=\"black\" d=\"M415.13,-152.69C407.22,-145.37 394.44,-133.56 384.41,-124.29\"/>\n",
       "<polygon fill=\"black\" stroke=\"black\" points=\"386.53,-121.47 376.81,-117.26 381.77,-126.61 386.53,-121.47\"/>\n",
       "</g>\n",
       "<!-- 12 -->\n",
       "<g id=\"node13\" class=\"node\">\n",
       "<title>12</title>\n",
       "<text text-anchor=\"middle\" x=\"475.5\" y=\"-105.8\" font-family=\"Times,serif\" font-size=\"14.00\">12:add_char</text>\n",
       "</g>\n",
       "<!-- 8&#45;&gt;12 -->\n",
       "<g id=\"edge12\" class=\"edge\">\n",
       "<title>8&#45;&gt;12</title>\n",
       "<path fill=\"none\" stroke=\"black\" d=\"M429.87,-152.69C437.78,-145.37 450.56,-133.56 460.59,-124.29\"/>\n",
       "<polygon fill=\"black\" stroke=\"black\" points=\"463.23,-126.61 468.19,-117.26 458.47,-121.47 463.23,-126.61\"/>\n",
       "</g>\n",
       "<!-- 13 -->\n",
       "<g id=\"node14\" class=\"node\">\n",
       "<title>13</title>\n",
       "<text text-anchor=\"middle\" x=\"579.5\" y=\"-105.8\" font-family=\"Times,serif\" font-size=\"14.00\">13:set_field</text>\n",
       "</g>\n",
       "<!-- 8&#45;&gt;13 -->\n",
       "<g id=\"edge13\" class=\"edge\">\n",
       "<title>8&#45;&gt;13</title>\n",
       "<path fill=\"none\" stroke=\"black\" d=\"M443.35,-152.99C470.33,-144.57 517.55,-129.83 548.68,-120.12\"/>\n",
       "<polygon fill=\"black\" stroke=\"black\" points=\"550.06,-123.35 558.57,-117.03 547.98,-116.67 550.06,-123.35\"/>\n",
       "</g>\n",
       "<!-- 15 -->\n",
       "<g id=\"node16\" class=\"node\">\n",
       "<title>15</title>\n",
       "<text text-anchor=\"middle\" x=\"692.5\" y=\"-105.8\" font-family=\"Times,serif\" font-size=\"14.00\">15:create_field</text>\n",
       "</g>\n",
       "<!-- 14&#45;&gt;15 -->\n",
       "<g id=\"edge15\" class=\"edge\">\n",
       "<title>14&#45;&gt;15</title>\n",
       "<path fill=\"none\" stroke=\"black\" d=\"M772.96,-152.89C757.83,-144.92 732.15,-131.39 713.88,-121.76\"/>\n",
       "<polygon fill=\"black\" stroke=\"black\" points=\"715.32,-118.57 704.84,-117 712.06,-124.76 715.32,-118.57\"/>\n",
       "</g>\n",
       "<!-- 16 -->\n",
       "<g id=\"node17\" class=\"node\">\n",
       "<title>16</title>\n",
       "<text text-anchor=\"middle\" x=\"692.5\" y=\"-54.8\" font-family=\"Times,serif\" font-size=\"14.00\">16:set_field</text>\n",
       "</g>\n",
       "<!-- 15&#45;&gt;16 -->\n",
       "<g id=\"edge16\" class=\"edge\">\n",
       "<title>15&#45;&gt;16</title>\n",
       "<path fill=\"none\" stroke=\"black\" d=\"M692.5,-101.69C692.5,-95.18 692.5,-85.1 692.5,-76.43\"/>\n",
       "<polygon fill=\"black\" stroke=\"black\" points=\"696,-76.26 692.5,-66.26 689,-76.26 696,-76.26\"/>\n",
       "</g>\n",
       "<!-- 18 -->\n",
       "<g id=\"node19\" class=\"node\">\n",
       "<title>18</title>\n",
       "<text text-anchor=\"middle\" x=\"807.5\" y=\"-105.8\" font-family=\"Times,serif\" font-size=\"14.00\">18:add_char</text>\n",
       "</g>\n",
       "<!-- 17&#45;&gt;18 -->\n",
       "<g id=\"edge18\" class=\"edge\">\n",
       "<title>17&#45;&gt;18</title>\n",
       "<path fill=\"none\" stroke=\"black\" d=\"M991.35,-152.99C953.89,-144.34 887.52,-129 845.61,-119.31\"/>\n",
       "<polygon fill=\"black\" stroke=\"black\" points=\"846.3,-115.88 835.77,-117.03 844.72,-122.7 846.3,-115.88\"/>\n",
       "</g>\n",
       "<!-- 19 -->\n",
       "<g id=\"node20\" class=\"node\">\n",
       "<title>19</title>\n",
       "<text text-anchor=\"middle\" x=\"913.5\" y=\"-105.8\" font-family=\"Times,serif\" font-size=\"14.00\">19:add_char</text>\n",
       "</g>\n",
       "<!-- 17&#45;&gt;19 -->\n",
       "<g id=\"edge19\" class=\"edge\">\n",
       "<title>17&#45;&gt;19</title>\n",
       "<path fill=\"none\" stroke=\"black\" d=\"M1005.2,-152.89C987.64,-144.77 957.61,-130.89 936.72,-121.23\"/>\n",
       "<polygon fill=\"black\" stroke=\"black\" points=\"938.11,-118.02 927.57,-117 935.18,-124.38 938.11,-118.02\"/>\n",
       "</g>\n",
       "<!-- 20 -->\n",
       "<g id=\"node21\" class=\"node\">\n",
       "<title>20</title>\n",
       "<text text-anchor=\"middle\" x=\"1019.5\" y=\"-105.8\" font-family=\"Times,serif\" font-size=\"14.00\">20:add_char</text>\n",
       "</g>\n",
       "<!-- 17&#45;&gt;20 -->\n",
       "<g id=\"edge20\" class=\"edge\">\n",
       "<title>17&#45;&gt;20</title>\n",
       "<path fill=\"none\" stroke=\"black\" d=\"M1019.5,-152.69C1019.5,-146.18 1019.5,-136.1 1019.5,-127.43\"/>\n",
       "<polygon fill=\"black\" stroke=\"black\" points=\"1023,-127.26 1019.5,-117.26 1016,-127.26 1023,-127.26\"/>\n",
       "</g>\n",
       "<!-- 21 -->\n",
       "<g id=\"node22\" class=\"node\">\n",
       "<title>21</title>\n",
       "<text text-anchor=\"middle\" x=\"1123.5\" y=\"-105.8\" font-family=\"Times,serif\" font-size=\"14.00\">21:set_field</text>\n",
       "</g>\n",
       "<!-- 17&#45;&gt;21 -->\n",
       "<g id=\"edge21\" class=\"edge\">\n",
       "<title>17&#45;&gt;21</title>\n",
       "<path fill=\"none\" stroke=\"black\" d=\"M1033.53,-152.89C1050.68,-144.81 1079.95,-131.02 1100.44,-121.37\"/>\n",
       "<polygon fill=\"black\" stroke=\"black\" points=\"1102.14,-124.43 1109.7,-117 1099.16,-118.1 1102.14,-124.43\"/>\n",
       "</g>\n",
       "<!-- 23 -->\n",
       "<g id=\"node24\" class=\"node\">\n",
       "<title>23</title>\n",
       "<text text-anchor=\"middle\" x=\"1236.5\" y=\"-105.8\" font-family=\"Times,serif\" font-size=\"14.00\">23:create_field</text>\n",
       "</g>\n",
       "<!-- 22&#45;&gt;23 -->\n",
       "<g id=\"edge23\" class=\"edge\">\n",
       "<title>22&#45;&gt;23</title>\n",
       "<path fill=\"none\" stroke=\"black\" d=\"M1236.5,-152.69C1236.5,-146.18 1236.5,-136.1 1236.5,-127.43\"/>\n",
       "<polygon fill=\"black\" stroke=\"black\" points=\"1240,-127.26 1236.5,-117.26 1233,-127.26 1240,-127.26\"/>\n",
       "</g>\n",
       "<!-- 24 -->\n",
       "<g id=\"node25\" class=\"node\">\n",
       "<title>24</title>\n",
       "<text text-anchor=\"middle\" x=\"1236.5\" y=\"-54.8\" font-family=\"Times,serif\" font-size=\"14.00\">24:set_field</text>\n",
       "</g>\n",
       "<!-- 23&#45;&gt;24 -->\n",
       "<g id=\"edge24\" class=\"edge\">\n",
       "<title>23&#45;&gt;24</title>\n",
       "<path fill=\"none\" stroke=\"black\" d=\"M1236.5,-101.69C1236.5,-95.18 1236.5,-85.1 1236.5,-76.43\"/>\n",
       "<polygon fill=\"black\" stroke=\"black\" points=\"1240,-76.26 1236.5,-66.26 1233,-76.26 1240,-76.26\"/>\n",
       "</g>\n",
       "<!-- 26 -->\n",
       "<g id=\"node27\" class=\"node\">\n",
       "<title>26</title>\n",
       "<text text-anchor=\"middle\" x=\"1351.5\" y=\"-105.8\" font-family=\"Times,serif\" font-size=\"14.00\">26:add_char</text>\n",
       "</g>\n",
       "<!-- 25&#45;&gt;26 -->\n",
       "<g id=\"edge26\" class=\"edge\">\n",
       "<title>25&#45;&gt;26</title>\n",
       "<path fill=\"none\" stroke=\"black\" d=\"M1489.39,-152.99C1461.94,-144.54 1413.82,-129.71 1382.3,-119.99\"/>\n",
       "<polygon fill=\"black\" stroke=\"black\" points=\"1383.29,-116.63 1372.7,-117.03 1381.23,-123.32 1383.29,-116.63\"/>\n",
       "</g>\n",
       "<!-- 27 -->\n",
       "<g id=\"node28\" class=\"node\">\n",
       "<title>27</title>\n",
       "<text text-anchor=\"middle\" x=\"1457.5\" y=\"-105.8\" font-family=\"Times,serif\" font-size=\"14.00\">27:add_char</text>\n",
       "</g>\n",
       "<!-- 25&#45;&gt;27 -->\n",
       "<g id=\"edge27\" class=\"edge\">\n",
       "<title>25&#45;&gt;27</title>\n",
       "<path fill=\"none\" stroke=\"black\" d=\"M1503.13,-152.69C1495.22,-145.37 1482.44,-133.56 1472.41,-124.29\"/>\n",
       "<polygon fill=\"black\" stroke=\"black\" points=\"1474.53,-121.47 1464.81,-117.26 1469.77,-126.61 1474.53,-121.47\"/>\n",
       "</g>\n",
       "<!-- 28 -->\n",
       "<g id=\"node29\" class=\"node\">\n",
       "<title>28</title>\n",
       "<text text-anchor=\"middle\" x=\"1563.5\" y=\"-105.8\" font-family=\"Times,serif\" font-size=\"14.00\">28:add_char</text>\n",
       "</g>\n",
       "<!-- 25&#45;&gt;28 -->\n",
       "<g id=\"edge28\" class=\"edge\">\n",
       "<title>25&#45;&gt;28</title>\n",
       "<path fill=\"none\" stroke=\"black\" d=\"M1517.87,-152.69C1525.78,-145.37 1538.56,-133.56 1548.59,-124.29\"/>\n",
       "<polygon fill=\"black\" stroke=\"black\" points=\"1551.23,-126.61 1556.19,-117.26 1546.47,-121.47 1551.23,-126.61\"/>\n",
       "</g>\n",
       "<!-- 29 -->\n",
       "<g id=\"node30\" class=\"node\">\n",
       "<title>29</title>\n",
       "<text text-anchor=\"middle\" x=\"1669.5\" y=\"-105.8\" font-family=\"Times,serif\" font-size=\"14.00\">29:add_char</text>\n",
       "</g>\n",
       "<!-- 25&#45;&gt;29 -->\n",
       "<g id=\"edge29\" class=\"edge\">\n",
       "<title>25&#45;&gt;29</title>\n",
       "<path fill=\"none\" stroke=\"black\" d=\"M1531.61,-152.99C1559.06,-144.54 1607.18,-129.71 1638.7,-119.99\"/>\n",
       "<polygon fill=\"black\" stroke=\"black\" points=\"1639.77,-123.32 1648.3,-117.03 1637.71,-116.63 1639.77,-123.32\"/>\n",
       "</g>\n",
       "<!-- 30 -->\n",
       "<g id=\"node31\" class=\"node\">\n",
       "<title>30</title>\n",
       "<text text-anchor=\"middle\" x=\"1773.5\" y=\"-105.8\" font-family=\"Times,serif\" font-size=\"14.00\">30:set_field</text>\n",
       "</g>\n",
       "<!-- 25&#45;&gt;30 -->\n",
       "<g id=\"edge30\" class=\"edge\">\n",
       "<title>25&#45;&gt;30</title>\n",
       "<path fill=\"none\" stroke=\"black\" d=\"M1545.42,-152.99C1592.58,-144.21 1676.67,-128.54 1728.51,-118.88\"/>\n",
       "<polygon fill=\"black\" stroke=\"black\" points=\"1729.24,-122.31 1738.43,-117.03 1727.96,-115.42 1729.24,-122.31\"/>\n",
       "</g>\n",
       "<!-- 32 -->\n",
       "<g id=\"node33\" class=\"node\">\n",
       "<title>32</title>\n",
       "<text text-anchor=\"middle\" x=\"1886.5\" y=\"-105.8\" font-family=\"Times,serif\" font-size=\"14.00\">32:create_field</text>\n",
       "</g>\n",
       "<!-- 31&#45;&gt;32 -->\n",
       "<g id=\"edge32\" class=\"edge\">\n",
       "<title>31&#45;&gt;32</title>\n",
       "<path fill=\"none\" stroke=\"black\" d=\"M1785.28,-152.89C1804.84,-144.7 1838.41,-130.64 1861.49,-120.97\"/>\n",
       "<polygon fill=\"black\" stroke=\"black\" points=\"1863.1,-124.09 1870.97,-117 1860.4,-117.64 1863.1,-124.09\"/>\n",
       "</g>\n",
       "<!-- 33 -->\n",
       "<g id=\"node34\" class=\"node\">\n",
       "<title>33</title>\n",
       "<text text-anchor=\"middle\" x=\"1886.5\" y=\"-54.8\" font-family=\"Times,serif\" font-size=\"14.00\">33:set_field</text>\n",
       "</g>\n",
       "<!-- 32&#45;&gt;33 -->\n",
       "<g id=\"edge33\" class=\"edge\">\n",
       "<title>32&#45;&gt;33</title>\n",
       "<path fill=\"none\" stroke=\"black\" d=\"M1886.5,-101.69C1886.5,-95.18 1886.5,-85.1 1886.5,-76.43\"/>\n",
       "<polygon fill=\"black\" stroke=\"black\" points=\"1890,-76.26 1886.5,-66.26 1883,-76.26 1890,-76.26\"/>\n",
       "</g>\n",
       "<!-- 35 -->\n",
       "<g id=\"node36\" class=\"node\">\n",
       "<title>35</title>\n",
       "<text text-anchor=\"middle\" x=\"2001.5\" y=\"-105.8\" font-family=\"Times,serif\" font-size=\"14.00\">35:add_char</text>\n",
       "</g>\n",
       "<!-- 34&#45;&gt;35 -->\n",
       "<g id=\"edge35\" class=\"edge\">\n",
       "<title>34&#45;&gt;35</title>\n",
       "<path fill=\"none\" stroke=\"black\" d=\"M2093.2,-152.89C2075.64,-144.77 2045.61,-130.89 2024.72,-121.23\"/>\n",
       "<polygon fill=\"black\" stroke=\"black\" points=\"2026.11,-118.02 2015.57,-117 2023.18,-124.38 2026.11,-118.02\"/>\n",
       "</g>\n",
       "<!-- 36 -->\n",
       "<g id=\"node37\" class=\"node\">\n",
       "<title>36</title>\n",
       "<text text-anchor=\"middle\" x=\"2107.5\" y=\"-105.8\" font-family=\"Times,serif\" font-size=\"14.00\">36:add_char</text>\n",
       "</g>\n",
       "<!-- 34&#45;&gt;36 -->\n",
       "<g id=\"edge36\" class=\"edge\">\n",
       "<title>34&#45;&gt;36</title>\n",
       "<path fill=\"none\" stroke=\"black\" d=\"M2107.5,-152.69C2107.5,-146.18 2107.5,-136.1 2107.5,-127.43\"/>\n",
       "<polygon fill=\"black\" stroke=\"black\" points=\"2111,-127.26 2107.5,-117.26 2104,-127.26 2111,-127.26\"/>\n",
       "</g>\n",
       "<!-- 37 -->\n",
       "<g id=\"node38\" class=\"node\">\n",
       "<title>37</title>\n",
       "<text text-anchor=\"middle\" x=\"2213.5\" y=\"-105.8\" font-family=\"Times,serif\" font-size=\"14.00\">37:add_char</text>\n",
       "</g>\n",
       "<!-- 34&#45;&gt;37 -->\n",
       "<g id=\"edge37\" class=\"edge\">\n",
       "<title>34&#45;&gt;37</title>\n",
       "<path fill=\"none\" stroke=\"black\" d=\"M2121.8,-152.89C2139.36,-144.77 2169.39,-130.89 2190.28,-121.23\"/>\n",
       "<polygon fill=\"black\" stroke=\"black\" points=\"2191.82,-124.38 2199.43,-117 2188.89,-118.02 2191.82,-124.38\"/>\n",
       "</g>\n",
       "<!-- 38 -->\n",
       "<g id=\"node39\" class=\"node\">\n",
       "<title>38</title>\n",
       "<text text-anchor=\"middle\" x=\"2319.5\" y=\"-105.8\" font-family=\"Times,serif\" font-size=\"14.00\">38:add_char</text>\n",
       "</g>\n",
       "<!-- 34&#45;&gt;38 -->\n",
       "<g id=\"edge38\" class=\"edge\">\n",
       "<title>34&#45;&gt;38</title>\n",
       "<path fill=\"none\" stroke=\"black\" d=\"M2135.65,-152.99C2173.11,-144.34 2239.48,-129 2281.39,-119.31\"/>\n",
       "<polygon fill=\"black\" stroke=\"black\" points=\"2282.28,-122.7 2291.23,-117.03 2280.7,-115.88 2282.28,-122.7\"/>\n",
       "</g>\n",
       "<!-- 39 -->\n",
       "<g id=\"node40\" class=\"node\">\n",
       "<title>39</title>\n",
       "<text text-anchor=\"middle\" x=\"2423.5\" y=\"-105.8\" font-family=\"Times,serif\" font-size=\"14.00\">39:set_field</text>\n",
       "</g>\n",
       "<!-- 34&#45;&gt;39 -->\n",
       "<g id=\"edge39\" class=\"edge\">\n",
       "<title>34&#45;&gt;39</title>\n",
       "<path fill=\"none\" stroke=\"black\" d=\"M2149.46,-152.99C2206.87,-144.09 2309.84,-128.12 2371.9,-118.5\"/>\n",
       "<polygon fill=\"black\" stroke=\"black\" points=\"2372.52,-121.95 2381.87,-116.96 2371.45,-115.03 2372.52,-121.95\"/>\n",
       "</g>\n",
       "<!-- 41 -->\n",
       "<g id=\"node42\" class=\"node\">\n",
       "<title>41</title>\n",
       "<text text-anchor=\"middle\" x=\"2287.5\" y=\"-207.8\" font-family=\"Times,serif\" font-size=\"14.00\">41:&lt;__run_exit_handlers&gt;</text>\n",
       "</g>\n",
       "<!-- 40&#45;&gt;41 -->\n",
       "<g id=\"edge41\" class=\"edge\">\n",
       "<title>40&#45;&gt;41</title>\n",
       "<path fill=\"none\" stroke=\"black\" d=\"M1866.15,-255.78C1952.22,-246.94 2117.7,-229.94 2213.68,-220.08\"/>\n",
       "<polygon fill=\"black\" stroke=\"black\" points=\"2214.29,-223.54 2223.88,-219.04 2213.58,-216.58 2214.29,-223.54\"/>\n",
       "</g>\n",
       "<!-- 42 -->\n",
       "<g id=\"node43\" class=\"node\">\n",
       "<title>42</title>\n",
       "<text text-anchor=\"middle\" x=\"2287.5\" y=\"-156.8\" font-family=\"Times,serif\" font-size=\"14.00\">42:&lt;__GI___call_tls_dtors&gt;</text>\n",
       "</g>\n",
       "<!-- 41&#45;&gt;42 -->\n",
       "<g id=\"edge42\" class=\"edge\">\n",
       "<title>41&#45;&gt;42</title>\n",
       "<path fill=\"none\" stroke=\"black\" d=\"M2287.5,-203.69C2287.5,-197.18 2287.5,-187.1 2287.5,-178.43\"/>\n",
       "<polygon fill=\"black\" stroke=\"black\" points=\"2291,-178.26 2287.5,-168.26 2284,-178.26 2291,-178.26\"/>\n",
       "</g>\n",
       "<!-- 43 -->\n",
       "<g id=\"node44\" class=\"node\">\n",
       "<title>43</title>\n",
       "<text text-anchor=\"middle\" x=\"2460.5\" y=\"-156.8\" font-family=\"Times,serif\" font-size=\"14.00\">43:&lt;__GI__exit&gt;</text>\n",
       "</g>\n",
       "<!-- 41&#45;&gt;43 -->\n",
       "<g id=\"edge43\" class=\"edge\">\n",
       "<title>41&#45;&gt;43</title>\n",
       "<path fill=\"none\" stroke=\"black\" d=\"M2310.47,-203.99C2340.46,-195.5 2393.15,-180.58 2427.43,-170.87\"/>\n",
       "<polygon fill=\"black\" stroke=\"black\" points=\"2428.76,-174.13 2437.43,-168.03 2426.86,-167.39 2428.76,-174.13\"/>\n",
       "</g>\n",
       "</g>\n",
       "</svg>\n"
      ],
      "text/plain": [
       "<graphviz.dot.Digraph at 0x7f972cd09d50>"
      ]
     },
     "execution_count": 471,
     "metadata": {},
     "output_type": "execute_result"
    }
   ],
   "source": [
    "display_tree(csv_method_tree[0], extract_node=extract_node)"
   ]
  },
  {
   "cell_type": "markdown",
   "metadata": {},
   "source": [
    "#### Identifying last comparisons\n",
    "We need only the last comparisons made on any index. This means that we should care for only the last parse in an ambiguous parse. So, we assign the method that last touched an index to be its consumer.\n",
    "\n",
    "However, to make concessions for real world, we also check if we are overwriting a child (`HEURISTIC`). Essentially, if the heursitic is enabled, then if the current method id (`midP`) is smaller than the `midC` already stored in the last comparison map, then it means that `midP` is a parent that called `midC` previously, and now accessing an index that `midC` touched. This happens when the parent tries to find a substring like `#` in the entirety of the original string. (Note that we have seen this only in `URLParser`). (Note that this heuristic does not restrict reparsing by another function call -- in such a case, `midC` will not smaller than `midP`). So, perhaps, we should let the child keep the ownership. However, there is one more wrinkle. If the character being contested was the last index touched by our `mid`, then it is likely that it was simply a boundary check. In that case, we should let the parent own this character."
   ]
  },
  {
   "cell_type": "code",
   "execution_count": 472,
   "metadata": {
    "ExecuteTime": {
     "end_time": "2021-10-06T12:13:20.590953Z",
     "start_time": "2021-10-06T12:13:20.579849Z"
    }
   },
   "outputs": [],
   "source": [
    "LAST_COMPARISON_HEURISTIC = False"
   ]
  },
  {
   "cell_type": "code",
   "execution_count": 473,
   "metadata": {
    "ExecuteTime": {
     "end_time": "2021-10-06T12:13:20.620889Z",
     "start_time": "2021-10-06T12:13:20.600318Z"
    }
   },
   "outputs": [],
   "source": [
    "def last_comparisons(comparisons):\n",
    "    last_cmp_only = {}\n",
    "    last_idx = {}\n",
    "\n",
    "    # get the last indexes compared in methods.\n",
    "    for idx, char, mid in comparisons:\n",
    "        if mid in last_idx:\n",
    "            if idx > last_idx[mid]:\n",
    "                last_idx[mid] = idx\n",
    "        else:\n",
    "            last_idx[mid] = idx\n",
    "\n",
    "    for idx, char, mid in comparisons:\n",
    "        if LAST_COMPARISON_HEURISTIC:\n",
    "            if idx in last_cmp_only:\n",
    "                midC = last_cmp_only[idx]\n",
    "                if midC > mid:\n",
    "                    # midC is a child of mid.\n",
    "                    # do not clobber children unless it was the last character\n",
    "                    # for that child.\n",
    "                    if last_idx[mid] == idx:\n",
    "                        # if it was the last index, may be the child used it\n",
    "                        # as a boundary check.\n",
    "                        pass\n",
    "                    else:\n",
    "                        # do not overwrite the current value of `last_cmp_only[idx]`\n",
    "                        continue\n",
    "        last_cmp_only[idx] = mid\n",
    "    return last_cmp_only"
   ]
  },
  {
   "cell_type": "code",
   "execution_count": 474,
   "metadata": {
    "ExecuteTime": {
     "end_time": "2021-10-06T12:13:20.639327Z",
     "start_time": "2021-10-06T12:13:20.626544Z"
    },
    "scrolled": false
   },
   "outputs": [],
   "source": [
    "csv_last_comparisons = last_comparisons(csv_trace[0]['comparisons'])"
   ]
  },
  {
   "cell_type": "code",
   "execution_count": 475,
   "metadata": {
    "ExecuteTime": {
     "end_time": "2021-10-06T12:13:20.662213Z",
     "start_time": "2021-10-06T12:13:20.645646Z"
    }
   },
   "outputs": [
    {
     "data": {
      "text/plain": [
       "{0: 31,\n",
       " 1: 31,\n",
       " 2: 31,\n",
       " 3: 31,\n",
       " 4: 8,\n",
       " 5: 21,\n",
       " 6: 21,\n",
       " 7: 21,\n",
       " 8: 17,\n",
       " 9: 30,\n",
       " 10: 30,\n",
       " 11: 30,\n",
       " 12: 30,\n",
       " 13: 25,\n",
       " 14: 39,\n",
       " 15: 39,\n",
       " 16: 39,\n",
       " 17: 39}"
      ]
     },
     "execution_count": 475,
     "metadata": {},
     "output_type": "execute_result"
    }
   ],
   "source": [
    "csv_last_comparisons"
   ]
  },
  {
   "cell_type": "markdown",
   "metadata": {
    "ExecuteTime": {
     "end_time": "2021-03-15T02:33:06.938887Z",
     "start_time": "2021-03-15T02:33:06.934815Z"
    }
   },
   "source": [
    "#### Attaching characters to the tree\n",
    "Add the comparison indexes to the method tree that we constructed"
   ]
  },
  {
   "cell_type": "code",
   "execution_count": 476,
   "metadata": {
    "ExecuteTime": {
     "end_time": "2021-10-06T12:13:20.684033Z",
     "start_time": "2021-10-06T12:13:20.669700Z"
    }
   },
   "outputs": [],
   "source": [
    "def attach_comparisons(method_tree, comparisons):\n",
    "    for idx in comparisons:\n",
    "        mid = comparisons[idx]\n",
    "        method_tree[mid]['indexes'].append(idx)"
   ]
  },
  {
   "cell_type": "code",
   "execution_count": 477,
   "metadata": {
    "ExecuteTime": {
     "end_time": "2021-10-06T12:13:20.707921Z",
     "start_time": "2021-10-06T12:13:20.698385Z"
    }
   },
   "outputs": [],
   "source": [
    "attach_comparisons(csv_method_tree, csv_last_comparisons)"
   ]
  },
  {
   "cell_type": "code",
   "execution_count": 478,
   "metadata": {
    "ExecuteTime": {
     "end_time": "2021-10-06T12:13:20.841414Z",
     "start_time": "2021-10-06T12:13:20.716413Z"
    }
   },
   "outputs": [
    {
     "data": {
      "text/plain": [
       "{0: {'id': 0,\n",
       "  'name': None,\n",
       "  'children': [{'id': 1,\n",
       "    'name': 'main',\n",
       "    'indexes': [],\n",
       "    'children': [{'id': 2,\n",
       "      'name': 'csv_create_buffer',\n",
       "      'indexes': [],\n",
       "      'children': []},\n",
       "     {'id': 3,\n",
       "      'name': 'csv_load',\n",
       "      'indexes': [],\n",
       "      'children': [{'id': 4,\n",
       "        'name': 'append_row',\n",
       "        'indexes': [],\n",
       "        'children': [{'id': 5,\n",
       "          'name': 'append_field',\n",
       "          'indexes': [],\n",
       "          'children': [{'id': 6,\n",
       "            'name': 'create_field',\n",
       "            'indexes': [],\n",
       "            'children': [{'id': 7,\n",
       "              'name': 'set_field',\n",
       "              'indexes': [],\n",
       "              'children': []}]}]}]},\n",
       "       {'id': 8,\n",
       "        'name': 'read_next_field',\n",
       "        'indexes': [4],\n",
       "        'children': [{'id': 9,\n",
       "          'name': 'add_char',\n",
       "          'indexes': [],\n",
       "          'children': []},\n",
       "         {'id': 10, 'name': 'add_char', 'indexes': [], 'children': []},\n",
       "         {'id': 11, 'name': 'add_char', 'indexes': [], 'children': []},\n",
       "         {'id': 12, 'name': 'add_char', 'indexes': [], 'children': []},\n",
       "         {'id': 13, 'name': 'set_field', 'indexes': [], 'children': []}]},\n",
       "       {'id': 14,\n",
       "        'name': 'append_field',\n",
       "        'indexes': [],\n",
       "        'children': [{'id': 15,\n",
       "          'name': 'create_field',\n",
       "          'indexes': [],\n",
       "          'children': [{'id': 16,\n",
       "            'name': 'set_field',\n",
       "            'indexes': [],\n",
       "            'children': []}]}]},\n",
       "       {'id': 17,\n",
       "        'name': 'read_next_field',\n",
       "        'indexes': [8],\n",
       "        'children': [{'id': 18,\n",
       "          'name': 'add_char',\n",
       "          'indexes': [],\n",
       "          'children': []},\n",
       "         {'id': 19, 'name': 'add_char', 'indexes': [], 'children': []},\n",
       "         {'id': 20, 'name': 'add_char', 'indexes': [], 'children': []},\n",
       "         {'id': 21,\n",
       "          'name': 'set_field',\n",
       "          'indexes': [5, 6, 7],\n",
       "          'children': []}]},\n",
       "       {'id': 22,\n",
       "        'name': 'append_field',\n",
       "        'indexes': [],\n",
       "        'children': [{'id': 23,\n",
       "          'name': 'create_field',\n",
       "          'indexes': [],\n",
       "          'children': [{'id': 24,\n",
       "            'name': 'set_field',\n",
       "            'indexes': [],\n",
       "            'children': []}]}]},\n",
       "       {'id': 25,\n",
       "        'name': 'read_next_field',\n",
       "        'indexes': [13],\n",
       "        'children': [{'id': 26,\n",
       "          'name': 'add_char',\n",
       "          'indexes': [],\n",
       "          'children': []},\n",
       "         {'id': 27, 'name': 'add_char', 'indexes': [], 'children': []},\n",
       "         {'id': 28, 'name': 'add_char', 'indexes': [], 'children': []},\n",
       "         {'id': 29, 'name': 'add_char', 'indexes': [], 'children': []},\n",
       "         {'id': 30,\n",
       "          'name': 'set_field',\n",
       "          'indexes': [9, 10, 11, 12],\n",
       "          'children': []}]},\n",
       "       {'id': 31,\n",
       "        'name': 'append_field',\n",
       "        'indexes': [0, 1, 2, 3],\n",
       "        'children': [{'id': 32,\n",
       "          'name': 'create_field',\n",
       "          'indexes': [],\n",
       "          'children': [{'id': 33,\n",
       "            'name': 'set_field',\n",
       "            'indexes': [],\n",
       "            'children': []}]}]},\n",
       "       {'id': 34,\n",
       "        'name': 'read_next_field',\n",
       "        'indexes': [],\n",
       "        'children': [{'id': 35,\n",
       "          'name': 'add_char',\n",
       "          'indexes': [],\n",
       "          'children': []},\n",
       "         {'id': 36, 'name': 'add_char', 'indexes': [], 'children': []},\n",
       "         {'id': 37, 'name': 'add_char', 'indexes': [], 'children': []},\n",
       "         {'id': 38, 'name': 'add_char', 'indexes': [], 'children': []},\n",
       "         {'id': 39,\n",
       "          'name': 'set_field',\n",
       "          'indexes': [14, 15, 16, 17],\n",
       "          'children': []}]}]}]},\n",
       "   {'id': 40,\n",
       "    'name': '<__GI_exit>',\n",
       "    'indexes': [],\n",
       "    'children': [{'id': 41,\n",
       "      'name': '<__run_exit_handlers>',\n",
       "      'indexes': [],\n",
       "      'children': [{'id': 42,\n",
       "        'name': '<__GI___call_tls_dtors>',\n",
       "        'indexes': [],\n",
       "        'children': []},\n",
       "       {'id': 43, 'name': '<__GI__exit>', 'indexes': [], 'children': []}]}]}],\n",
       "  'indexes': []},\n",
       " 1: {'id': 1,\n",
       "  'name': 'main',\n",
       "  'indexes': [],\n",
       "  'children': [{'id': 2,\n",
       "    'name': 'csv_create_buffer',\n",
       "    'indexes': [],\n",
       "    'children': []},\n",
       "   {'id': 3,\n",
       "    'name': 'csv_load',\n",
       "    'indexes': [],\n",
       "    'children': [{'id': 4,\n",
       "      'name': 'append_row',\n",
       "      'indexes': [],\n",
       "      'children': [{'id': 5,\n",
       "        'name': 'append_field',\n",
       "        'indexes': [],\n",
       "        'children': [{'id': 6,\n",
       "          'name': 'create_field',\n",
       "          'indexes': [],\n",
       "          'children': [{'id': 7,\n",
       "            'name': 'set_field',\n",
       "            'indexes': [],\n",
       "            'children': []}]}]}]},\n",
       "     {'id': 8,\n",
       "      'name': 'read_next_field',\n",
       "      'indexes': [4],\n",
       "      'children': [{'id': 9,\n",
       "        'name': 'add_char',\n",
       "        'indexes': [],\n",
       "        'children': []},\n",
       "       {'id': 10, 'name': 'add_char', 'indexes': [], 'children': []},\n",
       "       {'id': 11, 'name': 'add_char', 'indexes': [], 'children': []},\n",
       "       {'id': 12, 'name': 'add_char', 'indexes': [], 'children': []},\n",
       "       {'id': 13, 'name': 'set_field', 'indexes': [], 'children': []}]},\n",
       "     {'id': 14,\n",
       "      'name': 'append_field',\n",
       "      'indexes': [],\n",
       "      'children': [{'id': 15,\n",
       "        'name': 'create_field',\n",
       "        'indexes': [],\n",
       "        'children': [{'id': 16,\n",
       "          'name': 'set_field',\n",
       "          'indexes': [],\n",
       "          'children': []}]}]},\n",
       "     {'id': 17,\n",
       "      'name': 'read_next_field',\n",
       "      'indexes': [8],\n",
       "      'children': [{'id': 18,\n",
       "        'name': 'add_char',\n",
       "        'indexes': [],\n",
       "        'children': []},\n",
       "       {'id': 19, 'name': 'add_char', 'indexes': [], 'children': []},\n",
       "       {'id': 20, 'name': 'add_char', 'indexes': [], 'children': []},\n",
       "       {'id': 21, 'name': 'set_field', 'indexes': [5, 6, 7], 'children': []}]},\n",
       "     {'id': 22,\n",
       "      'name': 'append_field',\n",
       "      'indexes': [],\n",
       "      'children': [{'id': 23,\n",
       "        'name': 'create_field',\n",
       "        'indexes': [],\n",
       "        'children': [{'id': 24,\n",
       "          'name': 'set_field',\n",
       "          'indexes': [],\n",
       "          'children': []}]}]},\n",
       "     {'id': 25,\n",
       "      'name': 'read_next_field',\n",
       "      'indexes': [13],\n",
       "      'children': [{'id': 26,\n",
       "        'name': 'add_char',\n",
       "        'indexes': [],\n",
       "        'children': []},\n",
       "       {'id': 27, 'name': 'add_char', 'indexes': [], 'children': []},\n",
       "       {'id': 28, 'name': 'add_char', 'indexes': [], 'children': []},\n",
       "       {'id': 29, 'name': 'add_char', 'indexes': [], 'children': []},\n",
       "       {'id': 30,\n",
       "        'name': 'set_field',\n",
       "        'indexes': [9, 10, 11, 12],\n",
       "        'children': []}]},\n",
       "     {'id': 31,\n",
       "      'name': 'append_field',\n",
       "      'indexes': [0, 1, 2, 3],\n",
       "      'children': [{'id': 32,\n",
       "        'name': 'create_field',\n",
       "        'indexes': [],\n",
       "        'children': [{'id': 33,\n",
       "          'name': 'set_field',\n",
       "          'indexes': [],\n",
       "          'children': []}]}]},\n",
       "     {'id': 34,\n",
       "      'name': 'read_next_field',\n",
       "      'indexes': [],\n",
       "      'children': [{'id': 35,\n",
       "        'name': 'add_char',\n",
       "        'indexes': [],\n",
       "        'children': []},\n",
       "       {'id': 36, 'name': 'add_char', 'indexes': [], 'children': []},\n",
       "       {'id': 37, 'name': 'add_char', 'indexes': [], 'children': []},\n",
       "       {'id': 38, 'name': 'add_char', 'indexes': [], 'children': []},\n",
       "       {'id': 39,\n",
       "        'name': 'set_field',\n",
       "        'indexes': [14, 15, 16, 17],\n",
       "        'children': []}]}]}]},\n",
       " 40: {'id': 40,\n",
       "  'name': '<__GI_exit>',\n",
       "  'indexes': [],\n",
       "  'children': [{'id': 41,\n",
       "    'name': '<__run_exit_handlers>',\n",
       "    'indexes': [],\n",
       "    'children': [{'id': 42,\n",
       "      'name': '<__GI___call_tls_dtors>',\n",
       "      'indexes': [],\n",
       "      'children': []},\n",
       "     {'id': 43, 'name': '<__GI__exit>', 'indexes': [], 'children': []}]}]},\n",
       " 2: {'id': 2, 'name': 'csv_create_buffer', 'indexes': [], 'children': []},\n",
       " 3: {'id': 3,\n",
       "  'name': 'csv_load',\n",
       "  'indexes': [],\n",
       "  'children': [{'id': 4,\n",
       "    'name': 'append_row',\n",
       "    'indexes': [],\n",
       "    'children': [{'id': 5,\n",
       "      'name': 'append_field',\n",
       "      'indexes': [],\n",
       "      'children': [{'id': 6,\n",
       "        'name': 'create_field',\n",
       "        'indexes': [],\n",
       "        'children': [{'id': 7,\n",
       "          'name': 'set_field',\n",
       "          'indexes': [],\n",
       "          'children': []}]}]}]},\n",
       "   {'id': 8,\n",
       "    'name': 'read_next_field',\n",
       "    'indexes': [4],\n",
       "    'children': [{'id': 9, 'name': 'add_char', 'indexes': [], 'children': []},\n",
       "     {'id': 10, 'name': 'add_char', 'indexes': [], 'children': []},\n",
       "     {'id': 11, 'name': 'add_char', 'indexes': [], 'children': []},\n",
       "     {'id': 12, 'name': 'add_char', 'indexes': [], 'children': []},\n",
       "     {'id': 13, 'name': 'set_field', 'indexes': [], 'children': []}]},\n",
       "   {'id': 14,\n",
       "    'name': 'append_field',\n",
       "    'indexes': [],\n",
       "    'children': [{'id': 15,\n",
       "      'name': 'create_field',\n",
       "      'indexes': [],\n",
       "      'children': [{'id': 16,\n",
       "        'name': 'set_field',\n",
       "        'indexes': [],\n",
       "        'children': []}]}]},\n",
       "   {'id': 17,\n",
       "    'name': 'read_next_field',\n",
       "    'indexes': [8],\n",
       "    'children': [{'id': 18, 'name': 'add_char', 'indexes': [], 'children': []},\n",
       "     {'id': 19, 'name': 'add_char', 'indexes': [], 'children': []},\n",
       "     {'id': 20, 'name': 'add_char', 'indexes': [], 'children': []},\n",
       "     {'id': 21, 'name': 'set_field', 'indexes': [5, 6, 7], 'children': []}]},\n",
       "   {'id': 22,\n",
       "    'name': 'append_field',\n",
       "    'indexes': [],\n",
       "    'children': [{'id': 23,\n",
       "      'name': 'create_field',\n",
       "      'indexes': [],\n",
       "      'children': [{'id': 24,\n",
       "        'name': 'set_field',\n",
       "        'indexes': [],\n",
       "        'children': []}]}]},\n",
       "   {'id': 25,\n",
       "    'name': 'read_next_field',\n",
       "    'indexes': [13],\n",
       "    'children': [{'id': 26, 'name': 'add_char', 'indexes': [], 'children': []},\n",
       "     {'id': 27, 'name': 'add_char', 'indexes': [], 'children': []},\n",
       "     {'id': 28, 'name': 'add_char', 'indexes': [], 'children': []},\n",
       "     {'id': 29, 'name': 'add_char', 'indexes': [], 'children': []},\n",
       "     {'id': 30,\n",
       "      'name': 'set_field',\n",
       "      'indexes': [9, 10, 11, 12],\n",
       "      'children': []}]},\n",
       "   {'id': 31,\n",
       "    'name': 'append_field',\n",
       "    'indexes': [0, 1, 2, 3],\n",
       "    'children': [{'id': 32,\n",
       "      'name': 'create_field',\n",
       "      'indexes': [],\n",
       "      'children': [{'id': 33,\n",
       "        'name': 'set_field',\n",
       "        'indexes': [],\n",
       "        'children': []}]}]},\n",
       "   {'id': 34,\n",
       "    'name': 'read_next_field',\n",
       "    'indexes': [],\n",
       "    'children': [{'id': 35, 'name': 'add_char', 'indexes': [], 'children': []},\n",
       "     {'id': 36, 'name': 'add_char', 'indexes': [], 'children': []},\n",
       "     {'id': 37, 'name': 'add_char', 'indexes': [], 'children': []},\n",
       "     {'id': 38, 'name': 'add_char', 'indexes': [], 'children': []},\n",
       "     {'id': 39,\n",
       "      'name': 'set_field',\n",
       "      'indexes': [14, 15, 16, 17],\n",
       "      'children': []}]}]},\n",
       " 4: {'id': 4,\n",
       "  'name': 'append_row',\n",
       "  'indexes': [],\n",
       "  'children': [{'id': 5,\n",
       "    'name': 'append_field',\n",
       "    'indexes': [],\n",
       "    'children': [{'id': 6,\n",
       "      'name': 'create_field',\n",
       "      'indexes': [],\n",
       "      'children': [{'id': 7,\n",
       "        'name': 'set_field',\n",
       "        'indexes': [],\n",
       "        'children': []}]}]}]},\n",
       " 8: {'id': 8,\n",
       "  'name': 'read_next_field',\n",
       "  'indexes': [4],\n",
       "  'children': [{'id': 9, 'name': 'add_char', 'indexes': [], 'children': []},\n",
       "   {'id': 10, 'name': 'add_char', 'indexes': [], 'children': []},\n",
       "   {'id': 11, 'name': 'add_char', 'indexes': [], 'children': []},\n",
       "   {'id': 12, 'name': 'add_char', 'indexes': [], 'children': []},\n",
       "   {'id': 13, 'name': 'set_field', 'indexes': [], 'children': []}]},\n",
       " 14: {'id': 14,\n",
       "  'name': 'append_field',\n",
       "  'indexes': [],\n",
       "  'children': [{'id': 15,\n",
       "    'name': 'create_field',\n",
       "    'indexes': [],\n",
       "    'children': [{'id': 16,\n",
       "      'name': 'set_field',\n",
       "      'indexes': [],\n",
       "      'children': []}]}]},\n",
       " 17: {'id': 17,\n",
       "  'name': 'read_next_field',\n",
       "  'indexes': [8],\n",
       "  'children': [{'id': 18, 'name': 'add_char', 'indexes': [], 'children': []},\n",
       "   {'id': 19, 'name': 'add_char', 'indexes': [], 'children': []},\n",
       "   {'id': 20, 'name': 'add_char', 'indexes': [], 'children': []},\n",
       "   {'id': 21, 'name': 'set_field', 'indexes': [5, 6, 7], 'children': []}]},\n",
       " 22: {'id': 22,\n",
       "  'name': 'append_field',\n",
       "  'indexes': [],\n",
       "  'children': [{'id': 23,\n",
       "    'name': 'create_field',\n",
       "    'indexes': [],\n",
       "    'children': [{'id': 24,\n",
       "      'name': 'set_field',\n",
       "      'indexes': [],\n",
       "      'children': []}]}]},\n",
       " 25: {'id': 25,\n",
       "  'name': 'read_next_field',\n",
       "  'indexes': [13],\n",
       "  'children': [{'id': 26, 'name': 'add_char', 'indexes': [], 'children': []},\n",
       "   {'id': 27, 'name': 'add_char', 'indexes': [], 'children': []},\n",
       "   {'id': 28, 'name': 'add_char', 'indexes': [], 'children': []},\n",
       "   {'id': 29, 'name': 'add_char', 'indexes': [], 'children': []},\n",
       "   {'id': 30,\n",
       "    'name': 'set_field',\n",
       "    'indexes': [9, 10, 11, 12],\n",
       "    'children': []}]},\n",
       " 31: {'id': 31,\n",
       "  'name': 'append_field',\n",
       "  'indexes': [0, 1, 2, 3],\n",
       "  'children': [{'id': 32,\n",
       "    'name': 'create_field',\n",
       "    'indexes': [],\n",
       "    'children': [{'id': 33,\n",
       "      'name': 'set_field',\n",
       "      'indexes': [],\n",
       "      'children': []}]}]},\n",
       " 34: {'id': 34,\n",
       "  'name': 'read_next_field',\n",
       "  'indexes': [],\n",
       "  'children': [{'id': 35, 'name': 'add_char', 'indexes': [], 'children': []},\n",
       "   {'id': 36, 'name': 'add_char', 'indexes': [], 'children': []},\n",
       "   {'id': 37, 'name': 'add_char', 'indexes': [], 'children': []},\n",
       "   {'id': 38, 'name': 'add_char', 'indexes': [], 'children': []},\n",
       "   {'id': 39,\n",
       "    'name': 'set_field',\n",
       "    'indexes': [14, 15, 16, 17],\n",
       "    'children': []}]},\n",
       " 5: {'id': 5,\n",
       "  'name': 'append_field',\n",
       "  'indexes': [],\n",
       "  'children': [{'id': 6,\n",
       "    'name': 'create_field',\n",
       "    'indexes': [],\n",
       "    'children': [{'id': 7,\n",
       "      'name': 'set_field',\n",
       "      'indexes': [],\n",
       "      'children': []}]}]},\n",
       " 6: {'id': 6,\n",
       "  'name': 'create_field',\n",
       "  'indexes': [],\n",
       "  'children': [{'id': 7, 'name': 'set_field', 'indexes': [], 'children': []}]},\n",
       " 7: {'id': 7, 'name': 'set_field', 'indexes': [], 'children': []},\n",
       " 9: {'id': 9, 'name': 'add_char', 'indexes': [], 'children': []},\n",
       " 10: {'id': 10, 'name': 'add_char', 'indexes': [], 'children': []},\n",
       " 11: {'id': 11, 'name': 'add_char', 'indexes': [], 'children': []},\n",
       " 12: {'id': 12, 'name': 'add_char', 'indexes': [], 'children': []},\n",
       " 13: {'id': 13, 'name': 'set_field', 'indexes': [], 'children': []},\n",
       " 15: {'id': 15,\n",
       "  'name': 'create_field',\n",
       "  'indexes': [],\n",
       "  'children': [{'id': 16,\n",
       "    'name': 'set_field',\n",
       "    'indexes': [],\n",
       "    'children': []}]},\n",
       " 16: {'id': 16, 'name': 'set_field', 'indexes': [], 'children': []},\n",
       " 18: {'id': 18, 'name': 'add_char', 'indexes': [], 'children': []},\n",
       " 19: {'id': 19, 'name': 'add_char', 'indexes': [], 'children': []},\n",
       " 20: {'id': 20, 'name': 'add_char', 'indexes': [], 'children': []},\n",
       " 21: {'id': 21, 'name': 'set_field', 'indexes': [5, 6, 7], 'children': []},\n",
       " 23: {'id': 23,\n",
       "  'name': 'create_field',\n",
       "  'indexes': [],\n",
       "  'children': [{'id': 24,\n",
       "    'name': 'set_field',\n",
       "    'indexes': [],\n",
       "    'children': []}]},\n",
       " 24: {'id': 24, 'name': 'set_field', 'indexes': [], 'children': []},\n",
       " 26: {'id': 26, 'name': 'add_char', 'indexes': [], 'children': []},\n",
       " 27: {'id': 27, 'name': 'add_char', 'indexes': [], 'children': []},\n",
       " 28: {'id': 28, 'name': 'add_char', 'indexes': [], 'children': []},\n",
       " 29: {'id': 29, 'name': 'add_char', 'indexes': [], 'children': []},\n",
       " 30: {'id': 30,\n",
       "  'name': 'set_field',\n",
       "  'indexes': [9, 10, 11, 12],\n",
       "  'children': []},\n",
       " 32: {'id': 32,\n",
       "  'name': 'create_field',\n",
       "  'indexes': [],\n",
       "  'children': [{'id': 33,\n",
       "    'name': 'set_field',\n",
       "    'indexes': [],\n",
       "    'children': []}]},\n",
       " 33: {'id': 33, 'name': 'set_field', 'indexes': [], 'children': []},\n",
       " 35: {'id': 35, 'name': 'add_char', 'indexes': [], 'children': []},\n",
       " 36: {'id': 36, 'name': 'add_char', 'indexes': [], 'children': []},\n",
       " 37: {'id': 37, 'name': 'add_char', 'indexes': [], 'children': []},\n",
       " 38: {'id': 38, 'name': 'add_char', 'indexes': [], 'children': []},\n",
       " 39: {'id': 39,\n",
       "  'name': 'set_field',\n",
       "  'indexes': [14, 15, 16, 17],\n",
       "  'children': []},\n",
       " 41: {'id': 41,\n",
       "  'name': '<__run_exit_handlers>',\n",
       "  'indexes': [],\n",
       "  'children': [{'id': 42,\n",
       "    'name': '<__GI___call_tls_dtors>',\n",
       "    'indexes': [],\n",
       "    'children': []},\n",
       "   {'id': 43, 'name': '<__GI__exit>', 'indexes': [], 'children': []}]},\n",
       " 42: {'id': 42,\n",
       "  'name': '<__GI___call_tls_dtors>',\n",
       "  'indexes': [],\n",
       "  'children': []},\n",
       " 43: {'id': 43, 'name': '<__GI__exit>', 'indexes': [], 'children': []}}"
      ]
     },
     "execution_count": 478,
     "metadata": {},
     "output_type": "execute_result"
    }
   ],
   "source": [
    "csv_method_tree"
   ]
  },
  {
   "cell_type": "code",
   "execution_count": 479,
   "metadata": {
    "ExecuteTime": {
     "end_time": "2021-10-06T12:13:20.857765Z",
     "start_time": "2021-10-06T12:13:20.844939Z"
    }
   },
   "outputs": [],
   "source": [
    "def wrap_input(istr):\n",
    "    def extract_node(node, id):\n",
    "        symbol = str(node['id'])\n",
    "        children = node['children']\n",
    "        annotation = str(node['name'])\n",
    "        indexes = repr(tuple([istr[i] for i in node['indexes']]))\n",
    "        return \"%s %s\" % (annotation, indexes), children, ''\n",
    "    return extract_node"
   ]
  },
  {
   "cell_type": "code",
   "execution_count": 480,
   "metadata": {
    "ExecuteTime": {
     "end_time": "2021-10-06T12:13:20.868063Z",
     "start_time": "2021-10-06T12:13:20.862473Z"
    }
   },
   "outputs": [],
   "source": [
    "extract_node1 = wrap_input(csv_trace[0]['inputstr'])"
   ]
  },
  {
   "cell_type": "code",
   "execution_count": 481,
   "metadata": {
    "ExecuteTime": {
     "end_time": "2021-10-06T12:13:21.011276Z",
     "start_time": "2021-10-06T12:13:20.880641Z"
    },
    "scrolled": false
   },
   "outputs": [
    {
     "data": {
      "image/svg+xml": [
       "<?xml version=\"1.0\" encoding=\"UTF-8\" standalone=\"no\"?>\n",
       "<!DOCTYPE svg PUBLIC \"-//W3C//DTD SVG 1.1//EN\"\n",
       " \"http://www.w3.org/Graphics/SVG/1.1/DTD/svg11.dtd\">\n",
       "<!-- Generated by graphviz version 2.43.0 (0)\n",
       " -->\n",
       "<!-- Title: %3 Pages: 1 -->\n",
       "<svg width=\"2564pt\" height=\"329pt\"\n",
       " viewBox=\"0.00 0.00 2564.00 329.00\" xmlns=\"http://www.w3.org/2000/svg\" xmlns:xlink=\"http://www.w3.org/1999/xlink\">\n",
       "<g id=\"graph0\" class=\"graph\" transform=\"scale(1 1) rotate(0) translate(4 325)\">\n",
       "<title>%3</title>\n",
       "<polygon fill=\"white\" stroke=\"transparent\" points=\"-4,4 -4,-325 2560,-325 2560,4 -4,4\"/>\n",
       "<!-- 0 -->\n",
       "<g id=\"node1\" class=\"node\">\n",
       "<title>0</title>\n",
       "<text text-anchor=\"middle\" x=\"1279\" y=\"-309.8\" font-family=\"Times,serif\" font-size=\"14.00\">None ()</text>\n",
       "</g>\n",
       "<!-- 1 -->\n",
       "<g id=\"node2\" class=\"node\">\n",
       "<title>1</title>\n",
       "<text text-anchor=\"middle\" x=\"1232\" y=\"-258.8\" font-family=\"Times,serif\" font-size=\"14.00\">main ()</text>\n",
       "</g>\n",
       "<!-- 0&#45;&gt;1 -->\n",
       "<g id=\"edge1\" class=\"edge\">\n",
       "<title>0&#45;&gt;1</title>\n",
       "<path fill=\"none\" stroke=\"black\" d=\"M1272.46,-305.69C1265.52,-298.45 1254.34,-286.79 1245.49,-277.57\"/>\n",
       "<polygon fill=\"black\" stroke=\"black\" points=\"1247.93,-275.05 1238.48,-270.26 1242.88,-279.9 1247.93,-275.05\"/>\n",
       "</g>\n",
       "<!-- 40 -->\n",
       "<g id=\"node41\" class=\"node\">\n",
       "<title>40</title>\n",
       "<text text-anchor=\"middle\" x=\"1815\" y=\"-258.8\" font-family=\"Times,serif\" font-size=\"14.00\">&lt;__GI_exit&gt; ()</text>\n",
       "</g>\n",
       "<!-- 0&#45;&gt;40 -->\n",
       "<g id=\"edge40\" class=\"edge\">\n",
       "<title>0&#45;&gt;40</title>\n",
       "<path fill=\"none\" stroke=\"black\" d=\"M1305.58,-310.07C1387.29,-302.6 1636.32,-279.83 1753.19,-269.15\"/>\n",
       "<polygon fill=\"black\" stroke=\"black\" points=\"1753.77,-272.61 1763.41,-268.22 1753.13,-265.64 1753.77,-272.61\"/>\n",
       "</g>\n",
       "<!-- 2 -->\n",
       "<g id=\"node3\" class=\"node\">\n",
       "<title>2</title>\n",
       "<text text-anchor=\"middle\" x=\"1105\" y=\"-207.8\" font-family=\"Times,serif\" font-size=\"14.00\">csv_create_buffer ()</text>\n",
       "</g>\n",
       "<!-- 1&#45;&gt;2 -->\n",
       "<g id=\"edge2\" class=\"edge\">\n",
       "<title>1&#45;&gt;2</title>\n",
       "<path fill=\"none\" stroke=\"black\" d=\"M1215.14,-254.99C1193.79,-246.76 1156.76,-232.47 1131.59,-222.76\"/>\n",
       "<polygon fill=\"black\" stroke=\"black\" points=\"1132.52,-219.37 1121.93,-219.03 1130,-225.9 1132.52,-219.37\"/>\n",
       "</g>\n",
       "<!-- 3 -->\n",
       "<g id=\"node4\" class=\"node\">\n",
       "<title>3</title>\n",
       "<text text-anchor=\"middle\" x=\"1232\" y=\"-207.8\" font-family=\"Times,serif\" font-size=\"14.00\">csv_load ()</text>\n",
       "</g>\n",
       "<!-- 1&#45;&gt;3 -->\n",
       "<g id=\"edge3\" class=\"edge\">\n",
       "<title>1&#45;&gt;3</title>\n",
       "<path fill=\"none\" stroke=\"black\" d=\"M1232,-254.69C1232,-248.18 1232,-238.1 1232,-229.43\"/>\n",
       "<polygon fill=\"black\" stroke=\"black\" points=\"1235.5,-229.26 1232,-219.26 1228.5,-229.26 1235.5,-229.26\"/>\n",
       "</g>\n",
       "<!-- 4 -->\n",
       "<g id=\"node5\" class=\"node\">\n",
       "<title>4</title>\n",
       "<text text-anchor=\"middle\" x=\"137\" y=\"-156.8\" font-family=\"Times,serif\" font-size=\"14.00\">append_row ()</text>\n",
       "</g>\n",
       "<!-- 3&#45;&gt;4 -->\n",
       "<g id=\"edge4\" class=\"edge\">\n",
       "<title>3&#45;&gt;4</title>\n",
       "<path fill=\"none\" stroke=\"black\" d=\"M1193.78,-205C1190.48,-204.62 1187.18,-204.28 1184,-204 1086.09,-195.4 407.41,-171.04 198.23,-163.65\"/>\n",
       "<polygon fill=\"black\" stroke=\"black\" points=\"198.16,-160.14 188.05,-163.29 197.92,-167.14 198.16,-160.14\"/>\n",
       "</g>\n",
       "<!-- 8 -->\n",
       "<g id=\"node9\" class=\"node\">\n",
       "<title>8</title>\n",
       "<text text-anchor=\"middle\" x=\"409\" y=\"-156.8\" font-family=\"Times,serif\" font-size=\"14.00\">read_next_field (&#39;,&#39;,)</text>\n",
       "</g>\n",
       "<!-- 3&#45;&gt;8 -->\n",
       "<g id=\"edge8\" class=\"edge\">\n",
       "<title>3&#45;&gt;8</title>\n",
       "<path fill=\"none\" stroke=\"black\" d=\"M1193.78,-205.04C1190.48,-204.66 1187.18,-204.3 1184,-204 931.42,-180.01 631.14,-168.32 489.96,-163.81\"/>\n",
       "<polygon fill=\"black\" stroke=\"black\" points=\"489.77,-160.3 479.67,-163.49 489.55,-167.3 489.77,-160.3\"/>\n",
       "</g>\n",
       "<!-- 14 -->\n",
       "<g id=\"node15\" class=\"node\">\n",
       "<title>14</title>\n",
       "<text text-anchor=\"middle\" x=\"741\" y=\"-156.8\" font-family=\"Times,serif\" font-size=\"14.00\">append_field ()</text>\n",
       "</g>\n",
       "<!-- 3&#45;&gt;14 -->\n",
       "<g id=\"edge14\" class=\"edge\">\n",
       "<title>3&#45;&gt;14</title>\n",
       "<path fill=\"none\" stroke=\"black\" d=\"M1193.76,-205.19C1190.46,-204.77 1187.17,-204.37 1184,-204 1049.03,-188.39 890.45,-174.17 804.39,-166.8\"/>\n",
       "<polygon fill=\"black\" stroke=\"black\" points=\"804.52,-163.3 794.26,-165.93 803.93,-170.27 804.52,-163.3\"/>\n",
       "</g>\n",
       "<!-- 17 -->\n",
       "<g id=\"node18\" class=\"node\">\n",
       "<title>17</title>\n",
       "<text text-anchor=\"middle\" x=\"964\" y=\"-156.8\" font-family=\"Times,serif\" font-size=\"14.00\">read_next_field (&#39;,&#39;,)</text>\n",
       "</g>\n",
       "<!-- 3&#45;&gt;17 -->\n",
       "<g id=\"edge17\" class=\"edge\">\n",
       "<title>3&#45;&gt;17</title>\n",
       "<path fill=\"none\" stroke=\"black\" d=\"M1196.41,-203.99C1148.36,-195.21 1062.67,-179.54 1009.84,-169.88\"/>\n",
       "<polygon fill=\"black\" stroke=\"black\" points=\"1010.2,-166.39 999.74,-168.03 1008.94,-173.28 1010.2,-166.39\"/>\n",
       "</g>\n",
       "<!-- 22 -->\n",
       "<g id=\"node23\" class=\"node\">\n",
       "<title>22</title>\n",
       "<text text-anchor=\"middle\" x=\"1232\" y=\"-156.8\" font-family=\"Times,serif\" font-size=\"14.00\">append_field ()</text>\n",
       "</g>\n",
       "<!-- 3&#45;&gt;22 -->\n",
       "<g id=\"edge22\" class=\"edge\">\n",
       "<title>3&#45;&gt;22</title>\n",
       "<path fill=\"none\" stroke=\"black\" d=\"M1232,-203.69C1232,-197.18 1232,-187.1 1232,-178.43\"/>\n",
       "<polygon fill=\"black\" stroke=\"black\" points=\"1235.5,-178.26 1232,-168.26 1228.5,-178.26 1235.5,-178.26\"/>\n",
       "</g>\n",
       "<!-- 25 -->\n",
       "<g id=\"node26\" class=\"node\">\n",
       "<title>25</title>\n",
       "<text text-anchor=\"middle\" x=\"1487\" y=\"-156.8\" font-family=\"Times,serif\" font-size=\"14.00\">read_next_field (&#39;,&#39;,)</text>\n",
       "</g>\n",
       "<!-- 3&#45;&gt;25 -->\n",
       "<g id=\"edge25\" class=\"edge\">\n",
       "<title>3&#45;&gt;25</title>\n",
       "<path fill=\"none\" stroke=\"black\" d=\"M1265.86,-203.99C1311.49,-195.23 1392.78,-179.61 1443.07,-169.94\"/>\n",
       "<polygon fill=\"black\" stroke=\"black\" points=\"1443.84,-173.36 1453,-168.03 1442.52,-166.48 1443.84,-173.36\"/>\n",
       "</g>\n",
       "<!-- 31 -->\n",
       "<g id=\"node32\" class=\"node\">\n",
       "<title>31</title>\n",
       "<text text-anchor=\"middle\" x=\"1801\" y=\"-156.8\" font-family=\"Times,serif\" font-size=\"14.00\">append_field (&#39;1&#39;, &#39;9&#39;, &#39;9&#39;, &#39;7&#39;)</text>\n",
       "</g>\n",
       "<!-- 3&#45;&gt;31 -->\n",
       "<g id=\"edge31\" class=\"edge\">\n",
       "<title>3&#45;&gt;31</title>\n",
       "<path fill=\"none\" stroke=\"black\" d=\"M1270.22,-207.21C1360.71,-199.42 1589.87,-179.68 1715.46,-168.87\"/>\n",
       "<polygon fill=\"black\" stroke=\"black\" points=\"1715.77,-172.35 1725.43,-168.01 1715.17,-165.38 1715.77,-172.35\"/>\n",
       "</g>\n",
       "<!-- 34 -->\n",
       "<g id=\"node35\" class=\"node\">\n",
       "<title>34</title>\n",
       "<text text-anchor=\"middle\" x=\"2132\" y=\"-156.8\" font-family=\"Times,serif\" font-size=\"14.00\">read_next_field ()</text>\n",
       "</g>\n",
       "<!-- 3&#45;&gt;34 -->\n",
       "<g id=\"edge34\" class=\"edge\">\n",
       "<title>3&#45;&gt;34</title>\n",
       "<path fill=\"none\" stroke=\"black\" d=\"M1270.1,-208.43C1407.37,-200.95 1878.1,-175.32 2059.72,-165.44\"/>\n",
       "<polygon fill=\"black\" stroke=\"black\" points=\"2060.17,-168.92 2069.97,-164.88 2059.79,-161.93 2060.17,-168.92\"/>\n",
       "</g>\n",
       "<!-- 5 -->\n",
       "<g id=\"node6\" class=\"node\">\n",
       "<title>5</title>\n",
       "<text text-anchor=\"middle\" x=\"53\" y=\"-105.8\" font-family=\"Times,serif\" font-size=\"14.00\">append_field ()</text>\n",
       "</g>\n",
       "<!-- 4&#45;&gt;5 -->\n",
       "<g id=\"edge5\" class=\"edge\">\n",
       "<title>4&#45;&gt;5</title>\n",
       "<path fill=\"none\" stroke=\"black\" d=\"M125.67,-152.89C112.19,-145.03 89.45,-131.77 73,-122.16\"/>\n",
       "<polygon fill=\"black\" stroke=\"black\" points=\"74.55,-119.02 64.15,-117 71.02,-125.07 74.55,-119.02\"/>\n",
       "</g>\n",
       "<!-- 6 -->\n",
       "<g id=\"node7\" class=\"node\">\n",
       "<title>6</title>\n",
       "<text text-anchor=\"middle\" x=\"53\" y=\"-54.8\" font-family=\"Times,serif\" font-size=\"14.00\">create_field ()</text>\n",
       "</g>\n",
       "<!-- 5&#45;&gt;6 -->\n",
       "<g id=\"edge6\" class=\"edge\">\n",
       "<title>5&#45;&gt;6</title>\n",
       "<path fill=\"none\" stroke=\"black\" d=\"M53,-101.69C53,-95.18 53,-85.1 53,-76.43\"/>\n",
       "<polygon fill=\"black\" stroke=\"black\" points=\"56.5,-76.26 53,-66.26 49.5,-76.26 56.5,-76.26\"/>\n",
       "</g>\n",
       "<!-- 7 -->\n",
       "<g id=\"node8\" class=\"node\">\n",
       "<title>7</title>\n",
       "<text text-anchor=\"middle\" x=\"53\" y=\"-3.8\" font-family=\"Times,serif\" font-size=\"14.00\">set_field ()</text>\n",
       "</g>\n",
       "<!-- 6&#45;&gt;7 -->\n",
       "<g id=\"edge7\" class=\"edge\">\n",
       "<title>6&#45;&gt;7</title>\n",
       "<path fill=\"none\" stroke=\"black\" d=\"M53,-50.69C53,-44.18 53,-34.1 53,-25.43\"/>\n",
       "<polygon fill=\"black\" stroke=\"black\" points=\"56.5,-25.26 53,-15.26 49.5,-25.26 56.5,-25.26\"/>\n",
       "</g>\n",
       "<!-- 9 -->\n",
       "<g id=\"node10\" class=\"node\">\n",
       "<title>9</title>\n",
       "<text text-anchor=\"middle\" x=\"164\" y=\"-105.8\" font-family=\"Times,serif\" font-size=\"14.00\">add_char ()</text>\n",
       "</g>\n",
       "<!-- 8&#45;&gt;9 -->\n",
       "<g id=\"edge9\" class=\"edge\">\n",
       "<title>8&#45;&gt;9</title>\n",
       "<path fill=\"none\" stroke=\"black\" d=\"M376.47,-152.99C332.72,-144.24 254.85,-128.67 206.51,-119\"/>\n",
       "<polygon fill=\"black\" stroke=\"black\" points=\"207.16,-115.56 196.67,-117.03 205.79,-122.43 207.16,-115.56\"/>\n",
       "</g>\n",
       "<!-- 10 -->\n",
       "<g id=\"node11\" class=\"node\">\n",
       "<title>10</title>\n",
       "<text text-anchor=\"middle\" x=\"262\" y=\"-105.8\" font-family=\"Times,serif\" font-size=\"14.00\">add_char ()</text>\n",
       "</g>\n",
       "<!-- 8&#45;&gt;10 -->\n",
       "<g id=\"edge10\" class=\"edge\">\n",
       "<title>8&#45;&gt;10</title>\n",
       "<path fill=\"none\" stroke=\"black\" d=\"M389.48,-152.99C364.33,-144.61 320.39,-129.96 291.24,-120.25\"/>\n",
       "<polygon fill=\"black\" stroke=\"black\" points=\"292.19,-116.88 281.6,-117.03 289.98,-123.52 292.19,-116.88\"/>\n",
       "</g>\n",
       "<!-- 11 -->\n",
       "<g id=\"node12\" class=\"node\">\n",
       "<title>11</title>\n",
       "<text text-anchor=\"middle\" x=\"360\" y=\"-105.8\" font-family=\"Times,serif\" font-size=\"14.00\">add_char ()</text>\n",
       "</g>\n",
       "<!-- 8&#45;&gt;11 -->\n",
       "<g id=\"edge11\" class=\"edge\">\n",
       "<title>8&#45;&gt;11</title>\n",
       "<path fill=\"none\" stroke=\"black\" d=\"M402.19,-152.69C394.95,-145.45 383.29,-133.79 374.07,-124.57\"/>\n",
       "<polygon fill=\"black\" stroke=\"black\" points=\"376.3,-121.85 366.76,-117.26 371.35,-126.8 376.3,-121.85\"/>\n",
       "</g>\n",
       "<!-- 12 -->\n",
       "<g id=\"node13\" class=\"node\">\n",
       "<title>12</title>\n",
       "<text text-anchor=\"middle\" x=\"458\" y=\"-105.8\" font-family=\"Times,serif\" font-size=\"14.00\">add_char ()</text>\n",
       "</g>\n",
       "<!-- 8&#45;&gt;12 -->\n",
       "<g id=\"edge12\" class=\"edge\">\n",
       "<title>8&#45;&gt;12</title>\n",
       "<path fill=\"none\" stroke=\"black\" d=\"M415.81,-152.69C423.05,-145.45 434.71,-133.79 443.93,-124.57\"/>\n",
       "<polygon fill=\"black\" stroke=\"black\" points=\"446.65,-126.8 451.24,-117.26 441.7,-121.85 446.65,-126.8\"/>\n",
       "</g>\n",
       "<!-- 13 -->\n",
       "<g id=\"node14\" class=\"node\">\n",
       "<title>13</title>\n",
       "<text text-anchor=\"middle\" x=\"554\" y=\"-105.8\" font-family=\"Times,serif\" font-size=\"14.00\">set_field ()</text>\n",
       "</g>\n",
       "<!-- 8&#45;&gt;13 -->\n",
       "<g id=\"edge13\" class=\"edge\">\n",
       "<title>8&#45;&gt;13</title>\n",
       "<path fill=\"none\" stroke=\"black\" d=\"M428.25,-152.99C453.06,-144.61 496.41,-129.96 525.16,-120.25\"/>\n",
       "<polygon fill=\"black\" stroke=\"black\" points=\"526.31,-123.55 534.67,-117.03 524.07,-116.92 526.31,-123.55\"/>\n",
       "</g>\n",
       "<!-- 15 -->\n",
       "<g id=\"node16\" class=\"node\">\n",
       "<title>15</title>\n",
       "<text text-anchor=\"middle\" x=\"660\" y=\"-105.8\" font-family=\"Times,serif\" font-size=\"14.00\">create_field ()</text>\n",
       "</g>\n",
       "<!-- 14&#45;&gt;15 -->\n",
       "<g id=\"edge15\" class=\"edge\">\n",
       "<title>14&#45;&gt;15</title>\n",
       "<path fill=\"none\" stroke=\"black\" d=\"M730.08,-152.89C717.2,-145.1 695.56,-132.01 679.73,-122.43\"/>\n",
       "<polygon fill=\"black\" stroke=\"black\" points=\"681.12,-119.19 670.75,-117 677.5,-125.17 681.12,-119.19\"/>\n",
       "</g>\n",
       "<!-- 16 -->\n",
       "<g id=\"node17\" class=\"node\">\n",
       "<title>16</title>\n",
       "<text text-anchor=\"middle\" x=\"660\" y=\"-54.8\" font-family=\"Times,serif\" font-size=\"14.00\">set_field ()</text>\n",
       "</g>\n",
       "<!-- 15&#45;&gt;16 -->\n",
       "<g id=\"edge16\" class=\"edge\">\n",
       "<title>15&#45;&gt;16</title>\n",
       "<path fill=\"none\" stroke=\"black\" d=\"M660,-101.69C660,-95.18 660,-85.1 660,-76.43\"/>\n",
       "<polygon fill=\"black\" stroke=\"black\" points=\"663.5,-76.26 660,-66.26 656.5,-76.26 663.5,-76.26\"/>\n",
       "</g>\n",
       "<!-- 18 -->\n",
       "<g id=\"node19\" class=\"node\">\n",
       "<title>18</title>\n",
       "<text text-anchor=\"middle\" x=\"768\" y=\"-105.8\" font-family=\"Times,serif\" font-size=\"14.00\">add_char ()</text>\n",
       "</g>\n",
       "<!-- 17&#45;&gt;18 -->\n",
       "<g id=\"edge18\" class=\"edge\">\n",
       "<title>17&#45;&gt;18</title>\n",
       "<path fill=\"none\" stroke=\"black\" d=\"M937.97,-152.99C903.56,-144.39 842.76,-129.19 803.97,-119.49\"/>\n",
       "<polygon fill=\"black\" stroke=\"black\" points=\"804.69,-116.06 794.13,-117.03 802.99,-122.85 804.69,-116.06\"/>\n",
       "</g>\n",
       "<!-- 19 -->\n",
       "<g id=\"node20\" class=\"node\">\n",
       "<title>19</title>\n",
       "<text text-anchor=\"middle\" x=\"866\" y=\"-105.8\" font-family=\"Times,serif\" font-size=\"14.00\">add_char ()</text>\n",
       "</g>\n",
       "<!-- 17&#45;&gt;19 -->\n",
       "<g id=\"edge19\" class=\"edge\">\n",
       "<title>17&#45;&gt;19</title>\n",
       "<path fill=\"none\" stroke=\"black\" d=\"M950.78,-152.89C934.69,-144.85 907.28,-131.14 888,-121.5\"/>\n",
       "<polygon fill=\"black\" stroke=\"black\" points=\"889.52,-118.35 879.01,-117 886.39,-124.61 889.52,-118.35\"/>\n",
       "</g>\n",
       "<!-- 20 -->\n",
       "<g id=\"node21\" class=\"node\">\n",
       "<title>20</title>\n",
       "<text text-anchor=\"middle\" x=\"964\" y=\"-105.8\" font-family=\"Times,serif\" font-size=\"14.00\">add_char ()</text>\n",
       "</g>\n",
       "<!-- 17&#45;&gt;20 -->\n",
       "<g id=\"edge20\" class=\"edge\">\n",
       "<title>17&#45;&gt;20</title>\n",
       "<path fill=\"none\" stroke=\"black\" d=\"M964,-152.69C964,-146.18 964,-136.1 964,-127.43\"/>\n",
       "<polygon fill=\"black\" stroke=\"black\" points=\"967.5,-127.26 964,-117.26 960.5,-127.26 967.5,-127.26\"/>\n",
       "</g>\n",
       "<!-- 21 -->\n",
       "<g id=\"node22\" class=\"node\">\n",
       "<title>21</title>\n",
       "<text text-anchor=\"middle\" x=\"1093\" y=\"-105.8\" font-family=\"Times,serif\" font-size=\"14.00\">set_field (&#39;v&#39;, &#39;a&#39;, &#39;n&#39;)</text>\n",
       "</g>\n",
       "<!-- 17&#45;&gt;21 -->\n",
       "<g id=\"edge21\" class=\"edge\">\n",
       "<title>17&#45;&gt;21</title>\n",
       "<path fill=\"none\" stroke=\"black\" d=\"M981.13,-152.99C1002.91,-144.72 1040.76,-130.34 1066.33,-120.63\"/>\n",
       "<polygon fill=\"black\" stroke=\"black\" points=\"1067.69,-123.86 1075.8,-117.03 1065.21,-117.31 1067.69,-123.86\"/>\n",
       "</g>\n",
       "<!-- 23 -->\n",
       "<g id=\"node24\" class=\"node\">\n",
       "<title>23</title>\n",
       "<text text-anchor=\"middle\" x=\"1232\" y=\"-105.8\" font-family=\"Times,serif\" font-size=\"14.00\">create_field ()</text>\n",
       "</g>\n",
       "<!-- 22&#45;&gt;23 -->\n",
       "<g id=\"edge23\" class=\"edge\">\n",
       "<title>22&#45;&gt;23</title>\n",
       "<path fill=\"none\" stroke=\"black\" d=\"M1232,-152.69C1232,-146.18 1232,-136.1 1232,-127.43\"/>\n",
       "<polygon fill=\"black\" stroke=\"black\" points=\"1235.5,-127.26 1232,-117.26 1228.5,-127.26 1235.5,-127.26\"/>\n",
       "</g>\n",
       "<!-- 24 -->\n",
       "<g id=\"node25\" class=\"node\">\n",
       "<title>24</title>\n",
       "<text text-anchor=\"middle\" x=\"1232\" y=\"-54.8\" font-family=\"Times,serif\" font-size=\"14.00\">set_field ()</text>\n",
       "</g>\n",
       "<!-- 23&#45;&gt;24 -->\n",
       "<g id=\"edge24\" class=\"edge\">\n",
       "<title>23&#45;&gt;24</title>\n",
       "<path fill=\"none\" stroke=\"black\" d=\"M1232,-101.69C1232,-95.18 1232,-85.1 1232,-76.43\"/>\n",
       "<polygon fill=\"black\" stroke=\"black\" points=\"1235.5,-76.26 1232,-66.26 1228.5,-76.26 1235.5,-76.26\"/>\n",
       "</g>\n",
       "<!-- 26 -->\n",
       "<g id=\"node27\" class=\"node\">\n",
       "<title>26</title>\n",
       "<text text-anchor=\"middle\" x=\"1340\" y=\"-105.8\" font-family=\"Times,serif\" font-size=\"14.00\">add_char ()</text>\n",
       "</g>\n",
       "<!-- 25&#45;&gt;26 -->\n",
       "<g id=\"edge26\" class=\"edge\">\n",
       "<title>25&#45;&gt;26</title>\n",
       "<path fill=\"none\" stroke=\"black\" d=\"M1467.48,-152.99C1442.33,-144.61 1398.39,-129.96 1369.24,-120.25\"/>\n",
       "<polygon fill=\"black\" stroke=\"black\" points=\"1370.19,-116.88 1359.6,-117.03 1367.98,-123.52 1370.19,-116.88\"/>\n",
       "</g>\n",
       "<!-- 27 -->\n",
       "<g id=\"node28\" class=\"node\">\n",
       "<title>27</title>\n",
       "<text text-anchor=\"middle\" x=\"1438\" y=\"-105.8\" font-family=\"Times,serif\" font-size=\"14.00\">add_char ()</text>\n",
       "</g>\n",
       "<!-- 25&#45;&gt;27 -->\n",
       "<g id=\"edge27\" class=\"edge\">\n",
       "<title>25&#45;&gt;27</title>\n",
       "<path fill=\"none\" stroke=\"black\" d=\"M1480.19,-152.69C1472.95,-145.45 1461.29,-133.79 1452.07,-124.57\"/>\n",
       "<polygon fill=\"black\" stroke=\"black\" points=\"1454.3,-121.85 1444.76,-117.26 1449.35,-126.8 1454.3,-121.85\"/>\n",
       "</g>\n",
       "<!-- 28 -->\n",
       "<g id=\"node29\" class=\"node\">\n",
       "<title>28</title>\n",
       "<text text-anchor=\"middle\" x=\"1536\" y=\"-105.8\" font-family=\"Times,serif\" font-size=\"14.00\">add_char ()</text>\n",
       "</g>\n",
       "<!-- 25&#45;&gt;28 -->\n",
       "<g id=\"edge28\" class=\"edge\">\n",
       "<title>25&#45;&gt;28</title>\n",
       "<path fill=\"none\" stroke=\"black\" d=\"M1493.81,-152.69C1501.05,-145.45 1512.71,-133.79 1521.93,-124.57\"/>\n",
       "<polygon fill=\"black\" stroke=\"black\" points=\"1524.65,-126.8 1529.24,-117.26 1519.7,-121.85 1524.65,-126.8\"/>\n",
       "</g>\n",
       "<!-- 29 -->\n",
       "<g id=\"node30\" class=\"node\">\n",
       "<title>29</title>\n",
       "<text text-anchor=\"middle\" x=\"1634\" y=\"-105.8\" font-family=\"Times,serif\" font-size=\"14.00\">add_char ()</text>\n",
       "</g>\n",
       "<!-- 25&#45;&gt;29 -->\n",
       "<g id=\"edge29\" class=\"edge\">\n",
       "<title>25&#45;&gt;29</title>\n",
       "<path fill=\"none\" stroke=\"black\" d=\"M1506.52,-152.99C1531.67,-144.61 1575.61,-129.96 1604.76,-120.25\"/>\n",
       "<polygon fill=\"black\" stroke=\"black\" points=\"1606.02,-123.52 1614.4,-117.03 1603.81,-116.88 1606.02,-123.52\"/>\n",
       "</g>\n",
       "<!-- 30 -->\n",
       "<g id=\"node31\" class=\"node\">\n",
       "<title>30</title>\n",
       "<text text-anchor=\"middle\" x=\"1775\" y=\"-105.8\" font-family=\"Times,serif\" font-size=\"14.00\">set_field (&#39;F&#39;, &#39;o&#39;, &#39;r&#39;, &#39;d&#39;)</text>\n",
       "</g>\n",
       "<!-- 25&#45;&gt;30 -->\n",
       "<g id=\"edge30\" class=\"edge\">\n",
       "<title>25&#45;&gt;30</title>\n",
       "<path fill=\"none\" stroke=\"black\" d=\"M1525.24,-152.99C1577.1,-144.17 1669.74,-128.41 1726.44,-118.76\"/>\n",
       "<polygon fill=\"black\" stroke=\"black\" points=\"1727.33,-122.16 1736.6,-117.03 1726.15,-115.26 1727.33,-122.16\"/>\n",
       "</g>\n",
       "<!-- 32 -->\n",
       "<g id=\"node33\" class=\"node\">\n",
       "<title>32</title>\n",
       "<text text-anchor=\"middle\" x=\"1926\" y=\"-105.8\" font-family=\"Times,serif\" font-size=\"14.00\">create_field ()</text>\n",
       "</g>\n",
       "<!-- 31&#45;&gt;32 -->\n",
       "<g id=\"edge32\" class=\"edge\">\n",
       "<title>31&#45;&gt;32</title>\n",
       "<path fill=\"none\" stroke=\"black\" d=\"M1817.6,-152.99C1838.61,-144.76 1875.05,-130.47 1899.83,-120.76\"/>\n",
       "<polygon fill=\"black\" stroke=\"black\" points=\"1901.3,-123.94 1909.33,-117.03 1898.74,-117.42 1901.3,-123.94\"/>\n",
       "</g>\n",
       "<!-- 33 -->\n",
       "<g id=\"node34\" class=\"node\">\n",
       "<title>33</title>\n",
       "<text text-anchor=\"middle\" x=\"1926\" y=\"-54.8\" font-family=\"Times,serif\" font-size=\"14.00\">set_field ()</text>\n",
       "</g>\n",
       "<!-- 32&#45;&gt;33 -->\n",
       "<g id=\"edge33\" class=\"edge\">\n",
       "<title>32&#45;&gt;33</title>\n",
       "<path fill=\"none\" stroke=\"black\" d=\"M1926,-101.69C1926,-95.18 1926,-85.1 1926,-76.43\"/>\n",
       "<polygon fill=\"black\" stroke=\"black\" points=\"1929.5,-76.26 1926,-66.26 1922.5,-76.26 1929.5,-76.26\"/>\n",
       "</g>\n",
       "<!-- 35 -->\n",
       "<g id=\"node36\" class=\"node\">\n",
       "<title>35</title>\n",
       "<text text-anchor=\"middle\" x=\"2034\" y=\"-105.8\" font-family=\"Times,serif\" font-size=\"14.00\">add_char ()</text>\n",
       "</g>\n",
       "<!-- 34&#45;&gt;35 -->\n",
       "<g id=\"edge35\" class=\"edge\">\n",
       "<title>34&#45;&gt;35</title>\n",
       "<path fill=\"none\" stroke=\"black\" d=\"M2118.78,-152.89C2102.69,-144.85 2075.28,-131.14 2056,-121.5\"/>\n",
       "<polygon fill=\"black\" stroke=\"black\" points=\"2057.52,-118.35 2047.01,-117 2054.39,-124.61 2057.52,-118.35\"/>\n",
       "</g>\n",
       "<!-- 36 -->\n",
       "<g id=\"node37\" class=\"node\">\n",
       "<title>36</title>\n",
       "<text text-anchor=\"middle\" x=\"2132\" y=\"-105.8\" font-family=\"Times,serif\" font-size=\"14.00\">add_char ()</text>\n",
       "</g>\n",
       "<!-- 34&#45;&gt;36 -->\n",
       "<g id=\"edge36\" class=\"edge\">\n",
       "<title>34&#45;&gt;36</title>\n",
       "<path fill=\"none\" stroke=\"black\" d=\"M2132,-152.69C2132,-146.18 2132,-136.1 2132,-127.43\"/>\n",
       "<polygon fill=\"black\" stroke=\"black\" points=\"2135.5,-127.26 2132,-117.26 2128.5,-127.26 2135.5,-127.26\"/>\n",
       "</g>\n",
       "<!-- 37 -->\n",
       "<g id=\"node38\" class=\"node\">\n",
       "<title>37</title>\n",
       "<text text-anchor=\"middle\" x=\"2230\" y=\"-105.8\" font-family=\"Times,serif\" font-size=\"14.00\">add_char ()</text>\n",
       "</g>\n",
       "<!-- 34&#45;&gt;37 -->\n",
       "<g id=\"edge37\" class=\"edge\">\n",
       "<title>34&#45;&gt;37</title>\n",
       "<path fill=\"none\" stroke=\"black\" d=\"M2145.22,-152.89C2161.31,-144.85 2188.72,-131.14 2208,-121.5\"/>\n",
       "<polygon fill=\"black\" stroke=\"black\" points=\"2209.61,-124.61 2216.99,-117 2206.48,-118.35 2209.61,-124.61\"/>\n",
       "</g>\n",
       "<!-- 38 -->\n",
       "<g id=\"node39\" class=\"node\">\n",
       "<title>38</title>\n",
       "<text text-anchor=\"middle\" x=\"2328\" y=\"-105.8\" font-family=\"Times,serif\" font-size=\"14.00\">add_char ()</text>\n",
       "</g>\n",
       "<!-- 34&#45;&gt;38 -->\n",
       "<g id=\"edge38\" class=\"edge\">\n",
       "<title>34&#45;&gt;38</title>\n",
       "<path fill=\"none\" stroke=\"black\" d=\"M2158.03,-152.99C2192.44,-144.39 2253.24,-129.19 2292.03,-119.49\"/>\n",
       "<polygon fill=\"black\" stroke=\"black\" points=\"2293.01,-122.85 2301.87,-117.03 2291.31,-116.06 2293.01,-122.85\"/>\n",
       "</g>\n",
       "<!-- 39 -->\n",
       "<g id=\"node40\" class=\"node\">\n",
       "<title>39</title>\n",
       "<text text-anchor=\"middle\" x=\"2471\" y=\"-105.8\" font-family=\"Times,serif\" font-size=\"14.00\">set_field (&#39;E&#39;, &#39;3&#39;, &#39;5&#39;, &#39;0&#39;)</text>\n",
       "</g>\n",
       "<!-- 34&#45;&gt;39 -->\n",
       "<g id=\"edge39\" class=\"edge\">\n",
       "<title>34&#45;&gt;39</title>\n",
       "<path fill=\"none\" stroke=\"black\" d=\"M2177.02,-152.99C2238.56,-144.1 2348.91,-128.15 2415.5,-118.52\"/>\n",
       "<polygon fill=\"black\" stroke=\"black\" points=\"2416.4,-121.93 2425.8,-117.03 2415.4,-115 2416.4,-121.93\"/>\n",
       "</g>\n",
       "<!-- 41 -->\n",
       "<g id=\"node42\" class=\"node\">\n",
       "<title>41</title>\n",
       "<text text-anchor=\"middle\" x=\"2304\" y=\"-207.8\" font-family=\"Times,serif\" font-size=\"14.00\">&lt;__run_exit_handlers&gt; ()</text>\n",
       "</g>\n",
       "<!-- 40&#45;&gt;41 -->\n",
       "<g id=\"edge41\" class=\"edge\">\n",
       "<title>40&#45;&gt;41</title>\n",
       "<path fill=\"none\" stroke=\"black\" d=\"M1866.87,-256.3C1953.61,-247.61 2128.43,-230.09 2228.72,-220.04\"/>\n",
       "<polygon fill=\"black\" stroke=\"black\" points=\"2229.18,-223.52 2238.78,-219.04 2228.48,-216.55 2229.18,-223.52\"/>\n",
       "</g>\n",
       "<!-- 42 -->\n",
       "<g id=\"node43\" class=\"node\">\n",
       "<title>42</title>\n",
       "<text text-anchor=\"middle\" x=\"2304\" y=\"-156.8\" font-family=\"Times,serif\" font-size=\"14.00\">&lt;__GI___call_tls_dtors&gt; ()</text>\n",
       "</g>\n",
       "<!-- 41&#45;&gt;42 -->\n",
       "<g id=\"edge42\" class=\"edge\">\n",
       "<title>41&#45;&gt;42</title>\n",
       "<path fill=\"none\" stroke=\"black\" d=\"M2304,-203.69C2304,-197.18 2304,-187.1 2304,-178.43\"/>\n",
       "<polygon fill=\"black\" stroke=\"black\" points=\"2307.5,-178.26 2304,-168.26 2300.5,-178.26 2307.5,-178.26\"/>\n",
       "</g>\n",
       "<!-- 43 -->\n",
       "<g id=\"node44\" class=\"node\">\n",
       "<title>43</title>\n",
       "<text text-anchor=\"middle\" x=\"2469\" y=\"-156.8\" font-family=\"Times,serif\" font-size=\"14.00\">&lt;__GI__exit&gt; ()</text>\n",
       "</g>\n",
       "<!-- 41&#45;&gt;43 -->\n",
       "<g id=\"edge43\" class=\"edge\">\n",
       "<title>41&#45;&gt;43</title>\n",
       "<path fill=\"none\" stroke=\"black\" d=\"M2325.91,-203.99C2354.39,-195.54 2404.33,-180.71 2437.03,-170.99\"/>\n",
       "<polygon fill=\"black\" stroke=\"black\" points=\"2438.41,-174.24 2447,-168.03 2436.42,-167.53 2438.41,-174.24\"/>\n",
       "</g>\n",
       "</g>\n",
       "</svg>\n"
      ],
      "text/plain": [
       "<graphviz.dot.Digraph at 0x7f972cc59150>"
      ]
     },
     "execution_count": 481,
     "metadata": {},
     "output_type": "execute_result"
    }
   ],
   "source": [
    "display_tree(csv_method_tree[0], extract_node=extract_node1)"
   ]
  },
  {
   "cell_type": "markdown",
   "metadata": {},
   "source": [
    "Convert a list of indexes to a corresponding terminal tree node"
   ]
  },
  {
   "cell_type": "code",
   "execution_count": 482,
   "metadata": {
    "ExecuteTime": {
     "end_time": "2021-10-06T12:13:21.028910Z",
     "start_time": "2021-10-06T12:13:21.016807Z"
    }
   },
   "outputs": [],
   "source": [
    "def to_node(idxes, my_str):\n",
    "    assert len(idxes) == idxes[-1] - idxes[0] + 1\n",
    "    assert min(idxes) == idxes[0]\n",
    "    assert max(idxes) == idxes[-1]\n",
    "    return my_str[idxes[0]:idxes[-1] + 1], [], idxes[0], idxes[-1]"
   ]
  },
  {
   "cell_type": "code",
   "execution_count": 483,
   "metadata": {
    "ExecuteTime": {
     "end_time": "2021-10-06T12:13:21.048200Z",
     "start_time": "2021-10-06T12:13:21.035815Z"
    }
   },
   "outputs": [],
   "source": [
    "from operator import itemgetter\n",
    "import itertools as it"
   ]
  },
  {
   "cell_type": "markdown",
   "metadata": {},
   "source": [
    "We now need to identify the terminal (leaf) nodes. For that, we want to group contiguous letters in a node together, and call it a leaf node. So, convert our list of indexes to lists of contiguous indexes first, then convert them to terminal tree nodes. Then, return a set of one level child nodes with contiguous chars from indexes."
   ]
  },
  {
   "cell_type": "code",
   "execution_count": 484,
   "metadata": {
    "ExecuteTime": {
     "end_time": "2021-10-06T12:13:21.063026Z",
     "start_time": "2021-10-06T12:13:21.051224Z"
    }
   },
   "outputs": [],
   "source": [
    "def indexes_to_children(indexes, my_str):\n",
    "    lst = [\n",
    "        list(map(itemgetter(1), g))\n",
    "        for k, g in it.groupby(enumerate(indexes), lambda x: x[0] - x[1])\n",
    "    ]\n",
    "\n",
    "    return [to_node(n, my_str) for n in lst]"
   ]
  },
  {
   "cell_type": "markdown",
   "metadata": {},
   "source": [
    "Finally, we need to remove the overlap from the trees we have so far. The idea is that, given a node, each child node of that node should be uniquely responsible for a specified range of characters, with no overlap allowed between the children. The starting of the first child to ending of the last child will be the range of the node."
   ]
  },
  {
   "cell_type": "markdown",
   "metadata": {},
   "source": [
    "#### Removing Overlap\n",
    "If overlap is found, the tie is biased to the later child. That is, the later child gets to keep the range, and the former child is recursively traversed to remove overlaps from its children. If a child is completely included in the overlap, the child is excised. A few convenience functions first:"
   ]
  },
  {
   "cell_type": "code",
   "execution_count": 485,
   "metadata": {
    "ExecuteTime": {
     "end_time": "2021-10-06T12:13:21.083148Z",
     "start_time": "2021-10-06T12:13:21.067547Z"
    }
   },
   "outputs": [],
   "source": [
    "def does_item_overlap(r, r_):\n",
    "    (s, e), (s_, e_) = r, r_\n",
    "    return ((s_ >= s and s_ <= e) or \n",
    "            (e_ >= s and e_ <= e) or \n",
    "            (s_ <= s and e_ >= e))"
   ]
  },
  {
   "cell_type": "code",
   "execution_count": 486,
   "metadata": {
    "ExecuteTime": {
     "end_time": "2021-10-06T12:13:21.098835Z",
     "start_time": "2021-10-06T12:13:21.088472Z"
    }
   },
   "outputs": [],
   "source": [
    "def is_second_item_included(r, r_):\n",
    "    (s, e), (s_, e_) = r, r_\n",
    "    return (s_ >= s and e_ <= e)"
   ]
  },
  {
   "cell_type": "code",
   "execution_count": 487,
   "metadata": {
    "ExecuteTime": {
     "end_time": "2021-10-06T12:13:21.128008Z",
     "start_time": "2021-10-06T12:13:21.118919Z"
    }
   },
   "outputs": [],
   "source": [
    "def has_overlap(ranges, r_):\n",
    "    return {r for r in ranges if does_item_overlap(r, r_)}"
   ]
  },
  {
   "cell_type": "code",
   "execution_count": 488,
   "metadata": {
    "ExecuteTime": {
     "end_time": "2021-10-06T12:13:21.147331Z",
     "start_time": "2021-10-06T12:13:21.135061Z"
    }
   },
   "outputs": [],
   "source": [
    "def is_included(ranges, r_):\n",
    "    return {r for r in ranges if is_second_item_included(r, r_)}"
   ]
  },
  {
   "cell_type": "code",
   "execution_count": 489,
   "metadata": {
    "ExecuteTime": {
     "end_time": "2021-10-06T12:13:21.173030Z",
     "start_time": "2021-10-06T12:13:21.152591Z"
    }
   },
   "outputs": [],
   "source": [
    "def remove_overlap_from(original_node, orange):\n",
    "    node, children, start, end = original_node\n",
    "    new_children = []\n",
    "    if not children:\n",
    "        return None\n",
    "    start = -1\n",
    "    end = -1\n",
    "    for child in children:\n",
    "        if does_item_overlap(child[2:4], orange):\n",
    "            new_child = remove_overlap_from(child, orange)\n",
    "            if new_child: # and new_child[1]:\n",
    "                if start == -1: start = new_child[2]\n",
    "                new_children.append(new_child)\n",
    "                end = new_child[3]\n",
    "        else:\n",
    "            new_children.append(child)\n",
    "            if start == -1: start = child[2]\n",
    "            end = child[3]\n",
    "    if not new_children:\n",
    "        return None\n",
    "    assert start != -1\n",
    "    assert end != -1\n",
    "    return (node, new_children, start, end)"
   ]
  },
  {
   "cell_type": "markdown",
   "metadata": {},
   "source": [
    "Verify that there is no overlap."
   ]
  },
  {
   "cell_type": "code",
   "execution_count": 490,
   "metadata": {
    "ExecuteTime": {
     "end_time": "2021-10-06T12:13:21.204236Z",
     "start_time": "2021-10-06T12:13:21.178518Z"
    }
   },
   "outputs": [],
   "source": [
    "def no_overlap(arr):\n",
    "    my_ranges = {}\n",
    "    for a in arr:\n",
    "        _, _, s, e = a\n",
    "        r = (s, e)\n",
    "        included = is_included(my_ranges, r)\n",
    "        if included:\n",
    "            continue  # we will fill up the blanks later.\n",
    "        else:\n",
    "            overlaps = has_overlap(my_ranges, r) \n",
    "            if overlaps:\n",
    "                # unlike include which can happen only once in a set of\n",
    "                # non-overlapping ranges, overlaps can happen on multiple parts.\n",
    "                # The rule is, the later child gets the say. So, we recursively\n",
    "                # remove any ranges that overlap with the current one from the\n",
    "                # overlapped range.\n",
    "                assert len(overlaps) == 1\n",
    "                oitem = list(overlaps)[0]\n",
    "                v = remove_overlap_from(my_ranges[oitem], r)\n",
    "                del my_ranges[oitem]\n",
    "                if v:\n",
    "                    my_ranges[v[2:4]] = v\n",
    "                my_ranges[r] = a\n",
    "            else:\n",
    "                my_ranges[r] = a\n",
    "    res = my_ranges.values()\n",
    "    # assert no overlap, and order by starting index\n",
    "    s = sorted(res, key=lambda x: x[2])\n",
    "    return s"
   ]
  },
  {
   "cell_type": "markdown",
   "metadata": {},
   "source": [
    "#### Generate derivation tree\n",
    "\n",
    "Convert a mapped tree to the _fuzzingbook_ style derivation tree."
   ]
  },
  {
   "cell_type": "code",
   "execution_count": 491,
   "metadata": {
    "ExecuteTime": {
     "end_time": "2021-10-06T12:13:21.238277Z",
     "start_time": "2021-10-06T12:13:21.211355Z"
    }
   },
   "outputs": [],
   "source": [
    "def to_tree(node, my_str):\n",
    "    method_name = (\"<%s>\" % node['name']) if node['name'] is not None else '<START>'\n",
    "    indexes = node['indexes']\n",
    "    node_children = [to_tree(c, my_str) for c in node.get('children', [])]\n",
    "    idx_children = indexes_to_children(indexes, my_str)\n",
    "    children = no_overlap([c for c in node_children if c is not None] + idx_children)\n",
    "    if not children:\n",
    "        return None\n",
    "    start_idx = children[0][2]\n",
    "    end_idx = children[-1][3]\n",
    "    si = start_idx\n",
    "    my_children = []\n",
    "    # FILL IN chars that we did not compare. This is likely due to an i + n\n",
    "    # instruction.\n",
    "    for c in children:\n",
    "        if c[2] != si:\n",
    "            sbs = my_str[si: c[2]]\n",
    "            my_children.append((sbs, [], si, c[2] - 1))\n",
    "        my_children.append(c)\n",
    "        si = c[3] + 1\n",
    "\n",
    "    m = (method_name, my_children, start_idx, end_idx)\n",
    "    return m"
   ]
  },
  {
   "cell_type": "code",
   "execution_count": 492,
   "metadata": {
    "ExecuteTime": {
     "end_time": "2021-10-06T12:13:21.257228Z",
     "start_time": "2021-10-06T12:13:21.245619Z"
    }
   },
   "outputs": [],
   "source": [
    "def is_nt(v):\n",
    "    return len(v) > 1 and (v[0], v[-1]) == ('<', '>')"
   ]
  },
  {
   "cell_type": "code",
   "execution_count": 493,
   "metadata": {
    "ExecuteTime": {
     "end_time": "2021-10-06T12:13:21.279768Z",
     "start_time": "2021-10-06T12:13:21.266193Z"
    }
   },
   "outputs": [],
   "source": [
    "def tree_to_str(tree): # Non recursive\n",
    "    expanded = []\n",
    "    to_expand = [tree]\n",
    "    while to_expand:\n",
    "        (key, children, *rest), *to_expand = to_expand\n",
    "        if is_nt(key):\n",
    "            to_expand = children + to_expand\n",
    "        else:\n",
    "            assert not children\n",
    "            expanded.append(key)\n",
    "    return ''.join(expanded)"
   ]
  },
  {
   "cell_type": "code",
   "execution_count": 494,
   "metadata": {
    "ExecuteTime": {
     "end_time": "2021-10-06T12:13:21.424352Z",
     "start_time": "2021-10-06T12:13:21.284991Z"
    },
    "scrolled": false
   },
   "outputs": [
    {
     "data": {
      "image/svg+xml": [
       "<?xml version=\"1.0\" encoding=\"UTF-8\" standalone=\"no\"?>\n",
       "<!DOCTYPE svg PUBLIC \"-//W3C//DTD SVG 1.1//EN\"\n",
       " \"http://www.w3.org/Graphics/SVG/1.1/DTD/svg11.dtd\">\n",
       "<!-- Generated by graphviz version 2.43.0 (0)\n",
       " -->\n",
       "<!-- Title: %3 Pages: 1 -->\n",
       "<svg width=\"727pt\" height=\"278pt\"\n",
       " viewBox=\"0.00 0.00 727.00 278.00\" xmlns=\"http://www.w3.org/2000/svg\" xmlns:xlink=\"http://www.w3.org/1999/xlink\">\n",
       "<g id=\"graph0\" class=\"graph\" transform=\"scale(1 1) rotate(0) translate(4 274)\">\n",
       "<title>%3</title>\n",
       "<polygon fill=\"white\" stroke=\"transparent\" points=\"-4,4 -4,-274 723,-274 723,4 -4,4\"/>\n",
       "<!-- 0 -->\n",
       "<g id=\"node1\" class=\"node\">\n",
       "<title>0</title>\n",
       "<text text-anchor=\"middle\" x=\"350.5\" y=\"-258.8\" font-family=\"Times,serif\" font-size=\"14.00\">&lt;START&gt;</text>\n",
       "</g>\n",
       "<!-- 1 -->\n",
       "<g id=\"node2\" class=\"node\">\n",
       "<title>1</title>\n",
       "<text text-anchor=\"middle\" x=\"350.5\" y=\"-207.8\" font-family=\"Times,serif\" font-size=\"14.00\">&lt;main&gt;</text>\n",
       "</g>\n",
       "<!-- 0&#45;&gt;1 -->\n",
       "<g id=\"edge1\" class=\"edge\">\n",
       "<title>0&#45;&gt;1</title>\n",
       "<path fill=\"none\" stroke=\"black\" d=\"M350.5,-254.69C350.5,-248.18 350.5,-238.1 350.5,-229.43\"/>\n",
       "<polygon fill=\"black\" stroke=\"black\" points=\"354,-229.26 350.5,-219.26 347,-229.26 354,-229.26\"/>\n",
       "</g>\n",
       "<!-- 2 -->\n",
       "<g id=\"node3\" class=\"node\">\n",
       "<title>2</title>\n",
       "<text text-anchor=\"middle\" x=\"350.5\" y=\"-156.8\" font-family=\"Times,serif\" font-size=\"14.00\">&lt;csv_load&gt;</text>\n",
       "</g>\n",
       "<!-- 1&#45;&gt;2 -->\n",
       "<g id=\"edge2\" class=\"edge\">\n",
       "<title>1&#45;&gt;2</title>\n",
       "<path fill=\"none\" stroke=\"black\" d=\"M350.5,-203.69C350.5,-197.18 350.5,-187.1 350.5,-178.43\"/>\n",
       "<polygon fill=\"black\" stroke=\"black\" points=\"354,-178.26 350.5,-168.26 347,-178.26 354,-178.26\"/>\n",
       "</g>\n",
       "<!-- 3 -->\n",
       "<g id=\"node4\" class=\"node\">\n",
       "<title>3</title>\n",
       "<text text-anchor=\"middle\" x=\"57.5\" y=\"-105.8\" font-family=\"Times,serif\" font-size=\"14.00\">&lt;append_field&gt;</text>\n",
       "</g>\n",
       "<!-- 2&#45;&gt;3 -->\n",
       "<g id=\"edge3\" class=\"edge\">\n",
       "<title>2&#45;&gt;3</title>\n",
       "<path fill=\"none\" stroke=\"black\" d=\"M311.59,-152.99C258.73,-144.15 164.2,-128.34 106.54,-118.7\"/>\n",
       "<polygon fill=\"black\" stroke=\"black\" points=\"107.01,-115.23 96.57,-117.03 105.85,-122.14 107.01,-115.23\"/>\n",
       "</g>\n",
       "<!-- 5 -->\n",
       "<g id=\"node6\" class=\"node\">\n",
       "<title>5</title>\n",
       "<text text-anchor=\"middle\" x=\"199.5\" y=\"-105.8\" font-family=\"Times,serif\" font-size=\"14.00\">&lt;read_next_field&gt;</text>\n",
       "</g>\n",
       "<!-- 2&#45;&gt;5 -->\n",
       "<g id=\"edge5\" class=\"edge\">\n",
       "<title>2&#45;&gt;5</title>\n",
       "<path fill=\"none\" stroke=\"black\" d=\"M330.45,-152.99C304.61,-144.61 259.47,-129.96 229.53,-120.25\"/>\n",
       "<polygon fill=\"black\" stroke=\"black\" points=\"230.23,-116.79 219.63,-117.03 228.07,-123.45 230.23,-116.79\"/>\n",
       "</g>\n",
       "<!-- 7 -->\n",
       "<g id=\"node8\" class=\"node\">\n",
       "<title>7</title>\n",
       "<text text-anchor=\"middle\" x=\"350.5\" y=\"-105.8\" font-family=\"Times,serif\" font-size=\"14.00\">&lt;read_next_field&gt;</text>\n",
       "</g>\n",
       "<!-- 2&#45;&gt;7 -->\n",
       "<g id=\"edge7\" class=\"edge\">\n",
       "<title>2&#45;&gt;7</title>\n",
       "<path fill=\"none\" stroke=\"black\" d=\"M350.5,-152.69C350.5,-146.18 350.5,-136.1 350.5,-127.43\"/>\n",
       "<polygon fill=\"black\" stroke=\"black\" points=\"354,-127.26 350.5,-117.26 347,-127.26 354,-127.26\"/>\n",
       "</g>\n",
       "<!-- 11 -->\n",
       "<g id=\"node12\" class=\"node\">\n",
       "<title>11</title>\n",
       "<text text-anchor=\"middle\" x=\"501.5\" y=\"-105.8\" font-family=\"Times,serif\" font-size=\"14.00\">&lt;read_next_field&gt;</text>\n",
       "</g>\n",
       "<!-- 2&#45;&gt;11 -->\n",
       "<g id=\"edge11\" class=\"edge\">\n",
       "<title>2&#45;&gt;11</title>\n",
       "<path fill=\"none\" stroke=\"black\" d=\"M370.55,-152.99C396.39,-144.61 441.53,-129.96 471.47,-120.25\"/>\n",
       "<polygon fill=\"black\" stroke=\"black\" points=\"472.93,-123.45 481.37,-117.03 470.77,-116.79 472.93,-123.45\"/>\n",
       "</g>\n",
       "<!-- 15 -->\n",
       "<g id=\"node16\" class=\"node\">\n",
       "<title>15</title>\n",
       "<text text-anchor=\"middle\" x=\"652.5\" y=\"-105.8\" font-family=\"Times,serif\" font-size=\"14.00\">&lt;read_next_field&gt;</text>\n",
       "</g>\n",
       "<!-- 2&#45;&gt;15 -->\n",
       "<g id=\"edge15\" class=\"edge\">\n",
       "<title>2&#45;&gt;15</title>\n",
       "<path fill=\"none\" stroke=\"black\" d=\"M390.6,-152.99C445.21,-144.13 542.93,-128.28 602.32,-118.64\"/>\n",
       "<polygon fill=\"black\" stroke=\"black\" points=\"602.92,-122.09 612.23,-117.03 601.8,-115.18 602.92,-122.09\"/>\n",
       "</g>\n",
       "<!-- 4 -->\n",
       "<g id=\"node5\" class=\"node\">\n",
       "<title>4</title>\n",
       "<text text-anchor=\"middle\" x=\"57.5\" y=\"-54.8\" font-family=\"Times,serif\" font-size=\"14.00\">1997</text>\n",
       "</g>\n",
       "<!-- 3&#45;&gt;4 -->\n",
       "<g id=\"edge4\" class=\"edge\">\n",
       "<title>3&#45;&gt;4</title>\n",
       "<path fill=\"none\" stroke=\"black\" d=\"M57.5,-101.69C57.5,-95.18 57.5,-85.1 57.5,-76.43\"/>\n",
       "<polygon fill=\"black\" stroke=\"black\" points=\"61,-76.26 57.5,-66.26 54,-76.26 61,-76.26\"/>\n",
       "</g>\n",
       "<!-- 6 -->\n",
       "<g id=\"node7\" class=\"node\">\n",
       "<title>6</title>\n",
       "<text text-anchor=\"middle\" x=\"199.5\" y=\"-54.8\" font-family=\"Times,serif\" font-size=\"14.00\">,</text>\n",
       "</g>\n",
       "<!-- 5&#45;&gt;6 -->\n",
       "<g id=\"edge6\" class=\"edge\">\n",
       "<title>5&#45;&gt;6</title>\n",
       "<path fill=\"none\" stroke=\"black\" d=\"M199.5,-101.69C199.5,-95.18 199.5,-85.1 199.5,-76.43\"/>\n",
       "<polygon fill=\"black\" stroke=\"black\" points=\"203,-76.26 199.5,-66.26 196,-76.26 203,-76.26\"/>\n",
       "</g>\n",
       "<!-- 8 -->\n",
       "<g id=\"node9\" class=\"node\">\n",
       "<title>8</title>\n",
       "<text text-anchor=\"middle\" x=\"325.5\" y=\"-54.8\" font-family=\"Times,serif\" font-size=\"14.00\">&lt;set_field&gt;</text>\n",
       "</g>\n",
       "<!-- 7&#45;&gt;8 -->\n",
       "<g id=\"edge8\" class=\"edge\">\n",
       "<title>7&#45;&gt;8</title>\n",
       "<path fill=\"none\" stroke=\"black\" d=\"M347.02,-101.69C343.55,-94.88 338.1,-84.19 333.55,-75.27\"/>\n",
       "<polygon fill=\"black\" stroke=\"black\" points=\"336.61,-73.57 328.95,-66.26 330.37,-76.75 336.61,-73.57\"/>\n",
       "</g>\n",
       "<!-- 10 -->\n",
       "<g id=\"node11\" class=\"node\">\n",
       "<title>10</title>\n",
       "<text text-anchor=\"middle\" x=\"388.5\" y=\"-54.8\" font-family=\"Times,serif\" font-size=\"14.00\">,</text>\n",
       "</g>\n",
       "<!-- 7&#45;&gt;10 -->\n",
       "<g id=\"edge10\" class=\"edge\">\n",
       "<title>7&#45;&gt;10</title>\n",
       "<path fill=\"none\" stroke=\"black\" d=\"M355.78,-101.69C361.9,-93.8 372.08,-80.67 379.46,-71.15\"/>\n",
       "<polygon fill=\"black\" stroke=\"black\" points=\"382.3,-73.21 385.66,-63.16 376.77,-68.92 382.3,-73.21\"/>\n",
       "</g>\n",
       "<!-- 9 -->\n",
       "<g id=\"node10\" class=\"node\">\n",
       "<title>9</title>\n",
       "<text text-anchor=\"middle\" x=\"325.5\" y=\"-3.8\" font-family=\"Times,serif\" font-size=\"14.00\">van</text>\n",
       "</g>\n",
       "<!-- 8&#45;&gt;9 -->\n",
       "<g id=\"edge9\" class=\"edge\">\n",
       "<title>8&#45;&gt;9</title>\n",
       "<path fill=\"none\" stroke=\"black\" d=\"M325.5,-50.69C325.5,-44.18 325.5,-34.1 325.5,-25.43\"/>\n",
       "<polygon fill=\"black\" stroke=\"black\" points=\"329,-25.26 325.5,-15.26 322,-25.26 329,-25.26\"/>\n",
       "</g>\n",
       "<!-- 12 -->\n",
       "<g id=\"node13\" class=\"node\">\n",
       "<title>12</title>\n",
       "<text text-anchor=\"middle\" x=\"463.5\" y=\"-54.8\" font-family=\"Times,serif\" font-size=\"14.00\">&lt;set_field&gt;</text>\n",
       "</g>\n",
       "<!-- 11&#45;&gt;12 -->\n",
       "<g id=\"edge12\" class=\"edge\">\n",
       "<title>11&#45;&gt;12</title>\n",
       "<path fill=\"none\" stroke=\"black\" d=\"M496.22,-101.69C490.77,-94.67 482.11,-83.49 475.06,-74.41\"/>\n",
       "<polygon fill=\"black\" stroke=\"black\" points=\"477.63,-72.01 468.74,-66.26 472.1,-76.3 477.63,-72.01\"/>\n",
       "</g>\n",
       "<!-- 14 -->\n",
       "<g id=\"node15\" class=\"node\">\n",
       "<title>14</title>\n",
       "<text text-anchor=\"middle\" x=\"526.5\" y=\"-54.8\" font-family=\"Times,serif\" font-size=\"14.00\">,</text>\n",
       "</g>\n",
       "<!-- 11&#45;&gt;14 -->\n",
       "<g id=\"edge14\" class=\"edge\">\n",
       "<title>11&#45;&gt;14</title>\n",
       "<path fill=\"none\" stroke=\"black\" d=\"M504.98,-101.69C508.68,-94.43 514.65,-82.73 519.36,-73.49\"/>\n",
       "<polygon fill=\"black\" stroke=\"black\" points=\"522.54,-74.97 523.96,-64.47 516.3,-71.79 522.54,-74.97\"/>\n",
       "</g>\n",
       "<!-- 13 -->\n",
       "<g id=\"node14\" class=\"node\">\n",
       "<title>13</title>\n",
       "<text text-anchor=\"middle\" x=\"463.5\" y=\"-3.8\" font-family=\"Times,serif\" font-size=\"14.00\">Ford</text>\n",
       "</g>\n",
       "<!-- 12&#45;&gt;13 -->\n",
       "<g id=\"edge13\" class=\"edge\">\n",
       "<title>12&#45;&gt;13</title>\n",
       "<path fill=\"none\" stroke=\"black\" d=\"M463.5,-50.69C463.5,-44.18 463.5,-34.1 463.5,-25.43\"/>\n",
       "<polygon fill=\"black\" stroke=\"black\" points=\"467,-25.26 463.5,-15.26 460,-25.26 467,-25.26\"/>\n",
       "</g>\n",
       "<!-- 16 -->\n",
       "<g id=\"node17\" class=\"node\">\n",
       "<title>16</title>\n",
       "<text text-anchor=\"middle\" x=\"652.5\" y=\"-54.8\" font-family=\"Times,serif\" font-size=\"14.00\">&lt;set_field&gt;</text>\n",
       "</g>\n",
       "<!-- 15&#45;&gt;16 -->\n",
       "<g id=\"edge16\" class=\"edge\">\n",
       "<title>15&#45;&gt;16</title>\n",
       "<path fill=\"none\" stroke=\"black\" d=\"M652.5,-101.69C652.5,-95.18 652.5,-85.1 652.5,-76.43\"/>\n",
       "<polygon fill=\"black\" stroke=\"black\" points=\"656,-76.26 652.5,-66.26 649,-76.26 656,-76.26\"/>\n",
       "</g>\n",
       "<!-- 17 -->\n",
       "<g id=\"node18\" class=\"node\">\n",
       "<title>17</title>\n",
       "<text text-anchor=\"middle\" x=\"652.5\" y=\"-3.8\" font-family=\"Times,serif\" font-size=\"14.00\">E350</text>\n",
       "</g>\n",
       "<!-- 16&#45;&gt;17 -->\n",
       "<g id=\"edge17\" class=\"edge\">\n",
       "<title>16&#45;&gt;17</title>\n",
       "<path fill=\"none\" stroke=\"black\" d=\"M652.5,-50.69C652.5,-44.18 652.5,-34.1 652.5,-25.43\"/>\n",
       "<polygon fill=\"black\" stroke=\"black\" points=\"656,-25.26 652.5,-15.26 649,-25.26 656,-25.26\"/>\n",
       "</g>\n",
       "</g>\n",
       "</svg>\n"
      ],
      "text/plain": [
       "<graphviz.dot.Digraph at 0x7f972cc9fad0>"
      ]
     },
     "execution_count": 494,
     "metadata": {},
     "output_type": "execute_result"
    }
   ],
   "source": [
    "display_tree(to_tree(csv_method_tree[0], csv_trace[0]['inputstr']))"
   ]
  },
  {
   "cell_type": "markdown",
   "metadata": {},
   "source": [
    "#### More tree examples"
   ]
  },
  {
   "cell_type": "code",
   "execution_count": 495,
   "metadata": {
    "ExecuteTime": {
     "end_time": "2021-10-06T12:13:21.468201Z",
     "start_time": "2021-10-06T12:13:21.433968Z"
    }
   },
   "outputs": [],
   "source": [
    "import jsonpickle\n",
    "\n",
    "def generate_trace(inps, source, flag=None):\n",
    "    traces = []\n",
    "    for inp in inps:\n",
    "        arg0 = \"\\\"py arg0='%s'\\\"\" % inp\n",
    "        arg1 = '\\'py arg1=\"%s\"\\'' % source\n",
    "        with open(f'inp.0.txt', 'w+') as f:\n",
    "            print(inp, file=f)\n",
    "\n",
    "        if not flag:\n",
    "            !gcc -g {source}\n",
    "        else:\n",
    "            !gcc -g {source} {flag}\n",
    "        !gdb --batch-silent -ex {arg0} -ex {arg1} -x BMiner.py\n",
    "    \n",
    "        with open(f'tree', 'rb') as f:\n",
    "            traces.append((jsonpickle.decode(f.read())))\n",
    "    return traces"
   ]
  },
  {
   "cell_type": "code",
   "execution_count": 496,
   "metadata": {
    "ExecuteTime": {
     "end_time": "2021-10-06T12:13:21.485586Z",
     "start_time": "2021-10-06T12:13:21.473330Z"
    }
   },
   "outputs": [],
   "source": [
    "def generate_trees_from_trace(call_traces):\n",
    "    my_trees = []\n",
    "    for call_trace in call_traces:\n",
    "        method_map = call_trace['method_map']\n",
    "\n",
    "        first, method_tree = reconstruct_method_tree(method_map)\n",
    "        comparisons = call_trace['comparisons']\n",
    "        attach_comparisons(method_tree, last_comparisons(comparisons))\n",
    "\n",
    "        my_str = call_trace['inputstr']\n",
    "        tree = to_tree(method_tree[first], my_str)\n",
    "        print(my_str)\n",
    "        display(display_tree(tree))"
   ]
  },
  {
   "cell_type": "code",
   "execution_count": 497,
   "metadata": {
    "ExecuteTime": {
     "end_time": "2021-10-06T12:13:21.502741Z",
     "start_time": "2021-10-06T12:13:21.491278Z"
    }
   },
   "outputs": [],
   "source": [
    "from fuzzingbook.GrammarMiner import URLS_X, display_tree"
   ]
  },
  {
   "cell_type": "code",
   "execution_count": 498,
   "metadata": {
    "ExecuteTime": {
     "end_time": "2021-10-06T12:16:26.437241Z",
     "start_time": "2021-10-06T12:13:21.508337Z"
    },
    "scrolled": true
   },
   "outputs": [],
   "source": [
    "inps = [\n",
    "    '34+56',\n",
    "    '((1))',\n",
    "    '1*(5)+(7)',\n",
    "    '555+(234-445)',\n",
    "    '1-(41/2)', '12+34']\n",
    "call_traces = generate_trace(inps, 'subject/calc/calc.c')"
   ]
  },
  {
   "cell_type": "code",
   "execution_count": 499,
   "metadata": {
    "ExecuteTime": {
     "end_time": "2021-10-06T12:16:26.729689Z",
     "start_time": "2021-10-06T12:16:26.443312Z"
    },
    "scrolled": false
   },
   "outputs": [
    {
     "name": "stdout",
     "output_type": "stream",
     "text": [
      "34+56\n"
     ]
    },
    {
     "data": {
      "image/svg+xml": [
       "<?xml version=\"1.0\" encoding=\"UTF-8\" standalone=\"no\"?>\n",
       "<!DOCTYPE svg PUBLIC \"-//W3C//DTD SVG 1.1//EN\"\n",
       " \"http://www.w3.org/Graphics/SVG/1.1/DTD/svg11.dtd\">\n",
       "<!-- Generated by graphviz version 2.43.0 (0)\n",
       " -->\n",
       "<!-- Title: %3 Pages: 1 -->\n",
       "<svg width=\"263pt\" height=\"227pt\"\n",
       " viewBox=\"0.00 0.00 263.00 227.00\" xmlns=\"http://www.w3.org/2000/svg\" xmlns:xlink=\"http://www.w3.org/1999/xlink\">\n",
       "<g id=\"graph0\" class=\"graph\" transform=\"scale(1 1) rotate(0) translate(4 223)\">\n",
       "<title>%3</title>\n",
       "<polygon fill=\"white\" stroke=\"transparent\" points=\"-4,4 -4,-223 259,-223 259,4 -4,4\"/>\n",
       "<!-- 0 -->\n",
       "<g id=\"node1\" class=\"node\">\n",
       "<title>0</title>\n",
       "<text text-anchor=\"middle\" x=\"127.5\" y=\"-207.8\" font-family=\"Times,serif\" font-size=\"14.00\">&lt;START&gt;</text>\n",
       "</g>\n",
       "<!-- 1 -->\n",
       "<g id=\"node2\" class=\"node\">\n",
       "<title>1</title>\n",
       "<text text-anchor=\"middle\" x=\"127.5\" y=\"-156.8\" font-family=\"Times,serif\" font-size=\"14.00\">&lt;main&gt;</text>\n",
       "</g>\n",
       "<!-- 0&#45;&gt;1 -->\n",
       "<g id=\"edge1\" class=\"edge\">\n",
       "<title>0&#45;&gt;1</title>\n",
       "<path fill=\"none\" stroke=\"black\" d=\"M127.5,-203.69C127.5,-197.18 127.5,-187.1 127.5,-178.43\"/>\n",
       "<polygon fill=\"black\" stroke=\"black\" points=\"131,-178.26 127.5,-168.26 124,-178.26 131,-178.26\"/>\n",
       "</g>\n",
       "<!-- 2 -->\n",
       "<g id=\"node3\" class=\"node\">\n",
       "<title>2</title>\n",
       "<text text-anchor=\"middle\" x=\"127.5\" y=\"-105.8\" font-family=\"Times,serif\" font-size=\"14.00\">&lt;parse_expr&gt;</text>\n",
       "</g>\n",
       "<!-- 1&#45;&gt;2 -->\n",
       "<g id=\"edge2\" class=\"edge\">\n",
       "<title>1&#45;&gt;2</title>\n",
       "<path fill=\"none\" stroke=\"black\" d=\"M127.5,-152.69C127.5,-146.18 127.5,-136.1 127.5,-127.43\"/>\n",
       "<polygon fill=\"black\" stroke=\"black\" points=\"131,-127.26 127.5,-117.26 124,-127.26 131,-127.26\"/>\n",
       "</g>\n",
       "<!-- 3 -->\n",
       "<g id=\"node4\" class=\"node\">\n",
       "<title>3</title>\n",
       "<text text-anchor=\"middle\" x=\"51.5\" y=\"-54.8\" font-family=\"Times,serif\" font-size=\"14.00\">&lt;parse_num&gt;</text>\n",
       "</g>\n",
       "<!-- 2&#45;&gt;3 -->\n",
       "<g id=\"edge3\" class=\"edge\">\n",
       "<title>2&#45;&gt;3</title>\n",
       "<path fill=\"none\" stroke=\"black\" d=\"M117.25,-101.89C105.17,-94.1 84.87,-81.01 70.01,-71.43\"/>\n",
       "<polygon fill=\"black\" stroke=\"black\" points=\"71.89,-68.48 61.59,-66 68.1,-74.36 71.89,-68.48\"/>\n",
       "</g>\n",
       "<!-- 5 -->\n",
       "<g id=\"node6\" class=\"node\">\n",
       "<title>5</title>\n",
       "<text text-anchor=\"middle\" x=\"127.5\" y=\"-54.8\" font-family=\"Times,serif\" font-size=\"14.00\">+</text>\n",
       "</g>\n",
       "<!-- 2&#45;&gt;5 -->\n",
       "<g id=\"edge5\" class=\"edge\">\n",
       "<title>2&#45;&gt;5</title>\n",
       "<path fill=\"none\" stroke=\"black\" d=\"M127.5,-101.69C127.5,-95.18 127.5,-85.1 127.5,-76.43\"/>\n",
       "<polygon fill=\"black\" stroke=\"black\" points=\"131,-76.26 127.5,-66.26 124,-76.26 131,-76.26\"/>\n",
       "</g>\n",
       "<!-- 6 -->\n",
       "<g id=\"node7\" class=\"node\">\n",
       "<title>6</title>\n",
       "<text text-anchor=\"middle\" x=\"203.5\" y=\"-54.8\" font-family=\"Times,serif\" font-size=\"14.00\">&lt;parse_num&gt;</text>\n",
       "</g>\n",
       "<!-- 2&#45;&gt;6 -->\n",
       "<g id=\"edge6\" class=\"edge\">\n",
       "<title>2&#45;&gt;6</title>\n",
       "<path fill=\"none\" stroke=\"black\" d=\"M137.75,-101.89C149.83,-94.1 170.13,-81.01 184.99,-71.43\"/>\n",
       "<polygon fill=\"black\" stroke=\"black\" points=\"186.9,-74.36 193.41,-66 183.11,-68.48 186.9,-74.36\"/>\n",
       "</g>\n",
       "<!-- 4 -->\n",
       "<g id=\"node5\" class=\"node\">\n",
       "<title>4</title>\n",
       "<text text-anchor=\"middle\" x=\"51.5\" y=\"-3.8\" font-family=\"Times,serif\" font-size=\"14.00\">34</text>\n",
       "</g>\n",
       "<!-- 3&#45;&gt;4 -->\n",
       "<g id=\"edge4\" class=\"edge\">\n",
       "<title>3&#45;&gt;4</title>\n",
       "<path fill=\"none\" stroke=\"black\" d=\"M51.5,-50.69C51.5,-44.18 51.5,-34.1 51.5,-25.43\"/>\n",
       "<polygon fill=\"black\" stroke=\"black\" points=\"55,-25.26 51.5,-15.26 48,-25.26 55,-25.26\"/>\n",
       "</g>\n",
       "<!-- 7 -->\n",
       "<g id=\"node8\" class=\"node\">\n",
       "<title>7</title>\n",
       "<text text-anchor=\"middle\" x=\"203.5\" y=\"-3.8\" font-family=\"Times,serif\" font-size=\"14.00\">56</text>\n",
       "</g>\n",
       "<!-- 6&#45;&gt;7 -->\n",
       "<g id=\"edge7\" class=\"edge\">\n",
       "<title>6&#45;&gt;7</title>\n",
       "<path fill=\"none\" stroke=\"black\" d=\"M203.5,-50.69C203.5,-44.18 203.5,-34.1 203.5,-25.43\"/>\n",
       "<polygon fill=\"black\" stroke=\"black\" points=\"207,-25.26 203.5,-15.26 200,-25.26 207,-25.26\"/>\n",
       "</g>\n",
       "</g>\n",
       "</svg>\n"
      ],
      "text/plain": [
       "<graphviz.dot.Digraph at 0x7f972ccd6690>"
      ]
     },
     "metadata": {},
     "output_type": "display_data"
    },
    {
     "name": "stdout",
     "output_type": "stream",
     "text": [
      "((1))\n"
     ]
    },
    {
     "data": {
      "image/svg+xml": [
       "<?xml version=\"1.0\" encoding=\"UTF-8\" standalone=\"no\"?>\n",
       "<!DOCTYPE svg PUBLIC \"-//W3C//DTD SVG 1.1//EN\"\n",
       " \"http://www.w3.org/Graphics/SVG/1.1/DTD/svg11.dtd\">\n",
       "<!-- Generated by graphviz version 2.43.0 (0)\n",
       " -->\n",
       "<!-- Title: %3 Pages: 1 -->\n",
       "<svg width=\"160pt\" height=\"431pt\"\n",
       " viewBox=\"0.00 0.00 160.00 431.00\" xmlns=\"http://www.w3.org/2000/svg\" xmlns:xlink=\"http://www.w3.org/1999/xlink\">\n",
       "<g id=\"graph0\" class=\"graph\" transform=\"scale(1 1) rotate(0) translate(4 427)\">\n",
       "<title>%3</title>\n",
       "<polygon fill=\"white\" stroke=\"transparent\" points=\"-4,4 -4,-427 156,-427 156,4 -4,4\"/>\n",
       "<!-- 0 -->\n",
       "<g id=\"node1\" class=\"node\">\n",
       "<title>0</title>\n",
       "<text text-anchor=\"middle\" x=\"76\" y=\"-411.8\" font-family=\"Times,serif\" font-size=\"14.00\">&lt;START&gt;</text>\n",
       "</g>\n",
       "<!-- 1 -->\n",
       "<g id=\"node2\" class=\"node\">\n",
       "<title>1</title>\n",
       "<text text-anchor=\"middle\" x=\"76\" y=\"-360.8\" font-family=\"Times,serif\" font-size=\"14.00\">&lt;main&gt;</text>\n",
       "</g>\n",
       "<!-- 0&#45;&gt;1 -->\n",
       "<g id=\"edge1\" class=\"edge\">\n",
       "<title>0&#45;&gt;1</title>\n",
       "<path fill=\"none\" stroke=\"black\" d=\"M76,-407.69C76,-401.18 76,-391.1 76,-382.43\"/>\n",
       "<polygon fill=\"black\" stroke=\"black\" points=\"79.5,-382.26 76,-372.26 72.5,-382.26 79.5,-382.26\"/>\n",
       "</g>\n",
       "<!-- 2 -->\n",
       "<g id=\"node3\" class=\"node\">\n",
       "<title>2</title>\n",
       "<text text-anchor=\"middle\" x=\"76\" y=\"-309.8\" font-family=\"Times,serif\" font-size=\"14.00\">&lt;parse_expr&gt;</text>\n",
       "</g>\n",
       "<!-- 1&#45;&gt;2 -->\n",
       "<g id=\"edge2\" class=\"edge\">\n",
       "<title>1&#45;&gt;2</title>\n",
       "<path fill=\"none\" stroke=\"black\" d=\"M76,-356.69C76,-350.18 76,-340.1 76,-331.43\"/>\n",
       "<polygon fill=\"black\" stroke=\"black\" points=\"79.5,-331.26 76,-321.26 72.5,-331.26 79.5,-331.26\"/>\n",
       "</g>\n",
       "<!-- 3 -->\n",
       "<g id=\"node4\" class=\"node\">\n",
       "<title>3</title>\n",
       "<text text-anchor=\"middle\" x=\"76\" y=\"-258.8\" font-family=\"Times,serif\" font-size=\"14.00\">&lt;parse_paren&gt;</text>\n",
       "</g>\n",
       "<!-- 2&#45;&gt;3 -->\n",
       "<g id=\"edge3\" class=\"edge\">\n",
       "<title>2&#45;&gt;3</title>\n",
       "<path fill=\"none\" stroke=\"black\" d=\"M76,-305.69C76,-299.18 76,-289.1 76,-280.43\"/>\n",
       "<polygon fill=\"black\" stroke=\"black\" points=\"79.5,-280.26 76,-270.26 72.5,-280.26 79.5,-280.26\"/>\n",
       "</g>\n",
       "<!-- 4 -->\n",
       "<g id=\"node5\" class=\"node\">\n",
       "<title>4</title>\n",
       "<text text-anchor=\"middle\" x=\"3\" y=\"-207.8\" font-family=\"Times,serif\" font-size=\"14.00\">(</text>\n",
       "</g>\n",
       "<!-- 3&#45;&gt;4 -->\n",
       "<g id=\"edge4\" class=\"edge\">\n",
       "<title>3&#45;&gt;4</title>\n",
       "<path fill=\"none\" stroke=\"black\" d=\"M66.15,-254.89C52.75,-245.89 28.8,-229.82 14.56,-220.26\"/>\n",
       "<polygon fill=\"black\" stroke=\"black\" points=\"16.45,-217.31 6.2,-214.65 12.55,-223.13 16.45,-217.31\"/>\n",
       "</g>\n",
       "<!-- 5 -->\n",
       "<g id=\"node6\" class=\"node\">\n",
       "<title>5</title>\n",
       "<text text-anchor=\"middle\" x=\"76\" y=\"-207.8\" font-family=\"Times,serif\" font-size=\"14.00\">&lt;parse_expr&gt;</text>\n",
       "</g>\n",
       "<!-- 3&#45;&gt;5 -->\n",
       "<g id=\"edge5\" class=\"edge\">\n",
       "<title>3&#45;&gt;5</title>\n",
       "<path fill=\"none\" stroke=\"black\" d=\"M76,-254.69C76,-248.18 76,-238.1 76,-229.43\"/>\n",
       "<polygon fill=\"black\" stroke=\"black\" points=\"79.5,-229.26 76,-219.26 72.5,-229.26 79.5,-229.26\"/>\n",
       "</g>\n",
       "<!-- 12 -->\n",
       "<g id=\"node13\" class=\"node\">\n",
       "<title>12</title>\n",
       "<text text-anchor=\"middle\" x=\"149\" y=\"-207.8\" font-family=\"Times,serif\" font-size=\"14.00\">)</text>\n",
       "</g>\n",
       "<!-- 3&#45;&gt;12 -->\n",
       "<g id=\"edge12\" class=\"edge\">\n",
       "<title>3&#45;&gt;12</title>\n",
       "<path fill=\"none\" stroke=\"black\" d=\"M85.85,-254.89C99.25,-245.89 123.2,-229.82 137.44,-220.26\"/>\n",
       "<polygon fill=\"black\" stroke=\"black\" points=\"139.45,-223.13 145.8,-214.65 135.55,-217.31 139.45,-223.13\"/>\n",
       "</g>\n",
       "<!-- 6 -->\n",
       "<g id=\"node7\" class=\"node\">\n",
       "<title>6</title>\n",
       "<text text-anchor=\"middle\" x=\"76\" y=\"-156.8\" font-family=\"Times,serif\" font-size=\"14.00\">&lt;parse_paren&gt;</text>\n",
       "</g>\n",
       "<!-- 5&#45;&gt;6 -->\n",
       "<g id=\"edge6\" class=\"edge\">\n",
       "<title>5&#45;&gt;6</title>\n",
       "<path fill=\"none\" stroke=\"black\" d=\"M76,-203.69C76,-197.18 76,-187.1 76,-178.43\"/>\n",
       "<polygon fill=\"black\" stroke=\"black\" points=\"79.5,-178.26 76,-168.26 72.5,-178.26 79.5,-178.26\"/>\n",
       "</g>\n",
       "<!-- 7 -->\n",
       "<g id=\"node8\" class=\"node\">\n",
       "<title>7</title>\n",
       "<text text-anchor=\"middle\" x=\"3\" y=\"-105.8\" font-family=\"Times,serif\" font-size=\"14.00\">(</text>\n",
       "</g>\n",
       "<!-- 6&#45;&gt;7 -->\n",
       "<g id=\"edge7\" class=\"edge\">\n",
       "<title>6&#45;&gt;7</title>\n",
       "<path fill=\"none\" stroke=\"black\" d=\"M66.15,-152.89C52.75,-143.89 28.8,-127.82 14.56,-118.26\"/>\n",
       "<polygon fill=\"black\" stroke=\"black\" points=\"16.45,-115.31 6.2,-112.65 12.55,-121.13 16.45,-115.31\"/>\n",
       "</g>\n",
       "<!-- 8 -->\n",
       "<g id=\"node9\" class=\"node\">\n",
       "<title>8</title>\n",
       "<text text-anchor=\"middle\" x=\"76\" y=\"-105.8\" font-family=\"Times,serif\" font-size=\"14.00\">&lt;parse_expr&gt;</text>\n",
       "</g>\n",
       "<!-- 6&#45;&gt;8 -->\n",
       "<g id=\"edge8\" class=\"edge\">\n",
       "<title>6&#45;&gt;8</title>\n",
       "<path fill=\"none\" stroke=\"black\" d=\"M76,-152.69C76,-146.18 76,-136.1 76,-127.43\"/>\n",
       "<polygon fill=\"black\" stroke=\"black\" points=\"79.5,-127.26 76,-117.26 72.5,-127.26 79.5,-127.26\"/>\n",
       "</g>\n",
       "<!-- 11 -->\n",
       "<g id=\"node12\" class=\"node\">\n",
       "<title>11</title>\n",
       "<text text-anchor=\"middle\" x=\"149\" y=\"-105.8\" font-family=\"Times,serif\" font-size=\"14.00\">)</text>\n",
       "</g>\n",
       "<!-- 6&#45;&gt;11 -->\n",
       "<g id=\"edge11\" class=\"edge\">\n",
       "<title>6&#45;&gt;11</title>\n",
       "<path fill=\"none\" stroke=\"black\" d=\"M85.85,-152.89C99.25,-143.89 123.2,-127.82 137.44,-118.26\"/>\n",
       "<polygon fill=\"black\" stroke=\"black\" points=\"139.45,-121.13 145.8,-112.65 135.55,-115.31 139.45,-121.13\"/>\n",
       "</g>\n",
       "<!-- 9 -->\n",
       "<g id=\"node10\" class=\"node\">\n",
       "<title>9</title>\n",
       "<text text-anchor=\"middle\" x=\"76\" y=\"-54.8\" font-family=\"Times,serif\" font-size=\"14.00\">&lt;parse_num&gt;</text>\n",
       "</g>\n",
       "<!-- 8&#45;&gt;9 -->\n",
       "<g id=\"edge9\" class=\"edge\">\n",
       "<title>8&#45;&gt;9</title>\n",
       "<path fill=\"none\" stroke=\"black\" d=\"M76,-101.69C76,-95.18 76,-85.1 76,-76.43\"/>\n",
       "<polygon fill=\"black\" stroke=\"black\" points=\"79.5,-76.26 76,-66.26 72.5,-76.26 79.5,-76.26\"/>\n",
       "</g>\n",
       "<!-- 10 -->\n",
       "<g id=\"node11\" class=\"node\">\n",
       "<title>10</title>\n",
       "<text text-anchor=\"middle\" x=\"76\" y=\"-3.8\" font-family=\"Times,serif\" font-size=\"14.00\">1</text>\n",
       "</g>\n",
       "<!-- 9&#45;&gt;10 -->\n",
       "<g id=\"edge10\" class=\"edge\">\n",
       "<title>9&#45;&gt;10</title>\n",
       "<path fill=\"none\" stroke=\"black\" d=\"M76,-50.69C76,-44.18 76,-34.1 76,-25.43\"/>\n",
       "<polygon fill=\"black\" stroke=\"black\" points=\"79.5,-25.26 76,-15.26 72.5,-25.26 79.5,-25.26\"/>\n",
       "</g>\n",
       "</g>\n",
       "</svg>\n"
      ],
      "text/plain": [
       "<graphviz.dot.Digraph at 0x7f972e98dad0>"
      ]
     },
     "metadata": {},
     "output_type": "display_data"
    },
    {
     "name": "stdout",
     "output_type": "stream",
     "text": [
      "1*(5)+(7)\n"
     ]
    },
    {
     "data": {
      "image/svg+xml": [
       "<?xml version=\"1.0\" encoding=\"UTF-8\" standalone=\"no\"?>\n",
       "<!DOCTYPE svg PUBLIC \"-//W3C//DTD SVG 1.1//EN\"\n",
       " \"http://www.w3.org/Graphics/SVG/1.1/DTD/svg11.dtd\">\n",
       "<!-- Generated by graphviz version 2.43.0 (0)\n",
       " -->\n",
       "<!-- Title: %3 Pages: 1 -->\n",
       "<svg width=\"455pt\" height=\"329pt\"\n",
       " viewBox=\"0.00 0.00 454.50 329.00\" xmlns=\"http://www.w3.org/2000/svg\" xmlns:xlink=\"http://www.w3.org/1999/xlink\">\n",
       "<g id=\"graph0\" class=\"graph\" transform=\"scale(1 1) rotate(0) translate(4 325)\">\n",
       "<title>%3</title>\n",
       "<polygon fill=\"white\" stroke=\"transparent\" points=\"-4,4 -4,-325 450.5,-325 450.5,4 -4,4\"/>\n",
       "<!-- 0 -->\n",
       "<g id=\"node1\" class=\"node\">\n",
       "<title>0</title>\n",
       "<text text-anchor=\"middle\" x=\"202.5\" y=\"-309.8\" font-family=\"Times,serif\" font-size=\"14.00\">&lt;START&gt;</text>\n",
       "</g>\n",
       "<!-- 1 -->\n",
       "<g id=\"node2\" class=\"node\">\n",
       "<title>1</title>\n",
       "<text text-anchor=\"middle\" x=\"202.5\" y=\"-258.8\" font-family=\"Times,serif\" font-size=\"14.00\">&lt;main&gt;</text>\n",
       "</g>\n",
       "<!-- 0&#45;&gt;1 -->\n",
       "<g id=\"edge1\" class=\"edge\">\n",
       "<title>0&#45;&gt;1</title>\n",
       "<path fill=\"none\" stroke=\"black\" d=\"M202.5,-305.69C202.5,-299.18 202.5,-289.1 202.5,-280.43\"/>\n",
       "<polygon fill=\"black\" stroke=\"black\" points=\"206,-280.26 202.5,-270.26 199,-280.26 206,-280.26\"/>\n",
       "</g>\n",
       "<!-- 2 -->\n",
       "<g id=\"node3\" class=\"node\">\n",
       "<title>2</title>\n",
       "<text text-anchor=\"middle\" x=\"202.5\" y=\"-207.8\" font-family=\"Times,serif\" font-size=\"14.00\">&lt;parse_expr&gt;</text>\n",
       "</g>\n",
       "<!-- 1&#45;&gt;2 -->\n",
       "<g id=\"edge2\" class=\"edge\">\n",
       "<title>1&#45;&gt;2</title>\n",
       "<path fill=\"none\" stroke=\"black\" d=\"M202.5,-254.69C202.5,-248.18 202.5,-238.1 202.5,-229.43\"/>\n",
       "<polygon fill=\"black\" stroke=\"black\" points=\"206,-229.26 202.5,-219.26 199,-229.26 206,-229.26\"/>\n",
       "</g>\n",
       "<!-- 3 -->\n",
       "<g id=\"node4\" class=\"node\">\n",
       "<title>3</title>\n",
       "<text text-anchor=\"middle\" x=\"51.5\" y=\"-156.8\" font-family=\"Times,serif\" font-size=\"14.00\">&lt;parse_num&gt;</text>\n",
       "</g>\n",
       "<!-- 2&#45;&gt;3 -->\n",
       "<g id=\"edge3\" class=\"edge\">\n",
       "<title>2&#45;&gt;3</title>\n",
       "<path fill=\"none\" stroke=\"black\" d=\"M182.45,-203.99C156.61,-195.61 111.47,-180.96 81.53,-171.25\"/>\n",
       "<polygon fill=\"black\" stroke=\"black\" points=\"82.23,-167.79 71.63,-168.03 80.07,-174.45 82.23,-167.79\"/>\n",
       "</g>\n",
       "<!-- 5 -->\n",
       "<g id=\"node6\" class=\"node\">\n",
       "<title>5</title>\n",
       "<text text-anchor=\"middle\" x=\"124.5\" y=\"-156.8\" font-family=\"Times,serif\" font-size=\"14.00\">*</text>\n",
       "</g>\n",
       "<!-- 2&#45;&gt;5 -->\n",
       "<g id=\"edge5\" class=\"edge\">\n",
       "<title>2&#45;&gt;5</title>\n",
       "<path fill=\"none\" stroke=\"black\" d=\"M191.98,-203.89C177.66,-194.89 152.06,-178.81 136.84,-169.25\"/>\n",
       "<polygon fill=\"black\" stroke=\"black\" points=\"138.56,-166.2 128.23,-163.84 134.84,-172.13 138.56,-166.2\"/>\n",
       "</g>\n",
       "<!-- 6 -->\n",
       "<g id=\"node7\" class=\"node\">\n",
       "<title>6</title>\n",
       "<text text-anchor=\"middle\" x=\"202.5\" y=\"-156.8\" font-family=\"Times,serif\" font-size=\"14.00\">&lt;parse_paren&gt;</text>\n",
       "</g>\n",
       "<!-- 2&#45;&gt;6 -->\n",
       "<g id=\"edge6\" class=\"edge\">\n",
       "<title>2&#45;&gt;6</title>\n",
       "<path fill=\"none\" stroke=\"black\" d=\"M202.5,-203.69C202.5,-197.18 202.5,-187.1 202.5,-178.43\"/>\n",
       "<polygon fill=\"black\" stroke=\"black\" points=\"206,-178.26 202.5,-168.26 199,-178.26 206,-178.26\"/>\n",
       "</g>\n",
       "<!-- 12 -->\n",
       "<g id=\"node13\" class=\"node\">\n",
       "<title>12</title>\n",
       "<text text-anchor=\"middle\" x=\"283.5\" y=\"-156.8\" font-family=\"Times,serif\" font-size=\"14.00\">+</text>\n",
       "</g>\n",
       "<!-- 2&#45;&gt;12 -->\n",
       "<g id=\"edge12\" class=\"edge\">\n",
       "<title>2&#45;&gt;12</title>\n",
       "<path fill=\"none\" stroke=\"black\" d=\"M213.42,-203.89C227.59,-195.32 252.35,-180.34 268.33,-170.68\"/>\n",
       "<polygon fill=\"black\" stroke=\"black\" points=\"270.23,-173.62 276.97,-165.45 266.6,-167.63 270.23,-173.62\"/>\n",
       "</g>\n",
       "<!-- 13 -->\n",
       "<g id=\"node14\" class=\"node\">\n",
       "<title>13</title>\n",
       "<text text-anchor=\"middle\" x=\"368.5\" y=\"-156.8\" font-family=\"Times,serif\" font-size=\"14.00\">&lt;parse_paren&gt;</text>\n",
       "</g>\n",
       "<!-- 2&#45;&gt;13 -->\n",
       "<g id=\"edge13\" class=\"edge\">\n",
       "<title>2&#45;&gt;13</title>\n",
       "<path fill=\"none\" stroke=\"black\" d=\"M224.54,-203.99C253.32,-195.5 303.87,-180.58 336.77,-170.87\"/>\n",
       "<polygon fill=\"black\" stroke=\"black\" points=\"337.77,-174.22 346.37,-168.03 335.78,-167.51 337.77,-174.22\"/>\n",
       "</g>\n",
       "<!-- 4 -->\n",
       "<g id=\"node5\" class=\"node\">\n",
       "<title>4</title>\n",
       "<text text-anchor=\"middle\" x=\"51.5\" y=\"-105.8\" font-family=\"Times,serif\" font-size=\"14.00\">1</text>\n",
       "</g>\n",
       "<!-- 3&#45;&gt;4 -->\n",
       "<g id=\"edge4\" class=\"edge\">\n",
       "<title>3&#45;&gt;4</title>\n",
       "<path fill=\"none\" stroke=\"black\" d=\"M51.5,-152.69C51.5,-146.18 51.5,-136.1 51.5,-127.43\"/>\n",
       "<polygon fill=\"black\" stroke=\"black\" points=\"55,-127.26 51.5,-117.26 48,-127.26 55,-127.26\"/>\n",
       "</g>\n",
       "<!-- 7 -->\n",
       "<g id=\"node8\" class=\"node\">\n",
       "<title>7</title>\n",
       "<text text-anchor=\"middle\" x=\"127.5\" y=\"-105.8\" font-family=\"Times,serif\" font-size=\"14.00\">(</text>\n",
       "</g>\n",
       "<!-- 6&#45;&gt;7 -->\n",
       "<g id=\"edge7\" class=\"edge\">\n",
       "<title>6&#45;&gt;7</title>\n",
       "<path fill=\"none\" stroke=\"black\" d=\"M192.39,-152.89C178.61,-143.89 154.01,-127.82 139.38,-118.26\"/>\n",
       "<polygon fill=\"black\" stroke=\"black\" points=\"141.07,-115.19 130.78,-112.65 137.24,-121.05 141.07,-115.19\"/>\n",
       "</g>\n",
       "<!-- 8 -->\n",
       "<g id=\"node9\" class=\"node\">\n",
       "<title>8</title>\n",
       "<text text-anchor=\"middle\" x=\"200.5\" y=\"-105.8\" font-family=\"Times,serif\" font-size=\"14.00\">&lt;parse_expr&gt;</text>\n",
       "</g>\n",
       "<!-- 6&#45;&gt;8 -->\n",
       "<g id=\"edge8\" class=\"edge\">\n",
       "<title>6&#45;&gt;8</title>\n",
       "<path fill=\"none\" stroke=\"black\" d=\"M202.22,-152.69C201.96,-146.18 201.54,-136.1 201.19,-127.43\"/>\n",
       "<polygon fill=\"black\" stroke=\"black\" points=\"204.68,-127.1 200.78,-117.26 197.69,-127.39 204.68,-127.1\"/>\n",
       "</g>\n",
       "<!-- 11 -->\n",
       "<g id=\"node12\" class=\"node\">\n",
       "<title>11</title>\n",
       "<text text-anchor=\"middle\" x=\"273.5\" y=\"-105.8\" font-family=\"Times,serif\" font-size=\"14.00\">)</text>\n",
       "</g>\n",
       "<!-- 6&#45;&gt;11 -->\n",
       "<g id=\"edge11\" class=\"edge\">\n",
       "<title>6&#45;&gt;11</title>\n",
       "<path fill=\"none\" stroke=\"black\" d=\"M212.08,-152.89C224.99,-143.98 247.95,-128.13 261.85,-118.54\"/>\n",
       "<polygon fill=\"black\" stroke=\"black\" points=\"264.15,-121.21 270.39,-112.65 260.17,-115.45 264.15,-121.21\"/>\n",
       "</g>\n",
       "<!-- 9 -->\n",
       "<g id=\"node10\" class=\"node\">\n",
       "<title>9</title>\n",
       "<text text-anchor=\"middle\" x=\"200.5\" y=\"-54.8\" font-family=\"Times,serif\" font-size=\"14.00\">&lt;parse_num&gt;</text>\n",
       "</g>\n",
       "<!-- 8&#45;&gt;9 -->\n",
       "<g id=\"edge9\" class=\"edge\">\n",
       "<title>8&#45;&gt;9</title>\n",
       "<path fill=\"none\" stroke=\"black\" d=\"M200.5,-101.69C200.5,-95.18 200.5,-85.1 200.5,-76.43\"/>\n",
       "<polygon fill=\"black\" stroke=\"black\" points=\"204,-76.26 200.5,-66.26 197,-76.26 204,-76.26\"/>\n",
       "</g>\n",
       "<!-- 10 -->\n",
       "<g id=\"node11\" class=\"node\">\n",
       "<title>10</title>\n",
       "<text text-anchor=\"middle\" x=\"200.5\" y=\"-3.8\" font-family=\"Times,serif\" font-size=\"14.00\">5</text>\n",
       "</g>\n",
       "<!-- 9&#45;&gt;10 -->\n",
       "<g id=\"edge10\" class=\"edge\">\n",
       "<title>9&#45;&gt;10</title>\n",
       "<path fill=\"none\" stroke=\"black\" d=\"M200.5,-50.69C200.5,-44.18 200.5,-34.1 200.5,-25.43\"/>\n",
       "<polygon fill=\"black\" stroke=\"black\" points=\"204,-25.26 200.5,-15.26 197,-25.26 204,-25.26\"/>\n",
       "</g>\n",
       "<!-- 14 -->\n",
       "<g id=\"node15\" class=\"node\">\n",
       "<title>14</title>\n",
       "<text text-anchor=\"middle\" x=\"297.5\" y=\"-105.8\" font-family=\"Times,serif\" font-size=\"14.00\">(</text>\n",
       "</g>\n",
       "<!-- 13&#45;&gt;14 -->\n",
       "<g id=\"edge14\" class=\"edge\">\n",
       "<title>13&#45;&gt;14</title>\n",
       "<path fill=\"none\" stroke=\"black\" d=\"M358.92,-152.89C346.01,-143.98 323.05,-128.13 309.15,-118.54\"/>\n",
       "<polygon fill=\"black\" stroke=\"black\" points=\"310.83,-115.45 300.61,-112.65 306.85,-121.21 310.83,-115.45\"/>\n",
       "</g>\n",
       "<!-- 15 -->\n",
       "<g id=\"node16\" class=\"node\">\n",
       "<title>15</title>\n",
       "<text text-anchor=\"middle\" x=\"370.5\" y=\"-105.8\" font-family=\"Times,serif\" font-size=\"14.00\">&lt;parse_expr&gt;</text>\n",
       "</g>\n",
       "<!-- 13&#45;&gt;15 -->\n",
       "<g id=\"edge15\" class=\"edge\">\n",
       "<title>13&#45;&gt;15</title>\n",
       "<path fill=\"none\" stroke=\"black\" d=\"M368.78,-152.69C369.04,-146.18 369.46,-136.1 369.81,-127.43\"/>\n",
       "<polygon fill=\"black\" stroke=\"black\" points=\"373.31,-127.39 370.22,-117.26 366.32,-127.1 373.31,-127.39\"/>\n",
       "</g>\n",
       "<!-- 18 -->\n",
       "<g id=\"node19\" class=\"node\">\n",
       "<title>18</title>\n",
       "<text text-anchor=\"middle\" x=\"443.5\" y=\"-105.8\" font-family=\"Times,serif\" font-size=\"14.00\">)</text>\n",
       "</g>\n",
       "<!-- 13&#45;&gt;18 -->\n",
       "<g id=\"edge18\" class=\"edge\">\n",
       "<title>13&#45;&gt;18</title>\n",
       "<path fill=\"none\" stroke=\"black\" d=\"M378.61,-152.89C392.39,-143.89 416.99,-127.82 431.62,-118.26\"/>\n",
       "<polygon fill=\"black\" stroke=\"black\" points=\"433.76,-121.05 440.22,-112.65 429.93,-115.19 433.76,-121.05\"/>\n",
       "</g>\n",
       "<!-- 16 -->\n",
       "<g id=\"node17\" class=\"node\">\n",
       "<title>16</title>\n",
       "<text text-anchor=\"middle\" x=\"370.5\" y=\"-54.8\" font-family=\"Times,serif\" font-size=\"14.00\">&lt;parse_num&gt;</text>\n",
       "</g>\n",
       "<!-- 15&#45;&gt;16 -->\n",
       "<g id=\"edge16\" class=\"edge\">\n",
       "<title>15&#45;&gt;16</title>\n",
       "<path fill=\"none\" stroke=\"black\" d=\"M370.5,-101.69C370.5,-95.18 370.5,-85.1 370.5,-76.43\"/>\n",
       "<polygon fill=\"black\" stroke=\"black\" points=\"374,-76.26 370.5,-66.26 367,-76.26 374,-76.26\"/>\n",
       "</g>\n",
       "<!-- 17 -->\n",
       "<g id=\"node18\" class=\"node\">\n",
       "<title>17</title>\n",
       "<text text-anchor=\"middle\" x=\"370.5\" y=\"-3.8\" font-family=\"Times,serif\" font-size=\"14.00\">7</text>\n",
       "</g>\n",
       "<!-- 16&#45;&gt;17 -->\n",
       "<g id=\"edge17\" class=\"edge\">\n",
       "<title>16&#45;&gt;17</title>\n",
       "<path fill=\"none\" stroke=\"black\" d=\"M370.5,-50.69C370.5,-44.18 370.5,-34.1 370.5,-25.43\"/>\n",
       "<polygon fill=\"black\" stroke=\"black\" points=\"374,-25.26 370.5,-15.26 367,-25.26 374,-25.26\"/>\n",
       "</g>\n",
       "</g>\n",
       "</svg>\n"
      ],
      "text/plain": [
       "<graphviz.dot.Digraph at 0x7f972cffb4d0>"
      ]
     },
     "metadata": {},
     "output_type": "display_data"
    },
    {
     "name": "stdout",
     "output_type": "stream",
     "text": [
      "555+(234-445)\n"
     ]
    },
    {
     "data": {
      "image/svg+xml": [
       "<?xml version=\"1.0\" encoding=\"UTF-8\" standalone=\"no\"?>\n",
       "<!DOCTYPE svg PUBLIC \"-//W3C//DTD SVG 1.1//EN\"\n",
       " \"http://www.w3.org/Graphics/SVG/1.1/DTD/svg11.dtd\">\n",
       "<!-- Generated by graphviz version 2.43.0 (0)\n",
       " -->\n",
       "<!-- Title: %3 Pages: 1 -->\n",
       "<svg width=\"340pt\" height=\"329pt\"\n",
       " viewBox=\"0.00 0.00 340.00 329.00\" xmlns=\"http://www.w3.org/2000/svg\" xmlns:xlink=\"http://www.w3.org/1999/xlink\">\n",
       "<g id=\"graph0\" class=\"graph\" transform=\"scale(1 1) rotate(0) translate(4 325)\">\n",
       "<title>%3</title>\n",
       "<polygon fill=\"white\" stroke=\"transparent\" points=\"-4,4 -4,-325 336,-325 336,4 -4,4\"/>\n",
       "<!-- 0 -->\n",
       "<g id=\"node1\" class=\"node\">\n",
       "<title>0</title>\n",
       "<text text-anchor=\"middle\" x=\"127.5\" y=\"-309.8\" font-family=\"Times,serif\" font-size=\"14.00\">&lt;START&gt;</text>\n",
       "</g>\n",
       "<!-- 1 -->\n",
       "<g id=\"node2\" class=\"node\">\n",
       "<title>1</title>\n",
       "<text text-anchor=\"middle\" x=\"127.5\" y=\"-258.8\" font-family=\"Times,serif\" font-size=\"14.00\">&lt;main&gt;</text>\n",
       "</g>\n",
       "<!-- 0&#45;&gt;1 -->\n",
       "<g id=\"edge1\" class=\"edge\">\n",
       "<title>0&#45;&gt;1</title>\n",
       "<path fill=\"none\" stroke=\"black\" d=\"M127.5,-305.69C127.5,-299.18 127.5,-289.1 127.5,-280.43\"/>\n",
       "<polygon fill=\"black\" stroke=\"black\" points=\"131,-280.26 127.5,-270.26 124,-280.26 131,-280.26\"/>\n",
       "</g>\n",
       "<!-- 2 -->\n",
       "<g id=\"node3\" class=\"node\">\n",
       "<title>2</title>\n",
       "<text text-anchor=\"middle\" x=\"127.5\" y=\"-207.8\" font-family=\"Times,serif\" font-size=\"14.00\">&lt;parse_expr&gt;</text>\n",
       "</g>\n",
       "<!-- 1&#45;&gt;2 -->\n",
       "<g id=\"edge2\" class=\"edge\">\n",
       "<title>1&#45;&gt;2</title>\n",
       "<path fill=\"none\" stroke=\"black\" d=\"M127.5,-254.69C127.5,-248.18 127.5,-238.1 127.5,-229.43\"/>\n",
       "<polygon fill=\"black\" stroke=\"black\" points=\"131,-229.26 127.5,-219.26 124,-229.26 131,-229.26\"/>\n",
       "</g>\n",
       "<!-- 3 -->\n",
       "<g id=\"node4\" class=\"node\">\n",
       "<title>3</title>\n",
       "<text text-anchor=\"middle\" x=\"51.5\" y=\"-156.8\" font-family=\"Times,serif\" font-size=\"14.00\">&lt;parse_num&gt;</text>\n",
       "</g>\n",
       "<!-- 2&#45;&gt;3 -->\n",
       "<g id=\"edge3\" class=\"edge\">\n",
       "<title>2&#45;&gt;3</title>\n",
       "<path fill=\"none\" stroke=\"black\" d=\"M117.25,-203.89C105.17,-196.1 84.87,-183.01 70.01,-173.43\"/>\n",
       "<polygon fill=\"black\" stroke=\"black\" points=\"71.89,-170.48 61.59,-168 68.1,-176.36 71.89,-170.48\"/>\n",
       "</g>\n",
       "<!-- 5 -->\n",
       "<g id=\"node6\" class=\"node\">\n",
       "<title>5</title>\n",
       "<text text-anchor=\"middle\" x=\"127.5\" y=\"-156.8\" font-family=\"Times,serif\" font-size=\"14.00\">+</text>\n",
       "</g>\n",
       "<!-- 2&#45;&gt;5 -->\n",
       "<g id=\"edge5\" class=\"edge\">\n",
       "<title>2&#45;&gt;5</title>\n",
       "<path fill=\"none\" stroke=\"black\" d=\"M127.5,-203.69C127.5,-197.18 127.5,-187.1 127.5,-178.43\"/>\n",
       "<polygon fill=\"black\" stroke=\"black\" points=\"131,-178.26 127.5,-168.26 124,-178.26 131,-178.26\"/>\n",
       "</g>\n",
       "<!-- 6 -->\n",
       "<g id=\"node7\" class=\"node\">\n",
       "<title>6</title>\n",
       "<text text-anchor=\"middle\" x=\"208.5\" y=\"-156.8\" font-family=\"Times,serif\" font-size=\"14.00\">&lt;parse_paren&gt;</text>\n",
       "</g>\n",
       "<!-- 2&#45;&gt;6 -->\n",
       "<g id=\"edge6\" class=\"edge\">\n",
       "<title>2&#45;&gt;6</title>\n",
       "<path fill=\"none\" stroke=\"black\" d=\"M138.42,-203.89C151.3,-196.1 172.94,-183.01 188.77,-173.43\"/>\n",
       "<polygon fill=\"black\" stroke=\"black\" points=\"191,-176.17 197.75,-168 187.38,-170.19 191,-176.17\"/>\n",
       "</g>\n",
       "<!-- 4 -->\n",
       "<g id=\"node5\" class=\"node\">\n",
       "<title>4</title>\n",
       "<text text-anchor=\"middle\" x=\"51.5\" y=\"-105.8\" font-family=\"Times,serif\" font-size=\"14.00\">555</text>\n",
       "</g>\n",
       "<!-- 3&#45;&gt;4 -->\n",
       "<g id=\"edge4\" class=\"edge\">\n",
       "<title>3&#45;&gt;4</title>\n",
       "<path fill=\"none\" stroke=\"black\" d=\"M51.5,-152.69C51.5,-146.18 51.5,-136.1 51.5,-127.43\"/>\n",
       "<polygon fill=\"black\" stroke=\"black\" points=\"55,-127.26 51.5,-117.26 48,-127.26 55,-127.26\"/>\n",
       "</g>\n",
       "<!-- 7 -->\n",
       "<g id=\"node8\" class=\"node\">\n",
       "<title>7</title>\n",
       "<text text-anchor=\"middle\" x=\"135.5\" y=\"-105.8\" font-family=\"Times,serif\" font-size=\"14.00\">(</text>\n",
       "</g>\n",
       "<!-- 6&#45;&gt;7 -->\n",
       "<g id=\"edge7\" class=\"edge\">\n",
       "<title>6&#45;&gt;7</title>\n",
       "<path fill=\"none\" stroke=\"black\" d=\"M198.65,-152.89C185.25,-143.89 161.3,-127.82 147.06,-118.26\"/>\n",
       "<polygon fill=\"black\" stroke=\"black\" points=\"148.95,-115.31 138.7,-112.65 145.05,-121.13 148.95,-115.31\"/>\n",
       "</g>\n",
       "<!-- 8 -->\n",
       "<g id=\"node9\" class=\"node\">\n",
       "<title>8</title>\n",
       "<text text-anchor=\"middle\" x=\"208.5\" y=\"-105.8\" font-family=\"Times,serif\" font-size=\"14.00\">&lt;parse_expr&gt;</text>\n",
       "</g>\n",
       "<!-- 6&#45;&gt;8 -->\n",
       "<g id=\"edge8\" class=\"edge\">\n",
       "<title>6&#45;&gt;8</title>\n",
       "<path fill=\"none\" stroke=\"black\" d=\"M208.5,-152.69C208.5,-146.18 208.5,-136.1 208.5,-127.43\"/>\n",
       "<polygon fill=\"black\" stroke=\"black\" points=\"212,-127.26 208.5,-117.26 205,-127.26 212,-127.26\"/>\n",
       "</g>\n",
       "<!-- 14 -->\n",
       "<g id=\"node15\" class=\"node\">\n",
       "<title>14</title>\n",
       "<text text-anchor=\"middle\" x=\"281.5\" y=\"-105.8\" font-family=\"Times,serif\" font-size=\"14.00\">)</text>\n",
       "</g>\n",
       "<!-- 6&#45;&gt;14 -->\n",
       "<g id=\"edge14\" class=\"edge\">\n",
       "<title>6&#45;&gt;14</title>\n",
       "<path fill=\"none\" stroke=\"black\" d=\"M218.35,-152.89C231.75,-143.89 255.7,-127.82 269.94,-118.26\"/>\n",
       "<polygon fill=\"black\" stroke=\"black\" points=\"271.95,-121.13 278.3,-112.65 268.05,-115.31 271.95,-121.13\"/>\n",
       "</g>\n",
       "<!-- 9 -->\n",
       "<g id=\"node10\" class=\"node\">\n",
       "<title>9</title>\n",
       "<text text-anchor=\"middle\" x=\"136.5\" y=\"-54.8\" font-family=\"Times,serif\" font-size=\"14.00\">&lt;parse_num&gt;</text>\n",
       "</g>\n",
       "<!-- 8&#45;&gt;9 -->\n",
       "<g id=\"edge9\" class=\"edge\">\n",
       "<title>8&#45;&gt;9</title>\n",
       "<path fill=\"none\" stroke=\"black\" d=\"M198.79,-101.89C187.45,-94.18 168.47,-81.26 154.44,-71.71\"/>\n",
       "<polygon fill=\"black\" stroke=\"black\" points=\"156.29,-68.74 146.06,-66 152.35,-74.52 156.29,-68.74\"/>\n",
       "</g>\n",
       "<!-- 11 -->\n",
       "<g id=\"node12\" class=\"node\">\n",
       "<title>11</title>\n",
       "<text text-anchor=\"middle\" x=\"208.5\" y=\"-54.8\" font-family=\"Times,serif\" font-size=\"14.00\">&#45;</text>\n",
       "</g>\n",
       "<!-- 8&#45;&gt;11 -->\n",
       "<g id=\"edge11\" class=\"edge\">\n",
       "<title>8&#45;&gt;11</title>\n",
       "<path fill=\"none\" stroke=\"black\" d=\"M208.5,-101.69C208.5,-95.18 208.5,-85.1 208.5,-76.43\"/>\n",
       "<polygon fill=\"black\" stroke=\"black\" points=\"212,-76.26 208.5,-66.26 205,-76.26 212,-76.26\"/>\n",
       "</g>\n",
       "<!-- 12 -->\n",
       "<g id=\"node13\" class=\"node\">\n",
       "<title>12</title>\n",
       "<text text-anchor=\"middle\" x=\"280.5\" y=\"-54.8\" font-family=\"Times,serif\" font-size=\"14.00\">&lt;parse_num&gt;</text>\n",
       "</g>\n",
       "<!-- 8&#45;&gt;12 -->\n",
       "<g id=\"edge12\" class=\"edge\">\n",
       "<title>8&#45;&gt;12</title>\n",
       "<path fill=\"none\" stroke=\"black\" d=\"M218.21,-101.89C229.55,-94.18 248.53,-81.26 262.56,-71.71\"/>\n",
       "<polygon fill=\"black\" stroke=\"black\" points=\"264.65,-74.52 270.94,-66 260.71,-68.74 264.65,-74.52\"/>\n",
       "</g>\n",
       "<!-- 10 -->\n",
       "<g id=\"node11\" class=\"node\">\n",
       "<title>10</title>\n",
       "<text text-anchor=\"middle\" x=\"136.5\" y=\"-3.8\" font-family=\"Times,serif\" font-size=\"14.00\">234</text>\n",
       "</g>\n",
       "<!-- 9&#45;&gt;10 -->\n",
       "<g id=\"edge10\" class=\"edge\">\n",
       "<title>9&#45;&gt;10</title>\n",
       "<path fill=\"none\" stroke=\"black\" d=\"M136.5,-50.69C136.5,-44.18 136.5,-34.1 136.5,-25.43\"/>\n",
       "<polygon fill=\"black\" stroke=\"black\" points=\"140,-25.26 136.5,-15.26 133,-25.26 140,-25.26\"/>\n",
       "</g>\n",
       "<!-- 13 -->\n",
       "<g id=\"node14\" class=\"node\">\n",
       "<title>13</title>\n",
       "<text text-anchor=\"middle\" x=\"280.5\" y=\"-3.8\" font-family=\"Times,serif\" font-size=\"14.00\">445</text>\n",
       "</g>\n",
       "<!-- 12&#45;&gt;13 -->\n",
       "<g id=\"edge13\" class=\"edge\">\n",
       "<title>12&#45;&gt;13</title>\n",
       "<path fill=\"none\" stroke=\"black\" d=\"M280.5,-50.69C280.5,-44.18 280.5,-34.1 280.5,-25.43\"/>\n",
       "<polygon fill=\"black\" stroke=\"black\" points=\"284,-25.26 280.5,-15.26 277,-25.26 284,-25.26\"/>\n",
       "</g>\n",
       "</g>\n",
       "</svg>\n"
      ],
      "text/plain": [
       "<graphviz.dot.Digraph at 0x7f972cc66dd0>"
      ]
     },
     "metadata": {},
     "output_type": "display_data"
    },
    {
     "name": "stdout",
     "output_type": "stream",
     "text": [
      "1-(41/2)\n"
     ]
    },
    {
     "data": {
      "image/svg+xml": [
       "<?xml version=\"1.0\" encoding=\"UTF-8\" standalone=\"no\"?>\n",
       "<!DOCTYPE svg PUBLIC \"-//W3C//DTD SVG 1.1//EN\"\n",
       " \"http://www.w3.org/Graphics/SVG/1.1/DTD/svg11.dtd\">\n",
       "<!-- Generated by graphviz version 2.43.0 (0)\n",
       " -->\n",
       "<!-- Title: %3 Pages: 1 -->\n",
       "<svg width=\"332pt\" height=\"329pt\"\n",
       " viewBox=\"0.00 0.00 332.00 329.00\" xmlns=\"http://www.w3.org/2000/svg\" xmlns:xlink=\"http://www.w3.org/1999/xlink\">\n",
       "<g id=\"graph0\" class=\"graph\" transform=\"scale(1 1) rotate(0) translate(4 325)\">\n",
       "<title>%3</title>\n",
       "<polygon fill=\"white\" stroke=\"transparent\" points=\"-4,4 -4,-325 328,-325 328,4 -4,4\"/>\n",
       "<!-- 0 -->\n",
       "<g id=\"node1\" class=\"node\">\n",
       "<title>0</title>\n",
       "<text text-anchor=\"middle\" x=\"123.5\" y=\"-309.8\" font-family=\"Times,serif\" font-size=\"14.00\">&lt;START&gt;</text>\n",
       "</g>\n",
       "<!-- 1 -->\n",
       "<g id=\"node2\" class=\"node\">\n",
       "<title>1</title>\n",
       "<text text-anchor=\"middle\" x=\"123.5\" y=\"-258.8\" font-family=\"Times,serif\" font-size=\"14.00\">&lt;main&gt;</text>\n",
       "</g>\n",
       "<!-- 0&#45;&gt;1 -->\n",
       "<g id=\"edge1\" class=\"edge\">\n",
       "<title>0&#45;&gt;1</title>\n",
       "<path fill=\"none\" stroke=\"black\" d=\"M123.5,-305.69C123.5,-299.18 123.5,-289.1 123.5,-280.43\"/>\n",
       "<polygon fill=\"black\" stroke=\"black\" points=\"127,-280.26 123.5,-270.26 120,-280.26 127,-280.26\"/>\n",
       "</g>\n",
       "<!-- 2 -->\n",
       "<g id=\"node3\" class=\"node\">\n",
       "<title>2</title>\n",
       "<text text-anchor=\"middle\" x=\"123.5\" y=\"-207.8\" font-family=\"Times,serif\" font-size=\"14.00\">&lt;parse_expr&gt;</text>\n",
       "</g>\n",
       "<!-- 1&#45;&gt;2 -->\n",
       "<g id=\"edge2\" class=\"edge\">\n",
       "<title>1&#45;&gt;2</title>\n",
       "<path fill=\"none\" stroke=\"black\" d=\"M123.5,-254.69C123.5,-248.18 123.5,-238.1 123.5,-229.43\"/>\n",
       "<polygon fill=\"black\" stroke=\"black\" points=\"127,-229.26 123.5,-219.26 120,-229.26 127,-229.26\"/>\n",
       "</g>\n",
       "<!-- 3 -->\n",
       "<g id=\"node4\" class=\"node\">\n",
       "<title>3</title>\n",
       "<text text-anchor=\"middle\" x=\"51.5\" y=\"-156.8\" font-family=\"Times,serif\" font-size=\"14.00\">&lt;parse_num&gt;</text>\n",
       "</g>\n",
       "<!-- 2&#45;&gt;3 -->\n",
       "<g id=\"edge3\" class=\"edge\">\n",
       "<title>2&#45;&gt;3</title>\n",
       "<path fill=\"none\" stroke=\"black\" d=\"M113.79,-203.89C102.45,-196.18 83.47,-183.26 69.44,-173.71\"/>\n",
       "<polygon fill=\"black\" stroke=\"black\" points=\"71.29,-170.74 61.06,-168 67.35,-176.52 71.29,-170.74\"/>\n",
       "</g>\n",
       "<!-- 5 -->\n",
       "<g id=\"node6\" class=\"node\">\n",
       "<title>5</title>\n",
       "<text text-anchor=\"middle\" x=\"123.5\" y=\"-156.8\" font-family=\"Times,serif\" font-size=\"14.00\">&#45;</text>\n",
       "</g>\n",
       "<!-- 2&#45;&gt;5 -->\n",
       "<g id=\"edge5\" class=\"edge\">\n",
       "<title>2&#45;&gt;5</title>\n",
       "<path fill=\"none\" stroke=\"black\" d=\"M123.5,-203.69C123.5,-197.18 123.5,-187.1 123.5,-178.43\"/>\n",
       "<polygon fill=\"black\" stroke=\"black\" points=\"127,-178.26 123.5,-168.26 120,-178.26 127,-178.26\"/>\n",
       "</g>\n",
       "<!-- 6 -->\n",
       "<g id=\"node7\" class=\"node\">\n",
       "<title>6</title>\n",
       "<text text-anchor=\"middle\" x=\"200.5\" y=\"-156.8\" font-family=\"Times,serif\" font-size=\"14.00\">&lt;parse_paren&gt;</text>\n",
       "</g>\n",
       "<!-- 2&#45;&gt;6 -->\n",
       "<g id=\"edge6\" class=\"edge\">\n",
       "<title>2&#45;&gt;6</title>\n",
       "<path fill=\"none\" stroke=\"black\" d=\"M133.88,-203.89C146.12,-196.1 166.69,-183.01 181.75,-173.43\"/>\n",
       "<polygon fill=\"black\" stroke=\"black\" points=\"183.72,-176.33 190.28,-168 179.96,-170.42 183.72,-176.33\"/>\n",
       "</g>\n",
       "<!-- 4 -->\n",
       "<g id=\"node5\" class=\"node\">\n",
       "<title>4</title>\n",
       "<text text-anchor=\"middle\" x=\"51.5\" y=\"-105.8\" font-family=\"Times,serif\" font-size=\"14.00\">1</text>\n",
       "</g>\n",
       "<!-- 3&#45;&gt;4 -->\n",
       "<g id=\"edge4\" class=\"edge\">\n",
       "<title>3&#45;&gt;4</title>\n",
       "<path fill=\"none\" stroke=\"black\" d=\"M51.5,-152.69C51.5,-146.18 51.5,-136.1 51.5,-127.43\"/>\n",
       "<polygon fill=\"black\" stroke=\"black\" points=\"55,-127.26 51.5,-117.26 48,-127.26 55,-127.26\"/>\n",
       "</g>\n",
       "<!-- 7 -->\n",
       "<g id=\"node8\" class=\"node\">\n",
       "<title>7</title>\n",
       "<text text-anchor=\"middle\" x=\"127.5\" y=\"-105.8\" font-family=\"Times,serif\" font-size=\"14.00\">(</text>\n",
       "</g>\n",
       "<!-- 6&#45;&gt;7 -->\n",
       "<g id=\"edge7\" class=\"edge\">\n",
       "<title>6&#45;&gt;7</title>\n",
       "<path fill=\"none\" stroke=\"black\" d=\"M190.65,-152.89C177.25,-143.89 153.3,-127.82 139.06,-118.26\"/>\n",
       "<polygon fill=\"black\" stroke=\"black\" points=\"140.95,-115.31 130.7,-112.65 137.05,-121.13 140.95,-115.31\"/>\n",
       "</g>\n",
       "<!-- 8 -->\n",
       "<g id=\"node9\" class=\"node\">\n",
       "<title>8</title>\n",
       "<text text-anchor=\"middle\" x=\"200.5\" y=\"-105.8\" font-family=\"Times,serif\" font-size=\"14.00\">&lt;parse_expr&gt;</text>\n",
       "</g>\n",
       "<!-- 6&#45;&gt;8 -->\n",
       "<g id=\"edge8\" class=\"edge\">\n",
       "<title>6&#45;&gt;8</title>\n",
       "<path fill=\"none\" stroke=\"black\" d=\"M200.5,-152.69C200.5,-146.18 200.5,-136.1 200.5,-127.43\"/>\n",
       "<polygon fill=\"black\" stroke=\"black\" points=\"204,-127.26 200.5,-117.26 197,-127.26 204,-127.26\"/>\n",
       "</g>\n",
       "<!-- 14 -->\n",
       "<g id=\"node15\" class=\"node\">\n",
       "<title>14</title>\n",
       "<text text-anchor=\"middle\" x=\"273.5\" y=\"-105.8\" font-family=\"Times,serif\" font-size=\"14.00\">)</text>\n",
       "</g>\n",
       "<!-- 6&#45;&gt;14 -->\n",
       "<g id=\"edge14\" class=\"edge\">\n",
       "<title>6&#45;&gt;14</title>\n",
       "<path fill=\"none\" stroke=\"black\" d=\"M210.35,-152.89C223.75,-143.89 247.7,-127.82 261.94,-118.26\"/>\n",
       "<polygon fill=\"black\" stroke=\"black\" points=\"263.95,-121.13 270.3,-112.65 260.05,-115.31 263.95,-121.13\"/>\n",
       "</g>\n",
       "<!-- 9 -->\n",
       "<g id=\"node10\" class=\"node\">\n",
       "<title>9</title>\n",
       "<text text-anchor=\"middle\" x=\"128.5\" y=\"-54.8\" font-family=\"Times,serif\" font-size=\"14.00\">&lt;parse_num&gt;</text>\n",
       "</g>\n",
       "<!-- 8&#45;&gt;9 -->\n",
       "<g id=\"edge9\" class=\"edge\">\n",
       "<title>8&#45;&gt;9</title>\n",
       "<path fill=\"none\" stroke=\"black\" d=\"M190.79,-101.89C179.45,-94.18 160.47,-81.26 146.44,-71.71\"/>\n",
       "<polygon fill=\"black\" stroke=\"black\" points=\"148.29,-68.74 138.06,-66 144.35,-74.52 148.29,-68.74\"/>\n",
       "</g>\n",
       "<!-- 11 -->\n",
       "<g id=\"node12\" class=\"node\">\n",
       "<title>11</title>\n",
       "<text text-anchor=\"middle\" x=\"200.5\" y=\"-54.8\" font-family=\"Times,serif\" font-size=\"14.00\">/</text>\n",
       "</g>\n",
       "<!-- 8&#45;&gt;11 -->\n",
       "<g id=\"edge11\" class=\"edge\">\n",
       "<title>8&#45;&gt;11</title>\n",
       "<path fill=\"none\" stroke=\"black\" d=\"M200.5,-101.69C200.5,-95.18 200.5,-85.1 200.5,-76.43\"/>\n",
       "<polygon fill=\"black\" stroke=\"black\" points=\"204,-76.26 200.5,-66.26 197,-76.26 204,-76.26\"/>\n",
       "</g>\n",
       "<!-- 12 -->\n",
       "<g id=\"node13\" class=\"node\">\n",
       "<title>12</title>\n",
       "<text text-anchor=\"middle\" x=\"272.5\" y=\"-54.8\" font-family=\"Times,serif\" font-size=\"14.00\">&lt;parse_num&gt;</text>\n",
       "</g>\n",
       "<!-- 8&#45;&gt;12 -->\n",
       "<g id=\"edge12\" class=\"edge\">\n",
       "<title>8&#45;&gt;12</title>\n",
       "<path fill=\"none\" stroke=\"black\" d=\"M210.21,-101.89C221.55,-94.18 240.53,-81.26 254.56,-71.71\"/>\n",
       "<polygon fill=\"black\" stroke=\"black\" points=\"256.65,-74.52 262.94,-66 252.71,-68.74 256.65,-74.52\"/>\n",
       "</g>\n",
       "<!-- 10 -->\n",
       "<g id=\"node11\" class=\"node\">\n",
       "<title>10</title>\n",
       "<text text-anchor=\"middle\" x=\"128.5\" y=\"-3.8\" font-family=\"Times,serif\" font-size=\"14.00\">41</text>\n",
       "</g>\n",
       "<!-- 9&#45;&gt;10 -->\n",
       "<g id=\"edge10\" class=\"edge\">\n",
       "<title>9&#45;&gt;10</title>\n",
       "<path fill=\"none\" stroke=\"black\" d=\"M128.5,-50.69C128.5,-44.18 128.5,-34.1 128.5,-25.43\"/>\n",
       "<polygon fill=\"black\" stroke=\"black\" points=\"132,-25.26 128.5,-15.26 125,-25.26 132,-25.26\"/>\n",
       "</g>\n",
       "<!-- 13 -->\n",
       "<g id=\"node14\" class=\"node\">\n",
       "<title>13</title>\n",
       "<text text-anchor=\"middle\" x=\"272.5\" y=\"-3.8\" font-family=\"Times,serif\" font-size=\"14.00\">2</text>\n",
       "</g>\n",
       "<!-- 12&#45;&gt;13 -->\n",
       "<g id=\"edge13\" class=\"edge\">\n",
       "<title>12&#45;&gt;13</title>\n",
       "<path fill=\"none\" stroke=\"black\" d=\"M272.5,-50.69C272.5,-44.18 272.5,-34.1 272.5,-25.43\"/>\n",
       "<polygon fill=\"black\" stroke=\"black\" points=\"276,-25.26 272.5,-15.26 269,-25.26 276,-25.26\"/>\n",
       "</g>\n",
       "</g>\n",
       "</svg>\n"
      ],
      "text/plain": [
       "<graphviz.dot.Digraph at 0x7f972cc66950>"
      ]
     },
     "metadata": {},
     "output_type": "display_data"
    },
    {
     "name": "stdout",
     "output_type": "stream",
     "text": [
      "12+34\n"
     ]
    },
    {
     "data": {
      "image/svg+xml": [
       "<?xml version=\"1.0\" encoding=\"UTF-8\" standalone=\"no\"?>\n",
       "<!DOCTYPE svg PUBLIC \"-//W3C//DTD SVG 1.1//EN\"\n",
       " \"http://www.w3.org/Graphics/SVG/1.1/DTD/svg11.dtd\">\n",
       "<!-- Generated by graphviz version 2.43.0 (0)\n",
       " -->\n",
       "<!-- Title: %3 Pages: 1 -->\n",
       "<svg width=\"263pt\" height=\"227pt\"\n",
       " viewBox=\"0.00 0.00 263.00 227.00\" xmlns=\"http://www.w3.org/2000/svg\" xmlns:xlink=\"http://www.w3.org/1999/xlink\">\n",
       "<g id=\"graph0\" class=\"graph\" transform=\"scale(1 1) rotate(0) translate(4 223)\">\n",
       "<title>%3</title>\n",
       "<polygon fill=\"white\" stroke=\"transparent\" points=\"-4,4 -4,-223 259,-223 259,4 -4,4\"/>\n",
       "<!-- 0 -->\n",
       "<g id=\"node1\" class=\"node\">\n",
       "<title>0</title>\n",
       "<text text-anchor=\"middle\" x=\"127.5\" y=\"-207.8\" font-family=\"Times,serif\" font-size=\"14.00\">&lt;START&gt;</text>\n",
       "</g>\n",
       "<!-- 1 -->\n",
       "<g id=\"node2\" class=\"node\">\n",
       "<title>1</title>\n",
       "<text text-anchor=\"middle\" x=\"127.5\" y=\"-156.8\" font-family=\"Times,serif\" font-size=\"14.00\">&lt;main&gt;</text>\n",
       "</g>\n",
       "<!-- 0&#45;&gt;1 -->\n",
       "<g id=\"edge1\" class=\"edge\">\n",
       "<title>0&#45;&gt;1</title>\n",
       "<path fill=\"none\" stroke=\"black\" d=\"M127.5,-203.69C127.5,-197.18 127.5,-187.1 127.5,-178.43\"/>\n",
       "<polygon fill=\"black\" stroke=\"black\" points=\"131,-178.26 127.5,-168.26 124,-178.26 131,-178.26\"/>\n",
       "</g>\n",
       "<!-- 2 -->\n",
       "<g id=\"node3\" class=\"node\">\n",
       "<title>2</title>\n",
       "<text text-anchor=\"middle\" x=\"127.5\" y=\"-105.8\" font-family=\"Times,serif\" font-size=\"14.00\">&lt;parse_expr&gt;</text>\n",
       "</g>\n",
       "<!-- 1&#45;&gt;2 -->\n",
       "<g id=\"edge2\" class=\"edge\">\n",
       "<title>1&#45;&gt;2</title>\n",
       "<path fill=\"none\" stroke=\"black\" d=\"M127.5,-152.69C127.5,-146.18 127.5,-136.1 127.5,-127.43\"/>\n",
       "<polygon fill=\"black\" stroke=\"black\" points=\"131,-127.26 127.5,-117.26 124,-127.26 131,-127.26\"/>\n",
       "</g>\n",
       "<!-- 3 -->\n",
       "<g id=\"node4\" class=\"node\">\n",
       "<title>3</title>\n",
       "<text text-anchor=\"middle\" x=\"51.5\" y=\"-54.8\" font-family=\"Times,serif\" font-size=\"14.00\">&lt;parse_num&gt;</text>\n",
       "</g>\n",
       "<!-- 2&#45;&gt;3 -->\n",
       "<g id=\"edge3\" class=\"edge\">\n",
       "<title>2&#45;&gt;3</title>\n",
       "<path fill=\"none\" stroke=\"black\" d=\"M117.25,-101.89C105.17,-94.1 84.87,-81.01 70.01,-71.43\"/>\n",
       "<polygon fill=\"black\" stroke=\"black\" points=\"71.89,-68.48 61.59,-66 68.1,-74.36 71.89,-68.48\"/>\n",
       "</g>\n",
       "<!-- 5 -->\n",
       "<g id=\"node6\" class=\"node\">\n",
       "<title>5</title>\n",
       "<text text-anchor=\"middle\" x=\"127.5\" y=\"-54.8\" font-family=\"Times,serif\" font-size=\"14.00\">+</text>\n",
       "</g>\n",
       "<!-- 2&#45;&gt;5 -->\n",
       "<g id=\"edge5\" class=\"edge\">\n",
       "<title>2&#45;&gt;5</title>\n",
       "<path fill=\"none\" stroke=\"black\" d=\"M127.5,-101.69C127.5,-95.18 127.5,-85.1 127.5,-76.43\"/>\n",
       "<polygon fill=\"black\" stroke=\"black\" points=\"131,-76.26 127.5,-66.26 124,-76.26 131,-76.26\"/>\n",
       "</g>\n",
       "<!-- 6 -->\n",
       "<g id=\"node7\" class=\"node\">\n",
       "<title>6</title>\n",
       "<text text-anchor=\"middle\" x=\"203.5\" y=\"-54.8\" font-family=\"Times,serif\" font-size=\"14.00\">&lt;parse_num&gt;</text>\n",
       "</g>\n",
       "<!-- 2&#45;&gt;6 -->\n",
       "<g id=\"edge6\" class=\"edge\">\n",
       "<title>2&#45;&gt;6</title>\n",
       "<path fill=\"none\" stroke=\"black\" d=\"M137.75,-101.89C149.83,-94.1 170.13,-81.01 184.99,-71.43\"/>\n",
       "<polygon fill=\"black\" stroke=\"black\" points=\"186.9,-74.36 193.41,-66 183.11,-68.48 186.9,-74.36\"/>\n",
       "</g>\n",
       "<!-- 4 -->\n",
       "<g id=\"node5\" class=\"node\">\n",
       "<title>4</title>\n",
       "<text text-anchor=\"middle\" x=\"51.5\" y=\"-3.8\" font-family=\"Times,serif\" font-size=\"14.00\">12</text>\n",
       "</g>\n",
       "<!-- 3&#45;&gt;4 -->\n",
       "<g id=\"edge4\" class=\"edge\">\n",
       "<title>3&#45;&gt;4</title>\n",
       "<path fill=\"none\" stroke=\"black\" d=\"M51.5,-50.69C51.5,-44.18 51.5,-34.1 51.5,-25.43\"/>\n",
       "<polygon fill=\"black\" stroke=\"black\" points=\"55,-25.26 51.5,-15.26 48,-25.26 55,-25.26\"/>\n",
       "</g>\n",
       "<!-- 7 -->\n",
       "<g id=\"node8\" class=\"node\">\n",
       "<title>7</title>\n",
       "<text text-anchor=\"middle\" x=\"203.5\" y=\"-3.8\" font-family=\"Times,serif\" font-size=\"14.00\">34</text>\n",
       "</g>\n",
       "<!-- 6&#45;&gt;7 -->\n",
       "<g id=\"edge7\" class=\"edge\">\n",
       "<title>6&#45;&gt;7</title>\n",
       "<path fill=\"none\" stroke=\"black\" d=\"M203.5,-50.69C203.5,-44.18 203.5,-34.1 203.5,-25.43\"/>\n",
       "<polygon fill=\"black\" stroke=\"black\" points=\"207,-25.26 203.5,-15.26 200,-25.26 207,-25.26\"/>\n",
       "</g>\n",
       "</g>\n",
       "</svg>\n"
      ],
      "text/plain": [
       "<graphviz.dot.Digraph at 0x7f972cc66290>"
      ]
     },
     "metadata": {},
     "output_type": "display_data"
    }
   ],
   "source": [
    "generate_trees_from_trace(call_traces)"
   ]
  },
  {
   "cell_type": "code",
   "execution_count": 500,
   "metadata": {
    "ExecuteTime": {
     "end_time": "2021-10-06T12:16:26.734944Z",
     "start_time": "2021-10-06T12:16:26.731662Z"
    },
    "scrolled": true
   },
   "outputs": [],
   "source": [
    "json_samples = [\n",
    "    i.strip() for i in '''\\\n",
    "{\"color\": [8, 67]}\n",
    "{\"c\": \"yellow\", \"b\": \"tryrfg\"}\n",
    "{\"color\": \"yellow\", \"x\" : {\"a\": \"b\"}}\n",
    "{\"array\": [\"8\", \"7\", \"5\"], \"onclick\": \"Createewoc\", \"x\": {\"a\": \"b\"}}\n",
    "{\"value\": \"New\", \"onclick\": \"CreateNewDoc()\"}\n",
    "'''.split('\\n') if i.strip()\n",
    "]"
   ]
  },
  {
   "cell_type": "code",
   "execution_count": 501,
   "metadata": {
    "ExecuteTime": {
     "end_time": "2021-10-06T12:39:53.444969Z",
     "start_time": "2021-10-06T12:16:26.736596Z"
    }
   },
   "outputs": [
    {
     "name": "stdout",
     "output_type": "stream",
     "text": [
      "/bin/bash: -c: line 0: syntax error near unexpected token `('\r\n",
      "/bin/bash: -c: line 0: `gdb --batch-silent -ex \"py arg0='{\"value\": \"New\", \"onclick\": \"CreateNewDoc()\"}'\" -ex 'py arg1=\"subject/json/json.c\"' -x BMiner.py'\r\n"
     ]
    }
   ],
   "source": [
    "call_traces1 = generate_trace(json_samples, 'subject/json/json.c')"
   ]
  },
  {
   "cell_type": "code",
   "execution_count": 502,
   "metadata": {
    "ExecuteTime": {
     "end_time": "2021-10-06T12:39:53.774375Z",
     "start_time": "2021-10-06T12:39:53.448139Z"
    },
    "scrolled": false
   },
   "outputs": [
    {
     "name": "stdout",
     "output_type": "stream",
     "text": [
      "{\"color\": [8, 67]}\n"
     ]
    },
    {
     "data": {
      "image/svg+xml": [
       "<?xml version=\"1.0\" encoding=\"UTF-8\" standalone=\"no\"?>\n",
       "<!DOCTYPE svg PUBLIC \"-//W3C//DTD SVG 1.1//EN\"\n",
       " \"http://www.w3.org/Graphics/SVG/1.1/DTD/svg11.dtd\">\n",
       "<!-- Generated by graphviz version 2.43.0 (0)\n",
       " -->\n",
       "<!-- Title: %3 Pages: 1 -->\n",
       "<svg width=\"954pt\" height=\"482pt\"\n",
       " viewBox=\"0.00 0.00 954.00 482.00\" xmlns=\"http://www.w3.org/2000/svg\" xmlns:xlink=\"http://www.w3.org/1999/xlink\">\n",
       "<g id=\"graph0\" class=\"graph\" transform=\"scale(1 1) rotate(0) translate(4 478)\">\n",
       "<title>%3</title>\n",
       "<polygon fill=\"white\" stroke=\"transparent\" points=\"-4,4 -4,-478 950,-478 950,4 -4,4\"/>\n",
       "<!-- 0 -->\n",
       "<g id=\"node1\" class=\"node\">\n",
       "<title>0</title>\n",
       "<text text-anchor=\"middle\" x=\"176\" y=\"-462.8\" font-family=\"Times,serif\" font-size=\"14.00\">&lt;START&gt;</text>\n",
       "</g>\n",
       "<!-- 1 -->\n",
       "<g id=\"node2\" class=\"node\">\n",
       "<title>1</title>\n",
       "<text text-anchor=\"middle\" x=\"176\" y=\"-411.8\" font-family=\"Times,serif\" font-size=\"14.00\">&lt;main&gt;</text>\n",
       "</g>\n",
       "<!-- 0&#45;&gt;1 -->\n",
       "<g id=\"edge1\" class=\"edge\">\n",
       "<title>0&#45;&gt;1</title>\n",
       "<path fill=\"none\" stroke=\"black\" d=\"M176,-458.69C176,-452.18 176,-442.1 176,-433.43\"/>\n",
       "<polygon fill=\"black\" stroke=\"black\" points=\"179.5,-433.26 176,-423.26 172.5,-433.26 179.5,-433.26\"/>\n",
       "</g>\n",
       "<!-- 2 -->\n",
       "<g id=\"node3\" class=\"node\">\n",
       "<title>2</title>\n",
       "<text text-anchor=\"middle\" x=\"176\" y=\"-360.8\" font-family=\"Times,serif\" font-size=\"14.00\">&lt;json_parse&gt;</text>\n",
       "</g>\n",
       "<!-- 1&#45;&gt;2 -->\n",
       "<g id=\"edge2\" class=\"edge\">\n",
       "<title>1&#45;&gt;2</title>\n",
       "<path fill=\"none\" stroke=\"black\" d=\"M176,-407.69C176,-401.18 176,-391.1 176,-382.43\"/>\n",
       "<polygon fill=\"black\" stroke=\"black\" points=\"179.5,-382.26 176,-372.26 172.5,-382.26 179.5,-382.26\"/>\n",
       "</g>\n",
       "<!-- 3 -->\n",
       "<g id=\"node4\" class=\"node\">\n",
       "<title>3</title>\n",
       "<text text-anchor=\"middle\" x=\"176\" y=\"-309.8\" font-family=\"Times,serif\" font-size=\"14.00\">&lt;json_parse_value&gt;</text>\n",
       "</g>\n",
       "<!-- 2&#45;&gt;3 -->\n",
       "<g id=\"edge3\" class=\"edge\">\n",
       "<title>2&#45;&gt;3</title>\n",
       "<path fill=\"none\" stroke=\"black\" d=\"M176,-356.69C176,-350.18 176,-340.1 176,-331.43\"/>\n",
       "<polygon fill=\"black\" stroke=\"black\" points=\"179.5,-331.26 176,-321.26 172.5,-331.26 179.5,-331.26\"/>\n",
       "</g>\n",
       "<!-- 4 -->\n",
       "<g id=\"node5\" class=\"node\">\n",
       "<title>4</title>\n",
       "<text text-anchor=\"middle\" x=\"94\" y=\"-258.8\" font-family=\"Times,serif\" font-size=\"14.00\">&lt;skip_whitespace&gt;</text>\n",
       "</g>\n",
       "<!-- 3&#45;&gt;4 -->\n",
       "<g id=\"edge4\" class=\"edge\">\n",
       "<title>3&#45;&gt;4</title>\n",
       "<path fill=\"none\" stroke=\"black\" d=\"M164.94,-305.89C151.79,-298.03 129.59,-284.77 113.52,-275.16\"/>\n",
       "<polygon fill=\"black\" stroke=\"black\" points=\"115.26,-272.13 104.88,-270 111.67,-278.14 115.26,-272.13\"/>\n",
       "</g>\n",
       "<!-- 7 -->\n",
       "<g id=\"node8\" class=\"node\">\n",
       "<title>7</title>\n",
       "<text text-anchor=\"middle\" x=\"310\" y=\"-258.8\" font-family=\"Times,serif\" font-size=\"14.00\">&lt;json_parse_object&gt;</text>\n",
       "</g>\n",
       "<!-- 3&#45;&gt;7 -->\n",
       "<g id=\"edge7\" class=\"edge\">\n",
       "<title>3&#45;&gt;7</title>\n",
       "<path fill=\"none\" stroke=\"black\" d=\"M193.79,-305.99C216.52,-297.68 256.08,-283.22 282.65,-273.5\"/>\n",
       "<polygon fill=\"black\" stroke=\"black\" points=\"283.94,-276.76 292.13,-270.03 281.54,-270.18 283.94,-276.76\"/>\n",
       "</g>\n",
       "<!-- 5 -->\n",
       "<g id=\"node6\" class=\"node\">\n",
       "<title>5</title>\n",
       "<text text-anchor=\"middle\" x=\"42\" y=\"-207.8\" font-family=\"Times,serif\" font-size=\"14.00\">&lt;isspace_&gt;</text>\n",
       "</g>\n",
       "<!-- 4&#45;&gt;5 -->\n",
       "<g id=\"edge5\" class=\"edge\">\n",
       "<title>4&#45;&gt;5</title>\n",
       "<path fill=\"none\" stroke=\"black\" d=\"M86.77,-254.69C79.01,-247.37 66.47,-235.56 56.63,-226.29\"/>\n",
       "<polygon fill=\"black\" stroke=\"black\" points=\"58.85,-223.57 49.17,-219.26 54.05,-228.66 58.85,-223.57\"/>\n",
       "</g>\n",
       "<!-- 6 -->\n",
       "<g id=\"node7\" class=\"node\">\n",
       "<title>6</title>\n",
       "<text text-anchor=\"middle\" x=\"42\" y=\"-156.8\" font-family=\"Times,serif\" font-size=\"14.00\">{</text>\n",
       "</g>\n",
       "<!-- 5&#45;&gt;6 -->\n",
       "<g id=\"edge6\" class=\"edge\">\n",
       "<title>5&#45;&gt;6</title>\n",
       "<path fill=\"none\" stroke=\"black\" d=\"M42,-203.69C42,-197.18 42,-187.1 42,-178.43\"/>\n",
       "<polygon fill=\"black\" stroke=\"black\" points=\"45.5,-178.26 42,-168.26 38.5,-178.26 45.5,-178.26\"/>\n",
       "</g>\n",
       "<!-- 8 -->\n",
       "<g id=\"node9\" class=\"node\">\n",
       "<title>8</title>\n",
       "<text text-anchor=\"middle\" x=\"175\" y=\"-207.8\" font-family=\"Times,serif\" font-size=\"14.00\">&lt;json_parse_value&gt;</text>\n",
       "</g>\n",
       "<!-- 7&#45;&gt;8 -->\n",
       "<g id=\"edge8\" class=\"edge\">\n",
       "<title>7&#45;&gt;8</title>\n",
       "<path fill=\"none\" stroke=\"black\" d=\"M292.07,-254.99C269.18,-246.68 229.32,-232.22 202.56,-222.5\"/>\n",
       "<polygon fill=\"black\" stroke=\"black\" points=\"203.6,-219.16 193,-219.03 201.21,-225.74 203.6,-219.16\"/>\n",
       "</g>\n",
       "<!-- 10 -->\n",
       "<g id=\"node11\" class=\"node\">\n",
       "<title>10</title>\n",
       "<text text-anchor=\"middle\" x=\"310\" y=\"-207.8\" font-family=\"Times,serif\" font-size=\"14.00\">&lt;has_char&gt;</text>\n",
       "</g>\n",
       "<!-- 7&#45;&gt;10 -->\n",
       "<g id=\"edge10\" class=\"edge\">\n",
       "<title>7&#45;&gt;10</title>\n",
       "<path fill=\"none\" stroke=\"black\" d=\"M310,-254.69C310,-248.18 310,-238.1 310,-229.43\"/>\n",
       "<polygon fill=\"black\" stroke=\"black\" points=\"313.5,-229.26 310,-219.26 306.5,-229.26 313.5,-229.26\"/>\n",
       "</g>\n",
       "<!-- 13 -->\n",
       "<g id=\"node14\" class=\"node\">\n",
       "<title>13</title>\n",
       "<text text-anchor=\"middle\" x=\"446\" y=\"-207.8\" font-family=\"Times,serif\" font-size=\"14.00\">&lt;json_parse_value&gt;</text>\n",
       "</g>\n",
       "<!-- 7&#45;&gt;13 -->\n",
       "<g id=\"edge13\" class=\"edge\">\n",
       "<title>7&#45;&gt;13</title>\n",
       "<path fill=\"none\" stroke=\"black\" d=\"M328.06,-254.99C351.12,-246.68 391.27,-232.22 418.24,-222.5\"/>\n",
       "<polygon fill=\"black\" stroke=\"black\" points=\"419.64,-225.72 427.87,-219.03 417.27,-219.13 419.64,-225.72\"/>\n",
       "</g>\n",
       "<!-- 30 -->\n",
       "<g id=\"node31\" class=\"node\">\n",
       "<title>30</title>\n",
       "<text text-anchor=\"middle\" x=\"642\" y=\"-207.8\" font-family=\"Times,serif\" font-size=\"14.00\">&lt;has_char&gt;</text>\n",
       "</g>\n",
       "<!-- 7&#45;&gt;30 -->\n",
       "<g id=\"edge30\" class=\"edge\">\n",
       "<title>7&#45;&gt;30</title>\n",
       "<path fill=\"none\" stroke=\"black\" d=\"M354.09,-254.99C414.45,-246.08 522.73,-230.1 587.92,-220.48\"/>\n",
       "<polygon fill=\"black\" stroke=\"black\" points=\"588.61,-223.92 598,-218.99 587.59,-216.99 588.61,-223.92\"/>\n",
       "</g>\n",
       "<!-- 9 -->\n",
       "<g id=\"node10\" class=\"node\">\n",
       "<title>9</title>\n",
       "<text text-anchor=\"middle\" x=\"174\" y=\"-156.8\" font-family=\"Times,serif\" font-size=\"14.00\">&quot;color&quot;</text>\n",
       "</g>\n",
       "<!-- 8&#45;&gt;9 -->\n",
       "<g id=\"edge9\" class=\"edge\">\n",
       "<title>8&#45;&gt;9</title>\n",
       "<path fill=\"none\" stroke=\"black\" d=\"M174.86,-203.69C174.73,-197.18 174.52,-187.1 174.35,-178.43\"/>\n",
       "<polygon fill=\"black\" stroke=\"black\" points=\"177.84,-178.18 174.14,-168.26 170.84,-178.32 177.84,-178.18\"/>\n",
       "</g>\n",
       "<!-- 11 -->\n",
       "<g id=\"node12\" class=\"node\">\n",
       "<title>11</title>\n",
       "<text text-anchor=\"middle\" x=\"287\" y=\"-156.8\" font-family=\"Times,serif\" font-size=\"14.00\">&lt;skip_whitespace&gt;</text>\n",
       "</g>\n",
       "<!-- 10&#45;&gt;11 -->\n",
       "<g id=\"edge11\" class=\"edge\">\n",
       "<title>10&#45;&gt;11</title>\n",
       "<path fill=\"none\" stroke=\"black\" d=\"M306.8,-203.69C303.64,-196.96 298.7,-186.42 294.54,-177.56\"/>\n",
       "<polygon fill=\"black\" stroke=\"black\" points=\"297.59,-175.82 290.17,-168.26 291.25,-178.79 297.59,-175.82\"/>\n",
       "</g>\n",
       "<!-- 12 -->\n",
       "<g id=\"node13\" class=\"node\">\n",
       "<title>12</title>\n",
       "<text text-anchor=\"middle\" x=\"282\" y=\"-105.8\" font-family=\"Times,serif\" font-size=\"14.00\">:</text>\n",
       "</g>\n",
       "<!-- 11&#45;&gt;12 -->\n",
       "<g id=\"edge12\" class=\"edge\">\n",
       "<title>11&#45;&gt;12</title>\n",
       "<path fill=\"none\" stroke=\"black\" d=\"M286.3,-152.69C285.64,-146.18 284.61,-136.1 283.73,-127.43\"/>\n",
       "<polygon fill=\"black\" stroke=\"black\" points=\"287.19,-126.85 282.69,-117.26 280.22,-127.56 287.19,-126.85\"/>\n",
       "</g>\n",
       "<!-- 14 -->\n",
       "<g id=\"node15\" class=\"node\">\n",
       "<title>14</title>\n",
       "<text text-anchor=\"middle\" x=\"446\" y=\"-156.8\" font-family=\"Times,serif\" font-size=\"14.00\">&lt;skip_whitespace&gt;</text>\n",
       "</g>\n",
       "<!-- 13&#45;&gt;14 -->\n",
       "<g id=\"edge14\" class=\"edge\">\n",
       "<title>13&#45;&gt;14</title>\n",
       "<path fill=\"none\" stroke=\"black\" d=\"M446,-203.69C446,-197.18 446,-187.1 446,-178.43\"/>\n",
       "<polygon fill=\"black\" stroke=\"black\" points=\"449.5,-178.26 446,-168.26 442.5,-178.26 449.5,-178.26\"/>\n",
       "</g>\n",
       "<!-- 19 -->\n",
       "<g id=\"node20\" class=\"node\">\n",
       "<title>19</title>\n",
       "<text text-anchor=\"middle\" x=\"660\" y=\"-156.8\" font-family=\"Times,serif\" font-size=\"14.00\">&lt;json_parse_array&gt;</text>\n",
       "</g>\n",
       "<!-- 13&#45;&gt;19 -->\n",
       "<g id=\"edge19\" class=\"edge\">\n",
       "<title>13&#45;&gt;19</title>\n",
       "<path fill=\"none\" stroke=\"black\" d=\"M474.42,-203.99C512.23,-195.34 579.22,-180 621.53,-170.31\"/>\n",
       "<polygon fill=\"black\" stroke=\"black\" points=\"622.5,-173.68 631.46,-168.03 620.94,-166.85 622.5,-173.68\"/>\n",
       "</g>\n",
       "<!-- 15 -->\n",
       "<g id=\"node16\" class=\"node\">\n",
       "<title>15</title>\n",
       "<text text-anchor=\"middle\" x=\"344\" y=\"-105.8\" font-family=\"Times,serif\" font-size=\"14.00\">&lt;isspace_&gt;</text>\n",
       "</g>\n",
       "<!-- 14&#45;&gt;15 -->\n",
       "<g id=\"edge15\" class=\"edge\">\n",
       "<title>14&#45;&gt;15</title>\n",
       "<path fill=\"none\" stroke=\"black\" d=\"M432.24,-152.89C415.42,-144.81 386.71,-131.02 366.62,-121.37\"/>\n",
       "<polygon fill=\"black\" stroke=\"black\" points=\"368.07,-118.18 357.54,-117 365.04,-124.49 368.07,-118.18\"/>\n",
       "</g>\n",
       "<!-- 17 -->\n",
       "<g id=\"node18\" class=\"node\">\n",
       "<title>17</title>\n",
       "<text text-anchor=\"middle\" x=\"446\" y=\"-105.8\" font-family=\"Times,serif\" font-size=\"14.00\">&lt;isspace_&gt;</text>\n",
       "</g>\n",
       "<!-- 14&#45;&gt;17 -->\n",
       "<g id=\"edge17\" class=\"edge\">\n",
       "<title>14&#45;&gt;17</title>\n",
       "<path fill=\"none\" stroke=\"black\" d=\"M446,-152.69C446,-146.18 446,-136.1 446,-127.43\"/>\n",
       "<polygon fill=\"black\" stroke=\"black\" points=\"449.5,-127.26 446,-117.26 442.5,-127.26 449.5,-127.26\"/>\n",
       "</g>\n",
       "<!-- 16 -->\n",
       "<g id=\"node17\" class=\"node\">\n",
       "<title>16</title>\n",
       "<text text-anchor=\"middle\" x=\"344\" y=\"-54.8\" font-family=\"Times,serif\" font-size=\"14.00\"> </text>\n",
       "</g>\n",
       "<!-- 15&#45;&gt;16 -->\n",
       "<g id=\"edge16\" class=\"edge\">\n",
       "<title>15&#45;&gt;16</title>\n",
       "<path fill=\"none\" stroke=\"black\" d=\"M344,-101.69C344,-95.18 344,-85.1 344,-76.43\"/>\n",
       "<polygon fill=\"black\" stroke=\"black\" points=\"347.5,-76.26 344,-66.26 340.5,-76.26 347.5,-76.26\"/>\n",
       "</g>\n",
       "<!-- 18 -->\n",
       "<g id=\"node19\" class=\"node\">\n",
       "<title>18</title>\n",
       "<text text-anchor=\"middle\" x=\"446\" y=\"-54.8\" font-family=\"Times,serif\" font-size=\"14.00\">[</text>\n",
       "</g>\n",
       "<!-- 17&#45;&gt;18 -->\n",
       "<g id=\"edge18\" class=\"edge\">\n",
       "<title>17&#45;&gt;18</title>\n",
       "<path fill=\"none\" stroke=\"black\" d=\"M446,-101.69C446,-95.18 446,-85.1 446,-76.43\"/>\n",
       "<polygon fill=\"black\" stroke=\"black\" points=\"449.5,-76.26 446,-66.26 442.5,-76.26 449.5,-76.26\"/>\n",
       "</g>\n",
       "<!-- 20 -->\n",
       "<g id=\"node21\" class=\"node\">\n",
       "<title>20</title>\n",
       "<text text-anchor=\"middle\" x=\"579\" y=\"-105.8\" font-family=\"Times,serif\" font-size=\"14.00\">&lt;json_parse_value&gt;</text>\n",
       "</g>\n",
       "<!-- 19&#45;&gt;20 -->\n",
       "<g id=\"edge20\" class=\"edge\">\n",
       "<title>19&#45;&gt;20</title>\n",
       "<path fill=\"none\" stroke=\"black\" d=\"M649.08,-152.89C636.2,-145.1 614.56,-132.01 598.73,-122.43\"/>\n",
       "<polygon fill=\"black\" stroke=\"black\" points=\"600.12,-119.19 589.75,-117 596.5,-125.17 600.12,-119.19\"/>\n",
       "</g>\n",
       "<!-- 23 -->\n",
       "<g id=\"node24\" class=\"node\">\n",
       "<title>23</title>\n",
       "<text text-anchor=\"middle\" x=\"714\" y=\"-105.8\" font-family=\"Times,serif\" font-size=\"14.00\">&lt;has_char&gt;</text>\n",
       "</g>\n",
       "<!-- 19&#45;&gt;23 -->\n",
       "<g id=\"edge23\" class=\"edge\">\n",
       "<title>19&#45;&gt;23</title>\n",
       "<path fill=\"none\" stroke=\"black\" d=\"M667.51,-152.69C675.65,-145.3 688.85,-133.32 699.11,-124.01\"/>\n",
       "<polygon fill=\"black\" stroke=\"black\" points=\"701.5,-126.57 706.56,-117.26 696.8,-121.38 701.5,-126.57\"/>\n",
       "</g>\n",
       "<!-- 26 -->\n",
       "<g id=\"node27\" class=\"node\">\n",
       "<title>26</title>\n",
       "<text text-anchor=\"middle\" x=\"849\" y=\"-105.8\" font-family=\"Times,serif\" font-size=\"14.00\">&lt;json_parse_value&gt;</text>\n",
       "</g>\n",
       "<!-- 19&#45;&gt;26 -->\n",
       "<g id=\"edge26\" class=\"edge\">\n",
       "<title>19&#45;&gt;26</title>\n",
       "<path fill=\"none\" stroke=\"black\" d=\"M685.1,-152.99C718.14,-144.43 776.41,-129.32 813.83,-119.62\"/>\n",
       "<polygon fill=\"black\" stroke=\"black\" points=\"815,-122.93 823.8,-117.03 813.24,-116.16 815,-122.93\"/>\n",
       "</g>\n",
       "<!-- 29 -->\n",
       "<g id=\"node30\" class=\"node\">\n",
       "<title>29</title>\n",
       "<text text-anchor=\"middle\" x=\"943\" y=\"-105.8\" font-family=\"Times,serif\" font-size=\"14.00\">]</text>\n",
       "</g>\n",
       "<!-- 19&#45;&gt;29 -->\n",
       "<g id=\"edge29\" class=\"edge\">\n",
       "<title>19&#45;&gt;29</title>\n",
       "<path fill=\"none\" stroke=\"black\" d=\"M716.15,-152.98C783.52,-144.75 892.26,-130.1 931,-117 931.1,-116.97 931.2,-116.93 931.3,-116.9\"/>\n",
       "<polygon fill=\"black\" stroke=\"black\" points=\"932.63,-120.15 939.98,-112.52 929.47,-113.9 932.63,-120.15\"/>\n",
       "</g>\n",
       "<!-- 21 -->\n",
       "<g id=\"node22\" class=\"node\">\n",
       "<title>21</title>\n",
       "<text text-anchor=\"middle\" x=\"555\" y=\"-54.8\" font-family=\"Times,serif\" font-size=\"14.00\">&lt;skip_whitespace&gt;</text>\n",
       "</g>\n",
       "<!-- 20&#45;&gt;21 -->\n",
       "<g id=\"edge21\" class=\"edge\">\n",
       "<title>20&#45;&gt;21</title>\n",
       "<path fill=\"none\" stroke=\"black\" d=\"M575.66,-101.69C572.33,-94.88 567.09,-84.19 562.72,-75.27\"/>\n",
       "<polygon fill=\"black\" stroke=\"black\" points=\"565.85,-73.7 558.31,-66.26 559.56,-76.78 565.85,-73.7\"/>\n",
       "</g>\n",
       "<!-- 22 -->\n",
       "<g id=\"node23\" class=\"node\">\n",
       "<title>22</title>\n",
       "<text text-anchor=\"middle\" x=\"555\" y=\"-3.8\" font-family=\"Times,serif\" font-size=\"14.00\">8</text>\n",
       "</g>\n",
       "<!-- 21&#45;&gt;22 -->\n",
       "<g id=\"edge22\" class=\"edge\">\n",
       "<title>21&#45;&gt;22</title>\n",
       "<path fill=\"none\" stroke=\"black\" d=\"M555,-50.69C555,-44.18 555,-34.1 555,-25.43\"/>\n",
       "<polygon fill=\"black\" stroke=\"black\" points=\"558.5,-25.26 555,-15.26 551.5,-25.26 558.5,-25.26\"/>\n",
       "</g>\n",
       "<!-- 24 -->\n",
       "<g id=\"node25\" class=\"node\">\n",
       "<title>24</title>\n",
       "<text text-anchor=\"middle\" x=\"714\" y=\"-54.8\" font-family=\"Times,serif\" font-size=\"14.00\">&lt;skip_whitespace&gt;</text>\n",
       "</g>\n",
       "<!-- 23&#45;&gt;24 -->\n",
       "<g id=\"edge24\" class=\"edge\">\n",
       "<title>23&#45;&gt;24</title>\n",
       "<path fill=\"none\" stroke=\"black\" d=\"M714,-101.69C714,-95.18 714,-85.1 714,-76.43\"/>\n",
       "<polygon fill=\"black\" stroke=\"black\" points=\"717.5,-76.26 714,-66.26 710.5,-76.26 717.5,-76.26\"/>\n",
       "</g>\n",
       "<!-- 25 -->\n",
       "<g id=\"node26\" class=\"node\">\n",
       "<title>25</title>\n",
       "<text text-anchor=\"middle\" x=\"714\" y=\"-3.8\" font-family=\"Times,serif\" font-size=\"14.00\">,</text>\n",
       "</g>\n",
       "<!-- 24&#45;&gt;25 -->\n",
       "<g id=\"edge25\" class=\"edge\">\n",
       "<title>24&#45;&gt;25</title>\n",
       "<path fill=\"none\" stroke=\"black\" d=\"M714,-50.69C714,-44.18 714,-34.1 714,-25.43\"/>\n",
       "<polygon fill=\"black\" stroke=\"black\" points=\"717.5,-25.26 714,-15.26 710.5,-25.26 717.5,-25.26\"/>\n",
       "</g>\n",
       "<!-- 27 -->\n",
       "<g id=\"node28\" class=\"node\">\n",
       "<title>27</title>\n",
       "<text text-anchor=\"middle\" x=\"873\" y=\"-54.8\" font-family=\"Times,serif\" font-size=\"14.00\">&lt;skip_whitespace&gt;</text>\n",
       "</g>\n",
       "<!-- 26&#45;&gt;27 -->\n",
       "<g id=\"edge27\" class=\"edge\">\n",
       "<title>26&#45;&gt;27</title>\n",
       "<path fill=\"none\" stroke=\"black\" d=\"M852.34,-101.69C855.67,-94.88 860.91,-84.19 865.28,-75.27\"/>\n",
       "<polygon fill=\"black\" stroke=\"black\" points=\"868.44,-76.78 869.69,-66.26 862.15,-73.7 868.44,-76.78\"/>\n",
       "</g>\n",
       "<!-- 28 -->\n",
       "<g id=\"node29\" class=\"node\">\n",
       "<title>28</title>\n",
       "<text text-anchor=\"middle\" x=\"873\" y=\"-3.8\" font-family=\"Times,serif\" font-size=\"14.00\"> 67</text>\n",
       "</g>\n",
       "<!-- 27&#45;&gt;28 -->\n",
       "<g id=\"edge28\" class=\"edge\">\n",
       "<title>27&#45;&gt;28</title>\n",
       "<path fill=\"none\" stroke=\"black\" d=\"M873,-50.69C873,-44.18 873,-34.1 873,-25.43\"/>\n",
       "<polygon fill=\"black\" stroke=\"black\" points=\"876.5,-25.26 873,-15.26 869.5,-25.26 876.5,-25.26\"/>\n",
       "</g>\n",
       "<!-- 31 -->\n",
       "<g id=\"node32\" class=\"node\">\n",
       "<title>31</title>\n",
       "<text text-anchor=\"middle\" x=\"756\" y=\"-156.8\" font-family=\"Times,serif\" font-size=\"14.00\">}</text>\n",
       "</g>\n",
       "<!-- 30&#45;&gt;31 -->\n",
       "<g id=\"edge31\" class=\"edge\">\n",
       "<title>30&#45;&gt;31</title>\n",
       "<path fill=\"none\" stroke=\"black\" d=\"M658,-203.89C676.18,-196.34 706.93,-183.45 741.48,-168.12\"/>\n",
       "<polygon fill=\"black\" stroke=\"black\" points=\"743.12,-171.22 750.83,-163.95 740.27,-164.82 743.12,-171.22\"/>\n",
       "</g>\n",
       "</g>\n",
       "</svg>\n"
      ],
      "text/plain": [
       "<graphviz.dot.Digraph at 0x7f972e9a70d0>"
      ]
     },
     "metadata": {},
     "output_type": "display_data"
    },
    {
     "name": "stdout",
     "output_type": "stream",
     "text": [
      "{\"c\": \"yellow\", \"b\": \"tryrfg\"}\n"
     ]
    },
    {
     "data": {
      "image/svg+xml": [
       "<?xml version=\"1.0\" encoding=\"UTF-8\" standalone=\"no\"?>\n",
       "<!DOCTYPE svg PUBLIC \"-//W3C//DTD SVG 1.1//EN\"\n",
       " \"http://www.w3.org/Graphics/SVG/1.1/DTD/svg11.dtd\">\n",
       "<!-- Generated by graphviz version 2.43.0 (0)\n",
       " -->\n",
       "<!-- Title: %3 Pages: 1 -->\n",
       "<svg width=\"1079pt\" height=\"431pt\"\n",
       " viewBox=\"0.00 0.00 1079.00 431.00\" xmlns=\"http://www.w3.org/2000/svg\" xmlns:xlink=\"http://www.w3.org/1999/xlink\">\n",
       "<g id=\"graph0\" class=\"graph\" transform=\"scale(1 1) rotate(0) translate(4 427)\">\n",
       "<title>%3</title>\n",
       "<polygon fill=\"white\" stroke=\"transparent\" points=\"-4,4 -4,-427 1075,-427 1075,4 -4,4\"/>\n",
       "<!-- 0 -->\n",
       "<g id=\"node1\" class=\"node\">\n",
       "<title>0</title>\n",
       "<text text-anchor=\"middle\" x=\"327\" y=\"-411.8\" font-family=\"Times,serif\" font-size=\"14.00\">&lt;START&gt;</text>\n",
       "</g>\n",
       "<!-- 1 -->\n",
       "<g id=\"node2\" class=\"node\">\n",
       "<title>1</title>\n",
       "<text text-anchor=\"middle\" x=\"327\" y=\"-360.8\" font-family=\"Times,serif\" font-size=\"14.00\">&lt;main&gt;</text>\n",
       "</g>\n",
       "<!-- 0&#45;&gt;1 -->\n",
       "<g id=\"edge1\" class=\"edge\">\n",
       "<title>0&#45;&gt;1</title>\n",
       "<path fill=\"none\" stroke=\"black\" d=\"M327,-407.69C327,-401.18 327,-391.1 327,-382.43\"/>\n",
       "<polygon fill=\"black\" stroke=\"black\" points=\"330.5,-382.26 327,-372.26 323.5,-382.26 330.5,-382.26\"/>\n",
       "</g>\n",
       "<!-- 2 -->\n",
       "<g id=\"node3\" class=\"node\">\n",
       "<title>2</title>\n",
       "<text text-anchor=\"middle\" x=\"327\" y=\"-309.8\" font-family=\"Times,serif\" font-size=\"14.00\">&lt;json_parse&gt;</text>\n",
       "</g>\n",
       "<!-- 1&#45;&gt;2 -->\n",
       "<g id=\"edge2\" class=\"edge\">\n",
       "<title>1&#45;&gt;2</title>\n",
       "<path fill=\"none\" stroke=\"black\" d=\"M327,-356.69C327,-350.18 327,-340.1 327,-331.43\"/>\n",
       "<polygon fill=\"black\" stroke=\"black\" points=\"330.5,-331.26 327,-321.26 323.5,-331.26 330.5,-331.26\"/>\n",
       "</g>\n",
       "<!-- 3 -->\n",
       "<g id=\"node4\" class=\"node\">\n",
       "<title>3</title>\n",
       "<text text-anchor=\"middle\" x=\"327\" y=\"-258.8\" font-family=\"Times,serif\" font-size=\"14.00\">&lt;json_parse_value&gt;</text>\n",
       "</g>\n",
       "<!-- 2&#45;&gt;3 -->\n",
       "<g id=\"edge3\" class=\"edge\">\n",
       "<title>2&#45;&gt;3</title>\n",
       "<path fill=\"none\" stroke=\"black\" d=\"M327,-305.69C327,-299.18 327,-289.1 327,-280.43\"/>\n",
       "<polygon fill=\"black\" stroke=\"black\" points=\"330.5,-280.26 327,-270.26 323.5,-280.26 330.5,-280.26\"/>\n",
       "</g>\n",
       "<!-- 4 -->\n",
       "<g id=\"node5\" class=\"node\">\n",
       "<title>4</title>\n",
       "<text text-anchor=\"middle\" x=\"245\" y=\"-207.8\" font-family=\"Times,serif\" font-size=\"14.00\">&lt;skip_whitespace&gt;</text>\n",
       "</g>\n",
       "<!-- 3&#45;&gt;4 -->\n",
       "<g id=\"edge4\" class=\"edge\">\n",
       "<title>3&#45;&gt;4</title>\n",
       "<path fill=\"none\" stroke=\"black\" d=\"M315.94,-254.89C302.79,-247.03 280.59,-233.77 264.52,-224.16\"/>\n",
       "<polygon fill=\"black\" stroke=\"black\" points=\"266.26,-221.13 255.88,-219 262.67,-227.14 266.26,-221.13\"/>\n",
       "</g>\n",
       "<!-- 7 -->\n",
       "<g id=\"node8\" class=\"node\">\n",
       "<title>7</title>\n",
       "<text text-anchor=\"middle\" x=\"567\" y=\"-207.8\" font-family=\"Times,serif\" font-size=\"14.00\">&lt;json_parse_object&gt;</text>\n",
       "</g>\n",
       "<!-- 3&#45;&gt;7 -->\n",
       "<g id=\"edge7\" class=\"edge\">\n",
       "<title>3&#45;&gt;7</title>\n",
       "<path fill=\"none\" stroke=\"black\" d=\"M358.87,-254.99C401.64,-246.26 477.68,-230.74 525.06,-221.06\"/>\n",
       "<polygon fill=\"black\" stroke=\"black\" points=\"525.9,-224.46 535,-219.03 524.5,-217.6 525.9,-224.46\"/>\n",
       "</g>\n",
       "<!-- 5 -->\n",
       "<g id=\"node6\" class=\"node\">\n",
       "<title>5</title>\n",
       "<text text-anchor=\"middle\" x=\"42\" y=\"-156.8\" font-family=\"Times,serif\" font-size=\"14.00\">&lt;isspace_&gt;</text>\n",
       "</g>\n",
       "<!-- 4&#45;&gt;5 -->\n",
       "<g id=\"edge5\" class=\"edge\">\n",
       "<title>4&#45;&gt;5</title>\n",
       "<path fill=\"none\" stroke=\"black\" d=\"M218.04,-203.99C182.33,-195.37 119.16,-180.13 79,-170.43\"/>\n",
       "<polygon fill=\"black\" stroke=\"black\" points=\"79.61,-166.98 69.07,-168.03 77.97,-173.78 79.61,-166.98\"/>\n",
       "</g>\n",
       "<!-- 6 -->\n",
       "<g id=\"node7\" class=\"node\">\n",
       "<title>6</title>\n",
       "<text text-anchor=\"middle\" x=\"42\" y=\"-105.8\" font-family=\"Times,serif\" font-size=\"14.00\">{</text>\n",
       "</g>\n",
       "<!-- 5&#45;&gt;6 -->\n",
       "<g id=\"edge6\" class=\"edge\">\n",
       "<title>5&#45;&gt;6</title>\n",
       "<path fill=\"none\" stroke=\"black\" d=\"M42,-152.69C42,-146.18 42,-136.1 42,-127.43\"/>\n",
       "<polygon fill=\"black\" stroke=\"black\" points=\"45.5,-127.26 42,-117.26 38.5,-127.26 45.5,-127.26\"/>\n",
       "</g>\n",
       "<!-- 8 -->\n",
       "<g id=\"node9\" class=\"node\">\n",
       "<title>8</title>\n",
       "<text text-anchor=\"middle\" x=\"175\" y=\"-156.8\" font-family=\"Times,serif\" font-size=\"14.00\">&lt;json_parse_value&gt;</text>\n",
       "</g>\n",
       "<!-- 7&#45;&gt;8 -->\n",
       "<g id=\"edge8\" class=\"edge\">\n",
       "<title>7&#45;&gt;8</title>\n",
       "<path fill=\"none\" stroke=\"black\" d=\"M514.95,-203.99C443.19,-195.02 314.07,-178.88 237.29,-169.29\"/>\n",
       "<polygon fill=\"black\" stroke=\"black\" points=\"237.63,-165.8 227.27,-168.03 236.76,-172.75 237.63,-165.8\"/>\n",
       "</g>\n",
       "<!-- 10 -->\n",
       "<g id=\"node11\" class=\"node\">\n",
       "<title>10</title>\n",
       "<text text-anchor=\"middle\" x=\"268\" y=\"-156.8\" font-family=\"Times,serif\" font-size=\"14.00\">:</text>\n",
       "</g>\n",
       "<!-- 7&#45;&gt;10 -->\n",
       "<g id=\"edge10\" class=\"edge\">\n",
       "<title>7&#45;&gt;10</title>\n",
       "<path fill=\"none\" stroke=\"black\" d=\"M491.4,-207.32C434.6,-203.12 355.27,-193.41 280.33,-167.01\"/>\n",
       "<polygon fill=\"black\" stroke=\"black\" points=\"281.34,-163.65 270.74,-163.53 278.95,-170.23 281.34,-163.65\"/>\n",
       "</g>\n",
       "<!-- 11 -->\n",
       "<g id=\"node12\" class=\"node\">\n",
       "<title>11</title>\n",
       "<text text-anchor=\"middle\" x=\"361\" y=\"-156.8\" font-family=\"Times,serif\" font-size=\"14.00\">&lt;json_parse_value&gt;</text>\n",
       "</g>\n",
       "<!-- 7&#45;&gt;11 -->\n",
       "<g id=\"edge11\" class=\"edge\">\n",
       "<title>7&#45;&gt;11</title>\n",
       "<path fill=\"none\" stroke=\"black\" d=\"M539.64,-203.99C503.32,-195.35 439.03,-180.06 398.29,-170.37\"/>\n",
       "<polygon fill=\"black\" stroke=\"black\" points=\"399.01,-166.94 388.47,-168.03 397.39,-173.75 399.01,-166.94\"/>\n",
       "</g>\n",
       "<!-- 16 -->\n",
       "<g id=\"node17\" class=\"node\">\n",
       "<title>16</title>\n",
       "<text text-anchor=\"middle\" x=\"522\" y=\"-156.8\" font-family=\"Times,serif\" font-size=\"14.00\">&lt;skip_whitespace&gt;</text>\n",
       "</g>\n",
       "<!-- 7&#45;&gt;16 -->\n",
       "<g id=\"edge16\" class=\"edge\">\n",
       "<title>7&#45;&gt;16</title>\n",
       "<path fill=\"none\" stroke=\"black\" d=\"M560.74,-203.69C554.16,-196.52 543.61,-185.03 535.18,-175.85\"/>\n",
       "<polygon fill=\"black\" stroke=\"black\" points=\"537.55,-173.25 528.2,-168.26 532.39,-177.99 537.55,-173.25\"/>\n",
       "</g>\n",
       "<!-- 19 -->\n",
       "<g id=\"node20\" class=\"node\">\n",
       "<title>19</title>\n",
       "<text text-anchor=\"middle\" x=\"613\" y=\"-156.8\" font-family=\"Times,serif\" font-size=\"14.00\"> </text>\n",
       "</g>\n",
       "<!-- 7&#45;&gt;19 -->\n",
       "<g id=\"edge19\" class=\"edge\">\n",
       "<title>7&#45;&gt;19</title>\n",
       "<path fill=\"none\" stroke=\"black\" d=\"M573.4,-203.69C581.18,-195.4 594.39,-181.32 603.4,-171.73\"/>\n",
       "<polygon fill=\"black\" stroke=\"black\" points=\"606.14,-173.93 610.43,-164.24 601.03,-169.13 606.14,-173.93\"/>\n",
       "</g>\n",
       "<!-- 20 -->\n",
       "<g id=\"node21\" class=\"node\">\n",
       "<title>20</title>\n",
       "<text text-anchor=\"middle\" x=\"706\" y=\"-156.8\" font-family=\"Times,serif\" font-size=\"14.00\">&lt;json_parse_value&gt;</text>\n",
       "</g>\n",
       "<!-- 7&#45;&gt;20 -->\n",
       "<g id=\"edge20\" class=\"edge\">\n",
       "<title>7&#45;&gt;20</title>\n",
       "<path fill=\"none\" stroke=\"black\" d=\"M585.46,-203.99C609.14,-195.65 650.43,-181.09 677.99,-171.37\"/>\n",
       "<polygon fill=\"black\" stroke=\"black\" points=\"679.2,-174.66 687.47,-168.03 676.87,-168.06 679.2,-174.66\"/>\n",
       "</g>\n",
       "<!-- 22 -->\n",
       "<g id=\"node23\" class=\"node\">\n",
       "<title>22</title>\n",
       "<text text-anchor=\"middle\" x=\"799\" y=\"-156.8\" font-family=\"Times,serif\" font-size=\"14.00\">:</text>\n",
       "</g>\n",
       "<!-- 7&#45;&gt;22 -->\n",
       "<g id=\"edge22\" class=\"edge\">\n",
       "<title>7&#45;&gt;22</title>\n",
       "<path fill=\"none\" stroke=\"black\" d=\"M631.95,-203.97C674.49,-198.34 731.05,-188.29 786.92,-167.13\"/>\n",
       "<polygon fill=\"black\" stroke=\"black\" points=\"788.2,-170.39 796.24,-163.49 785.65,-163.87 788.2,-170.39\"/>\n",
       "</g>\n",
       "<!-- 23 -->\n",
       "<g id=\"node24\" class=\"node\">\n",
       "<title>23</title>\n",
       "<text text-anchor=\"middle\" x=\"892\" y=\"-156.8\" font-family=\"Times,serif\" font-size=\"14.00\">&lt;json_parse_value&gt;</text>\n",
       "</g>\n",
       "<!-- 7&#45;&gt;23 -->\n",
       "<g id=\"edge23\" class=\"edge\">\n",
       "<title>7&#45;&gt;23</title>\n",
       "<path fill=\"none\" stroke=\"black\" d=\"M610.16,-203.99C669.04,-195.12 774.52,-179.21 838.4,-169.58\"/>\n",
       "<polygon fill=\"black\" stroke=\"black\" points=\"839.3,-172.99 848.66,-168.03 838.25,-166.06 839.3,-172.99\"/>\n",
       "</g>\n",
       "<!-- 28 -->\n",
       "<g id=\"node29\" class=\"node\">\n",
       "<title>28</title>\n",
       "<text text-anchor=\"middle\" x=\"1027\" y=\"-156.8\" font-family=\"Times,serif\" font-size=\"14.00\">&lt;has_char&gt;</text>\n",
       "</g>\n",
       "<!-- 7&#45;&gt;28 -->\n",
       "<g id=\"edge28\" class=\"edge\">\n",
       "<title>7&#45;&gt;28</title>\n",
       "<path fill=\"none\" stroke=\"black\" d=\"M632.95,-203.98C711.36,-196.15 846.46,-182.39 972.54,-168.14\"/>\n",
       "<polygon fill=\"black\" stroke=\"black\" points=\"973.22,-171.59 982.76,-166.99 972.43,-164.63 973.22,-171.59\"/>\n",
       "</g>\n",
       "<!-- 9 -->\n",
       "<g id=\"node10\" class=\"node\">\n",
       "<title>9</title>\n",
       "<text text-anchor=\"middle\" x=\"175\" y=\"-105.8\" font-family=\"Times,serif\" font-size=\"14.00\">&quot;c&quot;</text>\n",
       "</g>\n",
       "<!-- 8&#45;&gt;9 -->\n",
       "<g id=\"edge9\" class=\"edge\">\n",
       "<title>8&#45;&gt;9</title>\n",
       "<path fill=\"none\" stroke=\"black\" d=\"M175,-152.69C175,-146.18 175,-136.1 175,-127.43\"/>\n",
       "<polygon fill=\"black\" stroke=\"black\" points=\"178.5,-127.26 175,-117.26 171.5,-127.26 178.5,-127.26\"/>\n",
       "</g>\n",
       "<!-- 12 -->\n",
       "<g id=\"node13\" class=\"node\">\n",
       "<title>12</title>\n",
       "<text text-anchor=\"middle\" x=\"294\" y=\"-105.8\" font-family=\"Times,serif\" font-size=\"14.00\">&lt;skip_whitespace&gt;</text>\n",
       "</g>\n",
       "<!-- 11&#45;&gt;12 -->\n",
       "<g id=\"edge12\" class=\"edge\">\n",
       "<title>11&#45;&gt;12</title>\n",
       "<path fill=\"none\" stroke=\"black\" d=\"M351.96,-152.89C341.52,-145.25 324.09,-132.5 311.07,-122.98\"/>\n",
       "<polygon fill=\"black\" stroke=\"black\" points=\"313.03,-120.08 302.89,-117 308.9,-125.73 313.03,-120.08\"/>\n",
       "</g>\n",
       "<!-- 15 -->\n",
       "<g id=\"node16\" class=\"node\">\n",
       "<title>15</title>\n",
       "<text text-anchor=\"middle\" x=\"413\" y=\"-105.8\" font-family=\"Times,serif\" font-size=\"14.00\">&quot;yellow&quot;</text>\n",
       "</g>\n",
       "<!-- 11&#45;&gt;15 -->\n",
       "<g id=\"edge15\" class=\"edge\">\n",
       "<title>11&#45;&gt;15</title>\n",
       "<path fill=\"none\" stroke=\"black\" d=\"M368.23,-152.69C375.99,-145.37 388.53,-133.56 398.37,-124.29\"/>\n",
       "<polygon fill=\"black\" stroke=\"black\" points=\"400.95,-126.66 405.83,-117.26 396.15,-121.57 400.95,-126.66\"/>\n",
       "</g>\n",
       "<!-- 13 -->\n",
       "<g id=\"node14\" class=\"node\">\n",
       "<title>13</title>\n",
       "<text text-anchor=\"middle\" x=\"294\" y=\"-54.8\" font-family=\"Times,serif\" font-size=\"14.00\">&lt;isspace_&gt;</text>\n",
       "</g>\n",
       "<!-- 12&#45;&gt;13 -->\n",
       "<g id=\"edge13\" class=\"edge\">\n",
       "<title>12&#45;&gt;13</title>\n",
       "<path fill=\"none\" stroke=\"black\" d=\"M294,-101.69C294,-95.18 294,-85.1 294,-76.43\"/>\n",
       "<polygon fill=\"black\" stroke=\"black\" points=\"297.5,-76.26 294,-66.26 290.5,-76.26 297.5,-76.26\"/>\n",
       "</g>\n",
       "<!-- 14 -->\n",
       "<g id=\"node15\" class=\"node\">\n",
       "<title>14</title>\n",
       "<text text-anchor=\"middle\" x=\"294\" y=\"-3.8\" font-family=\"Times,serif\" font-size=\"14.00\"> </text>\n",
       "</g>\n",
       "<!-- 13&#45;&gt;14 -->\n",
       "<g id=\"edge14\" class=\"edge\">\n",
       "<title>13&#45;&gt;14</title>\n",
       "<path fill=\"none\" stroke=\"black\" d=\"M294,-50.69C294,-44.18 294,-34.1 294,-25.43\"/>\n",
       "<polygon fill=\"black\" stroke=\"black\" points=\"297.5,-25.26 294,-15.26 290.5,-25.26 297.5,-25.26\"/>\n",
       "</g>\n",
       "<!-- 17 -->\n",
       "<g id=\"node18\" class=\"node\">\n",
       "<title>17</title>\n",
       "<text text-anchor=\"middle\" x=\"522\" y=\"-105.8\" font-family=\"Times,serif\" font-size=\"14.00\">&lt;isspace_&gt;</text>\n",
       "</g>\n",
       "<!-- 16&#45;&gt;17 -->\n",
       "<g id=\"edge17\" class=\"edge\">\n",
       "<title>16&#45;&gt;17</title>\n",
       "<path fill=\"none\" stroke=\"black\" d=\"M522,-152.69C522,-146.18 522,-136.1 522,-127.43\"/>\n",
       "<polygon fill=\"black\" stroke=\"black\" points=\"525.5,-127.26 522,-117.26 518.5,-127.26 525.5,-127.26\"/>\n",
       "</g>\n",
       "<!-- 18 -->\n",
       "<g id=\"node19\" class=\"node\">\n",
       "<title>18</title>\n",
       "<text text-anchor=\"middle\" x=\"522\" y=\"-54.8\" font-family=\"Times,serif\" font-size=\"14.00\">,</text>\n",
       "</g>\n",
       "<!-- 17&#45;&gt;18 -->\n",
       "<g id=\"edge18\" class=\"edge\">\n",
       "<title>17&#45;&gt;18</title>\n",
       "<path fill=\"none\" stroke=\"black\" d=\"M522,-101.69C522,-95.18 522,-85.1 522,-76.43\"/>\n",
       "<polygon fill=\"black\" stroke=\"black\" points=\"525.5,-76.26 522,-66.26 518.5,-76.26 525.5,-76.26\"/>\n",
       "</g>\n",
       "<!-- 21 -->\n",
       "<g id=\"node22\" class=\"node\">\n",
       "<title>21</title>\n",
       "<text text-anchor=\"middle\" x=\"706\" y=\"-105.8\" font-family=\"Times,serif\" font-size=\"14.00\">&quot;b&quot;</text>\n",
       "</g>\n",
       "<!-- 20&#45;&gt;21 -->\n",
       "<g id=\"edge21\" class=\"edge\">\n",
       "<title>20&#45;&gt;21</title>\n",
       "<path fill=\"none\" stroke=\"black\" d=\"M706,-152.69C706,-146.18 706,-136.1 706,-127.43\"/>\n",
       "<polygon fill=\"black\" stroke=\"black\" points=\"709.5,-127.26 706,-117.26 702.5,-127.26 709.5,-127.26\"/>\n",
       "</g>\n",
       "<!-- 24 -->\n",
       "<g id=\"node25\" class=\"node\">\n",
       "<title>24</title>\n",
       "<text text-anchor=\"middle\" x=\"833\" y=\"-105.8\" font-family=\"Times,serif\" font-size=\"14.00\">&lt;skip_whitespace&gt;</text>\n",
       "</g>\n",
       "<!-- 23&#45;&gt;24 -->\n",
       "<g id=\"edge24\" class=\"edge\">\n",
       "<title>23&#45;&gt;24</title>\n",
       "<path fill=\"none\" stroke=\"black\" d=\"M883.8,-152.69C874.81,-145.23 860.19,-133.08 848.94,-123.73\"/>\n",
       "<polygon fill=\"black\" stroke=\"black\" points=\"851.06,-120.95 841.13,-117.26 846.59,-126.34 851.06,-120.95\"/>\n",
       "</g>\n",
       "<!-- 27 -->\n",
       "<g id=\"node28\" class=\"node\">\n",
       "<title>27</title>\n",
       "<text text-anchor=\"middle\" x=\"950\" y=\"-105.8\" font-family=\"Times,serif\" font-size=\"14.00\">&quot;tryrfg&quot;</text>\n",
       "</g>\n",
       "<!-- 23&#45;&gt;27 -->\n",
       "<g id=\"edge27\" class=\"edge\">\n",
       "<title>23&#45;&gt;27</title>\n",
       "<path fill=\"none\" stroke=\"black\" d=\"M900.06,-152.69C908.89,-145.23 923.27,-133.08 934.33,-123.73\"/>\n",
       "<polygon fill=\"black\" stroke=\"black\" points=\"936.62,-126.38 942,-117.26 932.11,-121.04 936.62,-126.38\"/>\n",
       "</g>\n",
       "<!-- 25 -->\n",
       "<g id=\"node26\" class=\"node\">\n",
       "<title>25</title>\n",
       "<text text-anchor=\"middle\" x=\"833\" y=\"-54.8\" font-family=\"Times,serif\" font-size=\"14.00\">&lt;isspace_&gt;</text>\n",
       "</g>\n",
       "<!-- 24&#45;&gt;25 -->\n",
       "<g id=\"edge25\" class=\"edge\">\n",
       "<title>24&#45;&gt;25</title>\n",
       "<path fill=\"none\" stroke=\"black\" d=\"M833,-101.69C833,-95.18 833,-85.1 833,-76.43\"/>\n",
       "<polygon fill=\"black\" stroke=\"black\" points=\"836.5,-76.26 833,-66.26 829.5,-76.26 836.5,-76.26\"/>\n",
       "</g>\n",
       "<!-- 26 -->\n",
       "<g id=\"node27\" class=\"node\">\n",
       "<title>26</title>\n",
       "<text text-anchor=\"middle\" x=\"833\" y=\"-3.8\" font-family=\"Times,serif\" font-size=\"14.00\"> </text>\n",
       "</g>\n",
       "<!-- 25&#45;&gt;26 -->\n",
       "<g id=\"edge26\" class=\"edge\">\n",
       "<title>25&#45;&gt;26</title>\n",
       "<path fill=\"none\" stroke=\"black\" d=\"M833,-50.69C833,-44.18 833,-34.1 833,-25.43\"/>\n",
       "<polygon fill=\"black\" stroke=\"black\" points=\"836.5,-25.26 833,-15.26 829.5,-25.26 836.5,-25.26\"/>\n",
       "</g>\n",
       "<!-- 29 -->\n",
       "<g id=\"node30\" class=\"node\">\n",
       "<title>29</title>\n",
       "<text text-anchor=\"middle\" x=\"1027\" y=\"-105.8\" font-family=\"Times,serif\" font-size=\"14.00\">}</text>\n",
       "</g>\n",
       "<!-- 28&#45;&gt;29 -->\n",
       "<g id=\"edge29\" class=\"edge\">\n",
       "<title>28&#45;&gt;29</title>\n",
       "<path fill=\"none\" stroke=\"black\" d=\"M1027,-152.69C1027,-146.18 1027,-136.1 1027,-127.43\"/>\n",
       "<polygon fill=\"black\" stroke=\"black\" points=\"1030.5,-127.26 1027,-117.26 1023.5,-127.26 1030.5,-127.26\"/>\n",
       "</g>\n",
       "</g>\n",
       "</svg>\n"
      ],
      "text/plain": [
       "<graphviz.dot.Digraph at 0x7f972e9ec3d0>"
      ]
     },
     "metadata": {},
     "output_type": "display_data"
    },
    {
     "name": "stdout",
     "output_type": "stream",
     "text": [
      "{\"color\": \"yellow\", \"x\" : {\"a\": \"b\"}}\n"
     ]
    },
    {
     "data": {
      "image/svg+xml": [
       "<?xml version=\"1.0\" encoding=\"UTF-8\" standalone=\"no\"?>\n",
       "<!DOCTYPE svg PUBLIC \"-//W3C//DTD SVG 1.1//EN\"\n",
       " \"http://www.w3.org/Graphics/SVG/1.1/DTD/svg11.dtd\">\n",
       "<!-- Generated by graphviz version 2.43.0 (0)\n",
       " -->\n",
       "<!-- Title: %3 Pages: 1 -->\n",
       "<svg width=\"1250pt\" height=\"533pt\"\n",
       " viewBox=\"0.00 0.00 1249.50 533.00\" xmlns=\"http://www.w3.org/2000/svg\" xmlns:xlink=\"http://www.w3.org/1999/xlink\">\n",
       "<g id=\"graph0\" class=\"graph\" transform=\"scale(1 1) rotate(0) translate(4 529)\">\n",
       "<title>%3</title>\n",
       "<polygon fill=\"white\" stroke=\"transparent\" points=\"-4,4 -4,-529 1245.5,-529 1245.5,4 -4,4\"/>\n",
       "<!-- 0 -->\n",
       "<g id=\"node1\" class=\"node\">\n",
       "<title>0</title>\n",
       "<text text-anchor=\"middle\" x=\"327\" y=\"-513.8\" font-family=\"Times,serif\" font-size=\"14.00\">&lt;START&gt;</text>\n",
       "</g>\n",
       "<!-- 1 -->\n",
       "<g id=\"node2\" class=\"node\">\n",
       "<title>1</title>\n",
       "<text text-anchor=\"middle\" x=\"327\" y=\"-462.8\" font-family=\"Times,serif\" font-size=\"14.00\">&lt;main&gt;</text>\n",
       "</g>\n",
       "<!-- 0&#45;&gt;1 -->\n",
       "<g id=\"edge1\" class=\"edge\">\n",
       "<title>0&#45;&gt;1</title>\n",
       "<path fill=\"none\" stroke=\"black\" d=\"M327,-509.69C327,-503.18 327,-493.1 327,-484.43\"/>\n",
       "<polygon fill=\"black\" stroke=\"black\" points=\"330.5,-484.26 327,-474.26 323.5,-484.26 330.5,-484.26\"/>\n",
       "</g>\n",
       "<!-- 2 -->\n",
       "<g id=\"node3\" class=\"node\">\n",
       "<title>2</title>\n",
       "<text text-anchor=\"middle\" x=\"327\" y=\"-411.8\" font-family=\"Times,serif\" font-size=\"14.00\">&lt;json_parse&gt;</text>\n",
       "</g>\n",
       "<!-- 1&#45;&gt;2 -->\n",
       "<g id=\"edge2\" class=\"edge\">\n",
       "<title>1&#45;&gt;2</title>\n",
       "<path fill=\"none\" stroke=\"black\" d=\"M327,-458.69C327,-452.18 327,-442.1 327,-433.43\"/>\n",
       "<polygon fill=\"black\" stroke=\"black\" points=\"330.5,-433.26 327,-423.26 323.5,-433.26 330.5,-433.26\"/>\n",
       "</g>\n",
       "<!-- 3 -->\n",
       "<g id=\"node4\" class=\"node\">\n",
       "<title>3</title>\n",
       "<text text-anchor=\"middle\" x=\"327\" y=\"-360.8\" font-family=\"Times,serif\" font-size=\"14.00\">&lt;json_parse_value&gt;</text>\n",
       "</g>\n",
       "<!-- 2&#45;&gt;3 -->\n",
       "<g id=\"edge3\" class=\"edge\">\n",
       "<title>2&#45;&gt;3</title>\n",
       "<path fill=\"none\" stroke=\"black\" d=\"M327,-407.69C327,-401.18 327,-391.1 327,-382.43\"/>\n",
       "<polygon fill=\"black\" stroke=\"black\" points=\"330.5,-382.26 327,-372.26 323.5,-382.26 330.5,-382.26\"/>\n",
       "</g>\n",
       "<!-- 4 -->\n",
       "<g id=\"node5\" class=\"node\">\n",
       "<title>4</title>\n",
       "<text text-anchor=\"middle\" x=\"245\" y=\"-309.8\" font-family=\"Times,serif\" font-size=\"14.00\">&lt;skip_whitespace&gt;</text>\n",
       "</g>\n",
       "<!-- 3&#45;&gt;4 -->\n",
       "<g id=\"edge4\" class=\"edge\">\n",
       "<title>3&#45;&gt;4</title>\n",
       "<path fill=\"none\" stroke=\"black\" d=\"M315.94,-356.89C302.79,-349.03 280.59,-335.77 264.52,-326.16\"/>\n",
       "<polygon fill=\"black\" stroke=\"black\" points=\"266.26,-323.13 255.88,-321 262.67,-329.14 266.26,-323.13\"/>\n",
       "</g>\n",
       "<!-- 7 -->\n",
       "<g id=\"node8\" class=\"node\">\n",
       "<title>7</title>\n",
       "<text text-anchor=\"middle\" x=\"567\" y=\"-309.8\" font-family=\"Times,serif\" font-size=\"14.00\">&lt;json_parse_object&gt;</text>\n",
       "</g>\n",
       "<!-- 3&#45;&gt;7 -->\n",
       "<g id=\"edge7\" class=\"edge\">\n",
       "<title>3&#45;&gt;7</title>\n",
       "<path fill=\"none\" stroke=\"black\" d=\"M358.87,-356.99C401.64,-348.26 477.68,-332.74 525.06,-323.06\"/>\n",
       "<polygon fill=\"black\" stroke=\"black\" points=\"525.9,-326.46 535,-321.03 524.5,-319.6 525.9,-326.46\"/>\n",
       "</g>\n",
       "<!-- 5 -->\n",
       "<g id=\"node6\" class=\"node\">\n",
       "<title>5</title>\n",
       "<text text-anchor=\"middle\" x=\"42\" y=\"-258.8\" font-family=\"Times,serif\" font-size=\"14.00\">&lt;isspace_&gt;</text>\n",
       "</g>\n",
       "<!-- 4&#45;&gt;5 -->\n",
       "<g id=\"edge5\" class=\"edge\">\n",
       "<title>4&#45;&gt;5</title>\n",
       "<path fill=\"none\" stroke=\"black\" d=\"M218.04,-305.99C182.33,-297.37 119.16,-282.13 79,-272.43\"/>\n",
       "<polygon fill=\"black\" stroke=\"black\" points=\"79.61,-268.98 69.07,-270.03 77.97,-275.78 79.61,-268.98\"/>\n",
       "</g>\n",
       "<!-- 6 -->\n",
       "<g id=\"node7\" class=\"node\">\n",
       "<title>6</title>\n",
       "<text text-anchor=\"middle\" x=\"42\" y=\"-207.8\" font-family=\"Times,serif\" font-size=\"14.00\">{</text>\n",
       "</g>\n",
       "<!-- 5&#45;&gt;6 -->\n",
       "<g id=\"edge6\" class=\"edge\">\n",
       "<title>5&#45;&gt;6</title>\n",
       "<path fill=\"none\" stroke=\"black\" d=\"M42,-254.69C42,-248.18 42,-238.1 42,-229.43\"/>\n",
       "<polygon fill=\"black\" stroke=\"black\" points=\"45.5,-229.26 42,-219.26 38.5,-229.26 45.5,-229.26\"/>\n",
       "</g>\n",
       "<!-- 8 -->\n",
       "<g id=\"node9\" class=\"node\">\n",
       "<title>8</title>\n",
       "<text text-anchor=\"middle\" x=\"175\" y=\"-258.8\" font-family=\"Times,serif\" font-size=\"14.00\">&lt;json_parse_value&gt;</text>\n",
       "</g>\n",
       "<!-- 7&#45;&gt;8 -->\n",
       "<g id=\"edge8\" class=\"edge\">\n",
       "<title>7&#45;&gt;8</title>\n",
       "<path fill=\"none\" stroke=\"black\" d=\"M514.95,-305.99C443.19,-297.02 314.07,-280.88 237.29,-271.29\"/>\n",
       "<polygon fill=\"black\" stroke=\"black\" points=\"237.63,-267.8 227.27,-270.03 236.76,-274.75 237.63,-267.8\"/>\n",
       "</g>\n",
       "<!-- 10 -->\n",
       "<g id=\"node11\" class=\"node\">\n",
       "<title>10</title>\n",
       "<text text-anchor=\"middle\" x=\"268\" y=\"-258.8\" font-family=\"Times,serif\" font-size=\"14.00\">:</text>\n",
       "</g>\n",
       "<!-- 7&#45;&gt;10 -->\n",
       "<g id=\"edge10\" class=\"edge\">\n",
       "<title>7&#45;&gt;10</title>\n",
       "<path fill=\"none\" stroke=\"black\" d=\"M491.4,-309.32C434.6,-305.12 355.27,-295.41 280.33,-269.01\"/>\n",
       "<polygon fill=\"black\" stroke=\"black\" points=\"281.34,-265.65 270.74,-265.53 278.95,-272.23 281.34,-265.65\"/>\n",
       "</g>\n",
       "<!-- 11 -->\n",
       "<g id=\"node12\" class=\"node\">\n",
       "<title>11</title>\n",
       "<text text-anchor=\"middle\" x=\"361\" y=\"-258.8\" font-family=\"Times,serif\" font-size=\"14.00\">&lt;json_parse_value&gt;</text>\n",
       "</g>\n",
       "<!-- 7&#45;&gt;11 -->\n",
       "<g id=\"edge11\" class=\"edge\">\n",
       "<title>7&#45;&gt;11</title>\n",
       "<path fill=\"none\" stroke=\"black\" d=\"M539.64,-305.99C503.32,-297.35 439.03,-282.06 398.29,-272.37\"/>\n",
       "<polygon fill=\"black\" stroke=\"black\" points=\"399.01,-268.94 388.47,-270.03 397.39,-275.75 399.01,-268.94\"/>\n",
       "</g>\n",
       "<!-- 16 -->\n",
       "<g id=\"node17\" class=\"node\">\n",
       "<title>16</title>\n",
       "<text text-anchor=\"middle\" x=\"522\" y=\"-258.8\" font-family=\"Times,serif\" font-size=\"14.00\">&lt;skip_whitespace&gt;</text>\n",
       "</g>\n",
       "<!-- 7&#45;&gt;16 -->\n",
       "<g id=\"edge16\" class=\"edge\">\n",
       "<title>7&#45;&gt;16</title>\n",
       "<path fill=\"none\" stroke=\"black\" d=\"M560.74,-305.69C554.16,-298.52 543.61,-287.03 535.18,-277.85\"/>\n",
       "<polygon fill=\"black\" stroke=\"black\" points=\"537.55,-275.25 528.2,-270.26 532.39,-279.99 537.55,-275.25\"/>\n",
       "</g>\n",
       "<!-- 19 -->\n",
       "<g id=\"node20\" class=\"node\">\n",
       "<title>19</title>\n",
       "<text text-anchor=\"middle\" x=\"613\" y=\"-258.8\" font-family=\"Times,serif\" font-size=\"14.00\"> </text>\n",
       "</g>\n",
       "<!-- 7&#45;&gt;19 -->\n",
       "<g id=\"edge19\" class=\"edge\">\n",
       "<title>7&#45;&gt;19</title>\n",
       "<path fill=\"none\" stroke=\"black\" d=\"M573.4,-305.69C581.18,-297.4 594.39,-283.32 603.4,-273.73\"/>\n",
       "<polygon fill=\"black\" stroke=\"black\" points=\"606.14,-275.93 610.43,-266.24 601.03,-271.13 606.14,-275.93\"/>\n",
       "</g>\n",
       "<!-- 20 -->\n",
       "<g id=\"node21\" class=\"node\">\n",
       "<title>20</title>\n",
       "<text text-anchor=\"middle\" x=\"706\" y=\"-258.8\" font-family=\"Times,serif\" font-size=\"14.00\">&lt;json_parse_value&gt;</text>\n",
       "</g>\n",
       "<!-- 7&#45;&gt;20 -->\n",
       "<g id=\"edge20\" class=\"edge\">\n",
       "<title>7&#45;&gt;20</title>\n",
       "<path fill=\"none\" stroke=\"black\" d=\"M585.46,-305.99C609.14,-297.65 650.43,-283.09 677.99,-273.37\"/>\n",
       "<polygon fill=\"black\" stroke=\"black\" points=\"679.2,-276.66 687.47,-270.03 676.87,-270.06 679.2,-276.66\"/>\n",
       "</g>\n",
       "<!-- 22 -->\n",
       "<g id=\"node23\" class=\"node\">\n",
       "<title>22</title>\n",
       "<text text-anchor=\"middle\" x=\"802\" y=\"-258.8\" font-family=\"Times,serif\" font-size=\"14.00\"> :</text>\n",
       "</g>\n",
       "<!-- 7&#45;&gt;22 -->\n",
       "<g id=\"edge22\" class=\"edge\">\n",
       "<title>7&#45;&gt;22</title>\n",
       "<path fill=\"none\" stroke=\"black\" d=\"M617.13,-306C662.22,-299.4 729.95,-287.64 787,-270 787.11,-269.97 787.21,-269.93 787.32,-269.9\"/>\n",
       "<polygon fill=\"black\" stroke=\"black\" points=\"788.86,-273.05 796.83,-266.07 786.25,-266.56 788.86,-273.05\"/>\n",
       "</g>\n",
       "<!-- 23 -->\n",
       "<g id=\"node24\" class=\"node\">\n",
       "<title>23</title>\n",
       "<text text-anchor=\"middle\" x=\"898\" y=\"-258.8\" font-family=\"Times,serif\" font-size=\"14.00\">&lt;json_parse_value&gt;</text>\n",
       "</g>\n",
       "<!-- 7&#45;&gt;23 -->\n",
       "<g id=\"edge23\" class=\"edge\">\n",
       "<title>7&#45;&gt;23</title>\n",
       "<path fill=\"none\" stroke=\"black\" d=\"M610.95,-305.99C671.05,-297.1 778.79,-281.15 843.81,-271.52\"/>\n",
       "<polygon fill=\"black\" stroke=\"black\" points=\"844.48,-274.96 853.86,-270.03 843.46,-268.04 844.48,-274.96\"/>\n",
       "</g>\n",
       "<!-- 41 -->\n",
       "<g id=\"node42\" class=\"node\">\n",
       "<title>41</title>\n",
       "<text text-anchor=\"middle\" x=\"1102\" y=\"-258.8\" font-family=\"Times,serif\" font-size=\"14.00\">&lt;has_char&gt;</text>\n",
       "</g>\n",
       "<!-- 7&#45;&gt;41 -->\n",
       "<g id=\"edge41\" class=\"edge\">\n",
       "<title>7&#45;&gt;41</title>\n",
       "<path fill=\"none\" stroke=\"black\" d=\"M638.04,-305.99C746.37,-296.07 950.5,-277.38 1047.78,-268.47\"/>\n",
       "<polygon fill=\"black\" stroke=\"black\" points=\"1048.34,-271.93 1057.98,-267.53 1047.7,-264.96 1048.34,-271.93\"/>\n",
       "</g>\n",
       "<!-- 9 -->\n",
       "<g id=\"node10\" class=\"node\">\n",
       "<title>9</title>\n",
       "<text text-anchor=\"middle\" x=\"175\" y=\"-207.8\" font-family=\"Times,serif\" font-size=\"14.00\">&quot;color&quot;</text>\n",
       "</g>\n",
       "<!-- 8&#45;&gt;9 -->\n",
       "<g id=\"edge9\" class=\"edge\">\n",
       "<title>8&#45;&gt;9</title>\n",
       "<path fill=\"none\" stroke=\"black\" d=\"M175,-254.69C175,-248.18 175,-238.1 175,-229.43\"/>\n",
       "<polygon fill=\"black\" stroke=\"black\" points=\"178.5,-229.26 175,-219.26 171.5,-229.26 178.5,-229.26\"/>\n",
       "</g>\n",
       "<!-- 12 -->\n",
       "<g id=\"node13\" class=\"node\">\n",
       "<title>12</title>\n",
       "<text text-anchor=\"middle\" x=\"300\" y=\"-207.8\" font-family=\"Times,serif\" font-size=\"14.00\">&lt;skip_whitespace&gt;</text>\n",
       "</g>\n",
       "<!-- 11&#45;&gt;12 -->\n",
       "<g id=\"edge12\" class=\"edge\">\n",
       "<title>11&#45;&gt;12</title>\n",
       "<path fill=\"none\" stroke=\"black\" d=\"M352.77,-254.89C343.44,-247.4 328,-234.99 316.23,-225.53\"/>\n",
       "<polygon fill=\"black\" stroke=\"black\" points=\"318.08,-222.54 308.1,-219 313.7,-227.99 318.08,-222.54\"/>\n",
       "</g>\n",
       "<!-- 15 -->\n",
       "<g id=\"node16\" class=\"node\">\n",
       "<title>15</title>\n",
       "<text text-anchor=\"middle\" x=\"419\" y=\"-207.8\" font-family=\"Times,serif\" font-size=\"14.00\">&quot;yellow&quot;</text>\n",
       "</g>\n",
       "<!-- 11&#45;&gt;15 -->\n",
       "<g id=\"edge15\" class=\"edge\">\n",
       "<title>11&#45;&gt;15</title>\n",
       "<path fill=\"none\" stroke=\"black\" d=\"M369.06,-254.69C377.89,-247.23 392.27,-235.08 403.33,-225.73\"/>\n",
       "<polygon fill=\"black\" stroke=\"black\" points=\"405.62,-228.38 411,-219.26 401.11,-223.04 405.62,-228.38\"/>\n",
       "</g>\n",
       "<!-- 13 -->\n",
       "<g id=\"node14\" class=\"node\">\n",
       "<title>13</title>\n",
       "<text text-anchor=\"middle\" x=\"300\" y=\"-156.8\" font-family=\"Times,serif\" font-size=\"14.00\">&lt;isspace_&gt;</text>\n",
       "</g>\n",
       "<!-- 12&#45;&gt;13 -->\n",
       "<g id=\"edge13\" class=\"edge\">\n",
       "<title>12&#45;&gt;13</title>\n",
       "<path fill=\"none\" stroke=\"black\" d=\"M300,-203.69C300,-197.18 300,-187.1 300,-178.43\"/>\n",
       "<polygon fill=\"black\" stroke=\"black\" points=\"303.5,-178.26 300,-168.26 296.5,-178.26 303.5,-178.26\"/>\n",
       "</g>\n",
       "<!-- 14 -->\n",
       "<g id=\"node15\" class=\"node\">\n",
       "<title>14</title>\n",
       "<text text-anchor=\"middle\" x=\"300\" y=\"-105.8\" font-family=\"Times,serif\" font-size=\"14.00\"> </text>\n",
       "</g>\n",
       "<!-- 13&#45;&gt;14 -->\n",
       "<g id=\"edge14\" class=\"edge\">\n",
       "<title>13&#45;&gt;14</title>\n",
       "<path fill=\"none\" stroke=\"black\" d=\"M300,-152.69C300,-146.18 300,-136.1 300,-127.43\"/>\n",
       "<polygon fill=\"black\" stroke=\"black\" points=\"303.5,-127.26 300,-117.26 296.5,-127.26 303.5,-127.26\"/>\n",
       "</g>\n",
       "<!-- 17 -->\n",
       "<g id=\"node18\" class=\"node\">\n",
       "<title>17</title>\n",
       "<text text-anchor=\"middle\" x=\"522\" y=\"-207.8\" font-family=\"Times,serif\" font-size=\"14.00\">&lt;isspace_&gt;</text>\n",
       "</g>\n",
       "<!-- 16&#45;&gt;17 -->\n",
       "<g id=\"edge17\" class=\"edge\">\n",
       "<title>16&#45;&gt;17</title>\n",
       "<path fill=\"none\" stroke=\"black\" d=\"M522,-254.69C522,-248.18 522,-238.1 522,-229.43\"/>\n",
       "<polygon fill=\"black\" stroke=\"black\" points=\"525.5,-229.26 522,-219.26 518.5,-229.26 525.5,-229.26\"/>\n",
       "</g>\n",
       "<!-- 18 -->\n",
       "<g id=\"node19\" class=\"node\">\n",
       "<title>18</title>\n",
       "<text text-anchor=\"middle\" x=\"522\" y=\"-156.8\" font-family=\"Times,serif\" font-size=\"14.00\">,</text>\n",
       "</g>\n",
       "<!-- 17&#45;&gt;18 -->\n",
       "<g id=\"edge18\" class=\"edge\">\n",
       "<title>17&#45;&gt;18</title>\n",
       "<path fill=\"none\" stroke=\"black\" d=\"M522,-203.69C522,-197.18 522,-187.1 522,-178.43\"/>\n",
       "<polygon fill=\"black\" stroke=\"black\" points=\"525.5,-178.26 522,-168.26 518.5,-178.26 525.5,-178.26\"/>\n",
       "</g>\n",
       "<!-- 21 -->\n",
       "<g id=\"node22\" class=\"node\">\n",
       "<title>21</title>\n",
       "<text text-anchor=\"middle\" x=\"646\" y=\"-207.8\" font-family=\"Times,serif\" font-size=\"14.00\">&quot;x&quot;</text>\n",
       "</g>\n",
       "<!-- 20&#45;&gt;21 -->\n",
       "<g id=\"edge21\" class=\"edge\">\n",
       "<title>20&#45;&gt;21</title>\n",
       "<path fill=\"none\" stroke=\"black\" d=\"M697.66,-254.69C688.52,-247.23 673.65,-235.08 662.21,-225.73\"/>\n",
       "<polygon fill=\"black\" stroke=\"black\" points=\"664.23,-222.87 654.27,-219.26 659.8,-228.29 664.23,-222.87\"/>\n",
       "</g>\n",
       "<!-- 24 -->\n",
       "<g id=\"node25\" class=\"node\">\n",
       "<title>24</title>\n",
       "<text text-anchor=\"middle\" x=\"746\" y=\"-207.8\" font-family=\"Times,serif\" font-size=\"14.00\">&lt;skip_whitespace&gt;</text>\n",
       "</g>\n",
       "<!-- 23&#45;&gt;24 -->\n",
       "<g id=\"edge24\" class=\"edge\">\n",
       "<title>23&#45;&gt;24</title>\n",
       "<path fill=\"none\" stroke=\"black\" d=\"M877.82,-254.99C851.7,-246.57 805.97,-231.83 775.84,-222.12\"/>\n",
       "<polygon fill=\"black\" stroke=\"black\" points=\"776.86,-218.77 766.27,-219.03 774.71,-225.43 776.86,-218.77\"/>\n",
       "</g>\n",
       "<!-- 29 -->\n",
       "<g id=\"node30\" class=\"node\">\n",
       "<title>29</title>\n",
       "<text text-anchor=\"middle\" x=\"941\" y=\"-207.8\" font-family=\"Times,serif\" font-size=\"14.00\">&lt;json_parse_object&gt;</text>\n",
       "</g>\n",
       "<!-- 23&#45;&gt;29 -->\n",
       "<g id=\"edge29\" class=\"edge\">\n",
       "<title>23&#45;&gt;29</title>\n",
       "<path fill=\"none\" stroke=\"black\" d=\"M903.98,-254.69C910.27,-247.52 920.35,-236.03 928.41,-226.85\"/>\n",
       "<polygon fill=\"black\" stroke=\"black\" points=\"931.11,-229.08 935.07,-219.26 925.85,-224.46 931.11,-229.08\"/>\n",
       "</g>\n",
       "<!-- 25 -->\n",
       "<g id=\"node26\" class=\"node\">\n",
       "<title>25</title>\n",
       "<text text-anchor=\"middle\" x=\"613\" y=\"-156.8\" font-family=\"Times,serif\" font-size=\"14.00\">&lt;isspace_&gt;</text>\n",
       "</g>\n",
       "<!-- 24&#45;&gt;25 -->\n",
       "<g id=\"edge25\" class=\"edge\">\n",
       "<title>24&#45;&gt;25</title>\n",
       "<path fill=\"none\" stroke=\"black\" d=\"M728.34,-203.99C705.78,-195.68 666.52,-181.22 640.15,-171.5\"/>\n",
       "<polygon fill=\"black\" stroke=\"black\" points=\"641.33,-168.21 630.73,-168.03 638.91,-174.78 641.33,-168.21\"/>\n",
       "</g>\n",
       "<!-- 27 -->\n",
       "<g id=\"node28\" class=\"node\">\n",
       "<title>27</title>\n",
       "<text text-anchor=\"middle\" x=\"715\" y=\"-156.8\" font-family=\"Times,serif\" font-size=\"14.00\">&lt;isspace_&gt;</text>\n",
       "</g>\n",
       "<!-- 24&#45;&gt;27 -->\n",
       "<g id=\"edge27\" class=\"edge\">\n",
       "<title>24&#45;&gt;27</title>\n",
       "<path fill=\"none\" stroke=\"black\" d=\"M741.69,-203.69C737.34,-196.81 730.47,-185.96 724.79,-176.98\"/>\n",
       "<polygon fill=\"black\" stroke=\"black\" points=\"727.58,-174.83 719.27,-168.26 721.66,-178.58 727.58,-174.83\"/>\n",
       "</g>\n",
       "<!-- 26 -->\n",
       "<g id=\"node27\" class=\"node\">\n",
       "<title>26</title>\n",
       "<text text-anchor=\"middle\" x=\"613\" y=\"-105.8\" font-family=\"Times,serif\" font-size=\"14.00\"> </text>\n",
       "</g>\n",
       "<!-- 25&#45;&gt;26 -->\n",
       "<g id=\"edge26\" class=\"edge\">\n",
       "<title>25&#45;&gt;26</title>\n",
       "<path fill=\"none\" stroke=\"black\" d=\"M613,-152.69C613,-146.18 613,-136.1 613,-127.43\"/>\n",
       "<polygon fill=\"black\" stroke=\"black\" points=\"616.5,-127.26 613,-117.26 609.5,-127.26 616.5,-127.26\"/>\n",
       "</g>\n",
       "<!-- 28 -->\n",
       "<g id=\"node29\" class=\"node\">\n",
       "<title>28</title>\n",
       "<text text-anchor=\"middle\" x=\"715\" y=\"-105.8\" font-family=\"Times,serif\" font-size=\"14.00\">{</text>\n",
       "</g>\n",
       "<!-- 27&#45;&gt;28 -->\n",
       "<g id=\"edge28\" class=\"edge\">\n",
       "<title>27&#45;&gt;28</title>\n",
       "<path fill=\"none\" stroke=\"black\" d=\"M715,-152.69C715,-146.18 715,-136.1 715,-127.43\"/>\n",
       "<polygon fill=\"black\" stroke=\"black\" points=\"718.5,-127.26 715,-117.26 711.5,-127.26 718.5,-127.26\"/>\n",
       "</g>\n",
       "<!-- 30 -->\n",
       "<g id=\"node31\" class=\"node\">\n",
       "<title>30</title>\n",
       "<text text-anchor=\"middle\" x=\"848\" y=\"-156.8\" font-family=\"Times,serif\" font-size=\"14.00\">&lt;json_parse_value&gt;</text>\n",
       "</g>\n",
       "<!-- 29&#45;&gt;30 -->\n",
       "<g id=\"edge30\" class=\"edge\">\n",
       "<title>29&#45;&gt;30</title>\n",
       "<path fill=\"none\" stroke=\"black\" d=\"M928.46,-203.89C913.33,-195.92 887.65,-182.39 869.38,-172.76\"/>\n",
       "<polygon fill=\"black\" stroke=\"black\" points=\"870.82,-169.57 860.34,-168 867.56,-175.76 870.82,-169.57\"/>\n",
       "</g>\n",
       "<!-- 32 -->\n",
       "<g id=\"node33\" class=\"node\">\n",
       "<title>32</title>\n",
       "<text text-anchor=\"middle\" x=\"941\" y=\"-156.8\" font-family=\"Times,serif\" font-size=\"14.00\">:</text>\n",
       "</g>\n",
       "<!-- 29&#45;&gt;32 -->\n",
       "<g id=\"edge32\" class=\"edge\">\n",
       "<title>29&#45;&gt;32</title>\n",
       "<path fill=\"none\" stroke=\"black\" d=\"M941,-203.69C941,-197.18 941,-187.1 941,-178.43\"/>\n",
       "<polygon fill=\"black\" stroke=\"black\" points=\"944.5,-178.26 941,-168.26 937.5,-178.26 944.5,-178.26\"/>\n",
       "</g>\n",
       "<!-- 33 -->\n",
       "<g id=\"node34\" class=\"node\">\n",
       "<title>33</title>\n",
       "<text text-anchor=\"middle\" x=\"1034\" y=\"-156.8\" font-family=\"Times,serif\" font-size=\"14.00\">&lt;json_parse_value&gt;</text>\n",
       "</g>\n",
       "<!-- 29&#45;&gt;33 -->\n",
       "<g id=\"edge33\" class=\"edge\">\n",
       "<title>29&#45;&gt;33</title>\n",
       "<path fill=\"none\" stroke=\"black\" d=\"M953.54,-203.89C968.67,-195.92 994.35,-182.39 1012.62,-172.76\"/>\n",
       "<polygon fill=\"black\" stroke=\"black\" points=\"1014.44,-175.76 1021.66,-168 1011.18,-169.57 1014.44,-175.76\"/>\n",
       "</g>\n",
       "<!-- 38 -->\n",
       "<g id=\"node39\" class=\"node\">\n",
       "<title>38</title>\n",
       "<text text-anchor=\"middle\" x=\"1169\" y=\"-156.8\" font-family=\"Times,serif\" font-size=\"14.00\">&lt;has_char&gt;</text>\n",
       "</g>\n",
       "<!-- 29&#45;&gt;38 -->\n",
       "<g id=\"edge38\" class=\"edge\">\n",
       "<title>29&#45;&gt;38</title>\n",
       "<path fill=\"none\" stroke=\"black\" d=\"M971.28,-203.99C1011.73,-195.3 1083.54,-179.87 1128.59,-170.19\"/>\n",
       "<polygon fill=\"black\" stroke=\"black\" points=\"1129.56,-173.56 1138.6,-168.03 1128.09,-166.71 1129.56,-173.56\"/>\n",
       "</g>\n",
       "<!-- 31 -->\n",
       "<g id=\"node32\" class=\"node\">\n",
       "<title>31</title>\n",
       "<text text-anchor=\"middle\" x=\"848\" y=\"-105.8\" font-family=\"Times,serif\" font-size=\"14.00\">&quot;a&quot;</text>\n",
       "</g>\n",
       "<!-- 30&#45;&gt;31 -->\n",
       "<g id=\"edge31\" class=\"edge\">\n",
       "<title>30&#45;&gt;31</title>\n",
       "<path fill=\"none\" stroke=\"black\" d=\"M848,-152.69C848,-146.18 848,-136.1 848,-127.43\"/>\n",
       "<polygon fill=\"black\" stroke=\"black\" points=\"851.5,-127.26 848,-117.26 844.5,-127.26 851.5,-127.26\"/>\n",
       "</g>\n",
       "<!-- 34 -->\n",
       "<g id=\"node35\" class=\"node\">\n",
       "<title>34</title>\n",
       "<text text-anchor=\"middle\" x=\"959\" y=\"-105.8\" font-family=\"Times,serif\" font-size=\"14.00\">&lt;skip_whitespace&gt;</text>\n",
       "</g>\n",
       "<!-- 33&#45;&gt;34 -->\n",
       "<g id=\"edge34\" class=\"edge\">\n",
       "<title>33&#45;&gt;34</title>\n",
       "<path fill=\"none\" stroke=\"black\" d=\"M1023.89,-152.89C1012.08,-145.18 992.3,-132.26 977.68,-122.71\"/>\n",
       "<polygon fill=\"black\" stroke=\"black\" points=\"979.24,-119.54 968.95,-117 975.41,-125.4 979.24,-119.54\"/>\n",
       "</g>\n",
       "<!-- 37 -->\n",
       "<g id=\"node38\" class=\"node\">\n",
       "<title>37</title>\n",
       "<text text-anchor=\"middle\" x=\"1059\" y=\"-105.8\" font-family=\"Times,serif\" font-size=\"14.00\">&quot;b&quot;</text>\n",
       "</g>\n",
       "<!-- 33&#45;&gt;37 -->\n",
       "<g id=\"edge37\" class=\"edge\">\n",
       "<title>33&#45;&gt;37</title>\n",
       "<path fill=\"none\" stroke=\"black\" d=\"M1037.48,-152.69C1040.95,-145.88 1046.4,-135.19 1050.95,-126.27\"/>\n",
       "<polygon fill=\"black\" stroke=\"black\" points=\"1054.13,-127.75 1055.55,-117.26 1047.89,-124.57 1054.13,-127.75\"/>\n",
       "</g>\n",
       "<!-- 35 -->\n",
       "<g id=\"node36\" class=\"node\">\n",
       "<title>35</title>\n",
       "<text text-anchor=\"middle\" x=\"959\" y=\"-54.8\" font-family=\"Times,serif\" font-size=\"14.00\">&lt;isspace_&gt;</text>\n",
       "</g>\n",
       "<!-- 34&#45;&gt;35 -->\n",
       "<g id=\"edge35\" class=\"edge\">\n",
       "<title>34&#45;&gt;35</title>\n",
       "<path fill=\"none\" stroke=\"black\" d=\"M959,-101.69C959,-95.18 959,-85.1 959,-76.43\"/>\n",
       "<polygon fill=\"black\" stroke=\"black\" points=\"962.5,-76.26 959,-66.26 955.5,-76.26 962.5,-76.26\"/>\n",
       "</g>\n",
       "<!-- 36 -->\n",
       "<g id=\"node37\" class=\"node\">\n",
       "<title>36</title>\n",
       "<text text-anchor=\"middle\" x=\"959\" y=\"-3.8\" font-family=\"Times,serif\" font-size=\"14.00\"> </text>\n",
       "</g>\n",
       "<!-- 35&#45;&gt;36 -->\n",
       "<g id=\"edge36\" class=\"edge\">\n",
       "<title>35&#45;&gt;36</title>\n",
       "<path fill=\"none\" stroke=\"black\" d=\"M959,-50.69C959,-44.18 959,-34.1 959,-25.43\"/>\n",
       "<polygon fill=\"black\" stroke=\"black\" points=\"962.5,-25.26 959,-15.26 955.5,-25.26 962.5,-25.26\"/>\n",
       "</g>\n",
       "<!-- 39 -->\n",
       "<g id=\"node40\" class=\"node\">\n",
       "<title>39</title>\n",
       "<text text-anchor=\"middle\" x=\"1169\" y=\"-105.8\" font-family=\"Times,serif\" font-size=\"14.00\">&lt;skip_whitespace&gt;</text>\n",
       "</g>\n",
       "<!-- 38&#45;&gt;39 -->\n",
       "<g id=\"edge39\" class=\"edge\">\n",
       "<title>38&#45;&gt;39</title>\n",
       "<path fill=\"none\" stroke=\"black\" d=\"M1169,-152.69C1169,-146.18 1169,-136.1 1169,-127.43\"/>\n",
       "<polygon fill=\"black\" stroke=\"black\" points=\"1172.5,-127.26 1169,-117.26 1165.5,-127.26 1172.5,-127.26\"/>\n",
       "</g>\n",
       "<!-- 40 -->\n",
       "<g id=\"node41\" class=\"node\">\n",
       "<title>40</title>\n",
       "<text text-anchor=\"middle\" x=\"1169\" y=\"-54.8\" font-family=\"Times,serif\" font-size=\"14.00\">}</text>\n",
       "</g>\n",
       "<!-- 39&#45;&gt;40 -->\n",
       "<g id=\"edge40\" class=\"edge\">\n",
       "<title>39&#45;&gt;40</title>\n",
       "<path fill=\"none\" stroke=\"black\" d=\"M1169,-101.69C1169,-95.18 1169,-85.1 1169,-76.43\"/>\n",
       "<polygon fill=\"black\" stroke=\"black\" points=\"1172.5,-76.26 1169,-66.26 1165.5,-76.26 1172.5,-76.26\"/>\n",
       "</g>\n",
       "<!-- 42 -->\n",
       "<g id=\"node43\" class=\"node\">\n",
       "<title>42</title>\n",
       "<text text-anchor=\"middle\" x=\"1171\" y=\"-207.8\" font-family=\"Times,serif\" font-size=\"14.00\">&lt;skip_whitespace&gt;</text>\n",
       "</g>\n",
       "<!-- 41&#45;&gt;42 -->\n",
       "<g id=\"edge42\" class=\"edge\">\n",
       "<title>41&#45;&gt;42</title>\n",
       "<path fill=\"none\" stroke=\"black\" d=\"M1111.31,-254.89C1122.07,-247.25 1140.01,-234.5 1153.43,-224.98\"/>\n",
       "<polygon fill=\"black\" stroke=\"black\" points=\"1155.72,-227.65 1161.84,-219 1151.66,-221.94 1155.72,-227.65\"/>\n",
       "</g>\n",
       "<!-- 43 -->\n",
       "<g id=\"node44\" class=\"node\">\n",
       "<title>43</title>\n",
       "<text text-anchor=\"middle\" x=\"1236\" y=\"-156.8\" font-family=\"Times,serif\" font-size=\"14.00\">}</text>\n",
       "</g>\n",
       "<!-- 42&#45;&gt;43 -->\n",
       "<g id=\"edge43\" class=\"edge\">\n",
       "<title>42&#45;&gt;43</title>\n",
       "<path fill=\"none\" stroke=\"black\" d=\"M1179.77,-203.89C1190.81,-195.57 1209.89,-181.18 1222.72,-171.51\"/>\n",
       "<polygon fill=\"black\" stroke=\"black\" points=\"1224.88,-174.26 1230.76,-165.45 1220.67,-168.67 1224.88,-174.26\"/>\n",
       "</g>\n",
       "</g>\n",
       "</svg>\n"
      ],
      "text/plain": [
       "<graphviz.dot.Digraph at 0x7f972e98d590>"
      ]
     },
     "metadata": {},
     "output_type": "display_data"
    },
    {
     "name": "stdout",
     "output_type": "stream",
     "text": [
      "{\"array\": [\"8\", \"7\", \"5\"], \"onclick\": \"Createewoc\", \"x\": {\"a\": \"b\"}}\n"
     ]
    },
    {
     "data": {
      "image/svg+xml": [
       "<?xml version=\"1.0\" encoding=\"UTF-8\" standalone=\"no\"?>\n",
       "<!DOCTYPE svg PUBLIC \"-//W3C//DTD SVG 1.1//EN\"\n",
       " \"http://www.w3.org/Graphics/SVG/1.1/DTD/svg11.dtd\">\n",
       "<!-- Generated by graphviz version 2.43.0 (0)\n",
       " -->\n",
       "<!-- Title: %3 Pages: 1 -->\n",
       "<svg width=\"1875pt\" height=\"533pt\"\n",
       " viewBox=\"0.00 0.00 1875.00 533.00\" xmlns=\"http://www.w3.org/2000/svg\" xmlns:xlink=\"http://www.w3.org/1999/xlink\">\n",
       "<g id=\"graph0\" class=\"graph\" transform=\"scale(1 1) rotate(0) translate(4 529)\">\n",
       "<title>%3</title>\n",
       "<polygon fill=\"white\" stroke=\"transparent\" points=\"-4,4 -4,-529 1871,-529 1871,4 -4,4\"/>\n",
       "<!-- 0 -->\n",
       "<g id=\"node1\" class=\"node\">\n",
       "<title>0</title>\n",
       "<text text-anchor=\"middle\" x=\"591\" y=\"-513.8\" font-family=\"Times,serif\" font-size=\"14.00\">&lt;START&gt;</text>\n",
       "</g>\n",
       "<!-- 1 -->\n",
       "<g id=\"node2\" class=\"node\">\n",
       "<title>1</title>\n",
       "<text text-anchor=\"middle\" x=\"591\" y=\"-462.8\" font-family=\"Times,serif\" font-size=\"14.00\">&lt;main&gt;</text>\n",
       "</g>\n",
       "<!-- 0&#45;&gt;1 -->\n",
       "<g id=\"edge1\" class=\"edge\">\n",
       "<title>0&#45;&gt;1</title>\n",
       "<path fill=\"none\" stroke=\"black\" d=\"M591,-509.69C591,-503.18 591,-493.1 591,-484.43\"/>\n",
       "<polygon fill=\"black\" stroke=\"black\" points=\"594.5,-484.26 591,-474.26 587.5,-484.26 594.5,-484.26\"/>\n",
       "</g>\n",
       "<!-- 2 -->\n",
       "<g id=\"node3\" class=\"node\">\n",
       "<title>2</title>\n",
       "<text text-anchor=\"middle\" x=\"591\" y=\"-411.8\" font-family=\"Times,serif\" font-size=\"14.00\">&lt;json_parse&gt;</text>\n",
       "</g>\n",
       "<!-- 1&#45;&gt;2 -->\n",
       "<g id=\"edge2\" class=\"edge\">\n",
       "<title>1&#45;&gt;2</title>\n",
       "<path fill=\"none\" stroke=\"black\" d=\"M591,-458.69C591,-452.18 591,-442.1 591,-433.43\"/>\n",
       "<polygon fill=\"black\" stroke=\"black\" points=\"594.5,-433.26 591,-423.26 587.5,-433.26 594.5,-433.26\"/>\n",
       "</g>\n",
       "<!-- 3 -->\n",
       "<g id=\"node4\" class=\"node\">\n",
       "<title>3</title>\n",
       "<text text-anchor=\"middle\" x=\"591\" y=\"-360.8\" font-family=\"Times,serif\" font-size=\"14.00\">&lt;json_parse_value&gt;</text>\n",
       "</g>\n",
       "<!-- 2&#45;&gt;3 -->\n",
       "<g id=\"edge3\" class=\"edge\">\n",
       "<title>2&#45;&gt;3</title>\n",
       "<path fill=\"none\" stroke=\"black\" d=\"M591,-407.69C591,-401.18 591,-391.1 591,-382.43\"/>\n",
       "<polygon fill=\"black\" stroke=\"black\" points=\"594.5,-382.26 591,-372.26 587.5,-382.26 594.5,-382.26\"/>\n",
       "</g>\n",
       "<!-- 4 -->\n",
       "<g id=\"node5\" class=\"node\">\n",
       "<title>4</title>\n",
       "<text text-anchor=\"middle\" x=\"509\" y=\"-309.8\" font-family=\"Times,serif\" font-size=\"14.00\">&lt;skip_whitespace&gt;</text>\n",
       "</g>\n",
       "<!-- 3&#45;&gt;4 -->\n",
       "<g id=\"edge4\" class=\"edge\">\n",
       "<title>3&#45;&gt;4</title>\n",
       "<path fill=\"none\" stroke=\"black\" d=\"M579.94,-356.89C566.79,-349.03 544.59,-335.77 528.52,-326.16\"/>\n",
       "<polygon fill=\"black\" stroke=\"black\" points=\"530.26,-323.13 519.88,-321 526.67,-329.14 530.26,-323.13\"/>\n",
       "</g>\n",
       "<!-- 7 -->\n",
       "<g id=\"node8\" class=\"node\">\n",
       "<title>7</title>\n",
       "<text text-anchor=\"middle\" x=\"893\" y=\"-309.8\" font-family=\"Times,serif\" font-size=\"14.00\">&lt;json_parse_object&gt;</text>\n",
       "</g>\n",
       "<!-- 3&#45;&gt;7 -->\n",
       "<g id=\"edge7\" class=\"edge\">\n",
       "<title>3&#45;&gt;7</title>\n",
       "<path fill=\"none\" stroke=\"black\" d=\"M631.1,-356.99C685.71,-348.13 783.43,-332.28 842.82,-322.64\"/>\n",
       "<polygon fill=\"black\" stroke=\"black\" points=\"843.42,-326.09 852.73,-321.03 842.3,-319.18 843.42,-326.09\"/>\n",
       "</g>\n",
       "<!-- 5 -->\n",
       "<g id=\"node6\" class=\"node\">\n",
       "<title>5</title>\n",
       "<text text-anchor=\"middle\" x=\"243\" y=\"-258.8\" font-family=\"Times,serif\" font-size=\"14.00\">&lt;isspace_&gt;</text>\n",
       "</g>\n",
       "<!-- 4&#45;&gt;5 -->\n",
       "<g id=\"edge5\" class=\"edge\">\n",
       "<title>4&#45;&gt;5</title>\n",
       "<path fill=\"none\" stroke=\"black\" d=\"M473.68,-305.99C425.98,-297.21 340.93,-281.54 288.5,-271.88\"/>\n",
       "<polygon fill=\"black\" stroke=\"black\" points=\"288.94,-268.4 278.47,-270.03 287.67,-275.29 288.94,-268.4\"/>\n",
       "</g>\n",
       "<!-- 6 -->\n",
       "<g id=\"node7\" class=\"node\">\n",
       "<title>6</title>\n",
       "<text text-anchor=\"middle\" x=\"243\" y=\"-207.8\" font-family=\"Times,serif\" font-size=\"14.00\">{</text>\n",
       "</g>\n",
       "<!-- 5&#45;&gt;6 -->\n",
       "<g id=\"edge6\" class=\"edge\">\n",
       "<title>5&#45;&gt;6</title>\n",
       "<path fill=\"none\" stroke=\"black\" d=\"M243,-254.69C243,-248.18 243,-238.1 243,-229.43\"/>\n",
       "<polygon fill=\"black\" stroke=\"black\" points=\"246.5,-229.26 243,-219.26 239.5,-229.26 246.5,-229.26\"/>\n",
       "</g>\n",
       "<!-- 8 -->\n",
       "<g id=\"node9\" class=\"node\">\n",
       "<title>8</title>\n",
       "<text text-anchor=\"middle\" x=\"376\" y=\"-258.8\" font-family=\"Times,serif\" font-size=\"14.00\">&lt;json_parse_value&gt;</text>\n",
       "</g>\n",
       "<!-- 7&#45;&gt;8 -->\n",
       "<g id=\"edge8\" class=\"edge\">\n",
       "<title>7&#45;&gt;8</title>\n",
       "<path fill=\"none\" stroke=\"black\" d=\"M824.35,-305.99C728.75,-296.93 555.94,-280.55 455.07,-270.99\"/>\n",
       "<polygon fill=\"black\" stroke=\"black\" points=\"455.22,-267.49 444.94,-270.03 454.56,-274.46 455.22,-267.49\"/>\n",
       "</g>\n",
       "<!-- 10 -->\n",
       "<g id=\"node11\" class=\"node\">\n",
       "<title>10</title>\n",
       "<text text-anchor=\"middle\" x=\"469\" y=\"-258.8\" font-family=\"Times,serif\" font-size=\"14.00\">:</text>\n",
       "</g>\n",
       "<!-- 7&#45;&gt;10 -->\n",
       "<g id=\"edge10\" class=\"edge\">\n",
       "<title>7&#45;&gt;10</title>\n",
       "<path fill=\"none\" stroke=\"black\" d=\"M817.45,-308.61C720.38,-302.97 556.34,-291.14 481.66,-268.79\"/>\n",
       "<polygon fill=\"black\" stroke=\"black\" points=\"482.32,-265.33 471.73,-265.57 480.16,-271.99 482.32,-265.33\"/>\n",
       "</g>\n",
       "<!-- 11 -->\n",
       "<g id=\"node12\" class=\"node\">\n",
       "<title>11</title>\n",
       "<text text-anchor=\"middle\" x=\"562\" y=\"-258.8\" font-family=\"Times,serif\" font-size=\"14.00\">&lt;json_parse_value&gt;</text>\n",
       "</g>\n",
       "<!-- 7&#45;&gt;11 -->\n",
       "<g id=\"edge11\" class=\"edge\">\n",
       "<title>7&#45;&gt;11</title>\n",
       "<path fill=\"none\" stroke=\"black\" d=\"M849.05,-305.99C788.95,-297.1 681.21,-281.15 616.19,-271.52\"/>\n",
       "<polygon fill=\"black\" stroke=\"black\" points=\"616.54,-268.04 606.14,-270.03 615.52,-274.96 616.54,-268.04\"/>\n",
       "</g>\n",
       "<!-- 37 -->\n",
       "<g id=\"node38\" class=\"node\">\n",
       "<title>37</title>\n",
       "<text text-anchor=\"middle\" x=\"658\" y=\"-258.8\" font-family=\"Times,serif\" font-size=\"14.00\">, </text>\n",
       "</g>\n",
       "<!-- 7&#45;&gt;37 -->\n",
       "<g id=\"edge37\" class=\"edge\">\n",
       "<title>7&#45;&gt;37</title>\n",
       "<path fill=\"none\" stroke=\"black\" d=\"M839.39,-305.94C796.36,-299.83 734.45,-289.16 672.93,-269.46\"/>\n",
       "<polygon fill=\"black\" stroke=\"black\" points=\"673.66,-266.01 663.06,-266.22 671.47,-272.66 673.66,-266.01\"/>\n",
       "</g>\n",
       "<!-- 38 -->\n",
       "<g id=\"node39\" class=\"node\">\n",
       "<title>38</title>\n",
       "<text text-anchor=\"middle\" x=\"754\" y=\"-258.8\" font-family=\"Times,serif\" font-size=\"14.00\">&lt;json_parse_value&gt;</text>\n",
       "</g>\n",
       "<!-- 7&#45;&gt;38 -->\n",
       "<g id=\"edge38\" class=\"edge\">\n",
       "<title>7&#45;&gt;38</title>\n",
       "<path fill=\"none\" stroke=\"black\" d=\"M874.54,-305.99C850.86,-297.65 809.57,-283.09 782.01,-273.37\"/>\n",
       "<polygon fill=\"black\" stroke=\"black\" points=\"783.13,-270.06 772.53,-270.03 780.8,-276.66 783.13,-270.06\"/>\n",
       "</g>\n",
       "<!-- 40 -->\n",
       "<g id=\"node41\" class=\"node\">\n",
       "<title>40</title>\n",
       "<text text-anchor=\"middle\" x=\"847\" y=\"-258.8\" font-family=\"Times,serif\" font-size=\"14.00\">:</text>\n",
       "</g>\n",
       "<!-- 7&#45;&gt;40 -->\n",
       "<g id=\"edge40\" class=\"edge\">\n",
       "<title>7&#45;&gt;40</title>\n",
       "<path fill=\"none\" stroke=\"black\" d=\"M886.6,-305.69C878.82,-297.4 865.61,-283.32 856.6,-273.73\"/>\n",
       "<polygon fill=\"black\" stroke=\"black\" points=\"858.97,-271.13 849.57,-266.24 853.86,-275.93 858.97,-271.13\"/>\n",
       "</g>\n",
       "<!-- 41 -->\n",
       "<g id=\"node42\" class=\"node\">\n",
       "<title>41</title>\n",
       "<text text-anchor=\"middle\" x=\"940\" y=\"-258.8\" font-family=\"Times,serif\" font-size=\"14.00\">&lt;json_parse_value&gt;</text>\n",
       "</g>\n",
       "<!-- 7&#45;&gt;41 -->\n",
       "<g id=\"edge41\" class=\"edge\">\n",
       "<title>7&#45;&gt;41</title>\n",
       "<path fill=\"none\" stroke=\"black\" d=\"M899.54,-305.69C906.48,-298.45 917.66,-286.79 926.51,-277.57\"/>\n",
       "<polygon fill=\"black\" stroke=\"black\" points=\"929.12,-279.9 933.52,-270.26 924.07,-275.05 929.12,-279.9\"/>\n",
       "</g>\n",
       "<!-- 46 -->\n",
       "<g id=\"node47\" class=\"node\">\n",
       "<title>46</title>\n",
       "<text text-anchor=\"middle\" x=\"1101\" y=\"-258.8\" font-family=\"Times,serif\" font-size=\"14.00\">&lt;skip_whitespace&gt;</text>\n",
       "</g>\n",
       "<!-- 7&#45;&gt;46 -->\n",
       "<g id=\"edge46\" class=\"edge\">\n",
       "<title>7&#45;&gt;46</title>\n",
       "<path fill=\"none\" stroke=\"black\" d=\"M920.62,-305.99C957.3,-297.35 1022.21,-282.06 1063.35,-272.37\"/>\n",
       "<polygon fill=\"black\" stroke=\"black\" points=\"1064.33,-275.73 1073.26,-270.03 1062.73,-268.92 1064.33,-275.73\"/>\n",
       "</g>\n",
       "<!-- 49 -->\n",
       "<g id=\"node50\" class=\"node\">\n",
       "<title>49</title>\n",
       "<text text-anchor=\"middle\" x=\"1192\" y=\"-258.8\" font-family=\"Times,serif\" font-size=\"14.00\"> </text>\n",
       "</g>\n",
       "<!-- 7&#45;&gt;49 -->\n",
       "<g id=\"edge49\" class=\"edge\">\n",
       "<title>7&#45;&gt;49</title>\n",
       "<path fill=\"none\" stroke=\"black\" d=\"M968.7,-308.51C1027.55,-303.7 1110.59,-293.13 1180,-270 1180.11,-269.96 1180.21,-269.93 1180.32,-269.89\"/>\n",
       "<polygon fill=\"black\" stroke=\"black\" points=\"1182.04,-272.94 1189.36,-265.28 1178.86,-266.71 1182.04,-272.94\"/>\n",
       "</g>\n",
       "<!-- 50 -->\n",
       "<g id=\"node51\" class=\"node\">\n",
       "<title>50</title>\n",
       "<text text-anchor=\"middle\" x=\"1285\" y=\"-258.8\" font-family=\"Times,serif\" font-size=\"14.00\">&lt;json_parse_value&gt;</text>\n",
       "</g>\n",
       "<!-- 7&#45;&gt;50 -->\n",
       "<g id=\"edge50\" class=\"edge\">\n",
       "<title>7&#45;&gt;50</title>\n",
       "<path fill=\"none\" stroke=\"black\" d=\"M945.05,-305.99C1016.81,-297.02 1145.93,-280.88 1222.71,-271.29\"/>\n",
       "<polygon fill=\"black\" stroke=\"black\" points=\"1223.24,-274.75 1232.73,-270.03 1222.37,-267.8 1223.24,-274.75\"/>\n",
       "</g>\n",
       "<!-- 52 -->\n",
       "<g id=\"node53\" class=\"node\">\n",
       "<title>52</title>\n",
       "<text text-anchor=\"middle\" x=\"1378\" y=\"-258.8\" font-family=\"Times,serif\" font-size=\"14.00\">:</text>\n",
       "</g>\n",
       "<!-- 7&#45;&gt;52 -->\n",
       "<g id=\"edge52\" class=\"edge\">\n",
       "<title>7&#45;&gt;52</title>\n",
       "<path fill=\"none\" stroke=\"black\" d=\"M968.83,-309.42C1083.11,-304.14 1293.77,-291.79 1366,-270 1366.11,-269.97 1366.22,-269.93 1366.32,-269.9\"/>\n",
       "<polygon fill=\"black\" stroke=\"black\" points=\"1368.02,-272.96 1375.37,-265.33 1364.87,-266.71 1368.02,-272.96\"/>\n",
       "</g>\n",
       "<!-- 53 -->\n",
       "<g id=\"node54\" class=\"node\">\n",
       "<title>53</title>\n",
       "<text text-anchor=\"middle\" x=\"1471\" y=\"-258.8\" font-family=\"Times,serif\" font-size=\"14.00\">&lt;json_parse_value&gt;</text>\n",
       "</g>\n",
       "<!-- 7&#45;&gt;53 -->\n",
       "<g id=\"edge53\" class=\"edge\">\n",
       "<title>7&#45;&gt;53</title>\n",
       "<path fill=\"none\" stroke=\"black\" d=\"M968.56,-306.09C1076.87,-296.91 1275.55,-280.07 1387.89,-270.55\"/>\n",
       "<polygon fill=\"black\" stroke=\"black\" points=\"1388.48,-274.01 1398.15,-269.68 1387.89,-267.03 1388.48,-274.01\"/>\n",
       "</g>\n",
       "<!-- 71 -->\n",
       "<g id=\"node72\" class=\"node\">\n",
       "<title>71</title>\n",
       "<text text-anchor=\"middle\" x=\"1701\" y=\"-258.8\" font-family=\"Times,serif\" font-size=\"14.00\">&lt;has_char&gt;</text>\n",
       "</g>\n",
       "<!-- 7&#45;&gt;71 -->\n",
       "<g id=\"edge71\" class=\"edge\">\n",
       "<title>7&#45;&gt;71</title>\n",
       "<path fill=\"none\" stroke=\"black\" d=\"M968.65,-307.91C1130.36,-298.11 1506.34,-275.3 1646.79,-266.79\"/>\n",
       "<polygon fill=\"black\" stroke=\"black\" points=\"1647.11,-270.27 1656.88,-266.18 1646.69,-263.29 1647.11,-270.27\"/>\n",
       "</g>\n",
       "<!-- 9 -->\n",
       "<g id=\"node10\" class=\"node\">\n",
       "<title>9</title>\n",
       "<text text-anchor=\"middle\" x=\"298\" y=\"-207.8\" font-family=\"Times,serif\" font-size=\"14.00\">&quot;array&quot;</text>\n",
       "</g>\n",
       "<!-- 8&#45;&gt;9 -->\n",
       "<g id=\"edge9\" class=\"edge\">\n",
       "<title>8&#45;&gt;9</title>\n",
       "<path fill=\"none\" stroke=\"black\" d=\"M365.48,-254.89C353.08,-247.1 332.24,-234.01 317,-224.43\"/>\n",
       "<polygon fill=\"black\" stroke=\"black\" points=\"318.68,-221.36 308.35,-219 314.96,-227.29 318.68,-221.36\"/>\n",
       "</g>\n",
       "<!-- 12 -->\n",
       "<g id=\"node13\" class=\"node\">\n",
       "<title>12</title>\n",
       "<text text-anchor=\"middle\" x=\"413\" y=\"-207.8\" font-family=\"Times,serif\" font-size=\"14.00\">&lt;skip_whitespace&gt;</text>\n",
       "</g>\n",
       "<!-- 11&#45;&gt;12 -->\n",
       "<g id=\"edge12\" class=\"edge\">\n",
       "<title>11&#45;&gt;12</title>\n",
       "<path fill=\"none\" stroke=\"black\" d=\"M542.21,-254.99C516.72,-246.61 472.18,-231.96 442.64,-222.25\"/>\n",
       "<polygon fill=\"black\" stroke=\"black\" points=\"443.46,-218.83 432.87,-219.03 441.27,-225.48 443.46,-218.83\"/>\n",
       "</g>\n",
       "<!-- 17 -->\n",
       "<g id=\"node18\" class=\"node\">\n",
       "<title>17</title>\n",
       "<text text-anchor=\"middle\" x=\"599\" y=\"-207.8\" font-family=\"Times,serif\" font-size=\"14.00\">&lt;json_parse_array&gt;</text>\n",
       "</g>\n",
       "<!-- 11&#45;&gt;17 -->\n",
       "<g id=\"edge17\" class=\"edge\">\n",
       "<title>11&#45;&gt;17</title>\n",
       "<path fill=\"none\" stroke=\"black\" d=\"M567.14,-254.69C572.45,-247.67 580.88,-236.49 587.74,-227.41\"/>\n",
       "<polygon fill=\"black\" stroke=\"black\" points=\"590.67,-229.34 593.9,-219.26 585.08,-225.13 590.67,-229.34\"/>\n",
       "</g>\n",
       "<!-- 13 -->\n",
       "<g id=\"node14\" class=\"node\">\n",
       "<title>13</title>\n",
       "<text text-anchor=\"middle\" x=\"42\" y=\"-156.8\" font-family=\"Times,serif\" font-size=\"14.00\">&lt;isspace_&gt;</text>\n",
       "</g>\n",
       "<!-- 12&#45;&gt;13 -->\n",
       "<g id=\"edge13\" class=\"edge\">\n",
       "<title>12&#45;&gt;13</title>\n",
       "<path fill=\"none\" stroke=\"black\" d=\"M363.73,-203.99C293.66,-194.74 165.78,-177.85 94.15,-168.39\"/>\n",
       "<polygon fill=\"black\" stroke=\"black\" points=\"94.38,-164.89 84.01,-167.05 93.46,-171.83 94.38,-164.89\"/>\n",
       "</g>\n",
       "<!-- 15 -->\n",
       "<g id=\"node16\" class=\"node\">\n",
       "<title>15</title>\n",
       "<text text-anchor=\"middle\" x=\"144\" y=\"-156.8\" font-family=\"Times,serif\" font-size=\"14.00\">&lt;isspace_&gt;</text>\n",
       "</g>\n",
       "<!-- 12&#45;&gt;15 -->\n",
       "<g id=\"edge15\" class=\"edge\">\n",
       "<title>12&#45;&gt;15</title>\n",
       "<path fill=\"none\" stroke=\"black\" d=\"M377.28,-203.99C329.04,-195.21 243.04,-179.54 190.01,-169.88\"/>\n",
       "<polygon fill=\"black\" stroke=\"black\" points=\"190.33,-166.38 179.87,-168.03 189.08,-173.27 190.33,-166.38\"/>\n",
       "</g>\n",
       "<!-- 14 -->\n",
       "<g id=\"node15\" class=\"node\">\n",
       "<title>14</title>\n",
       "<text text-anchor=\"middle\" x=\"42\" y=\"-105.8\" font-family=\"Times,serif\" font-size=\"14.00\"> </text>\n",
       "</g>\n",
       "<!-- 13&#45;&gt;14 -->\n",
       "<g id=\"edge14\" class=\"edge\">\n",
       "<title>13&#45;&gt;14</title>\n",
       "<path fill=\"none\" stroke=\"black\" d=\"M42,-152.69C42,-146.18 42,-136.1 42,-127.43\"/>\n",
       "<polygon fill=\"black\" stroke=\"black\" points=\"45.5,-127.26 42,-117.26 38.5,-127.26 45.5,-127.26\"/>\n",
       "</g>\n",
       "<!-- 16 -->\n",
       "<g id=\"node17\" class=\"node\">\n",
       "<title>16</title>\n",
       "<text text-anchor=\"middle\" x=\"144\" y=\"-105.8\" font-family=\"Times,serif\" font-size=\"14.00\">[</text>\n",
       "</g>\n",
       "<!-- 15&#45;&gt;16 -->\n",
       "<g id=\"edge16\" class=\"edge\">\n",
       "<title>15&#45;&gt;16</title>\n",
       "<path fill=\"none\" stroke=\"black\" d=\"M144,-152.69C144,-146.18 144,-136.1 144,-127.43\"/>\n",
       "<polygon fill=\"black\" stroke=\"black\" points=\"147.5,-127.26 144,-117.26 140.5,-127.26 147.5,-127.26\"/>\n",
       "</g>\n",
       "<!-- 18 -->\n",
       "<g id=\"node19\" class=\"node\">\n",
       "<title>18</title>\n",
       "<text text-anchor=\"middle\" x=\"277\" y=\"-156.8\" font-family=\"Times,serif\" font-size=\"14.00\">&lt;json_parse_value&gt;</text>\n",
       "</g>\n",
       "<!-- 17&#45;&gt;18 -->\n",
       "<g id=\"edge18\" class=\"edge\">\n",
       "<title>17&#45;&gt;18</title>\n",
       "<path fill=\"none\" stroke=\"black\" d=\"M556.24,-203.99C497.9,-195.12 393.4,-179.21 330.11,-169.58\"/>\n",
       "<polygon fill=\"black\" stroke=\"black\" points=\"330.35,-166.08 319.94,-168.03 329.3,-173 330.35,-166.08\"/>\n",
       "</g>\n",
       "<!-- 20 -->\n",
       "<g id=\"node21\" class=\"node\">\n",
       "<title>20</title>\n",
       "<text text-anchor=\"middle\" x=\"438\" y=\"-156.8\" font-family=\"Times,serif\" font-size=\"14.00\">&lt;skip_whitespace&gt;</text>\n",
       "</g>\n",
       "<!-- 17&#45;&gt;20 -->\n",
       "<g id=\"edge20\" class=\"edge\">\n",
       "<title>17&#45;&gt;20</title>\n",
       "<path fill=\"none\" stroke=\"black\" d=\"M577.62,-203.99C549.83,-195.54 501.1,-180.71 469.19,-170.99\"/>\n",
       "<polygon fill=\"black\" stroke=\"black\" points=\"470.05,-167.6 459.47,-168.03 468.02,-174.29 470.05,-167.6\"/>\n",
       "</g>\n",
       "<!-- 23 -->\n",
       "<g id=\"node24\" class=\"node\">\n",
       "<title>23</title>\n",
       "<text text-anchor=\"middle\" x=\"599\" y=\"-156.8\" font-family=\"Times,serif\" font-size=\"14.00\">&lt;json_parse_value&gt;</text>\n",
       "</g>\n",
       "<!-- 17&#45;&gt;23 -->\n",
       "<g id=\"edge23\" class=\"edge\">\n",
       "<title>17&#45;&gt;23</title>\n",
       "<path fill=\"none\" stroke=\"black\" d=\"M599,-203.69C599,-197.18 599,-187.1 599,-178.43\"/>\n",
       "<polygon fill=\"black\" stroke=\"black\" points=\"602.5,-178.26 599,-168.26 595.5,-178.26 602.5,-178.26\"/>\n",
       "</g>\n",
       "<!-- 28 -->\n",
       "<g id=\"node29\" class=\"node\">\n",
       "<title>28</title>\n",
       "<text text-anchor=\"middle\" x=\"760\" y=\"-156.8\" font-family=\"Times,serif\" font-size=\"14.00\">&lt;skip_whitespace&gt;</text>\n",
       "</g>\n",
       "<!-- 17&#45;&gt;28 -->\n",
       "<g id=\"edge28\" class=\"edge\">\n",
       "<title>17&#45;&gt;28</title>\n",
       "<path fill=\"none\" stroke=\"black\" d=\"M620.38,-203.99C648.17,-195.54 696.9,-180.71 728.81,-170.99\"/>\n",
       "<polygon fill=\"black\" stroke=\"black\" points=\"729.98,-174.29 738.53,-168.03 727.95,-167.6 729.98,-174.29\"/>\n",
       "</g>\n",
       "<!-- 31 -->\n",
       "<g id=\"node32\" class=\"node\">\n",
       "<title>31</title>\n",
       "<text text-anchor=\"middle\" x=\"921\" y=\"-156.8\" font-family=\"Times,serif\" font-size=\"14.00\">&lt;json_parse_value&gt;</text>\n",
       "</g>\n",
       "<!-- 17&#45;&gt;31 -->\n",
       "<g id=\"edge31\" class=\"edge\">\n",
       "<title>17&#45;&gt;31</title>\n",
       "<path fill=\"none\" stroke=\"black\" d=\"M641.76,-203.99C700.1,-195.12 804.6,-179.21 867.89,-169.58\"/>\n",
       "<polygon fill=\"black\" stroke=\"black\" points=\"868.7,-173 878.06,-168.03 867.65,-166.08 868.7,-173\"/>\n",
       "</g>\n",
       "<!-- 36 -->\n",
       "<g id=\"node37\" class=\"node\">\n",
       "<title>36</title>\n",
       "<text text-anchor=\"middle\" x=\"1015\" y=\"-156.8\" font-family=\"Times,serif\" font-size=\"14.00\">]</text>\n",
       "</g>\n",
       "<!-- 17&#45;&gt;36 -->\n",
       "<g id=\"edge36\" class=\"edge\">\n",
       "<title>17&#45;&gt;36</title>\n",
       "<path fill=\"none\" stroke=\"black\" d=\"M671.7,-205.96C770.54,-199.25 941.9,-185.57 1002,-168 1002.22,-167.94 1002.44,-167.87 1002.66,-167.8\"/>\n",
       "<polygon fill=\"black\" stroke=\"black\" points=\"1004.14,-170.97 1011.72,-163.56 1001.17,-164.63 1004.14,-170.97\"/>\n",
       "</g>\n",
       "<!-- 19 -->\n",
       "<g id=\"node20\" class=\"node\">\n",
       "<title>19</title>\n",
       "<text text-anchor=\"middle\" x=\"277\" y=\"-105.8\" font-family=\"Times,serif\" font-size=\"14.00\">&quot;8&quot;</text>\n",
       "</g>\n",
       "<!-- 18&#45;&gt;19 -->\n",
       "<g id=\"edge19\" class=\"edge\">\n",
       "<title>18&#45;&gt;19</title>\n",
       "<path fill=\"none\" stroke=\"black\" d=\"M277,-152.69C277,-146.18 277,-136.1 277,-127.43\"/>\n",
       "<polygon fill=\"black\" stroke=\"black\" points=\"280.5,-127.26 277,-117.26 273.5,-127.26 280.5,-127.26\"/>\n",
       "</g>\n",
       "<!-- 21 -->\n",
       "<g id=\"node22\" class=\"node\">\n",
       "<title>21</title>\n",
       "<text text-anchor=\"middle\" x=\"438\" y=\"-105.8\" font-family=\"Times,serif\" font-size=\"14.00\">&lt;isspace_&gt;</text>\n",
       "</g>\n",
       "<!-- 20&#45;&gt;21 -->\n",
       "<g id=\"edge21\" class=\"edge\">\n",
       "<title>20&#45;&gt;21</title>\n",
       "<path fill=\"none\" stroke=\"black\" d=\"M438,-152.69C438,-146.18 438,-136.1 438,-127.43\"/>\n",
       "<polygon fill=\"black\" stroke=\"black\" points=\"441.5,-127.26 438,-117.26 434.5,-127.26 441.5,-127.26\"/>\n",
       "</g>\n",
       "<!-- 22 -->\n",
       "<g id=\"node23\" class=\"node\">\n",
       "<title>22</title>\n",
       "<text text-anchor=\"middle\" x=\"438\" y=\"-54.8\" font-family=\"Times,serif\" font-size=\"14.00\">,</text>\n",
       "</g>\n",
       "<!-- 21&#45;&gt;22 -->\n",
       "<g id=\"edge22\" class=\"edge\">\n",
       "<title>21&#45;&gt;22</title>\n",
       "<path fill=\"none\" stroke=\"black\" d=\"M438,-101.69C438,-95.18 438,-85.1 438,-76.43\"/>\n",
       "<polygon fill=\"black\" stroke=\"black\" points=\"441.5,-76.26 438,-66.26 434.5,-76.26 441.5,-76.26\"/>\n",
       "</g>\n",
       "<!-- 24 -->\n",
       "<g id=\"node25\" class=\"node\">\n",
       "<title>24</title>\n",
       "<text text-anchor=\"middle\" x=\"579\" y=\"-105.8\" font-family=\"Times,serif\" font-size=\"14.00\">&lt;skip_whitespace&gt;</text>\n",
       "</g>\n",
       "<!-- 23&#45;&gt;24 -->\n",
       "<g id=\"edge24\" class=\"edge\">\n",
       "<title>23&#45;&gt;24</title>\n",
       "<path fill=\"none\" stroke=\"black\" d=\"M596.22,-152.69C593.47,-145.96 589.17,-135.42 585.55,-126.56\"/>\n",
       "<polygon fill=\"black\" stroke=\"black\" points=\"588.78,-125.19 581.76,-117.26 582.3,-127.84 588.78,-125.19\"/>\n",
       "</g>\n",
       "<!-- 27 -->\n",
       "<g id=\"node28\" class=\"node\">\n",
       "<title>27</title>\n",
       "<text text-anchor=\"middle\" x=\"679\" y=\"-105.8\" font-family=\"Times,serif\" font-size=\"14.00\">&quot;7&quot;</text>\n",
       "</g>\n",
       "<!-- 23&#45;&gt;27 -->\n",
       "<g id=\"edge27\" class=\"edge\">\n",
       "<title>23&#45;&gt;27</title>\n",
       "<path fill=\"none\" stroke=\"black\" d=\"M609.79,-152.89C622.5,-145.1 643.88,-132.01 659.52,-122.43\"/>\n",
       "<polygon fill=\"black\" stroke=\"black\" points=\"661.68,-125.21 668.38,-117 658.03,-119.24 661.68,-125.21\"/>\n",
       "</g>\n",
       "<!-- 25 -->\n",
       "<g id=\"node26\" class=\"node\">\n",
       "<title>25</title>\n",
       "<text text-anchor=\"middle\" x=\"579\" y=\"-54.8\" font-family=\"Times,serif\" font-size=\"14.00\">&lt;isspace_&gt;</text>\n",
       "</g>\n",
       "<!-- 24&#45;&gt;25 -->\n",
       "<g id=\"edge25\" class=\"edge\">\n",
       "<title>24&#45;&gt;25</title>\n",
       "<path fill=\"none\" stroke=\"black\" d=\"M579,-101.69C579,-95.18 579,-85.1 579,-76.43\"/>\n",
       "<polygon fill=\"black\" stroke=\"black\" points=\"582.5,-76.26 579,-66.26 575.5,-76.26 582.5,-76.26\"/>\n",
       "</g>\n",
       "<!-- 26 -->\n",
       "<g id=\"node27\" class=\"node\">\n",
       "<title>26</title>\n",
       "<text text-anchor=\"middle\" x=\"579\" y=\"-3.8\" font-family=\"Times,serif\" font-size=\"14.00\"> </text>\n",
       "</g>\n",
       "<!-- 25&#45;&gt;26 -->\n",
       "<g id=\"edge26\" class=\"edge\">\n",
       "<title>25&#45;&gt;26</title>\n",
       "<path fill=\"none\" stroke=\"black\" d=\"M579,-50.69C579,-44.18 579,-34.1 579,-25.43\"/>\n",
       "<polygon fill=\"black\" stroke=\"black\" points=\"582.5,-25.26 579,-15.26 575.5,-25.26 582.5,-25.26\"/>\n",
       "</g>\n",
       "<!-- 29 -->\n",
       "<g id=\"node30\" class=\"node\">\n",
       "<title>29</title>\n",
       "<text text-anchor=\"middle\" x=\"760\" y=\"-105.8\" font-family=\"Times,serif\" font-size=\"14.00\">&lt;isspace_&gt;</text>\n",
       "</g>\n",
       "<!-- 28&#45;&gt;29 -->\n",
       "<g id=\"edge29\" class=\"edge\">\n",
       "<title>28&#45;&gt;29</title>\n",
       "<path fill=\"none\" stroke=\"black\" d=\"M760,-152.69C760,-146.18 760,-136.1 760,-127.43\"/>\n",
       "<polygon fill=\"black\" stroke=\"black\" points=\"763.5,-127.26 760,-117.26 756.5,-127.26 763.5,-127.26\"/>\n",
       "</g>\n",
       "<!-- 30 -->\n",
       "<g id=\"node31\" class=\"node\">\n",
       "<title>30</title>\n",
       "<text text-anchor=\"middle\" x=\"760\" y=\"-54.8\" font-family=\"Times,serif\" font-size=\"14.00\">,</text>\n",
       "</g>\n",
       "<!-- 29&#45;&gt;30 -->\n",
       "<g id=\"edge30\" class=\"edge\">\n",
       "<title>29&#45;&gt;30</title>\n",
       "<path fill=\"none\" stroke=\"black\" d=\"M760,-101.69C760,-95.18 760,-85.1 760,-76.43\"/>\n",
       "<polygon fill=\"black\" stroke=\"black\" points=\"763.5,-76.26 760,-66.26 756.5,-76.26 763.5,-76.26\"/>\n",
       "</g>\n",
       "<!-- 32 -->\n",
       "<g id=\"node33\" class=\"node\">\n",
       "<title>32</title>\n",
       "<text text-anchor=\"middle\" x=\"906\" y=\"-105.8\" font-family=\"Times,serif\" font-size=\"14.00\">&lt;skip_whitespace&gt;</text>\n",
       "</g>\n",
       "<!-- 31&#45;&gt;32 -->\n",
       "<g id=\"edge32\" class=\"edge\">\n",
       "<title>31&#45;&gt;32</title>\n",
       "<path fill=\"none\" stroke=\"black\" d=\"M918.91,-152.69C916.88,-146.03 913.7,-135.65 911,-126.85\"/>\n",
       "<polygon fill=\"black\" stroke=\"black\" points=\"914.34,-125.79 908.07,-117.26 907.65,-127.84 914.34,-125.79\"/>\n",
       "</g>\n",
       "<!-- 35 -->\n",
       "<g id=\"node36\" class=\"node\">\n",
       "<title>35</title>\n",
       "<text text-anchor=\"middle\" x=\"1006\" y=\"-105.8\" font-family=\"Times,serif\" font-size=\"14.00\">&quot;5&quot;</text>\n",
       "</g>\n",
       "<!-- 31&#45;&gt;35 -->\n",
       "<g id=\"edge35\" class=\"edge\">\n",
       "<title>31&#45;&gt;35</title>\n",
       "<path fill=\"none\" stroke=\"black\" d=\"M932.46,-152.89C946.1,-145.03 969.11,-131.77 985.77,-122.16\"/>\n",
       "<polygon fill=\"black\" stroke=\"black\" points=\"987.8,-125.03 994.72,-117 984.31,-118.97 987.8,-125.03\"/>\n",
       "</g>\n",
       "<!-- 33 -->\n",
       "<g id=\"node34\" class=\"node\">\n",
       "<title>33</title>\n",
       "<text text-anchor=\"middle\" x=\"906\" y=\"-54.8\" font-family=\"Times,serif\" font-size=\"14.00\">&lt;isspace_&gt;</text>\n",
       "</g>\n",
       "<!-- 32&#45;&gt;33 -->\n",
       "<g id=\"edge33\" class=\"edge\">\n",
       "<title>32&#45;&gt;33</title>\n",
       "<path fill=\"none\" stroke=\"black\" d=\"M906,-101.69C906,-95.18 906,-85.1 906,-76.43\"/>\n",
       "<polygon fill=\"black\" stroke=\"black\" points=\"909.5,-76.26 906,-66.26 902.5,-76.26 909.5,-76.26\"/>\n",
       "</g>\n",
       "<!-- 34 -->\n",
       "<g id=\"node35\" class=\"node\">\n",
       "<title>34</title>\n",
       "<text text-anchor=\"middle\" x=\"906\" y=\"-3.8\" font-family=\"Times,serif\" font-size=\"14.00\"> </text>\n",
       "</g>\n",
       "<!-- 33&#45;&gt;34 -->\n",
       "<g id=\"edge34\" class=\"edge\">\n",
       "<title>33&#45;&gt;34</title>\n",
       "<path fill=\"none\" stroke=\"black\" d=\"M906,-50.69C906,-44.18 906,-34.1 906,-25.43\"/>\n",
       "<polygon fill=\"black\" stroke=\"black\" points=\"909.5,-25.26 906,-15.26 902.5,-25.26 909.5,-25.26\"/>\n",
       "</g>\n",
       "<!-- 39 -->\n",
       "<g id=\"node40\" class=\"node\">\n",
       "<title>39</title>\n",
       "<text text-anchor=\"middle\" x=\"754\" y=\"-207.8\" font-family=\"Times,serif\" font-size=\"14.00\">&quot;onclick&quot;</text>\n",
       "</g>\n",
       "<!-- 38&#45;&gt;39 -->\n",
       "<g id=\"edge39\" class=\"edge\">\n",
       "<title>38&#45;&gt;39</title>\n",
       "<path fill=\"none\" stroke=\"black\" d=\"M754,-254.69C754,-248.18 754,-238.1 754,-229.43\"/>\n",
       "<polygon fill=\"black\" stroke=\"black\" points=\"757.5,-229.26 754,-219.26 750.5,-229.26 757.5,-229.26\"/>\n",
       "</g>\n",
       "<!-- 42 -->\n",
       "<g id=\"node43\" class=\"node\">\n",
       "<title>42</title>\n",
       "<text text-anchor=\"middle\" x=\"918\" y=\"-207.8\" font-family=\"Times,serif\" font-size=\"14.00\">&lt;skip_whitespace&gt;</text>\n",
       "</g>\n",
       "<!-- 41&#45;&gt;42 -->\n",
       "<g id=\"edge42\" class=\"edge\">\n",
       "<title>41&#45;&gt;42</title>\n",
       "<path fill=\"none\" stroke=\"black\" d=\"M936.94,-254.69C933.92,-247.96 929.19,-237.42 925.21,-228.56\"/>\n",
       "<polygon fill=\"black\" stroke=\"black\" points=\"928.32,-226.94 921.03,-219.26 921.94,-229.81 928.32,-226.94\"/>\n",
       "</g>\n",
       "<!-- 45 -->\n",
       "<g id=\"node46\" class=\"node\">\n",
       "<title>45</title>\n",
       "<text text-anchor=\"middle\" x=\"1056\" y=\"-207.8\" font-family=\"Times,serif\" font-size=\"14.00\">&quot;Createewoc&quot;</text>\n",
       "</g>\n",
       "<!-- 41&#45;&gt;45 -->\n",
       "<g id=\"edge45\" class=\"edge\">\n",
       "<title>41&#45;&gt;45</title>\n",
       "<path fill=\"none\" stroke=\"black\" d=\"M955.64,-254.89C975.04,-246.7 1008.32,-232.64 1031.21,-222.97\"/>\n",
       "<polygon fill=\"black\" stroke=\"black\" points=\"1032.75,-226.12 1040.6,-219 1030.03,-219.67 1032.75,-226.12\"/>\n",
       "</g>\n",
       "<!-- 43 -->\n",
       "<g id=\"node44\" class=\"node\">\n",
       "<title>43</title>\n",
       "<text text-anchor=\"middle\" x=\"1078\" y=\"-156.8\" font-family=\"Times,serif\" font-size=\"14.00\">&lt;isspace_&gt;</text>\n",
       "</g>\n",
       "<!-- 42&#45;&gt;43 -->\n",
       "<g id=\"edge43\" class=\"edge\">\n",
       "<title>42&#45;&gt;43</title>\n",
       "<path fill=\"none\" stroke=\"black\" d=\"M939.25,-203.99C966.86,-195.54 1015.29,-180.71 1047,-170.99\"/>\n",
       "<polygon fill=\"black\" stroke=\"black\" points=\"1048.13,-174.31 1056.67,-168.03 1046.08,-167.62 1048.13,-174.31\"/>\n",
       "</g>\n",
       "<!-- 44 -->\n",
       "<g id=\"node45\" class=\"node\">\n",
       "<title>44</title>\n",
       "<text text-anchor=\"middle\" x=\"1078\" y=\"-105.8\" font-family=\"Times,serif\" font-size=\"14.00\"> </text>\n",
       "</g>\n",
       "<!-- 43&#45;&gt;44 -->\n",
       "<g id=\"edge44\" class=\"edge\">\n",
       "<title>43&#45;&gt;44</title>\n",
       "<path fill=\"none\" stroke=\"black\" d=\"M1078,-152.69C1078,-146.18 1078,-136.1 1078,-127.43\"/>\n",
       "<polygon fill=\"black\" stroke=\"black\" points=\"1081.5,-127.26 1078,-117.26 1074.5,-127.26 1081.5,-127.26\"/>\n",
       "</g>\n",
       "<!-- 47 -->\n",
       "<g id=\"node48\" class=\"node\">\n",
       "<title>47</title>\n",
       "<text text-anchor=\"middle\" x=\"1165\" y=\"-207.8\" font-family=\"Times,serif\" font-size=\"14.00\">&lt;isspace_&gt;</text>\n",
       "</g>\n",
       "<!-- 46&#45;&gt;47 -->\n",
       "<g id=\"edge47\" class=\"edge\">\n",
       "<title>46&#45;&gt;47</title>\n",
       "<path fill=\"none\" stroke=\"black\" d=\"M1109.63,-254.89C1119.52,-247.32 1135.94,-234.75 1148.34,-225.26\"/>\n",
       "<polygon fill=\"black\" stroke=\"black\" points=\"1150.69,-227.86 1156.51,-219 1146.44,-222.3 1150.69,-227.86\"/>\n",
       "</g>\n",
       "<!-- 48 -->\n",
       "<g id=\"node49\" class=\"node\">\n",
       "<title>48</title>\n",
       "<text text-anchor=\"middle\" x=\"1165\" y=\"-156.8\" font-family=\"Times,serif\" font-size=\"14.00\">,</text>\n",
       "</g>\n",
       "<!-- 47&#45;&gt;48 -->\n",
       "<g id=\"edge48\" class=\"edge\">\n",
       "<title>47&#45;&gt;48</title>\n",
       "<path fill=\"none\" stroke=\"black\" d=\"M1165,-203.69C1165,-197.18 1165,-187.1 1165,-178.43\"/>\n",
       "<polygon fill=\"black\" stroke=\"black\" points=\"1168.5,-178.26 1165,-168.26 1161.5,-178.26 1168.5,-178.26\"/>\n",
       "</g>\n",
       "<!-- 51 -->\n",
       "<g id=\"node52\" class=\"node\">\n",
       "<title>51</title>\n",
       "<text text-anchor=\"middle\" x=\"1282\" y=\"-207.8\" font-family=\"Times,serif\" font-size=\"14.00\">&quot;x&quot;</text>\n",
       "</g>\n",
       "<!-- 50&#45;&gt;51 -->\n",
       "<g id=\"edge51\" class=\"edge\">\n",
       "<title>50&#45;&gt;51</title>\n",
       "<path fill=\"none\" stroke=\"black\" d=\"M1284.58,-254.69C1284.18,-248.18 1283.57,-238.1 1283.04,-229.43\"/>\n",
       "<polygon fill=\"black\" stroke=\"black\" points=\"1286.52,-229.02 1282.41,-219.26 1279.53,-229.45 1286.52,-229.02\"/>\n",
       "</g>\n",
       "<!-- 54 -->\n",
       "<g id=\"node55\" class=\"node\">\n",
       "<title>54</title>\n",
       "<text text-anchor=\"middle\" x=\"1382\" y=\"-207.8\" font-family=\"Times,serif\" font-size=\"14.00\">&lt;skip_whitespace&gt;</text>\n",
       "</g>\n",
       "<!-- 53&#45;&gt;54 -->\n",
       "<g id=\"edge54\" class=\"edge\">\n",
       "<title>53&#45;&gt;54</title>\n",
       "<path fill=\"none\" stroke=\"black\" d=\"M1459,-254.89C1444.58,-246.96 1420.17,-233.52 1402.7,-223.9\"/>\n",
       "<polygon fill=\"black\" stroke=\"black\" points=\"1404.26,-220.76 1393.81,-219 1400.88,-226.89 1404.26,-220.76\"/>\n",
       "</g>\n",
       "<!-- 59 -->\n",
       "<g id=\"node60\" class=\"node\">\n",
       "<title>59</title>\n",
       "<text text-anchor=\"middle\" x=\"1567\" y=\"-207.8\" font-family=\"Times,serif\" font-size=\"14.00\">&lt;json_parse_object&gt;</text>\n",
       "</g>\n",
       "<!-- 53&#45;&gt;59 -->\n",
       "<g id=\"edge59\" class=\"edge\">\n",
       "<title>53&#45;&gt;59</title>\n",
       "<path fill=\"none\" stroke=\"black\" d=\"M1483.95,-254.89C1499.64,-246.88 1526.31,-233.27 1545.19,-223.63\"/>\n",
       "<polygon fill=\"black\" stroke=\"black\" points=\"1546.94,-226.67 1554.26,-219 1543.76,-220.43 1546.94,-226.67\"/>\n",
       "</g>\n",
       "<!-- 55 -->\n",
       "<g id=\"node56\" class=\"node\">\n",
       "<title>55</title>\n",
       "<text text-anchor=\"middle\" x=\"1239\" y=\"-156.8\" font-family=\"Times,serif\" font-size=\"14.00\">&lt;isspace_&gt;</text>\n",
       "</g>\n",
       "<!-- 54&#45;&gt;55 -->\n",
       "<g id=\"edge55\" class=\"edge\">\n",
       "<title>54&#45;&gt;55</title>\n",
       "<path fill=\"none\" stroke=\"black\" d=\"M1363.01,-203.99C1338.65,-195.65 1296.17,-181.09 1267.82,-171.37\"/>\n",
       "<polygon fill=\"black\" stroke=\"black\" points=\"1268.66,-167.96 1258.07,-168.03 1266.39,-174.59 1268.66,-167.96\"/>\n",
       "</g>\n",
       "<!-- 57 -->\n",
       "<g id=\"node58\" class=\"node\">\n",
       "<title>57</title>\n",
       "<text text-anchor=\"middle\" x=\"1341\" y=\"-156.8\" font-family=\"Times,serif\" font-size=\"14.00\">&lt;isspace_&gt;</text>\n",
       "</g>\n",
       "<!-- 54&#45;&gt;57 -->\n",
       "<g id=\"edge57\" class=\"edge\">\n",
       "<title>54&#45;&gt;57</title>\n",
       "<path fill=\"none\" stroke=\"black\" d=\"M1376.3,-203.69C1370.36,-196.59 1360.88,-185.26 1353.24,-176.13\"/>\n",
       "<polygon fill=\"black\" stroke=\"black\" points=\"1355.75,-173.68 1346.65,-168.26 1350.39,-178.17 1355.75,-173.68\"/>\n",
       "</g>\n",
       "<!-- 56 -->\n",
       "<g id=\"node57\" class=\"node\">\n",
       "<title>56</title>\n",
       "<text text-anchor=\"middle\" x=\"1239\" y=\"-105.8\" font-family=\"Times,serif\" font-size=\"14.00\"> </text>\n",
       "</g>\n",
       "<!-- 55&#45;&gt;56 -->\n",
       "<g id=\"edge56\" class=\"edge\">\n",
       "<title>55&#45;&gt;56</title>\n",
       "<path fill=\"none\" stroke=\"black\" d=\"M1239,-152.69C1239,-146.18 1239,-136.1 1239,-127.43\"/>\n",
       "<polygon fill=\"black\" stroke=\"black\" points=\"1242.5,-127.26 1239,-117.26 1235.5,-127.26 1242.5,-127.26\"/>\n",
       "</g>\n",
       "<!-- 58 -->\n",
       "<g id=\"node59\" class=\"node\">\n",
       "<title>58</title>\n",
       "<text text-anchor=\"middle\" x=\"1341\" y=\"-105.8\" font-family=\"Times,serif\" font-size=\"14.00\">{</text>\n",
       "</g>\n",
       "<!-- 57&#45;&gt;58 -->\n",
       "<g id=\"edge58\" class=\"edge\">\n",
       "<title>57&#45;&gt;58</title>\n",
       "<path fill=\"none\" stroke=\"black\" d=\"M1341,-152.69C1341,-146.18 1341,-136.1 1341,-127.43\"/>\n",
       "<polygon fill=\"black\" stroke=\"black\" points=\"1344.5,-127.26 1341,-117.26 1337.5,-127.26 1344.5,-127.26\"/>\n",
       "</g>\n",
       "<!-- 60 -->\n",
       "<g id=\"node61\" class=\"node\">\n",
       "<title>60</title>\n",
       "<text text-anchor=\"middle\" x=\"1474\" y=\"-156.8\" font-family=\"Times,serif\" font-size=\"14.00\">&lt;json_parse_value&gt;</text>\n",
       "</g>\n",
       "<!-- 59&#45;&gt;60 -->\n",
       "<g id=\"edge60\" class=\"edge\">\n",
       "<title>59&#45;&gt;60</title>\n",
       "<path fill=\"none\" stroke=\"black\" d=\"M1554.46,-203.89C1539.33,-195.92 1513.65,-182.39 1495.38,-172.76\"/>\n",
       "<polygon fill=\"black\" stroke=\"black\" points=\"1496.82,-169.57 1486.34,-168 1493.56,-175.76 1496.82,-169.57\"/>\n",
       "</g>\n",
       "<!-- 62 -->\n",
       "<g id=\"node63\" class=\"node\">\n",
       "<title>62</title>\n",
       "<text text-anchor=\"middle\" x=\"1567\" y=\"-156.8\" font-family=\"Times,serif\" font-size=\"14.00\">:</text>\n",
       "</g>\n",
       "<!-- 59&#45;&gt;62 -->\n",
       "<g id=\"edge62\" class=\"edge\">\n",
       "<title>59&#45;&gt;62</title>\n",
       "<path fill=\"none\" stroke=\"black\" d=\"M1567,-203.69C1567,-197.18 1567,-187.1 1567,-178.43\"/>\n",
       "<polygon fill=\"black\" stroke=\"black\" points=\"1570.5,-178.26 1567,-168.26 1563.5,-178.26 1570.5,-178.26\"/>\n",
       "</g>\n",
       "<!-- 63 -->\n",
       "<g id=\"node64\" class=\"node\">\n",
       "<title>63</title>\n",
       "<text text-anchor=\"middle\" x=\"1660\" y=\"-156.8\" font-family=\"Times,serif\" font-size=\"14.00\">&lt;json_parse_value&gt;</text>\n",
       "</g>\n",
       "<!-- 59&#45;&gt;63 -->\n",
       "<g id=\"edge63\" class=\"edge\">\n",
       "<title>59&#45;&gt;63</title>\n",
       "<path fill=\"none\" stroke=\"black\" d=\"M1579.54,-203.89C1594.67,-195.92 1620.35,-182.39 1638.62,-172.76\"/>\n",
       "<polygon fill=\"black\" stroke=\"black\" points=\"1640.44,-175.76 1647.66,-168 1637.18,-169.57 1640.44,-175.76\"/>\n",
       "</g>\n",
       "<!-- 68 -->\n",
       "<g id=\"node69\" class=\"node\">\n",
       "<title>68</title>\n",
       "<text text-anchor=\"middle\" x=\"1795\" y=\"-156.8\" font-family=\"Times,serif\" font-size=\"14.00\">&lt;has_char&gt;</text>\n",
       "</g>\n",
       "<!-- 59&#45;&gt;68 -->\n",
       "<g id=\"edge68\" class=\"edge\">\n",
       "<title>59&#45;&gt;68</title>\n",
       "<path fill=\"none\" stroke=\"black\" d=\"M1597.28,-203.99C1637.73,-195.3 1709.54,-179.87 1754.59,-170.19\"/>\n",
       "<polygon fill=\"black\" stroke=\"black\" points=\"1755.56,-173.56 1764.6,-168.03 1754.09,-166.71 1755.56,-173.56\"/>\n",
       "</g>\n",
       "<!-- 61 -->\n",
       "<g id=\"node62\" class=\"node\">\n",
       "<title>61</title>\n",
       "<text text-anchor=\"middle\" x=\"1474\" y=\"-105.8\" font-family=\"Times,serif\" font-size=\"14.00\">&quot;a&quot;</text>\n",
       "</g>\n",
       "<!-- 60&#45;&gt;61 -->\n",
       "<g id=\"edge61\" class=\"edge\">\n",
       "<title>60&#45;&gt;61</title>\n",
       "<path fill=\"none\" stroke=\"black\" d=\"M1474,-152.69C1474,-146.18 1474,-136.1 1474,-127.43\"/>\n",
       "<polygon fill=\"black\" stroke=\"black\" points=\"1477.5,-127.26 1474,-117.26 1470.5,-127.26 1477.5,-127.26\"/>\n",
       "</g>\n",
       "<!-- 64 -->\n",
       "<g id=\"node65\" class=\"node\">\n",
       "<title>64</title>\n",
       "<text text-anchor=\"middle\" x=\"1585\" y=\"-105.8\" font-family=\"Times,serif\" font-size=\"14.00\">&lt;skip_whitespace&gt;</text>\n",
       "</g>\n",
       "<!-- 63&#45;&gt;64 -->\n",
       "<g id=\"edge64\" class=\"edge\">\n",
       "<title>63&#45;&gt;64</title>\n",
       "<path fill=\"none\" stroke=\"black\" d=\"M1649.89,-152.89C1638.08,-145.18 1618.3,-132.26 1603.68,-122.71\"/>\n",
       "<polygon fill=\"black\" stroke=\"black\" points=\"1605.24,-119.54 1594.95,-117 1601.41,-125.4 1605.24,-119.54\"/>\n",
       "</g>\n",
       "<!-- 67 -->\n",
       "<g id=\"node68\" class=\"node\">\n",
       "<title>67</title>\n",
       "<text text-anchor=\"middle\" x=\"1685\" y=\"-105.8\" font-family=\"Times,serif\" font-size=\"14.00\">&quot;b&quot;</text>\n",
       "</g>\n",
       "<!-- 63&#45;&gt;67 -->\n",
       "<g id=\"edge67\" class=\"edge\">\n",
       "<title>63&#45;&gt;67</title>\n",
       "<path fill=\"none\" stroke=\"black\" d=\"M1663.48,-152.69C1666.95,-145.88 1672.4,-135.19 1676.95,-126.27\"/>\n",
       "<polygon fill=\"black\" stroke=\"black\" points=\"1680.13,-127.75 1681.55,-117.26 1673.89,-124.57 1680.13,-127.75\"/>\n",
       "</g>\n",
       "<!-- 65 -->\n",
       "<g id=\"node66\" class=\"node\">\n",
       "<title>65</title>\n",
       "<text text-anchor=\"middle\" x=\"1585\" y=\"-54.8\" font-family=\"Times,serif\" font-size=\"14.00\">&lt;isspace_&gt;</text>\n",
       "</g>\n",
       "<!-- 64&#45;&gt;65 -->\n",
       "<g id=\"edge65\" class=\"edge\">\n",
       "<title>64&#45;&gt;65</title>\n",
       "<path fill=\"none\" stroke=\"black\" d=\"M1585,-101.69C1585,-95.18 1585,-85.1 1585,-76.43\"/>\n",
       "<polygon fill=\"black\" stroke=\"black\" points=\"1588.5,-76.26 1585,-66.26 1581.5,-76.26 1588.5,-76.26\"/>\n",
       "</g>\n",
       "<!-- 66 -->\n",
       "<g id=\"node67\" class=\"node\">\n",
       "<title>66</title>\n",
       "<text text-anchor=\"middle\" x=\"1585\" y=\"-3.8\" font-family=\"Times,serif\" font-size=\"14.00\"> </text>\n",
       "</g>\n",
       "<!-- 65&#45;&gt;66 -->\n",
       "<g id=\"edge66\" class=\"edge\">\n",
       "<title>65&#45;&gt;66</title>\n",
       "<path fill=\"none\" stroke=\"black\" d=\"M1585,-50.69C1585,-44.18 1585,-34.1 1585,-25.43\"/>\n",
       "<polygon fill=\"black\" stroke=\"black\" points=\"1588.5,-25.26 1585,-15.26 1581.5,-25.26 1588.5,-25.26\"/>\n",
       "</g>\n",
       "<!-- 69 -->\n",
       "<g id=\"node70\" class=\"node\">\n",
       "<title>69</title>\n",
       "<text text-anchor=\"middle\" x=\"1795\" y=\"-105.8\" font-family=\"Times,serif\" font-size=\"14.00\">&lt;skip_whitespace&gt;</text>\n",
       "</g>\n",
       "<!-- 68&#45;&gt;69 -->\n",
       "<g id=\"edge69\" class=\"edge\">\n",
       "<title>68&#45;&gt;69</title>\n",
       "<path fill=\"none\" stroke=\"black\" d=\"M1795,-152.69C1795,-146.18 1795,-136.1 1795,-127.43\"/>\n",
       "<polygon fill=\"black\" stroke=\"black\" points=\"1798.5,-127.26 1795,-117.26 1791.5,-127.26 1798.5,-127.26\"/>\n",
       "</g>\n",
       "<!-- 70 -->\n",
       "<g id=\"node71\" class=\"node\">\n",
       "<title>70</title>\n",
       "<text text-anchor=\"middle\" x=\"1795\" y=\"-54.8\" font-family=\"Times,serif\" font-size=\"14.00\">}</text>\n",
       "</g>\n",
       "<!-- 69&#45;&gt;70 -->\n",
       "<g id=\"edge70\" class=\"edge\">\n",
       "<title>69&#45;&gt;70</title>\n",
       "<path fill=\"none\" stroke=\"black\" d=\"M1795,-101.69C1795,-95.18 1795,-85.1 1795,-76.43\"/>\n",
       "<polygon fill=\"black\" stroke=\"black\" points=\"1798.5,-76.26 1795,-66.26 1791.5,-76.26 1798.5,-76.26\"/>\n",
       "</g>\n",
       "<!-- 72 -->\n",
       "<g id=\"node73\" class=\"node\">\n",
       "<title>72</title>\n",
       "<text text-anchor=\"middle\" x=\"1796\" y=\"-207.8\" font-family=\"Times,serif\" font-size=\"14.00\">&lt;skip_whitespace&gt;</text>\n",
       "</g>\n",
       "<!-- 71&#45;&gt;72 -->\n",
       "<g id=\"edge72\" class=\"edge\">\n",
       "<title>71&#45;&gt;72</title>\n",
       "<path fill=\"none\" stroke=\"black\" d=\"M1713.81,-254.89C1729.34,-246.88 1755.74,-233.27 1774.42,-223.63\"/>\n",
       "<polygon fill=\"black\" stroke=\"black\" points=\"1776.11,-226.7 1783.39,-219 1772.9,-220.48 1776.11,-226.7\"/>\n",
       "</g>\n",
       "<!-- 73 -->\n",
       "<g id=\"node74\" class=\"node\">\n",
       "<title>73</title>\n",
       "<text text-anchor=\"middle\" x=\"1862\" y=\"-156.8\" font-family=\"Times,serif\" font-size=\"14.00\">}</text>\n",
       "</g>\n",
       "<!-- 72&#45;&gt;73 -->\n",
       "<g id=\"edge73\" class=\"edge\">\n",
       "<title>72&#45;&gt;73</title>\n",
       "<path fill=\"none\" stroke=\"black\" d=\"M1804.9,-203.89C1816.11,-195.57 1835.49,-181.18 1848.52,-171.51\"/>\n",
       "<polygon fill=\"black\" stroke=\"black\" points=\"1850.74,-174.22 1856.68,-165.45 1846.57,-168.6 1850.74,-174.22\"/>\n",
       "</g>\n",
       "</g>\n",
       "</svg>\n"
      ],
      "text/plain": [
       "<graphviz.dot.Digraph at 0x7f972cc66d90>"
      ]
     },
     "metadata": {},
     "output_type": "display_data"
    },
    {
     "name": "stdout",
     "output_type": "stream",
     "text": [
      "{\"array\": [\"8\", \"7\", \"5\"], \"onclick\": \"Createewoc\", \"x\": {\"a\": \"b\"}}\n"
     ]
    },
    {
     "data": {
      "image/svg+xml": [
       "<?xml version=\"1.0\" encoding=\"UTF-8\" standalone=\"no\"?>\n",
       "<!DOCTYPE svg PUBLIC \"-//W3C//DTD SVG 1.1//EN\"\n",
       " \"http://www.w3.org/Graphics/SVG/1.1/DTD/svg11.dtd\">\n",
       "<!-- Generated by graphviz version 2.43.0 (0)\n",
       " -->\n",
       "<!-- Title: %3 Pages: 1 -->\n",
       "<svg width=\"1875pt\" height=\"533pt\"\n",
       " viewBox=\"0.00 0.00 1875.00 533.00\" xmlns=\"http://www.w3.org/2000/svg\" xmlns:xlink=\"http://www.w3.org/1999/xlink\">\n",
       "<g id=\"graph0\" class=\"graph\" transform=\"scale(1 1) rotate(0) translate(4 529)\">\n",
       "<title>%3</title>\n",
       "<polygon fill=\"white\" stroke=\"transparent\" points=\"-4,4 -4,-529 1871,-529 1871,4 -4,4\"/>\n",
       "<!-- 0 -->\n",
       "<g id=\"node1\" class=\"node\">\n",
       "<title>0</title>\n",
       "<text text-anchor=\"middle\" x=\"591\" y=\"-513.8\" font-family=\"Times,serif\" font-size=\"14.00\">&lt;START&gt;</text>\n",
       "</g>\n",
       "<!-- 1 -->\n",
       "<g id=\"node2\" class=\"node\">\n",
       "<title>1</title>\n",
       "<text text-anchor=\"middle\" x=\"591\" y=\"-462.8\" font-family=\"Times,serif\" font-size=\"14.00\">&lt;main&gt;</text>\n",
       "</g>\n",
       "<!-- 0&#45;&gt;1 -->\n",
       "<g id=\"edge1\" class=\"edge\">\n",
       "<title>0&#45;&gt;1</title>\n",
       "<path fill=\"none\" stroke=\"black\" d=\"M591,-509.69C591,-503.18 591,-493.1 591,-484.43\"/>\n",
       "<polygon fill=\"black\" stroke=\"black\" points=\"594.5,-484.26 591,-474.26 587.5,-484.26 594.5,-484.26\"/>\n",
       "</g>\n",
       "<!-- 2 -->\n",
       "<g id=\"node3\" class=\"node\">\n",
       "<title>2</title>\n",
       "<text text-anchor=\"middle\" x=\"591\" y=\"-411.8\" font-family=\"Times,serif\" font-size=\"14.00\">&lt;json_parse&gt;</text>\n",
       "</g>\n",
       "<!-- 1&#45;&gt;2 -->\n",
       "<g id=\"edge2\" class=\"edge\">\n",
       "<title>1&#45;&gt;2</title>\n",
       "<path fill=\"none\" stroke=\"black\" d=\"M591,-458.69C591,-452.18 591,-442.1 591,-433.43\"/>\n",
       "<polygon fill=\"black\" stroke=\"black\" points=\"594.5,-433.26 591,-423.26 587.5,-433.26 594.5,-433.26\"/>\n",
       "</g>\n",
       "<!-- 3 -->\n",
       "<g id=\"node4\" class=\"node\">\n",
       "<title>3</title>\n",
       "<text text-anchor=\"middle\" x=\"591\" y=\"-360.8\" font-family=\"Times,serif\" font-size=\"14.00\">&lt;json_parse_value&gt;</text>\n",
       "</g>\n",
       "<!-- 2&#45;&gt;3 -->\n",
       "<g id=\"edge3\" class=\"edge\">\n",
       "<title>2&#45;&gt;3</title>\n",
       "<path fill=\"none\" stroke=\"black\" d=\"M591,-407.69C591,-401.18 591,-391.1 591,-382.43\"/>\n",
       "<polygon fill=\"black\" stroke=\"black\" points=\"594.5,-382.26 591,-372.26 587.5,-382.26 594.5,-382.26\"/>\n",
       "</g>\n",
       "<!-- 4 -->\n",
       "<g id=\"node5\" class=\"node\">\n",
       "<title>4</title>\n",
       "<text text-anchor=\"middle\" x=\"509\" y=\"-309.8\" font-family=\"Times,serif\" font-size=\"14.00\">&lt;skip_whitespace&gt;</text>\n",
       "</g>\n",
       "<!-- 3&#45;&gt;4 -->\n",
       "<g id=\"edge4\" class=\"edge\">\n",
       "<title>3&#45;&gt;4</title>\n",
       "<path fill=\"none\" stroke=\"black\" d=\"M579.94,-356.89C566.79,-349.03 544.59,-335.77 528.52,-326.16\"/>\n",
       "<polygon fill=\"black\" stroke=\"black\" points=\"530.26,-323.13 519.88,-321 526.67,-329.14 530.26,-323.13\"/>\n",
       "</g>\n",
       "<!-- 7 -->\n",
       "<g id=\"node8\" class=\"node\">\n",
       "<title>7</title>\n",
       "<text text-anchor=\"middle\" x=\"893\" y=\"-309.8\" font-family=\"Times,serif\" font-size=\"14.00\">&lt;json_parse_object&gt;</text>\n",
       "</g>\n",
       "<!-- 3&#45;&gt;7 -->\n",
       "<g id=\"edge7\" class=\"edge\">\n",
       "<title>3&#45;&gt;7</title>\n",
       "<path fill=\"none\" stroke=\"black\" d=\"M631.1,-356.99C685.71,-348.13 783.43,-332.28 842.82,-322.64\"/>\n",
       "<polygon fill=\"black\" stroke=\"black\" points=\"843.42,-326.09 852.73,-321.03 842.3,-319.18 843.42,-326.09\"/>\n",
       "</g>\n",
       "<!-- 5 -->\n",
       "<g id=\"node6\" class=\"node\">\n",
       "<title>5</title>\n",
       "<text text-anchor=\"middle\" x=\"243\" y=\"-258.8\" font-family=\"Times,serif\" font-size=\"14.00\">&lt;isspace_&gt;</text>\n",
       "</g>\n",
       "<!-- 4&#45;&gt;5 -->\n",
       "<g id=\"edge5\" class=\"edge\">\n",
       "<title>4&#45;&gt;5</title>\n",
       "<path fill=\"none\" stroke=\"black\" d=\"M473.68,-305.99C425.98,-297.21 340.93,-281.54 288.5,-271.88\"/>\n",
       "<polygon fill=\"black\" stroke=\"black\" points=\"288.94,-268.4 278.47,-270.03 287.67,-275.29 288.94,-268.4\"/>\n",
       "</g>\n",
       "<!-- 6 -->\n",
       "<g id=\"node7\" class=\"node\">\n",
       "<title>6</title>\n",
       "<text text-anchor=\"middle\" x=\"243\" y=\"-207.8\" font-family=\"Times,serif\" font-size=\"14.00\">{</text>\n",
       "</g>\n",
       "<!-- 5&#45;&gt;6 -->\n",
       "<g id=\"edge6\" class=\"edge\">\n",
       "<title>5&#45;&gt;6</title>\n",
       "<path fill=\"none\" stroke=\"black\" d=\"M243,-254.69C243,-248.18 243,-238.1 243,-229.43\"/>\n",
       "<polygon fill=\"black\" stroke=\"black\" points=\"246.5,-229.26 243,-219.26 239.5,-229.26 246.5,-229.26\"/>\n",
       "</g>\n",
       "<!-- 8 -->\n",
       "<g id=\"node9\" class=\"node\">\n",
       "<title>8</title>\n",
       "<text text-anchor=\"middle\" x=\"376\" y=\"-258.8\" font-family=\"Times,serif\" font-size=\"14.00\">&lt;json_parse_value&gt;</text>\n",
       "</g>\n",
       "<!-- 7&#45;&gt;8 -->\n",
       "<g id=\"edge8\" class=\"edge\">\n",
       "<title>7&#45;&gt;8</title>\n",
       "<path fill=\"none\" stroke=\"black\" d=\"M824.35,-305.99C728.75,-296.93 555.94,-280.55 455.07,-270.99\"/>\n",
       "<polygon fill=\"black\" stroke=\"black\" points=\"455.22,-267.49 444.94,-270.03 454.56,-274.46 455.22,-267.49\"/>\n",
       "</g>\n",
       "<!-- 10 -->\n",
       "<g id=\"node11\" class=\"node\">\n",
       "<title>10</title>\n",
       "<text text-anchor=\"middle\" x=\"469\" y=\"-258.8\" font-family=\"Times,serif\" font-size=\"14.00\">:</text>\n",
       "</g>\n",
       "<!-- 7&#45;&gt;10 -->\n",
       "<g id=\"edge10\" class=\"edge\">\n",
       "<title>7&#45;&gt;10</title>\n",
       "<path fill=\"none\" stroke=\"black\" d=\"M817.45,-308.61C720.38,-302.97 556.34,-291.14 481.66,-268.79\"/>\n",
       "<polygon fill=\"black\" stroke=\"black\" points=\"482.32,-265.33 471.73,-265.57 480.16,-271.99 482.32,-265.33\"/>\n",
       "</g>\n",
       "<!-- 11 -->\n",
       "<g id=\"node12\" class=\"node\">\n",
       "<title>11</title>\n",
       "<text text-anchor=\"middle\" x=\"562\" y=\"-258.8\" font-family=\"Times,serif\" font-size=\"14.00\">&lt;json_parse_value&gt;</text>\n",
       "</g>\n",
       "<!-- 7&#45;&gt;11 -->\n",
       "<g id=\"edge11\" class=\"edge\">\n",
       "<title>7&#45;&gt;11</title>\n",
       "<path fill=\"none\" stroke=\"black\" d=\"M849.05,-305.99C788.95,-297.1 681.21,-281.15 616.19,-271.52\"/>\n",
       "<polygon fill=\"black\" stroke=\"black\" points=\"616.54,-268.04 606.14,-270.03 615.52,-274.96 616.54,-268.04\"/>\n",
       "</g>\n",
       "<!-- 37 -->\n",
       "<g id=\"node38\" class=\"node\">\n",
       "<title>37</title>\n",
       "<text text-anchor=\"middle\" x=\"658\" y=\"-258.8\" font-family=\"Times,serif\" font-size=\"14.00\">, </text>\n",
       "</g>\n",
       "<!-- 7&#45;&gt;37 -->\n",
       "<g id=\"edge37\" class=\"edge\">\n",
       "<title>7&#45;&gt;37</title>\n",
       "<path fill=\"none\" stroke=\"black\" d=\"M839.39,-305.94C796.36,-299.83 734.45,-289.16 672.93,-269.46\"/>\n",
       "<polygon fill=\"black\" stroke=\"black\" points=\"673.66,-266.01 663.06,-266.22 671.47,-272.66 673.66,-266.01\"/>\n",
       "</g>\n",
       "<!-- 38 -->\n",
       "<g id=\"node39\" class=\"node\">\n",
       "<title>38</title>\n",
       "<text text-anchor=\"middle\" x=\"754\" y=\"-258.8\" font-family=\"Times,serif\" font-size=\"14.00\">&lt;json_parse_value&gt;</text>\n",
       "</g>\n",
       "<!-- 7&#45;&gt;38 -->\n",
       "<g id=\"edge38\" class=\"edge\">\n",
       "<title>7&#45;&gt;38</title>\n",
       "<path fill=\"none\" stroke=\"black\" d=\"M874.54,-305.99C850.86,-297.65 809.57,-283.09 782.01,-273.37\"/>\n",
       "<polygon fill=\"black\" stroke=\"black\" points=\"783.13,-270.06 772.53,-270.03 780.8,-276.66 783.13,-270.06\"/>\n",
       "</g>\n",
       "<!-- 40 -->\n",
       "<g id=\"node41\" class=\"node\">\n",
       "<title>40</title>\n",
       "<text text-anchor=\"middle\" x=\"847\" y=\"-258.8\" font-family=\"Times,serif\" font-size=\"14.00\">:</text>\n",
       "</g>\n",
       "<!-- 7&#45;&gt;40 -->\n",
       "<g id=\"edge40\" class=\"edge\">\n",
       "<title>7&#45;&gt;40</title>\n",
       "<path fill=\"none\" stroke=\"black\" d=\"M886.6,-305.69C878.82,-297.4 865.61,-283.32 856.6,-273.73\"/>\n",
       "<polygon fill=\"black\" stroke=\"black\" points=\"858.97,-271.13 849.57,-266.24 853.86,-275.93 858.97,-271.13\"/>\n",
       "</g>\n",
       "<!-- 41 -->\n",
       "<g id=\"node42\" class=\"node\">\n",
       "<title>41</title>\n",
       "<text text-anchor=\"middle\" x=\"940\" y=\"-258.8\" font-family=\"Times,serif\" font-size=\"14.00\">&lt;json_parse_value&gt;</text>\n",
       "</g>\n",
       "<!-- 7&#45;&gt;41 -->\n",
       "<g id=\"edge41\" class=\"edge\">\n",
       "<title>7&#45;&gt;41</title>\n",
       "<path fill=\"none\" stroke=\"black\" d=\"M899.54,-305.69C906.48,-298.45 917.66,-286.79 926.51,-277.57\"/>\n",
       "<polygon fill=\"black\" stroke=\"black\" points=\"929.12,-279.9 933.52,-270.26 924.07,-275.05 929.12,-279.9\"/>\n",
       "</g>\n",
       "<!-- 46 -->\n",
       "<g id=\"node47\" class=\"node\">\n",
       "<title>46</title>\n",
       "<text text-anchor=\"middle\" x=\"1101\" y=\"-258.8\" font-family=\"Times,serif\" font-size=\"14.00\">&lt;skip_whitespace&gt;</text>\n",
       "</g>\n",
       "<!-- 7&#45;&gt;46 -->\n",
       "<g id=\"edge46\" class=\"edge\">\n",
       "<title>7&#45;&gt;46</title>\n",
       "<path fill=\"none\" stroke=\"black\" d=\"M920.62,-305.99C957.3,-297.35 1022.21,-282.06 1063.35,-272.37\"/>\n",
       "<polygon fill=\"black\" stroke=\"black\" points=\"1064.33,-275.73 1073.26,-270.03 1062.73,-268.92 1064.33,-275.73\"/>\n",
       "</g>\n",
       "<!-- 49 -->\n",
       "<g id=\"node50\" class=\"node\">\n",
       "<title>49</title>\n",
       "<text text-anchor=\"middle\" x=\"1192\" y=\"-258.8\" font-family=\"Times,serif\" font-size=\"14.00\"> </text>\n",
       "</g>\n",
       "<!-- 7&#45;&gt;49 -->\n",
       "<g id=\"edge49\" class=\"edge\">\n",
       "<title>7&#45;&gt;49</title>\n",
       "<path fill=\"none\" stroke=\"black\" d=\"M968.7,-308.51C1027.55,-303.7 1110.59,-293.13 1180,-270 1180.11,-269.96 1180.21,-269.93 1180.32,-269.89\"/>\n",
       "<polygon fill=\"black\" stroke=\"black\" points=\"1182.04,-272.94 1189.36,-265.28 1178.86,-266.71 1182.04,-272.94\"/>\n",
       "</g>\n",
       "<!-- 50 -->\n",
       "<g id=\"node51\" class=\"node\">\n",
       "<title>50</title>\n",
       "<text text-anchor=\"middle\" x=\"1285\" y=\"-258.8\" font-family=\"Times,serif\" font-size=\"14.00\">&lt;json_parse_value&gt;</text>\n",
       "</g>\n",
       "<!-- 7&#45;&gt;50 -->\n",
       "<g id=\"edge50\" class=\"edge\">\n",
       "<title>7&#45;&gt;50</title>\n",
       "<path fill=\"none\" stroke=\"black\" d=\"M945.05,-305.99C1016.81,-297.02 1145.93,-280.88 1222.71,-271.29\"/>\n",
       "<polygon fill=\"black\" stroke=\"black\" points=\"1223.24,-274.75 1232.73,-270.03 1222.37,-267.8 1223.24,-274.75\"/>\n",
       "</g>\n",
       "<!-- 52 -->\n",
       "<g id=\"node53\" class=\"node\">\n",
       "<title>52</title>\n",
       "<text text-anchor=\"middle\" x=\"1378\" y=\"-258.8\" font-family=\"Times,serif\" font-size=\"14.00\">:</text>\n",
       "</g>\n",
       "<!-- 7&#45;&gt;52 -->\n",
       "<g id=\"edge52\" class=\"edge\">\n",
       "<title>7&#45;&gt;52</title>\n",
       "<path fill=\"none\" stroke=\"black\" d=\"M968.83,-309.42C1083.11,-304.14 1293.77,-291.79 1366,-270 1366.11,-269.97 1366.22,-269.93 1366.32,-269.9\"/>\n",
       "<polygon fill=\"black\" stroke=\"black\" points=\"1368.02,-272.96 1375.37,-265.33 1364.87,-266.71 1368.02,-272.96\"/>\n",
       "</g>\n",
       "<!-- 53 -->\n",
       "<g id=\"node54\" class=\"node\">\n",
       "<title>53</title>\n",
       "<text text-anchor=\"middle\" x=\"1471\" y=\"-258.8\" font-family=\"Times,serif\" font-size=\"14.00\">&lt;json_parse_value&gt;</text>\n",
       "</g>\n",
       "<!-- 7&#45;&gt;53 -->\n",
       "<g id=\"edge53\" class=\"edge\">\n",
       "<title>7&#45;&gt;53</title>\n",
       "<path fill=\"none\" stroke=\"black\" d=\"M968.56,-306.09C1076.87,-296.91 1275.55,-280.07 1387.89,-270.55\"/>\n",
       "<polygon fill=\"black\" stroke=\"black\" points=\"1388.48,-274.01 1398.15,-269.68 1387.89,-267.03 1388.48,-274.01\"/>\n",
       "</g>\n",
       "<!-- 71 -->\n",
       "<g id=\"node72\" class=\"node\">\n",
       "<title>71</title>\n",
       "<text text-anchor=\"middle\" x=\"1701\" y=\"-258.8\" font-family=\"Times,serif\" font-size=\"14.00\">&lt;has_char&gt;</text>\n",
       "</g>\n",
       "<!-- 7&#45;&gt;71 -->\n",
       "<g id=\"edge71\" class=\"edge\">\n",
       "<title>7&#45;&gt;71</title>\n",
       "<path fill=\"none\" stroke=\"black\" d=\"M968.65,-307.91C1130.36,-298.11 1506.34,-275.3 1646.79,-266.79\"/>\n",
       "<polygon fill=\"black\" stroke=\"black\" points=\"1647.11,-270.27 1656.88,-266.18 1646.69,-263.29 1647.11,-270.27\"/>\n",
       "</g>\n",
       "<!-- 9 -->\n",
       "<g id=\"node10\" class=\"node\">\n",
       "<title>9</title>\n",
       "<text text-anchor=\"middle\" x=\"298\" y=\"-207.8\" font-family=\"Times,serif\" font-size=\"14.00\">&quot;array&quot;</text>\n",
       "</g>\n",
       "<!-- 8&#45;&gt;9 -->\n",
       "<g id=\"edge9\" class=\"edge\">\n",
       "<title>8&#45;&gt;9</title>\n",
       "<path fill=\"none\" stroke=\"black\" d=\"M365.48,-254.89C353.08,-247.1 332.24,-234.01 317,-224.43\"/>\n",
       "<polygon fill=\"black\" stroke=\"black\" points=\"318.68,-221.36 308.35,-219 314.96,-227.29 318.68,-221.36\"/>\n",
       "</g>\n",
       "<!-- 12 -->\n",
       "<g id=\"node13\" class=\"node\">\n",
       "<title>12</title>\n",
       "<text text-anchor=\"middle\" x=\"413\" y=\"-207.8\" font-family=\"Times,serif\" font-size=\"14.00\">&lt;skip_whitespace&gt;</text>\n",
       "</g>\n",
       "<!-- 11&#45;&gt;12 -->\n",
       "<g id=\"edge12\" class=\"edge\">\n",
       "<title>11&#45;&gt;12</title>\n",
       "<path fill=\"none\" stroke=\"black\" d=\"M542.21,-254.99C516.72,-246.61 472.18,-231.96 442.64,-222.25\"/>\n",
       "<polygon fill=\"black\" stroke=\"black\" points=\"443.46,-218.83 432.87,-219.03 441.27,-225.48 443.46,-218.83\"/>\n",
       "</g>\n",
       "<!-- 17 -->\n",
       "<g id=\"node18\" class=\"node\">\n",
       "<title>17</title>\n",
       "<text text-anchor=\"middle\" x=\"599\" y=\"-207.8\" font-family=\"Times,serif\" font-size=\"14.00\">&lt;json_parse_array&gt;</text>\n",
       "</g>\n",
       "<!-- 11&#45;&gt;17 -->\n",
       "<g id=\"edge17\" class=\"edge\">\n",
       "<title>11&#45;&gt;17</title>\n",
       "<path fill=\"none\" stroke=\"black\" d=\"M567.14,-254.69C572.45,-247.67 580.88,-236.49 587.74,-227.41\"/>\n",
       "<polygon fill=\"black\" stroke=\"black\" points=\"590.67,-229.34 593.9,-219.26 585.08,-225.13 590.67,-229.34\"/>\n",
       "</g>\n",
       "<!-- 13 -->\n",
       "<g id=\"node14\" class=\"node\">\n",
       "<title>13</title>\n",
       "<text text-anchor=\"middle\" x=\"42\" y=\"-156.8\" font-family=\"Times,serif\" font-size=\"14.00\">&lt;isspace_&gt;</text>\n",
       "</g>\n",
       "<!-- 12&#45;&gt;13 -->\n",
       "<g id=\"edge13\" class=\"edge\">\n",
       "<title>12&#45;&gt;13</title>\n",
       "<path fill=\"none\" stroke=\"black\" d=\"M363.73,-203.99C293.66,-194.74 165.78,-177.85 94.15,-168.39\"/>\n",
       "<polygon fill=\"black\" stroke=\"black\" points=\"94.38,-164.89 84.01,-167.05 93.46,-171.83 94.38,-164.89\"/>\n",
       "</g>\n",
       "<!-- 15 -->\n",
       "<g id=\"node16\" class=\"node\">\n",
       "<title>15</title>\n",
       "<text text-anchor=\"middle\" x=\"144\" y=\"-156.8\" font-family=\"Times,serif\" font-size=\"14.00\">&lt;isspace_&gt;</text>\n",
       "</g>\n",
       "<!-- 12&#45;&gt;15 -->\n",
       "<g id=\"edge15\" class=\"edge\">\n",
       "<title>12&#45;&gt;15</title>\n",
       "<path fill=\"none\" stroke=\"black\" d=\"M377.28,-203.99C329.04,-195.21 243.04,-179.54 190.01,-169.88\"/>\n",
       "<polygon fill=\"black\" stroke=\"black\" points=\"190.33,-166.38 179.87,-168.03 189.08,-173.27 190.33,-166.38\"/>\n",
       "</g>\n",
       "<!-- 14 -->\n",
       "<g id=\"node15\" class=\"node\">\n",
       "<title>14</title>\n",
       "<text text-anchor=\"middle\" x=\"42\" y=\"-105.8\" font-family=\"Times,serif\" font-size=\"14.00\"> </text>\n",
       "</g>\n",
       "<!-- 13&#45;&gt;14 -->\n",
       "<g id=\"edge14\" class=\"edge\">\n",
       "<title>13&#45;&gt;14</title>\n",
       "<path fill=\"none\" stroke=\"black\" d=\"M42,-152.69C42,-146.18 42,-136.1 42,-127.43\"/>\n",
       "<polygon fill=\"black\" stroke=\"black\" points=\"45.5,-127.26 42,-117.26 38.5,-127.26 45.5,-127.26\"/>\n",
       "</g>\n",
       "<!-- 16 -->\n",
       "<g id=\"node17\" class=\"node\">\n",
       "<title>16</title>\n",
       "<text text-anchor=\"middle\" x=\"144\" y=\"-105.8\" font-family=\"Times,serif\" font-size=\"14.00\">[</text>\n",
       "</g>\n",
       "<!-- 15&#45;&gt;16 -->\n",
       "<g id=\"edge16\" class=\"edge\">\n",
       "<title>15&#45;&gt;16</title>\n",
       "<path fill=\"none\" stroke=\"black\" d=\"M144,-152.69C144,-146.18 144,-136.1 144,-127.43\"/>\n",
       "<polygon fill=\"black\" stroke=\"black\" points=\"147.5,-127.26 144,-117.26 140.5,-127.26 147.5,-127.26\"/>\n",
       "</g>\n",
       "<!-- 18 -->\n",
       "<g id=\"node19\" class=\"node\">\n",
       "<title>18</title>\n",
       "<text text-anchor=\"middle\" x=\"277\" y=\"-156.8\" font-family=\"Times,serif\" font-size=\"14.00\">&lt;json_parse_value&gt;</text>\n",
       "</g>\n",
       "<!-- 17&#45;&gt;18 -->\n",
       "<g id=\"edge18\" class=\"edge\">\n",
       "<title>17&#45;&gt;18</title>\n",
       "<path fill=\"none\" stroke=\"black\" d=\"M556.24,-203.99C497.9,-195.12 393.4,-179.21 330.11,-169.58\"/>\n",
       "<polygon fill=\"black\" stroke=\"black\" points=\"330.35,-166.08 319.94,-168.03 329.3,-173 330.35,-166.08\"/>\n",
       "</g>\n",
       "<!-- 20 -->\n",
       "<g id=\"node21\" class=\"node\">\n",
       "<title>20</title>\n",
       "<text text-anchor=\"middle\" x=\"438\" y=\"-156.8\" font-family=\"Times,serif\" font-size=\"14.00\">&lt;skip_whitespace&gt;</text>\n",
       "</g>\n",
       "<!-- 17&#45;&gt;20 -->\n",
       "<g id=\"edge20\" class=\"edge\">\n",
       "<title>17&#45;&gt;20</title>\n",
       "<path fill=\"none\" stroke=\"black\" d=\"M577.62,-203.99C549.83,-195.54 501.1,-180.71 469.19,-170.99\"/>\n",
       "<polygon fill=\"black\" stroke=\"black\" points=\"470.05,-167.6 459.47,-168.03 468.02,-174.29 470.05,-167.6\"/>\n",
       "</g>\n",
       "<!-- 23 -->\n",
       "<g id=\"node24\" class=\"node\">\n",
       "<title>23</title>\n",
       "<text text-anchor=\"middle\" x=\"599\" y=\"-156.8\" font-family=\"Times,serif\" font-size=\"14.00\">&lt;json_parse_value&gt;</text>\n",
       "</g>\n",
       "<!-- 17&#45;&gt;23 -->\n",
       "<g id=\"edge23\" class=\"edge\">\n",
       "<title>17&#45;&gt;23</title>\n",
       "<path fill=\"none\" stroke=\"black\" d=\"M599,-203.69C599,-197.18 599,-187.1 599,-178.43\"/>\n",
       "<polygon fill=\"black\" stroke=\"black\" points=\"602.5,-178.26 599,-168.26 595.5,-178.26 602.5,-178.26\"/>\n",
       "</g>\n",
       "<!-- 28 -->\n",
       "<g id=\"node29\" class=\"node\">\n",
       "<title>28</title>\n",
       "<text text-anchor=\"middle\" x=\"760\" y=\"-156.8\" font-family=\"Times,serif\" font-size=\"14.00\">&lt;skip_whitespace&gt;</text>\n",
       "</g>\n",
       "<!-- 17&#45;&gt;28 -->\n",
       "<g id=\"edge28\" class=\"edge\">\n",
       "<title>17&#45;&gt;28</title>\n",
       "<path fill=\"none\" stroke=\"black\" d=\"M620.38,-203.99C648.17,-195.54 696.9,-180.71 728.81,-170.99\"/>\n",
       "<polygon fill=\"black\" stroke=\"black\" points=\"729.98,-174.29 738.53,-168.03 727.95,-167.6 729.98,-174.29\"/>\n",
       "</g>\n",
       "<!-- 31 -->\n",
       "<g id=\"node32\" class=\"node\">\n",
       "<title>31</title>\n",
       "<text text-anchor=\"middle\" x=\"921\" y=\"-156.8\" font-family=\"Times,serif\" font-size=\"14.00\">&lt;json_parse_value&gt;</text>\n",
       "</g>\n",
       "<!-- 17&#45;&gt;31 -->\n",
       "<g id=\"edge31\" class=\"edge\">\n",
       "<title>17&#45;&gt;31</title>\n",
       "<path fill=\"none\" stroke=\"black\" d=\"M641.76,-203.99C700.1,-195.12 804.6,-179.21 867.89,-169.58\"/>\n",
       "<polygon fill=\"black\" stroke=\"black\" points=\"868.7,-173 878.06,-168.03 867.65,-166.08 868.7,-173\"/>\n",
       "</g>\n",
       "<!-- 36 -->\n",
       "<g id=\"node37\" class=\"node\">\n",
       "<title>36</title>\n",
       "<text text-anchor=\"middle\" x=\"1015\" y=\"-156.8\" font-family=\"Times,serif\" font-size=\"14.00\">]</text>\n",
       "</g>\n",
       "<!-- 17&#45;&gt;36 -->\n",
       "<g id=\"edge36\" class=\"edge\">\n",
       "<title>17&#45;&gt;36</title>\n",
       "<path fill=\"none\" stroke=\"black\" d=\"M671.7,-205.96C770.54,-199.25 941.9,-185.57 1002,-168 1002.22,-167.94 1002.44,-167.87 1002.66,-167.8\"/>\n",
       "<polygon fill=\"black\" stroke=\"black\" points=\"1004.14,-170.97 1011.72,-163.56 1001.17,-164.63 1004.14,-170.97\"/>\n",
       "</g>\n",
       "<!-- 19 -->\n",
       "<g id=\"node20\" class=\"node\">\n",
       "<title>19</title>\n",
       "<text text-anchor=\"middle\" x=\"277\" y=\"-105.8\" font-family=\"Times,serif\" font-size=\"14.00\">&quot;8&quot;</text>\n",
       "</g>\n",
       "<!-- 18&#45;&gt;19 -->\n",
       "<g id=\"edge19\" class=\"edge\">\n",
       "<title>18&#45;&gt;19</title>\n",
       "<path fill=\"none\" stroke=\"black\" d=\"M277,-152.69C277,-146.18 277,-136.1 277,-127.43\"/>\n",
       "<polygon fill=\"black\" stroke=\"black\" points=\"280.5,-127.26 277,-117.26 273.5,-127.26 280.5,-127.26\"/>\n",
       "</g>\n",
       "<!-- 21 -->\n",
       "<g id=\"node22\" class=\"node\">\n",
       "<title>21</title>\n",
       "<text text-anchor=\"middle\" x=\"438\" y=\"-105.8\" font-family=\"Times,serif\" font-size=\"14.00\">&lt;isspace_&gt;</text>\n",
       "</g>\n",
       "<!-- 20&#45;&gt;21 -->\n",
       "<g id=\"edge21\" class=\"edge\">\n",
       "<title>20&#45;&gt;21</title>\n",
       "<path fill=\"none\" stroke=\"black\" d=\"M438,-152.69C438,-146.18 438,-136.1 438,-127.43\"/>\n",
       "<polygon fill=\"black\" stroke=\"black\" points=\"441.5,-127.26 438,-117.26 434.5,-127.26 441.5,-127.26\"/>\n",
       "</g>\n",
       "<!-- 22 -->\n",
       "<g id=\"node23\" class=\"node\">\n",
       "<title>22</title>\n",
       "<text text-anchor=\"middle\" x=\"438\" y=\"-54.8\" font-family=\"Times,serif\" font-size=\"14.00\">,</text>\n",
       "</g>\n",
       "<!-- 21&#45;&gt;22 -->\n",
       "<g id=\"edge22\" class=\"edge\">\n",
       "<title>21&#45;&gt;22</title>\n",
       "<path fill=\"none\" stroke=\"black\" d=\"M438,-101.69C438,-95.18 438,-85.1 438,-76.43\"/>\n",
       "<polygon fill=\"black\" stroke=\"black\" points=\"441.5,-76.26 438,-66.26 434.5,-76.26 441.5,-76.26\"/>\n",
       "</g>\n",
       "<!-- 24 -->\n",
       "<g id=\"node25\" class=\"node\">\n",
       "<title>24</title>\n",
       "<text text-anchor=\"middle\" x=\"579\" y=\"-105.8\" font-family=\"Times,serif\" font-size=\"14.00\">&lt;skip_whitespace&gt;</text>\n",
       "</g>\n",
       "<!-- 23&#45;&gt;24 -->\n",
       "<g id=\"edge24\" class=\"edge\">\n",
       "<title>23&#45;&gt;24</title>\n",
       "<path fill=\"none\" stroke=\"black\" d=\"M596.22,-152.69C593.47,-145.96 589.17,-135.42 585.55,-126.56\"/>\n",
       "<polygon fill=\"black\" stroke=\"black\" points=\"588.78,-125.19 581.76,-117.26 582.3,-127.84 588.78,-125.19\"/>\n",
       "</g>\n",
       "<!-- 27 -->\n",
       "<g id=\"node28\" class=\"node\">\n",
       "<title>27</title>\n",
       "<text text-anchor=\"middle\" x=\"679\" y=\"-105.8\" font-family=\"Times,serif\" font-size=\"14.00\">&quot;7&quot;</text>\n",
       "</g>\n",
       "<!-- 23&#45;&gt;27 -->\n",
       "<g id=\"edge27\" class=\"edge\">\n",
       "<title>23&#45;&gt;27</title>\n",
       "<path fill=\"none\" stroke=\"black\" d=\"M609.79,-152.89C622.5,-145.1 643.88,-132.01 659.52,-122.43\"/>\n",
       "<polygon fill=\"black\" stroke=\"black\" points=\"661.68,-125.21 668.38,-117 658.03,-119.24 661.68,-125.21\"/>\n",
       "</g>\n",
       "<!-- 25 -->\n",
       "<g id=\"node26\" class=\"node\">\n",
       "<title>25</title>\n",
       "<text text-anchor=\"middle\" x=\"579\" y=\"-54.8\" font-family=\"Times,serif\" font-size=\"14.00\">&lt;isspace_&gt;</text>\n",
       "</g>\n",
       "<!-- 24&#45;&gt;25 -->\n",
       "<g id=\"edge25\" class=\"edge\">\n",
       "<title>24&#45;&gt;25</title>\n",
       "<path fill=\"none\" stroke=\"black\" d=\"M579,-101.69C579,-95.18 579,-85.1 579,-76.43\"/>\n",
       "<polygon fill=\"black\" stroke=\"black\" points=\"582.5,-76.26 579,-66.26 575.5,-76.26 582.5,-76.26\"/>\n",
       "</g>\n",
       "<!-- 26 -->\n",
       "<g id=\"node27\" class=\"node\">\n",
       "<title>26</title>\n",
       "<text text-anchor=\"middle\" x=\"579\" y=\"-3.8\" font-family=\"Times,serif\" font-size=\"14.00\"> </text>\n",
       "</g>\n",
       "<!-- 25&#45;&gt;26 -->\n",
       "<g id=\"edge26\" class=\"edge\">\n",
       "<title>25&#45;&gt;26</title>\n",
       "<path fill=\"none\" stroke=\"black\" d=\"M579,-50.69C579,-44.18 579,-34.1 579,-25.43\"/>\n",
       "<polygon fill=\"black\" stroke=\"black\" points=\"582.5,-25.26 579,-15.26 575.5,-25.26 582.5,-25.26\"/>\n",
       "</g>\n",
       "<!-- 29 -->\n",
       "<g id=\"node30\" class=\"node\">\n",
       "<title>29</title>\n",
       "<text text-anchor=\"middle\" x=\"760\" y=\"-105.8\" font-family=\"Times,serif\" font-size=\"14.00\">&lt;isspace_&gt;</text>\n",
       "</g>\n",
       "<!-- 28&#45;&gt;29 -->\n",
       "<g id=\"edge29\" class=\"edge\">\n",
       "<title>28&#45;&gt;29</title>\n",
       "<path fill=\"none\" stroke=\"black\" d=\"M760,-152.69C760,-146.18 760,-136.1 760,-127.43\"/>\n",
       "<polygon fill=\"black\" stroke=\"black\" points=\"763.5,-127.26 760,-117.26 756.5,-127.26 763.5,-127.26\"/>\n",
       "</g>\n",
       "<!-- 30 -->\n",
       "<g id=\"node31\" class=\"node\">\n",
       "<title>30</title>\n",
       "<text text-anchor=\"middle\" x=\"760\" y=\"-54.8\" font-family=\"Times,serif\" font-size=\"14.00\">,</text>\n",
       "</g>\n",
       "<!-- 29&#45;&gt;30 -->\n",
       "<g id=\"edge30\" class=\"edge\">\n",
       "<title>29&#45;&gt;30</title>\n",
       "<path fill=\"none\" stroke=\"black\" d=\"M760,-101.69C760,-95.18 760,-85.1 760,-76.43\"/>\n",
       "<polygon fill=\"black\" stroke=\"black\" points=\"763.5,-76.26 760,-66.26 756.5,-76.26 763.5,-76.26\"/>\n",
       "</g>\n",
       "<!-- 32 -->\n",
       "<g id=\"node33\" class=\"node\">\n",
       "<title>32</title>\n",
       "<text text-anchor=\"middle\" x=\"906\" y=\"-105.8\" font-family=\"Times,serif\" font-size=\"14.00\">&lt;skip_whitespace&gt;</text>\n",
       "</g>\n",
       "<!-- 31&#45;&gt;32 -->\n",
       "<g id=\"edge32\" class=\"edge\">\n",
       "<title>31&#45;&gt;32</title>\n",
       "<path fill=\"none\" stroke=\"black\" d=\"M918.91,-152.69C916.88,-146.03 913.7,-135.65 911,-126.85\"/>\n",
       "<polygon fill=\"black\" stroke=\"black\" points=\"914.34,-125.79 908.07,-117.26 907.65,-127.84 914.34,-125.79\"/>\n",
       "</g>\n",
       "<!-- 35 -->\n",
       "<g id=\"node36\" class=\"node\">\n",
       "<title>35</title>\n",
       "<text text-anchor=\"middle\" x=\"1006\" y=\"-105.8\" font-family=\"Times,serif\" font-size=\"14.00\">&quot;5&quot;</text>\n",
       "</g>\n",
       "<!-- 31&#45;&gt;35 -->\n",
       "<g id=\"edge35\" class=\"edge\">\n",
       "<title>31&#45;&gt;35</title>\n",
       "<path fill=\"none\" stroke=\"black\" d=\"M932.46,-152.89C946.1,-145.03 969.11,-131.77 985.77,-122.16\"/>\n",
       "<polygon fill=\"black\" stroke=\"black\" points=\"987.8,-125.03 994.72,-117 984.31,-118.97 987.8,-125.03\"/>\n",
       "</g>\n",
       "<!-- 33 -->\n",
       "<g id=\"node34\" class=\"node\">\n",
       "<title>33</title>\n",
       "<text text-anchor=\"middle\" x=\"906\" y=\"-54.8\" font-family=\"Times,serif\" font-size=\"14.00\">&lt;isspace_&gt;</text>\n",
       "</g>\n",
       "<!-- 32&#45;&gt;33 -->\n",
       "<g id=\"edge33\" class=\"edge\">\n",
       "<title>32&#45;&gt;33</title>\n",
       "<path fill=\"none\" stroke=\"black\" d=\"M906,-101.69C906,-95.18 906,-85.1 906,-76.43\"/>\n",
       "<polygon fill=\"black\" stroke=\"black\" points=\"909.5,-76.26 906,-66.26 902.5,-76.26 909.5,-76.26\"/>\n",
       "</g>\n",
       "<!-- 34 -->\n",
       "<g id=\"node35\" class=\"node\">\n",
       "<title>34</title>\n",
       "<text text-anchor=\"middle\" x=\"906\" y=\"-3.8\" font-family=\"Times,serif\" font-size=\"14.00\"> </text>\n",
       "</g>\n",
       "<!-- 33&#45;&gt;34 -->\n",
       "<g id=\"edge34\" class=\"edge\">\n",
       "<title>33&#45;&gt;34</title>\n",
       "<path fill=\"none\" stroke=\"black\" d=\"M906,-50.69C906,-44.18 906,-34.1 906,-25.43\"/>\n",
       "<polygon fill=\"black\" stroke=\"black\" points=\"909.5,-25.26 906,-15.26 902.5,-25.26 909.5,-25.26\"/>\n",
       "</g>\n",
       "<!-- 39 -->\n",
       "<g id=\"node40\" class=\"node\">\n",
       "<title>39</title>\n",
       "<text text-anchor=\"middle\" x=\"754\" y=\"-207.8\" font-family=\"Times,serif\" font-size=\"14.00\">&quot;onclick&quot;</text>\n",
       "</g>\n",
       "<!-- 38&#45;&gt;39 -->\n",
       "<g id=\"edge39\" class=\"edge\">\n",
       "<title>38&#45;&gt;39</title>\n",
       "<path fill=\"none\" stroke=\"black\" d=\"M754,-254.69C754,-248.18 754,-238.1 754,-229.43\"/>\n",
       "<polygon fill=\"black\" stroke=\"black\" points=\"757.5,-229.26 754,-219.26 750.5,-229.26 757.5,-229.26\"/>\n",
       "</g>\n",
       "<!-- 42 -->\n",
       "<g id=\"node43\" class=\"node\">\n",
       "<title>42</title>\n",
       "<text text-anchor=\"middle\" x=\"918\" y=\"-207.8\" font-family=\"Times,serif\" font-size=\"14.00\">&lt;skip_whitespace&gt;</text>\n",
       "</g>\n",
       "<!-- 41&#45;&gt;42 -->\n",
       "<g id=\"edge42\" class=\"edge\">\n",
       "<title>41&#45;&gt;42</title>\n",
       "<path fill=\"none\" stroke=\"black\" d=\"M936.94,-254.69C933.92,-247.96 929.19,-237.42 925.21,-228.56\"/>\n",
       "<polygon fill=\"black\" stroke=\"black\" points=\"928.32,-226.94 921.03,-219.26 921.94,-229.81 928.32,-226.94\"/>\n",
       "</g>\n",
       "<!-- 45 -->\n",
       "<g id=\"node46\" class=\"node\">\n",
       "<title>45</title>\n",
       "<text text-anchor=\"middle\" x=\"1056\" y=\"-207.8\" font-family=\"Times,serif\" font-size=\"14.00\">&quot;Createewoc&quot;</text>\n",
       "</g>\n",
       "<!-- 41&#45;&gt;45 -->\n",
       "<g id=\"edge45\" class=\"edge\">\n",
       "<title>41&#45;&gt;45</title>\n",
       "<path fill=\"none\" stroke=\"black\" d=\"M955.64,-254.89C975.04,-246.7 1008.32,-232.64 1031.21,-222.97\"/>\n",
       "<polygon fill=\"black\" stroke=\"black\" points=\"1032.75,-226.12 1040.6,-219 1030.03,-219.67 1032.75,-226.12\"/>\n",
       "</g>\n",
       "<!-- 43 -->\n",
       "<g id=\"node44\" class=\"node\">\n",
       "<title>43</title>\n",
       "<text text-anchor=\"middle\" x=\"1078\" y=\"-156.8\" font-family=\"Times,serif\" font-size=\"14.00\">&lt;isspace_&gt;</text>\n",
       "</g>\n",
       "<!-- 42&#45;&gt;43 -->\n",
       "<g id=\"edge43\" class=\"edge\">\n",
       "<title>42&#45;&gt;43</title>\n",
       "<path fill=\"none\" stroke=\"black\" d=\"M939.25,-203.99C966.86,-195.54 1015.29,-180.71 1047,-170.99\"/>\n",
       "<polygon fill=\"black\" stroke=\"black\" points=\"1048.13,-174.31 1056.67,-168.03 1046.08,-167.62 1048.13,-174.31\"/>\n",
       "</g>\n",
       "<!-- 44 -->\n",
       "<g id=\"node45\" class=\"node\">\n",
       "<title>44</title>\n",
       "<text text-anchor=\"middle\" x=\"1078\" y=\"-105.8\" font-family=\"Times,serif\" font-size=\"14.00\"> </text>\n",
       "</g>\n",
       "<!-- 43&#45;&gt;44 -->\n",
       "<g id=\"edge44\" class=\"edge\">\n",
       "<title>43&#45;&gt;44</title>\n",
       "<path fill=\"none\" stroke=\"black\" d=\"M1078,-152.69C1078,-146.18 1078,-136.1 1078,-127.43\"/>\n",
       "<polygon fill=\"black\" stroke=\"black\" points=\"1081.5,-127.26 1078,-117.26 1074.5,-127.26 1081.5,-127.26\"/>\n",
       "</g>\n",
       "<!-- 47 -->\n",
       "<g id=\"node48\" class=\"node\">\n",
       "<title>47</title>\n",
       "<text text-anchor=\"middle\" x=\"1165\" y=\"-207.8\" font-family=\"Times,serif\" font-size=\"14.00\">&lt;isspace_&gt;</text>\n",
       "</g>\n",
       "<!-- 46&#45;&gt;47 -->\n",
       "<g id=\"edge47\" class=\"edge\">\n",
       "<title>46&#45;&gt;47</title>\n",
       "<path fill=\"none\" stroke=\"black\" d=\"M1109.63,-254.89C1119.52,-247.32 1135.94,-234.75 1148.34,-225.26\"/>\n",
       "<polygon fill=\"black\" stroke=\"black\" points=\"1150.69,-227.86 1156.51,-219 1146.44,-222.3 1150.69,-227.86\"/>\n",
       "</g>\n",
       "<!-- 48 -->\n",
       "<g id=\"node49\" class=\"node\">\n",
       "<title>48</title>\n",
       "<text text-anchor=\"middle\" x=\"1165\" y=\"-156.8\" font-family=\"Times,serif\" font-size=\"14.00\">,</text>\n",
       "</g>\n",
       "<!-- 47&#45;&gt;48 -->\n",
       "<g id=\"edge48\" class=\"edge\">\n",
       "<title>47&#45;&gt;48</title>\n",
       "<path fill=\"none\" stroke=\"black\" d=\"M1165,-203.69C1165,-197.18 1165,-187.1 1165,-178.43\"/>\n",
       "<polygon fill=\"black\" stroke=\"black\" points=\"1168.5,-178.26 1165,-168.26 1161.5,-178.26 1168.5,-178.26\"/>\n",
       "</g>\n",
       "<!-- 51 -->\n",
       "<g id=\"node52\" class=\"node\">\n",
       "<title>51</title>\n",
       "<text text-anchor=\"middle\" x=\"1282\" y=\"-207.8\" font-family=\"Times,serif\" font-size=\"14.00\">&quot;x&quot;</text>\n",
       "</g>\n",
       "<!-- 50&#45;&gt;51 -->\n",
       "<g id=\"edge51\" class=\"edge\">\n",
       "<title>50&#45;&gt;51</title>\n",
       "<path fill=\"none\" stroke=\"black\" d=\"M1284.58,-254.69C1284.18,-248.18 1283.57,-238.1 1283.04,-229.43\"/>\n",
       "<polygon fill=\"black\" stroke=\"black\" points=\"1286.52,-229.02 1282.41,-219.26 1279.53,-229.45 1286.52,-229.02\"/>\n",
       "</g>\n",
       "<!-- 54 -->\n",
       "<g id=\"node55\" class=\"node\">\n",
       "<title>54</title>\n",
       "<text text-anchor=\"middle\" x=\"1382\" y=\"-207.8\" font-family=\"Times,serif\" font-size=\"14.00\">&lt;skip_whitespace&gt;</text>\n",
       "</g>\n",
       "<!-- 53&#45;&gt;54 -->\n",
       "<g id=\"edge54\" class=\"edge\">\n",
       "<title>53&#45;&gt;54</title>\n",
       "<path fill=\"none\" stroke=\"black\" d=\"M1459,-254.89C1444.58,-246.96 1420.17,-233.52 1402.7,-223.9\"/>\n",
       "<polygon fill=\"black\" stroke=\"black\" points=\"1404.26,-220.76 1393.81,-219 1400.88,-226.89 1404.26,-220.76\"/>\n",
       "</g>\n",
       "<!-- 59 -->\n",
       "<g id=\"node60\" class=\"node\">\n",
       "<title>59</title>\n",
       "<text text-anchor=\"middle\" x=\"1567\" y=\"-207.8\" font-family=\"Times,serif\" font-size=\"14.00\">&lt;json_parse_object&gt;</text>\n",
       "</g>\n",
       "<!-- 53&#45;&gt;59 -->\n",
       "<g id=\"edge59\" class=\"edge\">\n",
       "<title>53&#45;&gt;59</title>\n",
       "<path fill=\"none\" stroke=\"black\" d=\"M1483.95,-254.89C1499.64,-246.88 1526.31,-233.27 1545.19,-223.63\"/>\n",
       "<polygon fill=\"black\" stroke=\"black\" points=\"1546.94,-226.67 1554.26,-219 1543.76,-220.43 1546.94,-226.67\"/>\n",
       "</g>\n",
       "<!-- 55 -->\n",
       "<g id=\"node56\" class=\"node\">\n",
       "<title>55</title>\n",
       "<text text-anchor=\"middle\" x=\"1239\" y=\"-156.8\" font-family=\"Times,serif\" font-size=\"14.00\">&lt;isspace_&gt;</text>\n",
       "</g>\n",
       "<!-- 54&#45;&gt;55 -->\n",
       "<g id=\"edge55\" class=\"edge\">\n",
       "<title>54&#45;&gt;55</title>\n",
       "<path fill=\"none\" stroke=\"black\" d=\"M1363.01,-203.99C1338.65,-195.65 1296.17,-181.09 1267.82,-171.37\"/>\n",
       "<polygon fill=\"black\" stroke=\"black\" points=\"1268.66,-167.96 1258.07,-168.03 1266.39,-174.59 1268.66,-167.96\"/>\n",
       "</g>\n",
       "<!-- 57 -->\n",
       "<g id=\"node58\" class=\"node\">\n",
       "<title>57</title>\n",
       "<text text-anchor=\"middle\" x=\"1341\" y=\"-156.8\" font-family=\"Times,serif\" font-size=\"14.00\">&lt;isspace_&gt;</text>\n",
       "</g>\n",
       "<!-- 54&#45;&gt;57 -->\n",
       "<g id=\"edge57\" class=\"edge\">\n",
       "<title>54&#45;&gt;57</title>\n",
       "<path fill=\"none\" stroke=\"black\" d=\"M1376.3,-203.69C1370.36,-196.59 1360.88,-185.26 1353.24,-176.13\"/>\n",
       "<polygon fill=\"black\" stroke=\"black\" points=\"1355.75,-173.68 1346.65,-168.26 1350.39,-178.17 1355.75,-173.68\"/>\n",
       "</g>\n",
       "<!-- 56 -->\n",
       "<g id=\"node57\" class=\"node\">\n",
       "<title>56</title>\n",
       "<text text-anchor=\"middle\" x=\"1239\" y=\"-105.8\" font-family=\"Times,serif\" font-size=\"14.00\"> </text>\n",
       "</g>\n",
       "<!-- 55&#45;&gt;56 -->\n",
       "<g id=\"edge56\" class=\"edge\">\n",
       "<title>55&#45;&gt;56</title>\n",
       "<path fill=\"none\" stroke=\"black\" d=\"M1239,-152.69C1239,-146.18 1239,-136.1 1239,-127.43\"/>\n",
       "<polygon fill=\"black\" stroke=\"black\" points=\"1242.5,-127.26 1239,-117.26 1235.5,-127.26 1242.5,-127.26\"/>\n",
       "</g>\n",
       "<!-- 58 -->\n",
       "<g id=\"node59\" class=\"node\">\n",
       "<title>58</title>\n",
       "<text text-anchor=\"middle\" x=\"1341\" y=\"-105.8\" font-family=\"Times,serif\" font-size=\"14.00\">{</text>\n",
       "</g>\n",
       "<!-- 57&#45;&gt;58 -->\n",
       "<g id=\"edge58\" class=\"edge\">\n",
       "<title>57&#45;&gt;58</title>\n",
       "<path fill=\"none\" stroke=\"black\" d=\"M1341,-152.69C1341,-146.18 1341,-136.1 1341,-127.43\"/>\n",
       "<polygon fill=\"black\" stroke=\"black\" points=\"1344.5,-127.26 1341,-117.26 1337.5,-127.26 1344.5,-127.26\"/>\n",
       "</g>\n",
       "<!-- 60 -->\n",
       "<g id=\"node61\" class=\"node\">\n",
       "<title>60</title>\n",
       "<text text-anchor=\"middle\" x=\"1474\" y=\"-156.8\" font-family=\"Times,serif\" font-size=\"14.00\">&lt;json_parse_value&gt;</text>\n",
       "</g>\n",
       "<!-- 59&#45;&gt;60 -->\n",
       "<g id=\"edge60\" class=\"edge\">\n",
       "<title>59&#45;&gt;60</title>\n",
       "<path fill=\"none\" stroke=\"black\" d=\"M1554.46,-203.89C1539.33,-195.92 1513.65,-182.39 1495.38,-172.76\"/>\n",
       "<polygon fill=\"black\" stroke=\"black\" points=\"1496.82,-169.57 1486.34,-168 1493.56,-175.76 1496.82,-169.57\"/>\n",
       "</g>\n",
       "<!-- 62 -->\n",
       "<g id=\"node63\" class=\"node\">\n",
       "<title>62</title>\n",
       "<text text-anchor=\"middle\" x=\"1567\" y=\"-156.8\" font-family=\"Times,serif\" font-size=\"14.00\">:</text>\n",
       "</g>\n",
       "<!-- 59&#45;&gt;62 -->\n",
       "<g id=\"edge62\" class=\"edge\">\n",
       "<title>59&#45;&gt;62</title>\n",
       "<path fill=\"none\" stroke=\"black\" d=\"M1567,-203.69C1567,-197.18 1567,-187.1 1567,-178.43\"/>\n",
       "<polygon fill=\"black\" stroke=\"black\" points=\"1570.5,-178.26 1567,-168.26 1563.5,-178.26 1570.5,-178.26\"/>\n",
       "</g>\n",
       "<!-- 63 -->\n",
       "<g id=\"node64\" class=\"node\">\n",
       "<title>63</title>\n",
       "<text text-anchor=\"middle\" x=\"1660\" y=\"-156.8\" font-family=\"Times,serif\" font-size=\"14.00\">&lt;json_parse_value&gt;</text>\n",
       "</g>\n",
       "<!-- 59&#45;&gt;63 -->\n",
       "<g id=\"edge63\" class=\"edge\">\n",
       "<title>59&#45;&gt;63</title>\n",
       "<path fill=\"none\" stroke=\"black\" d=\"M1579.54,-203.89C1594.67,-195.92 1620.35,-182.39 1638.62,-172.76\"/>\n",
       "<polygon fill=\"black\" stroke=\"black\" points=\"1640.44,-175.76 1647.66,-168 1637.18,-169.57 1640.44,-175.76\"/>\n",
       "</g>\n",
       "<!-- 68 -->\n",
       "<g id=\"node69\" class=\"node\">\n",
       "<title>68</title>\n",
       "<text text-anchor=\"middle\" x=\"1795\" y=\"-156.8\" font-family=\"Times,serif\" font-size=\"14.00\">&lt;has_char&gt;</text>\n",
       "</g>\n",
       "<!-- 59&#45;&gt;68 -->\n",
       "<g id=\"edge68\" class=\"edge\">\n",
       "<title>59&#45;&gt;68</title>\n",
       "<path fill=\"none\" stroke=\"black\" d=\"M1597.28,-203.99C1637.73,-195.3 1709.54,-179.87 1754.59,-170.19\"/>\n",
       "<polygon fill=\"black\" stroke=\"black\" points=\"1755.56,-173.56 1764.6,-168.03 1754.09,-166.71 1755.56,-173.56\"/>\n",
       "</g>\n",
       "<!-- 61 -->\n",
       "<g id=\"node62\" class=\"node\">\n",
       "<title>61</title>\n",
       "<text text-anchor=\"middle\" x=\"1474\" y=\"-105.8\" font-family=\"Times,serif\" font-size=\"14.00\">&quot;a&quot;</text>\n",
       "</g>\n",
       "<!-- 60&#45;&gt;61 -->\n",
       "<g id=\"edge61\" class=\"edge\">\n",
       "<title>60&#45;&gt;61</title>\n",
       "<path fill=\"none\" stroke=\"black\" d=\"M1474,-152.69C1474,-146.18 1474,-136.1 1474,-127.43\"/>\n",
       "<polygon fill=\"black\" stroke=\"black\" points=\"1477.5,-127.26 1474,-117.26 1470.5,-127.26 1477.5,-127.26\"/>\n",
       "</g>\n",
       "<!-- 64 -->\n",
       "<g id=\"node65\" class=\"node\">\n",
       "<title>64</title>\n",
       "<text text-anchor=\"middle\" x=\"1585\" y=\"-105.8\" font-family=\"Times,serif\" font-size=\"14.00\">&lt;skip_whitespace&gt;</text>\n",
       "</g>\n",
       "<!-- 63&#45;&gt;64 -->\n",
       "<g id=\"edge64\" class=\"edge\">\n",
       "<title>63&#45;&gt;64</title>\n",
       "<path fill=\"none\" stroke=\"black\" d=\"M1649.89,-152.89C1638.08,-145.18 1618.3,-132.26 1603.68,-122.71\"/>\n",
       "<polygon fill=\"black\" stroke=\"black\" points=\"1605.24,-119.54 1594.95,-117 1601.41,-125.4 1605.24,-119.54\"/>\n",
       "</g>\n",
       "<!-- 67 -->\n",
       "<g id=\"node68\" class=\"node\">\n",
       "<title>67</title>\n",
       "<text text-anchor=\"middle\" x=\"1685\" y=\"-105.8\" font-family=\"Times,serif\" font-size=\"14.00\">&quot;b&quot;</text>\n",
       "</g>\n",
       "<!-- 63&#45;&gt;67 -->\n",
       "<g id=\"edge67\" class=\"edge\">\n",
       "<title>63&#45;&gt;67</title>\n",
       "<path fill=\"none\" stroke=\"black\" d=\"M1663.48,-152.69C1666.95,-145.88 1672.4,-135.19 1676.95,-126.27\"/>\n",
       "<polygon fill=\"black\" stroke=\"black\" points=\"1680.13,-127.75 1681.55,-117.26 1673.89,-124.57 1680.13,-127.75\"/>\n",
       "</g>\n",
       "<!-- 65 -->\n",
       "<g id=\"node66\" class=\"node\">\n",
       "<title>65</title>\n",
       "<text text-anchor=\"middle\" x=\"1585\" y=\"-54.8\" font-family=\"Times,serif\" font-size=\"14.00\">&lt;isspace_&gt;</text>\n",
       "</g>\n",
       "<!-- 64&#45;&gt;65 -->\n",
       "<g id=\"edge65\" class=\"edge\">\n",
       "<title>64&#45;&gt;65</title>\n",
       "<path fill=\"none\" stroke=\"black\" d=\"M1585,-101.69C1585,-95.18 1585,-85.1 1585,-76.43\"/>\n",
       "<polygon fill=\"black\" stroke=\"black\" points=\"1588.5,-76.26 1585,-66.26 1581.5,-76.26 1588.5,-76.26\"/>\n",
       "</g>\n",
       "<!-- 66 -->\n",
       "<g id=\"node67\" class=\"node\">\n",
       "<title>66</title>\n",
       "<text text-anchor=\"middle\" x=\"1585\" y=\"-3.8\" font-family=\"Times,serif\" font-size=\"14.00\"> </text>\n",
       "</g>\n",
       "<!-- 65&#45;&gt;66 -->\n",
       "<g id=\"edge66\" class=\"edge\">\n",
       "<title>65&#45;&gt;66</title>\n",
       "<path fill=\"none\" stroke=\"black\" d=\"M1585,-50.69C1585,-44.18 1585,-34.1 1585,-25.43\"/>\n",
       "<polygon fill=\"black\" stroke=\"black\" points=\"1588.5,-25.26 1585,-15.26 1581.5,-25.26 1588.5,-25.26\"/>\n",
       "</g>\n",
       "<!-- 69 -->\n",
       "<g id=\"node70\" class=\"node\">\n",
       "<title>69</title>\n",
       "<text text-anchor=\"middle\" x=\"1795\" y=\"-105.8\" font-family=\"Times,serif\" font-size=\"14.00\">&lt;skip_whitespace&gt;</text>\n",
       "</g>\n",
       "<!-- 68&#45;&gt;69 -->\n",
       "<g id=\"edge69\" class=\"edge\">\n",
       "<title>68&#45;&gt;69</title>\n",
       "<path fill=\"none\" stroke=\"black\" d=\"M1795,-152.69C1795,-146.18 1795,-136.1 1795,-127.43\"/>\n",
       "<polygon fill=\"black\" stroke=\"black\" points=\"1798.5,-127.26 1795,-117.26 1791.5,-127.26 1798.5,-127.26\"/>\n",
       "</g>\n",
       "<!-- 70 -->\n",
       "<g id=\"node71\" class=\"node\">\n",
       "<title>70</title>\n",
       "<text text-anchor=\"middle\" x=\"1795\" y=\"-54.8\" font-family=\"Times,serif\" font-size=\"14.00\">}</text>\n",
       "</g>\n",
       "<!-- 69&#45;&gt;70 -->\n",
       "<g id=\"edge70\" class=\"edge\">\n",
       "<title>69&#45;&gt;70</title>\n",
       "<path fill=\"none\" stroke=\"black\" d=\"M1795,-101.69C1795,-95.18 1795,-85.1 1795,-76.43\"/>\n",
       "<polygon fill=\"black\" stroke=\"black\" points=\"1798.5,-76.26 1795,-66.26 1791.5,-76.26 1798.5,-76.26\"/>\n",
       "</g>\n",
       "<!-- 72 -->\n",
       "<g id=\"node73\" class=\"node\">\n",
       "<title>72</title>\n",
       "<text text-anchor=\"middle\" x=\"1796\" y=\"-207.8\" font-family=\"Times,serif\" font-size=\"14.00\">&lt;skip_whitespace&gt;</text>\n",
       "</g>\n",
       "<!-- 71&#45;&gt;72 -->\n",
       "<g id=\"edge72\" class=\"edge\">\n",
       "<title>71&#45;&gt;72</title>\n",
       "<path fill=\"none\" stroke=\"black\" d=\"M1713.81,-254.89C1729.34,-246.88 1755.74,-233.27 1774.42,-223.63\"/>\n",
       "<polygon fill=\"black\" stroke=\"black\" points=\"1776.11,-226.7 1783.39,-219 1772.9,-220.48 1776.11,-226.7\"/>\n",
       "</g>\n",
       "<!-- 73 -->\n",
       "<g id=\"node74\" class=\"node\">\n",
       "<title>73</title>\n",
       "<text text-anchor=\"middle\" x=\"1862\" y=\"-156.8\" font-family=\"Times,serif\" font-size=\"14.00\">}</text>\n",
       "</g>\n",
       "<!-- 72&#45;&gt;73 -->\n",
       "<g id=\"edge73\" class=\"edge\">\n",
       "<title>72&#45;&gt;73</title>\n",
       "<path fill=\"none\" stroke=\"black\" d=\"M1804.9,-203.89C1816.11,-195.57 1835.49,-181.18 1848.52,-171.51\"/>\n",
       "<polygon fill=\"black\" stroke=\"black\" points=\"1850.74,-174.22 1856.68,-165.45 1846.57,-168.6 1850.74,-174.22\"/>\n",
       "</g>\n",
       "</g>\n",
       "</svg>\n"
      ],
      "text/plain": [
       "<graphviz.dot.Digraph at 0x7f972e982710>"
      ]
     },
     "metadata": {},
     "output_type": "display_data"
    }
   ],
   "source": [
    "generate_trees_from_trace(call_traces1)"
   ]
  },
  {
   "cell_type": "markdown",
   "metadata": {},
   "source": [
    "### The Complete Miner\n",
    "\n",
    "We now put everything together. The `miner()` takes the traces, produces trees out of them, and verifies that the trees actually correspond to the input."
   ]
  },
  {
   "cell_type": "code",
   "execution_count": 503,
   "metadata": {
    "ExecuteTime": {
     "end_time": "2021-10-06T12:39:53.780695Z",
     "start_time": "2021-10-06T12:39:53.776211Z"
    }
   },
   "outputs": [],
   "source": [
    "def miner(call_traces):\n",
    "    my_trees = []\n",
    "    for call_trace in call_traces:\n",
    "        method_map = call_trace['method_map']\n",
    "\n",
    "        first, method_tree = reconstruct_method_tree(method_map)\n",
    "        comparisons = call_trace['comparisons']\n",
    "        attach_comparisons(method_tree, last_comparisons(comparisons))\n",
    "\n",
    "        my_str = call_trace['inputstr']\n",
    "\n",
    "        tree = to_tree(method_tree[first], my_str)\n",
    "        my_tree = {\n",
    "            'tree': tree,\n",
    "            'original': call_trace['original'],\n",
    "            'arg': call_trace['arg']\n",
    "        }\n",
    "        assert tree_to_str(tree) == my_str\n",
    "        my_trees.append(my_tree)\n",
    "    return my_trees"
   ]
  },
  {
   "cell_type": "markdown",
   "metadata": {},
   "source": [
    "## Generalize Method\n",
    "\n",
    "The idea here is that, sometimes one finds that our central assumption -- that a fragment consumed by a function can be replaced by another fragment consumed by the same function elsewhere -- doesn't hold. This can be seen in functions that take an additional argument to specify what it should match. In such cases, we want to try and find out how to distinguish between these function invocations."
   ]
  },
  {
   "cell_type": "code",
   "execution_count": 504,
   "metadata": {
    "ExecuteTime": {
     "end_time": "2021-10-06T12:39:53.785388Z",
     "start_time": "2021-10-06T12:39:53.782301Z"
    }
   },
   "outputs": [],
   "source": [
    "import json\n",
    "NODE_REGISTER = {}\n",
    "EXEC_MAP = {}"
   ]
  },
  {
   "cell_type": "code",
   "execution_count": 505,
   "metadata": {
    "ExecuteTime": {
     "end_time": "2021-10-06T12:39:53.790094Z",
     "start_time": "2021-10-06T12:39:53.787216Z"
    }
   },
   "outputs": [],
   "source": [
    "def reset_generalizer():\n",
    "    global EXEC_MAP\n",
    "    global NODE_REGISTER\n",
    "    EXEC_MAP.clear()\n",
    "    NODE_REGISTER.clear()"
   ]
  },
  {
   "cell_type": "code",
   "execution_count": 506,
   "metadata": {
    "ExecuteTime": {
     "end_time": "2021-10-06T12:39:53.795240Z",
     "start_time": "2021-10-06T12:39:53.791994Z"
    }
   },
   "outputs": [],
   "source": [
    "def to_modifiable(derivation_tree):\n",
    "    node, children, *rest = derivation_tree\n",
    "    return [node, [to_modifiable(c) for c in children], *rest]"
   ]
  },
  {
   "cell_type": "code",
   "execution_count": 507,
   "metadata": {
    "ExecuteTime": {
     "end_time": "2021-10-06T12:39:53.800623Z",
     "start_time": "2021-10-06T12:39:53.797110Z"
    }
   },
   "outputs": [],
   "source": [
    "def node_include(i, j):\n",
    "    name_i, children_i, s_i, e_i = i\n",
    "    name_j, children_j, s_j, e_j = j\n",
    "    return is_second_item_included((s_i, e_i), (s_j, e_j))"
   ]
  },
  {
   "cell_type": "markdown",
   "metadata": {},
   "source": [
    "The get_ref() takes a node datastructure and searches for node_name. It returns the first instance found. This allows us to easily swap nodes."
   ]
  },
  {
   "cell_type": "code",
   "execution_count": 508,
   "metadata": {
    "ExecuteTime": {
     "end_time": "2021-10-06T12:39:53.806051Z",
     "start_time": "2021-10-06T12:39:53.802583Z"
    }
   },
   "outputs": [],
   "source": [
    "def get_ref(node, node_name):\n",
    "    name, children, *rest = node\n",
    "    if name == node_name:\n",
    "        return node\n",
    "    for child in children:\n",
    "        res = get_ref(child, node_name)\n",
    "        if res is not None: return res\n",
    "    return None"
   ]
  },
  {
   "cell_type": "markdown",
   "metadata": {},
   "source": [
    "The replace_nodes() function try to replace the contents of the first node with the contents of the second (That is, the tree that has these nodes will automatically be modified), collect the produced string from the tree, and reset any changes. The arguments are tuples with the following format: (node, file_name, tree)"
   ]
  },
  {
   "cell_type": "code",
   "execution_count": 509,
   "metadata": {
    "ExecuteTime": {
     "end_time": "2021-10-06T12:39:53.810856Z",
     "start_time": "2021-10-06T12:39:53.807955Z"
    }
   },
   "outputs": [],
   "source": [
    "def deep_copy(t): # Python deepcopy is a bit buggy\n",
    "    v = json.dumps(t)\n",
    "    return json.loads(v)"
   ]
  },
  {
   "cell_type": "code",
   "execution_count": 510,
   "metadata": {
    "ExecuteTime": {
     "end_time": "2021-10-06T12:39:53.817016Z",
     "start_time": "2021-10-06T12:39:53.812721Z"
    }
   },
   "outputs": [],
   "source": [
    "# replace the given node in a2 by the node in a1\n",
    "def replace_nodes(a2, a1):\n",
    "    node2, _, t2 = a2\n",
    "    node1, _, t1 = a1\n",
    "    str2_old = tree_to_str(t2)\n",
    "\n",
    "    # first change the name of the node, then copy the tree.\n",
    "    tmpl_name = '___cmimid___'\n",
    "    old_name = node2[0]\n",
    "    node2[0] = tmpl_name\n",
    "    t2_new = deep_copy(t2)\n",
    "    node2[0] = old_name\n",
    "\n",
    "    # now find the reference to tmpl_name in t2_new\n",
    "    node2 = get_ref(t2_new, tmpl_name)\n",
    "    node2.clear()\n",
    "    for n in node1:\n",
    "        node2.append(n)\n",
    "    str2_new = tree_to_str(t2_new)\n",
    "    assert str2_old != str2_new\n",
    "    return t2_new"
   ]
  },
  {
   "cell_type": "markdown",
   "metadata": {},
   "source": [
    "Can a given node be replaced with another? The idea is, given two nodes (possibly from two trees), can the first node be replaced by the second, and still result in a valid string?"
   ]
  },
  {
   "cell_type": "code",
   "execution_count": 511,
   "metadata": {
    "ExecuteTime": {
     "end_time": "2021-10-06T12:39:53.823268Z",
     "start_time": "2021-10-06T12:39:53.818840Z"
    }
   },
   "outputs": [],
   "source": [
    "def is_a_replaceable_with_b(a1, a2, module):\n",
    "    n1, f1, t1 = a1\n",
    "    n2, f2, t2 = a2\n",
    "    if tree_to_str(n1) == tree_to_str(n2): return True\n",
    "    t_x = replace_nodes(a1, (('XXXX', []), None, t2))\n",
    "    x = tree_to_str(t_x)\n",
    "    updated_tree = replace_nodes(a1, a2)\n",
    "    updated_string = tree_to_str(updated_tree)\n",
    "    o = tree_to_str(t1)\n",
    "    v = check(o, x, n1[0], updated_tree, module, tree_to_str(a1[0]), tree_to_str(a2[0]))\n",
    "    return v"
   ]
  },
  {
   "cell_type": "code",
   "execution_count": 512,
   "metadata": {
    "ExecuteTime": {
     "end_time": "2021-10-06T12:39:53.828142Z",
     "start_time": "2021-10-06T12:39:53.825096Z"
    }
   },
   "outputs": [],
   "source": [
    "def is_compatible(a1, a2, module):\n",
    "    t1 = is_a_replaceable_with_b(a1, a2, module)\n",
    "    if not t1: return False\n",
    "    t2 = is_a_replaceable_with_b(a2, a1, module)\n",
    "    return t2"
   ]
  },
  {
   "cell_type": "markdown",
   "metadata": {},
   "source": [
    "There are fundamentally, two kinds of nodes. The first kind of node is a method node, that correspond to a method call. The second is a node that corresponds to a pseudo-method -- that is, a node that represents a loop or a conditional. Below are the predicates that identify such methods, parses, and reconstructs such nodes."
   ]
  },
  {
   "cell_type": "code",
   "execution_count": 513,
   "metadata": {
    "ExecuteTime": {
     "end_time": "2021-10-06T12:39:53.834386Z",
     "start_time": "2021-10-06T12:39:53.830563Z"
    }
   },
   "outputs": [],
   "source": [
    "def is_node_method(node):\n",
    "    node_name = node[0]\n",
    "    if (node_name[0], node_name[-1]) != ('<', '>'): return False\n",
    "    return not is_node_pseudo(node)"
   ]
  },
  {
   "cell_type": "code",
   "execution_count": 514,
   "metadata": {
    "ExecuteTime": {
     "end_time": "2021-10-06T12:39:53.840644Z",
     "start_time": "2021-10-06T12:39:53.836555Z"
    }
   },
   "outputs": [],
   "source": [
    "def is_node_pseudo(node):\n",
    "    node_name = node[0]\n",
    "    if (node_name[0], node_name[-1]) != ('<', '>'): return False\n",
    "    if ':if_' in node_name: return True\n",
    "    if ':while_' in node_name: return True\n",
    "    return False"
   ]
  },
  {
   "cell_type": "code",
   "execution_count": 515,
   "metadata": {
    "ExecuteTime": {
     "end_time": "2021-10-06T12:39:53.846016Z",
     "start_time": "2021-10-06T12:39:53.842536Z"
    }
   },
   "outputs": [],
   "source": [
    "def parse_pseudo_name(node_name):\n",
    "    assert (node_name[0], node_name[-1]) == ('<','>')\n",
    "    return decode_name(node_name[1:-1])"
   ]
  },
  {
   "cell_type": "code",
   "execution_count": 516,
   "metadata": {
    "ExecuteTime": {
     "end_time": "2021-10-06T12:39:53.851759Z",
     "start_time": "2021-10-06T12:39:53.848045Z"
    }
   },
   "outputs": [],
   "source": [
    "def parse_method_name(mname):\n",
    "    assert (mname[0], mname[-1]) == ('<', '>')\n",
    "    name = mname[1:-1]\n",
    "    if '.' in name:\n",
    "        nname, my_id = name.split('.')\n",
    "        return nname, my_id\n",
    "    else:\n",
    "        return name, '0'"
   ]
  },
  {
   "cell_type": "code",
   "execution_count": 517,
   "metadata": {
    "ExecuteTime": {
     "end_time": "2021-10-06T12:39:53.858300Z",
     "start_time": "2021-10-06T12:39:53.853740Z"
    }
   },
   "outputs": [],
   "source": [
    "def decode_name(node_name_stack):\n",
    "    node_name, mstack = node_name_stack.split('#')\n",
    "    method_stack = json.loads(mstack)\n",
    "    method_ctrl_alt_name, can_empty = node_name.split(' ')\n",
    "    method, ctrl_cid_altid = method_ctrl_alt_name.split(':')\n",
    "    ctrl, cid_altid = ctrl_cid_altid.split('_')\n",
    "    assert ctrl in {'while', 'if'}\n",
    "    cid, altid = cid_altid.split(',')\n",
    "\n",
    "    if 'while' == ctrl:\n",
    "        assert altid == '0'\n",
    "    return method, ctrl, int(cid), altid, can_empty, method_stack"
   ]
  },
  {
   "cell_type": "code",
   "execution_count": 518,
   "metadata": {
    "ExecuteTime": {
     "end_time": "2021-10-06T12:39:53.864939Z",
     "start_time": "2021-10-06T12:39:53.860318Z"
    }
   },
   "outputs": [],
   "source": [
    "def unparse_pseudo_name(method, ctrl, ctrl_id, alt_num, can_empty, cstack):\n",
    "    return \"<%s>\" % encode_name(method, ctrl, ctrl_id, alt_num, can_empty, cstack)\n",
    "\n",
    "def unparse_method_name(mname, my_id):\n",
    "    return '<%s.%s>' % (mname, my_id)\n",
    "\n",
    "def encode_name(method, ctrl, ctrl_id, alt_num, can_empty, stack):\n",
    "    assert ctrl in {'while', 'if'}\n",
    "    return '%s:%s_%s,%s %s#%s' % (method, ctrl, ctrl_id, alt_num, can_empty, json.dumps(stack))"
   ]
  },
  {
   "cell_type": "markdown",
   "metadata": {},
   "source": [
    "The check() function invokes the given subject call with the previously defined check.py wrapper, logs and returns the result of the call.\n",
    "\n",
    "**TODO:** What we really want to do, is to generate a new updated tree first after doing the tree surgery. Then, convert this tree to a parenthesized tree by simply doing tree_to_string with additional {} (or other open/close symbols that does not conflict with the input) attached when joining the nodes. That is,"
   ]
  },
  {
   "cell_type": "code",
   "execution_count": 519,
   "metadata": {
    "ExecuteTime": {
     "end_time": "2021-10-06T12:39:53.872565Z",
     "start_time": "2021-10-06T12:39:53.867377Z"
    }
   },
   "outputs": [],
   "source": [
    "def tree_to_pstr(tree, op_='', _cl=''):\n",
    "    expanded = []\n",
    "    to_expand = [tree]\n",
    "    while to_expand:\n",
    "        (key, children, *_), *to_expand = to_expand\n",
    "        if is_nt(key):\n",
    "            expanded.append(op_)\n",
    "            to_expand = children + [(_cl, [])] + to_expand\n",
    "        else:\n",
    "            assert not children\n",
    "            expanded.append(key)\n",
    "    return ''.join(expanded)"
   ]
  },
  {
   "cell_type": "markdown",
   "metadata": {},
   "source": [
    "With this, when using `tree_to_string(my_tree, {, })`, We will get a string that represents how the original string was parsed. For example `1+2+3` may be represented as `{{1+2}+3}`.\n",
    "\n",
    "Next, we need to run the non-parenthesized string resulting from the tree surgery through the program, and collect the resulting tree. Again, convert this tree to the parentesized version, and compare equality.\n",
    "\n",
    "With this, we can ensure that our tree nodes are correctly compatible, and secondly, we can ignore the return code."
   ]
  },
  {
   "cell_type": "code",
   "execution_count": 520,
   "metadata": {
    "ExecuteTime": {
     "end_time": "2021-10-06T12:39:53.879101Z",
     "start_time": "2021-10-06T12:39:53.875260Z"
    }
   },
   "outputs": [],
   "source": [
    "import os, subprocess"
   ]
  },
  {
   "cell_type": "code",
   "execution_count": 521,
   "metadata": {
    "ExecuteTime": {
     "end_time": "2021-10-06T12:39:53.893426Z",
     "start_time": "2021-10-06T12:39:53.881284Z"
    }
   },
   "outputs": [],
   "source": [
    "def check(o, x, e, ut, module, sa1, sa2):\n",
    "    s = tree_to_str(ut)\n",
    "    if s in EXEC_MAP: return EXEC_MAP[s]\n",
    "    updated_ps = tree_to_pstr(ut, op_='{', _cl='}')\n",
    "    \n",
    "    if os.path.exists('flag.txt'):\n",
    "        with open(f'flag.txt', 'r+') as f:\n",
    "            flag = f.read().strip()\n",
    "            subprocess.call(['gcc', '-g', module, flag])\n",
    "    else:\n",
    "        subprocess.call(['gcc', '-g', module])\n",
    "        \n",
    "    v = False\n",
    "    parsed_ps = None\n",
    "    trace = []\n",
    "    try:\n",
    "        with open(f'inp.0.txt', 'w+') as f:\n",
    "            print(s, file=f)\n",
    "            \n",
    "        arg0 = \"\\\"py arg0='%s'\\\"\" % s\n",
    "        arg1 = '\\'py arg1=\"%s\"\\'' % module\n",
    "        \n",
    "        !gdb --batch-silent -ex {arg1} -x BMiner.py\n",
    "        with open(f'tree', 'rb') as f:\n",
    "            trace.append((jsonpickle.decode(f.read())))\n",
    "        \n",
    "        parsed_tree = miner(trace)[0]['tree']\n",
    "        parsed_ps = tree_to_pstr(parsed_tree, op_='{', _cl='}')\n",
    "        v = (parsed_ps == updated_ps)\n",
    "    except Exception:\n",
    "        parsed_ps = 'ERROR'\n",
    "        v = False\n",
    "\n",
    "    EXEC_MAP[s] = v\n",
    "    return v"
   ]
  },
  {
   "cell_type": "markdown",
   "metadata": {},
   "source": [
    "We now want to collect all nodes of a particular kind together. `register_node()` correctly saves specific kinds of nodes separately as copies."
   ]
  },
  {
   "cell_type": "code",
   "execution_count": 522,
   "metadata": {
    "ExecuteTime": {
     "end_time": "2021-10-06T12:39:53.901999Z",
     "start_time": "2021-10-06T12:39:53.895832Z"
    }
   },
   "outputs": [],
   "source": [
    "def register_node(node, tree, executable, input_file):\n",
    "    # we want to save a copy of the tree so we can modify it later. \n",
    "    node_name = node[0]\n",
    "    template_name = '__CMIMID__NODE__'\n",
    "    node[0] = template_name\n",
    "    new_tree = deep_copy(tree)\n",
    "    node[0] = node_name\n",
    "    new_node = get_ref(new_tree, template_name)\n",
    "    new_node[0] = node_name\n",
    "    if node_name not in NODE_REGISTER:\n",
    "        NODE_REGISTER[node_name] = []\n",
    "    new_elt = (new_node, new_tree, executable, input_file,\n",
    "            {'inputstr': tree_to_str(new_tree), 'node':node, 'tree':tree})\n",
    "    NODE_REGISTER[node_name].append(new_elt)\n",
    "    return new_elt"
   ]
  },
  {
   "cell_type": "markdown",
   "metadata": {},
   "source": [
    "`collect_nodes()` recursively calls `register_node()` on the tree so that all nodes are registered. The wrinkle here is that in some case such as parser combinators and peg parsers, there may be long chains of single child repetitions. i.e: parse `-> curry -> parse -> curry -> ...` etc. For them, if we have seen the first parse and curry, we do not gain anything by analyzing the remainign in the same chain. So, we mark such chains."
   ]
  },
  {
   "cell_type": "code",
   "execution_count": 523,
   "metadata": {
    "ExecuteTime": {
     "end_time": "2021-10-06T12:39:53.909079Z",
     "start_time": "2021-10-06T12:39:53.904150Z"
    }
   },
   "outputs": [],
   "source": [
    "def collect_nodes_single(node, tree, executable, inputfile, seen):\n",
    "    node_name, children, si, ei = node\n",
    "    elt = None\n",
    "    if is_node_method(node):\n",
    "        elt = register_node(node, tree, executable, inputfile)\n",
    "        if node_name in seen:\n",
    "            elt[4]['seen'] = seen[node_name]\n",
    "        else:\n",
    "            seen[node_name] = elt\n",
    "    if len(children) == 1:\n",
    "        collect_nodes_single(children[0], tree, executable, inputfile, seen)\n",
    "    else:\n",
    "        # no longer the single inheritance line.\n",
    "        for child in children:\n",
    "            collect_nodes(child, tree, executable, inputfile)"
   ]
  },
  {
   "cell_type": "code",
   "execution_count": 524,
   "metadata": {
    "ExecuteTime": {
     "end_time": "2021-10-06T12:39:53.915654Z",
     "start_time": "2021-10-06T12:39:53.911270Z"
    }
   },
   "outputs": [],
   "source": [
    "def collect_nodes(node, tree, executable, inputfile):\n",
    "    node_name, children, si, ei = node\n",
    "    elt = None\n",
    "    if is_node_method(node):\n",
    "        elt = register_node(node, tree, executable, inputfile)\n",
    "    if len(children) == 1:\n",
    "        collect_nodes_single(children[0], tree, executable, inputfile, {node_name: elt})\n",
    "    else:\n",
    "        for child in children:\n",
    "            collect_nodes(child, tree, executable, inputfile)"
   ]
  },
  {
   "cell_type": "markdown",
   "metadata": {},
   "source": [
    "When looking to see which methods are swappable, the idea is to choose a small sample set for a given node name, and check the current node against that sample set (swap both ways, and check the validity). The different validity patterns we get are marked as different kinds of nodes.\n",
    "\n",
    "Here, we identify the buckets based on one to one compatibility. Unfortunately, there is a problem here. Essentially, we assume that if a is compatible with b, and b is compatible with c, then a is compatible with c. However, this may not be true in all cases. See the limitations for instances when this assumption is invalidated. At this point, we have several options. The first is to do an $n \\times n$ comparison of all items in the bucket, in which case, we will have the true compatibility but with high computational cost. The next alternative is to choose a node in one bucket, and do the bucketing procedure again with the items in the particular bucket. This produces one more bit of information, and one can continue this prodcedure for larger and larger number of bits. One may also choose a statistical sample of $k$ items in the bucket, and go for a comparison only between $n \\times k$ items.\n",
    "\n",
    "At this point, we choose the fastest option, which gets us a reasonable accuracy. We use a single level classification."
   ]
  },
  {
   "cell_type": "code",
   "execution_count": 525,
   "metadata": {
    "ExecuteTime": {
     "end_time": "2021-10-06T12:39:53.925359Z",
     "start_time": "2021-10-06T12:39:53.917686Z"
    }
   },
   "outputs": [],
   "source": [
    "def identify_buckets(node_name):\n",
    "    all_elts = NODE_REGISTER[node_name]\n",
    "    # remove the duplicate nodes\n",
    "    elts = [e for e in all_elts if 'seen' not in e[4]]\n",
    "    seen_elts = [e for e in all_elts if 'seen' in e[4]]\n",
    "    first, *rest = elts\n",
    "    first[4]['pattern'] = 0\n",
    "    buckets = [first]\n",
    "    for enode in rest:\n",
    "        node0, tree0, executable0, inputfile0, _info0 = enode\n",
    "        a0 = node0, inputfile0, tree0\n",
    "        compatible = None\n",
    "        for bi, bnode in enumerate(buckets):\n",
    "            node1, tree1, executable1, inputfile1, _info1 = bnode\n",
    "            a1 = node1, inputfile1, tree1\n",
    "            result = is_compatible(a0, a1, executable0)\n",
    "            if result:\n",
    "                compatible = bi\n",
    "                enode[4]['pattern'] = bi\n",
    "                break\n",
    "        if compatible is None:\n",
    "            enode[4]['pattern'] = len(buckets)\n",
    "            buckets.append(enode)\n",
    "            \n",
    "    for e in seen_elts:\n",
    "        e_seen = e[4]['seen']\n",
    "        e_seen_pattern = e_seen[4]['pattern']\n",
    "        e[4]['pattern'] = e_seen_pattern\n",
    "    return {i:i for i,b in enumerate(buckets)}"
   ]
  },
  {
   "cell_type": "markdown",
   "metadata": {},
   "source": [
    "Once we identify that a node belongs to a particular pattern identifier, we update all the pseudo-methods belonging to that node. These can be found by simply traversiing the tree until the next method is found.\n"
   ]
  },
  {
   "cell_type": "code",
   "execution_count": 526,
   "metadata": {
    "ExecuteTime": {
     "end_time": "2021-10-06T12:39:53.934192Z",
     "start_time": "2021-10-06T12:39:53.927757Z"
    }
   },
   "outputs": [],
   "source": [
    "def update_method_stack(node, old_name, new_name):\n",
    "    nname, children, *rest = node\n",
    "    if not (':if_' in nname or ':while_' in nname):\n",
    "        return\n",
    "    method, ctrl, cname, num, can_empty, cstack = parse_pseudo_name(nname)\n",
    "    assert method == old_name, \"%s != %s\" % (method, old_name)\n",
    "    name = unparse_pseudo_name(new_name, ctrl, cname, num, can_empty, cstack)\n",
    "    #assert '?' not in name\n",
    "    node[0] = name\n",
    "    for c in node[1]:\n",
    "        update_method_stack(c, old_name, new_name)"
   ]
  },
  {
   "cell_type": "code",
   "execution_count": 527,
   "metadata": {
    "ExecuteTime": {
     "end_time": "2021-10-06T12:39:53.941389Z",
     "start_time": "2021-10-06T12:39:53.936587Z"
    }
   },
   "outputs": [],
   "source": [
    "def update_method_name(k_m, my_id):\n",
    "    # fixup k_m with what is in my_id\n",
    "    original = k_m[0]\n",
    "    method, old_id = parse_method_name(original)\n",
    "    name = unparse_method_name(method, my_id)\n",
    "    k_m[0] = name\n",
    "\n",
    "    for c in k_m[1]:\n",
    "        update_method_stack(c, original[1:-1], name[1:-1])\n",
    "\n",
    "    return name, k_m"
   ]
  },
  {
   "cell_type": "code",
   "execution_count": 528,
   "metadata": {
    "ExecuteTime": {
     "end_time": "2021-10-06T12:39:53.948457Z",
     "start_time": "2021-10-06T12:39:53.943939Z"
    }
   },
   "outputs": [],
   "source": [
    "def update_original_method_names(node_name):\n",
    "    registered_xnodes = NODE_REGISTER[node_name]\n",
    "    for xnode in registered_xnodes:\n",
    "        # name it according to its pattern\n",
    "        nodeX, treeX, executableX, inputfileX, infoX = xnode\n",
    "        pattern = infoX['pattern']\n",
    "        update_method_name(infoX['node'], pattern)"
   ]
  },
  {
   "cell_type": "markdown",
   "metadata": {},
   "source": [
    "The idea is to first collect and register all nodes by their names. Next, we sample N of these, and use the pattern of matches (**TODO**: Do we simply use the pattern of compatibility or the pattern of left to right replaceability -- that is, a is replaceable with b but b is not replaceable with a is 10 while full compatibility would be 11 -> 1)"
   ]
  },
  {
   "cell_type": "code",
   "execution_count": 529,
   "metadata": {
    "ExecuteTime": {
     "end_time": "2021-10-06T12:39:53.957078Z",
     "start_time": "2021-10-06T12:39:53.950716Z"
    }
   },
   "outputs": [],
   "source": [
    "def generalize_method_trees(jtrees, log=False):\n",
    "    my_trees = []\n",
    "    for i,j in enumerate(jtrees):\n",
    "        tree = to_modifiable(j['tree']) # The tree ds.\n",
    "        executable = j['original']\n",
    "        inputfile = j['arg']\n",
    "        # we skip START\n",
    "        node_name, children, *rest = tree\n",
    "        assert node_name == '<START>'\n",
    "        for child in children:\n",
    "            collect_nodes(tree, tree, executable, inputfile)\n",
    "        my_trees.append({'tree':tree, 'original': executable, 'arg': inputfile})\n",
    "\n",
    "    for k in NODE_REGISTER:\n",
    "        identify_buckets(k)\n",
    "\n",
    "    # finally, update the original names.\n",
    "    for k in NODE_REGISTER:\n",
    "        if k == '<START>': continue\n",
    "        update_original_method_names(k)\n",
    "    return my_trees"
   ]
  },
  {
   "cell_type": "markdown",
   "metadata": {},
   "source": [
    "Here is how we use it."
   ]
  },
  {
   "cell_type": "code",
   "execution_count": 530,
   "metadata": {
    "ExecuteTime": {
     "end_time": "2021-10-06T12:59:39.682273Z",
     "start_time": "2021-10-06T12:39:53.959556Z"
    }
   },
   "outputs": [
    {
     "data": {
      "image/svg+xml": [
       "<?xml version=\"1.0\" encoding=\"UTF-8\" standalone=\"no\"?>\n",
       "<!DOCTYPE svg PUBLIC \"-//W3C//DTD SVG 1.1//EN\"\n",
       " \"http://www.w3.org/Graphics/SVG/1.1/DTD/svg11.dtd\">\n",
       "<!-- Generated by graphviz version 2.43.0 (0)\n",
       " -->\n",
       "<!-- Title: %3 Pages: 1 -->\n",
       "<svg width=\"290pt\" height=\"227pt\"\n",
       " viewBox=\"0.00 0.00 290.00 227.00\" xmlns=\"http://www.w3.org/2000/svg\" xmlns:xlink=\"http://www.w3.org/1999/xlink\">\n",
       "<g id=\"graph0\" class=\"graph\" transform=\"scale(1 1) rotate(0) translate(4 223)\">\n",
       "<title>%3</title>\n",
       "<polygon fill=\"white\" stroke=\"transparent\" points=\"-4,4 -4,-223 286,-223 286,4 -4,4\"/>\n",
       "<!-- 0 -->\n",
       "<g id=\"node1\" class=\"node\">\n",
       "<title>0</title>\n",
       "<text text-anchor=\"middle\" x=\"141\" y=\"-207.8\" font-family=\"Times,serif\" font-size=\"14.00\">&lt;START&gt;</text>\n",
       "</g>\n",
       "<!-- 1 -->\n",
       "<g id=\"node2\" class=\"node\">\n",
       "<title>1</title>\n",
       "<text text-anchor=\"middle\" x=\"141\" y=\"-156.8\" font-family=\"Times,serif\" font-size=\"14.00\">&lt;main.0&gt;</text>\n",
       "</g>\n",
       "<!-- 0&#45;&gt;1 -->\n",
       "<g id=\"edge1\" class=\"edge\">\n",
       "<title>0&#45;&gt;1</title>\n",
       "<path fill=\"none\" stroke=\"black\" d=\"M141,-203.69C141,-197.18 141,-187.1 141,-178.43\"/>\n",
       "<polygon fill=\"black\" stroke=\"black\" points=\"144.5,-178.26 141,-168.26 137.5,-178.26 144.5,-178.26\"/>\n",
       "</g>\n",
       "<!-- 2 -->\n",
       "<g id=\"node3\" class=\"node\">\n",
       "<title>2</title>\n",
       "<text text-anchor=\"middle\" x=\"141\" y=\"-105.8\" font-family=\"Times,serif\" font-size=\"14.00\">&lt;parse_expr.0&gt;</text>\n",
       "</g>\n",
       "<!-- 1&#45;&gt;2 -->\n",
       "<g id=\"edge2\" class=\"edge\">\n",
       "<title>1&#45;&gt;2</title>\n",
       "<path fill=\"none\" stroke=\"black\" d=\"M141,-152.69C141,-146.18 141,-136.1 141,-127.43\"/>\n",
       "<polygon fill=\"black\" stroke=\"black\" points=\"144.5,-127.26 141,-117.26 137.5,-127.26 144.5,-127.26\"/>\n",
       "</g>\n",
       "<!-- 3 -->\n",
       "<g id=\"node4\" class=\"node\">\n",
       "<title>3</title>\n",
       "<text text-anchor=\"middle\" x=\"58\" y=\"-54.8\" font-family=\"Times,serif\" font-size=\"14.00\">&lt;parse_num.0&gt;</text>\n",
       "</g>\n",
       "<!-- 2&#45;&gt;3 -->\n",
       "<g id=\"edge3\" class=\"edge\">\n",
       "<title>2&#45;&gt;3</title>\n",
       "<path fill=\"none\" stroke=\"black\" d=\"M129.81,-101.89C116.49,-94.03 94.02,-80.77 77.76,-71.16\"/>\n",
       "<polygon fill=\"black\" stroke=\"black\" points=\"79.41,-68.07 69.02,-66 75.85,-74.1 79.41,-68.07\"/>\n",
       "</g>\n",
       "<!-- 5 -->\n",
       "<g id=\"node6\" class=\"node\">\n",
       "<title>5</title>\n",
       "<text text-anchor=\"middle\" x=\"141\" y=\"-54.8\" font-family=\"Times,serif\" font-size=\"14.00\">+</text>\n",
       "</g>\n",
       "<!-- 2&#45;&gt;5 -->\n",
       "<g id=\"edge5\" class=\"edge\">\n",
       "<title>2&#45;&gt;5</title>\n",
       "<path fill=\"none\" stroke=\"black\" d=\"M141,-101.69C141,-95.18 141,-85.1 141,-76.43\"/>\n",
       "<polygon fill=\"black\" stroke=\"black\" points=\"144.5,-76.26 141,-66.26 137.5,-76.26 144.5,-76.26\"/>\n",
       "</g>\n",
       "<!-- 6 -->\n",
       "<g id=\"node7\" class=\"node\">\n",
       "<title>6</title>\n",
       "<text text-anchor=\"middle\" x=\"224\" y=\"-54.8\" font-family=\"Times,serif\" font-size=\"14.00\">&lt;parse_num.0&gt;</text>\n",
       "</g>\n",
       "<!-- 2&#45;&gt;6 -->\n",
       "<g id=\"edge6\" class=\"edge\">\n",
       "<title>2&#45;&gt;6</title>\n",
       "<path fill=\"none\" stroke=\"black\" d=\"M152.19,-101.89C165.51,-94.03 187.98,-80.77 204.24,-71.16\"/>\n",
       "<polygon fill=\"black\" stroke=\"black\" points=\"206.15,-74.1 212.98,-66 202.59,-68.07 206.15,-74.1\"/>\n",
       "</g>\n",
       "<!-- 4 -->\n",
       "<g id=\"node5\" class=\"node\">\n",
       "<title>4</title>\n",
       "<text text-anchor=\"middle\" x=\"58\" y=\"-3.8\" font-family=\"Times,serif\" font-size=\"14.00\">34</text>\n",
       "</g>\n",
       "<!-- 3&#45;&gt;4 -->\n",
       "<g id=\"edge4\" class=\"edge\">\n",
       "<title>3&#45;&gt;4</title>\n",
       "<path fill=\"none\" stroke=\"black\" d=\"M58,-50.69C58,-44.18 58,-34.1 58,-25.43\"/>\n",
       "<polygon fill=\"black\" stroke=\"black\" points=\"61.5,-25.26 58,-15.26 54.5,-25.26 61.5,-25.26\"/>\n",
       "</g>\n",
       "<!-- 7 -->\n",
       "<g id=\"node8\" class=\"node\">\n",
       "<title>7</title>\n",
       "<text text-anchor=\"middle\" x=\"224\" y=\"-3.8\" font-family=\"Times,serif\" font-size=\"14.00\">56</text>\n",
       "</g>\n",
       "<!-- 6&#45;&gt;7 -->\n",
       "<g id=\"edge7\" class=\"edge\">\n",
       "<title>6&#45;&gt;7</title>\n",
       "<path fill=\"none\" stroke=\"black\" d=\"M224,-50.69C224,-44.18 224,-34.1 224,-25.43\"/>\n",
       "<polygon fill=\"black\" stroke=\"black\" points=\"227.5,-25.26 224,-15.26 220.5,-25.26 227.5,-25.26\"/>\n",
       "</g>\n",
       "</g>\n",
       "</svg>\n"
      ],
      "text/plain": [
       "<graphviz.dot.Digraph at 0x7f972cc0f8d0>"
      ]
     },
     "metadata": {},
     "output_type": "display_data"
    }
   ],
   "source": [
    "generalized_tree = generalize_method_trees(miner(call_traces))\n",
    "display(display_tree(generalized_tree[0]['tree']))"
   ]
  },
  {
   "cell_type": "markdown",
   "metadata": {},
   "source": [
    "## Generating a Grammar\n",
    "\n",
    "Generating a grammar from the generalized derivation trees is pretty simple. Start at the start node, and any node that represents a method or a pseudo method becomes a nonterminal. The children forms alternate expansions for the nonterminal. Since all the keys are compatible, merging the grammar is simply merging the hash map."
   ]
  },
  {
   "cell_type": "markdown",
   "metadata": {},
   "source": [
    "First, we define a pretty printer for grammar."
   ]
  },
  {
   "cell_type": "code",
   "execution_count": 531,
   "metadata": {
    "ExecuteTime": {
     "end_time": "2021-10-06T12:59:39.686837Z",
     "start_time": "2021-10-06T12:59:39.684035Z"
    }
   },
   "outputs": [],
   "source": [
    "import re\n",
    "RE_NONTERMINAL = re.compile(r'(<[^<> ]*>)')"
   ]
  },
  {
   "cell_type": "code",
   "execution_count": 532,
   "metadata": {
    "ExecuteTime": {
     "end_time": "2021-10-06T12:59:39.703276Z",
     "start_time": "2021-10-06T12:59:39.698581Z"
    }
   },
   "outputs": [],
   "source": [
    "def recurse_grammar(grammar, key, order, canonical):\n",
    "    rules = sorted(grammar[key])\n",
    "    old_len = len(order)\n",
    "    for rule in rules:\n",
    "        if not canonical:\n",
    "            res =  re.findall(RE_NONTERMINAL, rule)\n",
    "        else:\n",
    "            res = rule\n",
    "        for token in res:\n",
    "            if token.startswith('<') and token.endswith('>'):\n",
    "                if token not in order:\n",
    "                    order.append(token)\n",
    "    new = order[old_len:]\n",
    "    for ckey in new:\n",
    "        recurse_grammar(grammar, ckey, order, canonical)"
   ]
  },
  {
   "cell_type": "code",
   "execution_count": 533,
   "metadata": {
    "ExecuteTime": {
     "end_time": "2021-10-06T12:59:39.711728Z",
     "start_time": "2021-10-06T12:59:39.707906Z"
    }
   },
   "outputs": [],
   "source": [
    "def show_grammar(grammar, start_symbol='<START>', canonical=True):\n",
    "    order = [start_symbol]\n",
    "    recurse_grammar(grammar, start_symbol, order, canonical)\n",
    "    if len(order) != len(grammar.keys()):\n",
    "        assert len(order) < len(grammar.keys())\n",
    "    return {k: sorted(grammar[k]) for k in order}"
   ]
  },
  {
   "cell_type": "markdown",
   "metadata": {},
   "source": [
    "### Trees to grammar"
   ]
  },
  {
   "cell_type": "code",
   "execution_count": 534,
   "metadata": {
    "ExecuteTime": {
     "end_time": "2021-10-06T12:59:39.717111Z",
     "start_time": "2021-10-06T12:59:39.713370Z"
    }
   },
   "outputs": [],
   "source": [
    "def to_grammar(tree, grammar):\n",
    "    node, children, _, _ = tree\n",
    "    if not children: return grammar\n",
    "    tokens = []\n",
    "    if node not in grammar:\n",
    "        grammar[node] = list()\n",
    "    for c in children:\n",
    "        tokens.append(c[0])\n",
    "        to_grammar(c, grammar)\n",
    "    grammar[node].append(tuple(tokens))\n",
    "    return grammar"
   ]
  },
  {
   "cell_type": "code",
   "execution_count": 535,
   "metadata": {
    "ExecuteTime": {
     "end_time": "2021-10-06T12:59:39.722328Z",
     "start_time": "2021-10-06T12:59:39.718579Z"
    }
   },
   "outputs": [],
   "source": [
    "def merge_grammar(g1, g2):\n",
    "    all_keys = set(list(g1.keys()) + list(g2.keys()))\n",
    "    merged = {}\n",
    "    for k in all_keys:\n",
    "        alts = set(g1.get(k, []) + g2.get(k, []))\n",
    "        merged[k] = alts\n",
    "    return {k:[l for l in merged[k]] for k in merged}"
   ]
  },
  {
   "cell_type": "code",
   "execution_count": 536,
   "metadata": {
    "ExecuteTime": {
     "end_time": "2021-10-06T12:59:39.727303Z",
     "start_time": "2021-10-06T12:59:39.723755Z"
    }
   },
   "outputs": [],
   "source": [
    "def convert_to_grammar(my_trees):\n",
    "    grammar = {}\n",
    "    ret = []\n",
    "    for my_tree in my_trees:\n",
    "        tree = my_tree['tree']\n",
    "        start = tree[0]\n",
    "        src_file = my_tree['original']\n",
    "        arg_file = my_tree['arg']\n",
    "        ret.append((start, src_file, arg_file))\n",
    "        g = to_grammar(tree, grammar)\n",
    "        grammar = merge_grammar(grammar, g)\n",
    "    return grammar"
   ]
  },
  {
   "cell_type": "code",
   "execution_count": 537,
   "metadata": {
    "ExecuteTime": {
     "end_time": "2021-10-06T12:59:39.734800Z",
     "start_time": "2021-10-06T12:59:39.729377Z"
    }
   },
   "outputs": [
    {
     "data": {
      "text/plain": [
       "{'<START>': [('<main.0>',)],\n",
       " '<parse_paren.0>': [('(', '<parse_expr.1>', ')'),\n",
       "  ('(', '<parse_expr.0>', ')')],\n",
       " '<main.0>': [('<parse_expr.0>',)],\n",
       " '<parse_expr.1>': [('<parse_num.0>',)],\n",
       " '<parse_expr.0>': [('<parse_num.0>', '+', '<parse_num.0>'),\n",
       "  ('<parse_paren.0>',),\n",
       "  ('<parse_num.0>', '/', '<parse_num.0>'),\n",
       "  ('<parse_num.0>', '*', '<parse_paren.0>', '+', '<parse_paren.0>'),\n",
       "  ('<parse_num.0>', '-', '<parse_paren.0>'),\n",
       "  ('<parse_num.0>', '+', '<parse_paren.0>'),\n",
       "  ('<parse_num.0>', '-', '<parse_num.0>')],\n",
       " '<parse_num.0>': [('5',),\n",
       "  ('41',),\n",
       "  ('234',),\n",
       "  ('56',),\n",
       "  ('445',),\n",
       "  ('2',),\n",
       "  ('12',),\n",
       "  ('555',),\n",
       "  ('34',),\n",
       "  ('1',),\n",
       "  ('7',)]}"
      ]
     },
     "execution_count": 537,
     "metadata": {},
     "output_type": "execute_result"
    }
   ],
   "source": [
    "calc_grammar = convert_to_grammar(generalized_tree)\n",
    "calc_grammar"
   ]
  },
  {
   "cell_type": "markdown",
   "metadata": {},
   "source": [
    "### Learning Regular Expressions\n",
    "\n",
    "We now need to generalize the loops. The idea is to look for patterns exclusively in the similarly named while loops using any of the regular expression learners. For the prototype, we replaced the modified Sequitur with the modified Fernau which gave us better regular expressions than before. The main constraint we have is that we want to avoid repeated execution of program if possible. Fernau algorithm can recover a reasonably approximate regular exression based only on positive data."
   ]
  },
  {
   "cell_type": "markdown",
   "metadata": {},
   "source": [
    "#### The modified Fernau algorithm\n",
    "\n",
    "The Fernau algorithm is from *Algorithms for learning regular expressions* from positive data by *HenningFernau*. Our algorithm uses a modified form of the Prefix-Tree-Acceptor from Fernau. First we define an LRF buffer of a given size."
   ]
  },
  {
   "cell_type": "code",
   "execution_count": 538,
   "metadata": {
    "ExecuteTime": {
     "end_time": "2021-10-06T12:59:39.739730Z",
     "start_time": "2021-10-06T12:59:39.736701Z"
    }
   },
   "outputs": [],
   "source": [
    "class Buf:\n",
    "    def __init__(self, size):\n",
    "        self.size = size\n",
    "        self.items = [None] * self.size"
   ]
  },
  {
   "cell_type": "markdown",
   "metadata": {},
   "source": [
    "The `add1()` takes in an array, and transfers the first element of the array into the end of current buffer, and simultaneously drops the first element of the buffer."
   ]
  },
  {
   "cell_type": "code",
   "execution_count": 539,
   "metadata": {
    "ExecuteTime": {
     "end_time": "2021-10-06T12:59:39.744942Z",
     "start_time": "2021-10-06T12:59:39.741680Z"
    }
   },
   "outputs": [],
   "source": [
    "class Buf(Buf):\n",
    "    def add1(self, items):\n",
    "        self.items.append(items.pop(0))\n",
    "        return self.items.pop(0)"
   ]
  },
  {
   "cell_type": "markdown",
   "metadata": {},
   "source": [
    "For equality between the buffer and an array, we only compare when both the array and the items are actually elements and not chunked arrays."
   ]
  },
  {
   "cell_type": "code",
   "execution_count": 540,
   "metadata": {
    "ExecuteTime": {
     "end_time": "2021-10-06T12:59:39.750915Z",
     "start_time": "2021-10-06T12:59:39.746774Z"
    }
   },
   "outputs": [],
   "source": [
    "class Buf(Buf):\n",
    "    def __eq__(self, items):\n",
    "        if any(isinstance(i, dict) for i in self.items): return False\n",
    "        if any(isinstance(i, dict) for i in items): return False\n",
    "        return items == self.items"
   ]
  },
  {
   "cell_type": "markdown",
   "metadata": {},
   "source": [
    "The `detect_chunks()` detects any repeating portions of a list of n size."
   ]
  },
  {
   "cell_type": "code",
   "execution_count": 541,
   "metadata": {
    "ExecuteTime": {
     "end_time": "2021-10-06T12:59:39.757410Z",
     "start_time": "2021-10-06T12:59:39.753359Z"
    }
   },
   "outputs": [],
   "source": [
    "def detect_chunks(n, lst_):\n",
    "    lst = list(lst_)\n",
    "    chunks = set()\n",
    "    last = Buf(n)\n",
    "    # check if the next_n elements are repeated.\n",
    "    for _ in range(len(lst) - n):\n",
    "        lnext_n = lst[0:n]\n",
    "        if last == lnext_n:\n",
    "            # found a repetition.\n",
    "            chunks.add(tuple(last.items))\n",
    "        else:\n",
    "            pass\n",
    "        last.add1(lst)\n",
    "    return chunks"
   ]
  },
  {
   "cell_type": "markdown",
   "metadata": {},
   "source": [
    "Once we have detected plausible repeating sequences, we gather all similar sequences into arrays."
   ]
  },
  {
   "cell_type": "code",
   "execution_count": 542,
   "metadata": {
    "ExecuteTime": {
     "end_time": "2021-10-06T12:59:39.763951Z",
     "start_time": "2021-10-06T12:59:39.758994Z"
    }
   },
   "outputs": [],
   "source": [
    "def chunkify(lst_,n , chunks):\n",
    "    lst = list(lst_)\n",
    "    chunked_lst = []\n",
    "    while len(lst) >= n:\n",
    "        lnext_n = lst[0:n]\n",
    "        if (not any(isinstance(i, dict) for i in lnext_n)) and tuple(lnext_n) in chunks:\n",
    "            chunked_lst.append({'_':lnext_n})\n",
    "            lst = lst[n:]\n",
    "        else:\n",
    "            chunked_lst.append(lst.pop(0))\n",
    "    chunked_lst.extend(lst)\n",
    "    return chunked_lst"
   ]
  },
  {
   "cell_type": "markdown",
   "metadata": {},
   "source": [
    "The `identify_chunks()` simply calls the `detect_chunks()` on all given lists, and then converts all chunks identified into arrays."
   ]
  },
  {
   "cell_type": "code",
   "execution_count": 543,
   "metadata": {
    "ExecuteTime": {
     "end_time": "2021-10-06T12:59:39.772751Z",
     "start_time": "2021-10-06T12:59:39.766430Z"
    }
   },
   "outputs": [],
   "source": [
    "def identify_chunks(my_lsts):\n",
    "    # initialize\n",
    "    all_chunks = {}\n",
    "    maximum = max(len(lst) for lst in my_lsts)\n",
    "    for i in range(1, maximum//2+1):\n",
    "        all_chunks[i] = set()\n",
    "\n",
    "    # First, identify chunks in each list.\n",
    "    for lst in my_lsts:\n",
    "        for i in range(1,maximum//2+1):\n",
    "            chunks = detect_chunks(i, lst)\n",
    "            all_chunks[i] |= chunks\n",
    "\n",
    "    # Then, chunkify\n",
    "    new_lsts = []\n",
    "    for lst in my_lsts:\n",
    "        for i in range(1,maximum//2+1):\n",
    "            chunks = all_chunks[i]\n",
    "            lst = chunkify(lst, i, chunks)\n",
    "        new_lsts.append(lst)\n",
    "    return new_lsts"
   ]
  },
  {
   "cell_type": "markdown",
   "metadata": {},
   "source": [
    "#### *Prefix tree acceptor*\n",
    "\n",
    "The prefix tree acceptor is a way to represent positive data. The Node class holds a single node in the prefix tree acceptor."
   ]
  },
  {
   "cell_type": "code",
   "execution_count": 544,
   "metadata": {
    "ExecuteTime": {
     "end_time": "2021-10-06T12:59:39.785390Z",
     "start_time": "2021-10-06T12:59:39.774873Z"
    }
   },
   "outputs": [],
   "source": [
    "class Node:\n",
    "    # Each tree node gets its unique id.\n",
    "    _uid = 0\n",
    "    def __init__(self, item):\n",
    "        # self.repeats = False\n",
    "        self.count = 1 # how many repetitions.\n",
    "        self.counters = set()\n",
    "        self.last = False\n",
    "        self.children = []\n",
    "        self.item = item\n",
    "        self.uid = Node._uid\n",
    "        Node._uid += 1\n",
    "\n",
    "    def update_counters(self):\n",
    "        self.counters.add(self.count)\n",
    "        self.count = 0\n",
    "        for c in self.children:\n",
    "            c.update_counters()\n",
    "\n",
    "    def __repr__(self):\n",
    "        return str(self.to_json())\n",
    "\n",
    "    def __str__(self):\n",
    "        return str(\"(%s, [%s])\", (self.item, ' '.join([str(i) for i in self.children])))\n",
    "\n",
    "    def to_json(self):\n",
    "        s = (\"(%s)\" % ' '.join(self.item['_'])) if isinstance(self.item, dict) else str(self.item)\n",
    "        return (s, tuple(self.counters), [i.to_json() for i in self.children])\n",
    "\n",
    "    def inc_count(self):\n",
    "        self.count += 1\n",
    "\n",
    "    def add_ref(self):\n",
    "        self.count = 1\n",
    "\n",
    "    def get_child(self, c):\n",
    "        for i in self.children:\n",
    "            if i.item == c: return i\n",
    "        return None\n",
    "\n",
    "    def add_child(self, c):\n",
    "        # first check if it is the current node. If it is, increment\n",
    "        # count, and return ourselves.\n",
    "        if c == self.item:\n",
    "            self.inc_count()\n",
    "            return self\n",
    "        else:\n",
    "            # check if it is one of the children. If it is a child, then\n",
    "            # preserve its original count.\n",
    "            nc = self.get_child(c)\n",
    "            if nc is None:\n",
    "                nc = Node(c)\n",
    "                self.children.append(nc)\n",
    "            else:\n",
    "                nc.add_ref()\n",
    "            return nc"
   ]
  },
  {
   "cell_type": "markdown",
   "metadata": {},
   "source": [
    "The `update_tree()` essentially transforms a list of nodes to a chain of nodes starting at root if the root is an empty tree. If the root already contains a tree, the `update_tree()` traverses the path represented by `lst_` and makes a new child branch where the path specified doesn't exist in the tree."
   ]
  },
  {
   "cell_type": "code",
   "execution_count": 545,
   "metadata": {
    "ExecuteTime": {
     "end_time": "2021-10-06T12:59:39.790761Z",
     "start_time": "2021-10-06T12:59:39.787469Z"
    }
   },
   "outputs": [],
   "source": [
    "def update_tree(lst_, root):\n",
    "    lst = list(lst_)\n",
    "    branch = root\n",
    "    while lst:\n",
    "        first, *lst = lst\n",
    "        branch = branch.add_child(first)\n",
    "    branch.last = True\n",
    "    return root"
   ]
  },
  {
   "cell_type": "markdown",
   "metadata": {},
   "source": [
    "Given a number of lists, the `create_tree_with_lists()` creates an actual tree out of these lists."
   ]
  },
  {
   "cell_type": "code",
   "execution_count": 546,
   "metadata": {
    "ExecuteTime": {
     "end_time": "2021-10-06T12:59:39.796264Z",
     "start_time": "2021-10-06T12:59:39.792689Z"
    }
   },
   "outputs": [],
   "source": [
    "def create_tree_with_lsts(lsts):\n",
    "    Node._uid = 0\n",
    "    root =  Node(None)\n",
    "    for lst in lsts:\n",
    "        root.count = 1 # there is at least one element.\n",
    "        update_tree(lst, root)\n",
    "        root.update_counters()\n",
    "    return root"
   ]
  },
  {
   "cell_type": "markdown",
   "metadata": {},
   "source": [
    "Given a node, and a key, return the key and alts as a dict."
   ]
  },
  {
   "cell_type": "code",
   "execution_count": 547,
   "metadata": {
    "ExecuteTime": {
     "end_time": "2021-10-06T12:59:39.803231Z",
     "start_time": "2021-10-06T12:59:39.798261Z"
    }
   },
   "outputs": [],
   "source": [
    "def get_star(node, key):\n",
    "    if node.item is None:\n",
    "        return [], {}\n",
    "    if isinstance(node.item, dict):\n",
    "        # take care of counters\n",
    "        elements = node.item['_']\n",
    "        my_key = \"<%s-%d-s>\" % (key, node.uid)\n",
    "        alts = [elements]\n",
    "        if len(node.counters) > 1: # repetition\n",
    "            alts.append(elements + [my_key])\n",
    "        return [my_key], {my_key:alts}\n",
    "    else:\n",
    "        return [str(node.item)], {}"
   ]
  },
  {
   "cell_type": "code",
   "execution_count": 548,
   "metadata": {
    "ExecuteTime": {
     "end_time": "2021-10-06T12:59:39.813579Z",
     "start_time": "2021-10-06T12:59:39.805138Z"
    }
   },
   "outputs": [],
   "source": [
    "def node_to_grammar(node, grammar, key):\n",
    "    rule = []\n",
    "    alts = [rule]\n",
    "    if node.uid == 0:\n",
    "        my_key = \"<%s>\" % key\n",
    "    else:\n",
    "        my_key = \"<%s-%d>\" % (key, node.uid)\n",
    "    grammar[my_key] = alts\n",
    "    if node.item is not None:\n",
    "        mk, g = get_star(node, key)\n",
    "        rule.extend(mk)\n",
    "        grammar.update(g)\n",
    "    # is the node last?\n",
    "    if node.last:\n",
    "        assert node.item is not None\n",
    "        # add a duplicate rule that ends here.\n",
    "        ending_rule = list(rule)\n",
    "        # if there are no children, the current rule is\n",
    "        # any way ending.\n",
    "        if node.children:\n",
    "            alts.append(ending_rule)\n",
    "\n",
    "    if node.children:\n",
    "        if len(node.children) > 1:\n",
    "            my_ckey = \"<%s-%d-c>\" % (key, node.uid)\n",
    "            rule.append(my_ckey)\n",
    "            grammar[my_ckey] = [ [\"<%s-%d>\" % (key, c.uid)] for c in node.children]\n",
    "        else:\n",
    "            my_ckey = \"<%s-%d>\" % (key, node.children[0].uid)\n",
    "            rule.append(my_ckey)\n",
    "    else:\n",
    "        pass\n",
    "    for c in node.children:\n",
    "        node_to_grammar(c, grammar, key)\n",
    "    return grammar\n",
    "\n",
    "def generate_grammar(lists, key):\n",
    "    lsts = identify_chunks(lists)\n",
    "    tree = create_tree_with_lsts(lsts)\n",
    "    grammar = {}\n",
    "    node_to_grammar(tree, grammar, key)\n",
    "    return grammar"
   ]
  },
  {
   "cell_type": "markdown",
   "metadata": {},
   "source": [
    "Given a rule, determine the abstraction for it."
   ]
  },
  {
   "cell_type": "code",
   "execution_count": 549,
   "metadata": {
    "ExecuteTime": {
     "end_time": "2021-10-06T12:59:39.820974Z",
     "start_time": "2021-10-06T12:59:39.815738Z"
    }
   },
   "outputs": [],
   "source": [
    "def collapse_alts(rules, k):\n",
    "    ss = [[str(r) for r in rule] for rule in rules]\n",
    "    x = generate_grammar(ss, k[1:-1])\n",
    "    return x"
   ]
  },
  {
   "cell_type": "code",
   "execution_count": 550,
   "metadata": {
    "ExecuteTime": {
     "end_time": "2021-10-06T12:59:39.829130Z",
     "start_time": "2021-10-06T12:59:39.823232Z"
    }
   },
   "outputs": [],
   "source": [
    "def collapse_rules(grammar):\n",
    "    r_grammar = {}\n",
    "    for k in grammar:\n",
    "        new_grammar = collapse_alts(grammar[k], k)\n",
    "        # merge the new_grammar with r_grammar\n",
    "        # we know none of the keys exist in r_grammar because\n",
    "        # new keys are k prefixed.\n",
    "        for k_ in new_grammar:\n",
    "            r_grammar[k_] = new_grammar[k_]\n",
    "    return r_grammar"
   ]
  },
  {
   "cell_type": "code",
   "execution_count": 551,
   "metadata": {
    "ExecuteTime": {
     "end_time": "2021-10-06T12:59:39.836815Z",
     "start_time": "2021-10-06T12:59:39.831838Z"
    }
   },
   "outputs": [],
   "source": [
    "def convert_spaces_in_keys(grammar):\n",
    "    keys = {key: key.replace(' ', '_') for key in grammar}\n",
    "    new_grammar = {}\n",
    "    for key in grammar:\n",
    "        new_alt = []\n",
    "        for rule in grammar[key]:\n",
    "            new_rule = []\n",
    "            for t in rule:\n",
    "                for k in keys:\n",
    "                    t = t.replace(k, keys[k])\n",
    "                new_rule.append(t)\n",
    "            new_alt.append(new_rule)\n",
    "        new_grammar[keys[key]] = new_alt\n",
    "    return new_grammar"
   ]
  },
  {
   "cell_type": "code",
   "execution_count": 552,
   "metadata": {
    "ExecuteTime": {
     "end_time": "2021-10-06T12:59:39.846934Z",
     "start_time": "2021-10-06T12:59:39.838976Z"
    }
   },
   "outputs": [
    {
     "data": {
      "text/plain": [
       "{'<START>': [['<START-1>']],\n",
       " '<START-1>': [['<main.0>']],\n",
       " '<parse_paren.0>': [['<parse_paren.0-1>']],\n",
       " '<parse_paren.0-1>': [['(', '<parse_paren.0-1-c>']],\n",
       " '<parse_paren.0-1-c>': [['<parse_paren.0-2>'], ['<parse_paren.0-4>']],\n",
       " '<parse_paren.0-2>': [['<parse_expr.1>', '<parse_paren.0-3>']],\n",
       " '<parse_paren.0-3>': [[')']],\n",
       " '<parse_paren.0-4>': [['<parse_expr.0>', '<parse_paren.0-5>']],\n",
       " '<parse_paren.0-5>': [[')']],\n",
       " '<main.0>': [['<main.0-1>']],\n",
       " '<main.0-1>': [['<parse_expr.0>']],\n",
       " '<parse_expr.1>': [['<parse_expr.1-1>']],\n",
       " '<parse_expr.1-1>': [['<parse_num.0>']],\n",
       " '<parse_expr.0>': [['<parse_expr.0-0-c>']],\n",
       " '<parse_expr.0-0-c>': [['<parse_expr.0-1>'], ['<parse_expr.0-4>']],\n",
       " '<parse_expr.0-1>': [['<parse_num.0>', '<parse_expr.0-1-c>']],\n",
       " '<parse_expr.0-1-c>': [['<parse_expr.0-2>'],\n",
       "  ['<parse_expr.0-5>'],\n",
       "  ['<parse_expr.0-7>'],\n",
       "  ['<parse_expr.0-11>']],\n",
       " '<parse_expr.0-2>': [['+', '<parse_expr.0-2-c>']],\n",
       " '<parse_expr.0-2-c>': [['<parse_expr.0-3>'], ['<parse_expr.0-13>']],\n",
       " '<parse_expr.0-3>': [['<parse_num.0>']],\n",
       " '<parse_expr.0-13>': [['<parse_paren.0>']],\n",
       " '<parse_expr.0-5>': [['/', '<parse_expr.0-6>']],\n",
       " '<parse_expr.0-6>': [['<parse_num.0>']],\n",
       " '<parse_expr.0-7>': [['*', '<parse_expr.0-8>']],\n",
       " '<parse_expr.0-8>': [['<parse_paren.0>', '<parse_expr.0-9>']],\n",
       " '<parse_expr.0-9>': [['+', '<parse_expr.0-10>']],\n",
       " '<parse_expr.0-10>': [['<parse_paren.0>']],\n",
       " '<parse_expr.0-11>': [['-', '<parse_expr.0-11-c>']],\n",
       " '<parse_expr.0-11-c>': [['<parse_expr.0-12>'], ['<parse_expr.0-14>']],\n",
       " '<parse_expr.0-12>': [['<parse_paren.0>']],\n",
       " '<parse_expr.0-14>': [['<parse_num.0>']],\n",
       " '<parse_expr.0-4>': [['<parse_paren.0>']],\n",
       " '<parse_num.0>': [['<parse_num.0-0-c>']],\n",
       " '<parse_num.0-0-c>': [['<parse_num.0-1>'],\n",
       "  ['<parse_num.0-2>'],\n",
       "  ['<parse_num.0-3>'],\n",
       "  ['<parse_num.0-4>'],\n",
       "  ['<parse_num.0-5>'],\n",
       "  ['<parse_num.0-6>'],\n",
       "  ['<parse_num.0-7>'],\n",
       "  ['<parse_num.0-8>'],\n",
       "  ['<parse_num.0-9>'],\n",
       "  ['<parse_num.0-10>'],\n",
       "  ['<parse_num.0-11>']],\n",
       " '<parse_num.0-1>': [['5']],\n",
       " '<parse_num.0-2>': [['41']],\n",
       " '<parse_num.0-3>': [['234']],\n",
       " '<parse_num.0-4>': [['56']],\n",
       " '<parse_num.0-5>': [['445']],\n",
       " '<parse_num.0-6>': [['2']],\n",
       " '<parse_num.0-7>': [['12']],\n",
       " '<parse_num.0-8>': [['555']],\n",
       " '<parse_num.0-9>': [['34']],\n",
       " '<parse_num.0-10>': [['1']],\n",
       " '<parse_num.0-11>': [['7']]}"
      ]
     },
     "execution_count": 552,
     "metadata": {},
     "output_type": "execute_result"
    }
   ],
   "source": [
    "collapsed_calc_grammar = collapse_rules(calc_grammar)\n",
    "collapsed_calc_grammar"
   ]
  },
  {
   "cell_type": "markdown",
   "metadata": {},
   "source": [
    "### Remove duplicate and redundant entries\n",
    "\n",
    "**IMPORTANT** we indicate things that operate on canonical by _c, and those that operate on fuzzable by _f, and both by _cf\n"
   ]
  },
  {
   "cell_type": "code",
   "execution_count": 553,
   "metadata": {
    "ExecuteTime": {
     "end_time": "2021-10-06T12:59:39.852353Z",
     "start_time": "2021-10-06T12:59:39.849074Z"
    }
   },
   "outputs": [],
   "source": [
    "def first_in_chain(token, chain):\n",
    "    while True:\n",
    "        if token in chain:\n",
    "            token = chain[token]\n",
    "            assert isinstance(token, str)\n",
    "        else:\n",
    "            break\n",
    "    return token"
   ]
  },
  {
   "cell_type": "markdown",
   "metadata": {},
   "source": [
    "Return a new symbol for grammar based on symbol_name."
   ]
  },
  {
   "cell_type": "code",
   "execution_count": 554,
   "metadata": {
    "ExecuteTime": {
     "end_time": "2021-10-06T12:59:39.858072Z",
     "start_time": "2021-10-06T12:59:39.854352Z"
    }
   },
   "outputs": [],
   "source": [
    "def new_symbol(grammar, symbol_name=\"<symbol>\"):\n",
    "    if symbol_name not in grammar:\n",
    "        return symbol_name\n",
    "\n",
    "    count = 1\n",
    "    while True:\n",
    "        tentative_symbol_name = symbol_name[:-1] + \"-\" + repr(count) + \">\"\n",
    "        if tentative_symbol_name not in grammar:\n",
    "            return tentative_symbol_name\n",
    "        count += 1"
   ]
  },
  {
   "cell_type": "markdown",
   "metadata": {},
   "source": [
    "Replace keys that have a single token definition with the token in the defition."
   ]
  },
  {
   "cell_type": "code",
   "execution_count": 555,
   "metadata": {
    "ExecuteTime": {
     "end_time": "2021-10-06T12:59:39.864837Z",
     "start_time": "2021-10-06T12:59:39.860324Z"
    }
   },
   "outputs": [],
   "source": [
    "def replacement_candidate_chains(grammar, ignores):\n",
    "    to_replace = {}\n",
    "    for k in grammar:\n",
    "        if k in ignores: continue\n",
    "        if len(grammar[k]) != 1: continue\n",
    "        rule = grammar[k][0]\n",
    "        if len(rule) != 1: continue\n",
    "        if is_nt(rule[0]):\n",
    "            to_replace[k] = rule[0]\n",
    "        else:\n",
    "            pass\n",
    "    return to_replace"
   ]
  },
  {
   "cell_type": "code",
   "execution_count": 556,
   "metadata": {
    "ExecuteTime": {
     "end_time": "2021-10-06T12:59:39.871374Z",
     "start_time": "2021-10-06T12:59:39.867076Z"
    }
   },
   "outputs": [],
   "source": [
    "def replace_key_by_new_key(grammar, keys_to_replace):\n",
    "    new_grammar = {}\n",
    "    for key in grammar:\n",
    "        new_rules = []\n",
    "        for rule in grammar[key]:\n",
    "            new_rule = [keys_to_replace.get(token, token)\n",
    "                        for token in rule]\n",
    "            new_rules.append(new_rule)\n",
    "        new_grammar[keys_to_replace.get(key, key)] = new_rules\n",
    "    assert len(grammar) == len(new_grammar)\n",
    "    return new_grammar"
   ]
  },
  {
   "cell_type": "code",
   "execution_count": 557,
   "metadata": {
    "ExecuteTime": {
     "end_time": "2021-10-06T12:59:39.878499Z",
     "start_time": "2021-10-06T12:59:39.873405Z"
    }
   },
   "outputs": [],
   "source": [
    "def replace_key_by_key(grammar, keys_to_replace):\n",
    "    new_grammar = {}\n",
    "    for key in grammar:\n",
    "        if key in keys_to_replace: continue\n",
    "        new_rules = []\n",
    "        for rule in grammar[key]:\n",
    "            for t in rule:\n",
    "                assert isinstance(t, str)\n",
    "            new_rule = [first_in_chain(token, keys_to_replace) for token in rule]\n",
    "            new_rules.append(new_rule)\n",
    "        new_grammar[key] = new_rules\n",
    "    return new_grammar"
   ]
  },
  {
   "cell_type": "code",
   "execution_count": 558,
   "metadata": {
    "ExecuteTime": {
     "end_time": "2021-10-06T12:59:39.885145Z",
     "start_time": "2021-10-06T12:59:39.880680Z"
    }
   },
   "outputs": [],
   "source": [
    "def replace_key_by_key(grammar, keys_to_replace):\n",
    "    new_grammar = {}\n",
    "    for key in grammar:\n",
    "        if key in keys_to_replace: continue\n",
    "        new_rules = []\n",
    "        for rule in grammar[key]:\n",
    "            for t in rule:\n",
    "                assert isinstance(t, str)\n",
    "            new_rule = [first_in_chain(token, keys_to_replace) for token in rule]\n",
    "            new_rules.append(new_rule)\n",
    "        new_grammar[key] = new_rules\n",
    "    return new_grammar"
   ]
  },
  {
   "cell_type": "code",
   "execution_count": 559,
   "metadata": {
    "ExecuteTime": {
     "end_time": "2021-10-06T12:59:39.890026Z",
     "start_time": "2021-10-06T12:59:39.887197Z"
    }
   },
   "outputs": [],
   "source": [
    "def remove_single_entries(grammar):\n",
    "    keys_to_replace = replacement_candidate_chains(grammar, {start_symbol, '<main>'})\n",
    "    return replace_key_by_key(grammar, keys_to_replace)"
   ]
  },
  {
   "cell_type": "markdown",
   "metadata": {},
   "source": [
    "Remove keys that have similar rules."
   ]
  },
  {
   "cell_type": "code",
   "execution_count": 560,
   "metadata": {
    "ExecuteTime": {
     "end_time": "2021-10-06T12:59:39.895636Z",
     "start_time": "2021-10-06T12:59:39.891829Z"
    }
   },
   "outputs": [],
   "source": [
    "def collect_duplicate_rule_keys(grammar):\n",
    "    collect = {}\n",
    "    for k in grammar:\n",
    "        salt = str(sorted(grammar[k]))\n",
    "        if salt not in collect:\n",
    "            collect[salt] = (k, set())\n",
    "        else:\n",
    "            collect[salt][1].add(k)\n",
    "    return collect"
   ]
  },
  {
   "cell_type": "code",
   "execution_count": 561,
   "metadata": {
    "ExecuteTime": {
     "end_time": "2021-10-06T12:59:39.901528Z",
     "start_time": "2021-10-06T12:59:39.897596Z"
    }
   },
   "outputs": [],
   "source": [
    "def remove_duplicate_rule_keys(grammar):\n",
    "    g = grammar\n",
    "    while True:\n",
    "        collect = collect_duplicate_rule_keys(g)\n",
    "        keys_to_replace = {}\n",
    "        for salt in collect:\n",
    "            k, st = collect[salt]\n",
    "            for s in st:\n",
    "                keys_to_replace[s] = k\n",
    "        if not keys_to_replace:\n",
    "            break\n",
    "        g = replace_key_by_key(g, keys_to_replace)\n",
    "    return g"
   ]
  },
  {
   "cell_type": "markdown",
   "metadata": {},
   "source": [
    "Remove all the control flow vestiges from names, and simply name them sequentially."
   ]
  },
  {
   "cell_type": "code",
   "execution_count": 562,
   "metadata": {
    "ExecuteTime": {
     "end_time": "2021-10-06T12:59:39.907573Z",
     "start_time": "2021-10-06T12:59:39.903227Z"
    }
   },
   "outputs": [],
   "source": [
    "def collect_replacement_keys(grammar):\n",
    "    g = deep_copy(grammar)\n",
    "    to_replace = {}\n",
    "    for k in grammar:\n",
    "        if ':' in k:\n",
    "            first, rest = k.split(':')\n",
    "            sym = new_symbol(g, symbol_name=first + '>')\n",
    "            assert sym not in g\n",
    "            g[sym] = None\n",
    "            to_replace[k] = sym\n",
    "        else:\n",
    "            continue\n",
    "    return to_replace"
   ]
  },
  {
   "cell_type": "markdown",
   "metadata": {},
   "source": [
    "Remove keys that are referred to only from a single rule, and which have a single alternative. Import. This can't work on canonical representation. First, given a key, we figure out its distance to `<START>`.\n",
    "\n",
    "This is different from `remove_single_entries()` in that, there we do not care if the key is being used multiple times. Here, we only replace keys that are referred to only once."
   ]
  },
  {
   "cell_type": "code",
   "execution_count": 563,
   "metadata": {
    "ExecuteTime": {
     "end_time": "2021-10-06T12:59:39.912130Z",
     "start_time": "2021-10-06T12:59:39.909516Z"
    }
   },
   "outputs": [],
   "source": [
    "import math"
   ]
  },
  {
   "cell_type": "code",
   "execution_count": 564,
   "metadata": {
    "ExecuteTime": {
     "end_time": "2021-10-06T12:59:39.918019Z",
     "start_time": "2021-10-06T12:59:39.914113Z"
    }
   },
   "outputs": [],
   "source": [
    "def len_to_start(item, parents, start_symbol, seen=None):\n",
    "    if seen is None: seen = set()\n",
    "    if item in seen: return math.inf\n",
    "    seen.add(item)\n",
    "    if item == start_symbol: return 0\n",
    "    else: return 1 + min(len_to_start(p, parents, start_symbol, seen)\n",
    "                         for p in parents[item])"
   ]
  },
  {
   "cell_type": "code",
   "execution_count": 565,
   "metadata": {
    "ExecuteTime": {
     "end_time": "2021-10-06T12:59:39.922798Z",
     "start_time": "2021-10-06T12:59:39.919651Z"
    }
   },
   "outputs": [],
   "source": [
    "def order_by_length_to_start(items, parent_map, start_symbol):\n",
    "    return sorted(items, key=lambda i: len_to_start(i, parent_map, start_symbol))"
   ]
  },
  {
   "cell_type": "markdown",
   "metadata": {},
   "source": [
    "Next, we generate a map of `child -> [parents]`."
   ]
  },
  {
   "cell_type": "code",
   "execution_count": 566,
   "metadata": {
    "ExecuteTime": {
     "end_time": "2021-10-06T12:59:39.929642Z",
     "start_time": "2021-10-06T12:59:39.924594Z"
    }
   },
   "outputs": [],
   "source": [
    "def get_parents_of_tokens(grammar, key, seen=None, parents=None):\n",
    "    if parents is None: parents, seen = {}, set()\n",
    "    if key in seen: return parents\n",
    "    seen.add(key)\n",
    "    for res in grammar[key]:\n",
    "        for token in res:\n",
    "            if not is_nt(token): continue\n",
    "            parents.setdefault(token, []).append(key)\n",
    "    for ckey in {i for i in  grammar if i not in seen}:\n",
    "        get_parents_of_tokens(grammar, ckey, seen, parents)\n",
    "    return parents"
   ]
  },
  {
   "cell_type": "code",
   "execution_count": 567,
   "metadata": {
    "ExecuteTime": {
     "end_time": "2021-10-06T12:59:39.937042Z",
     "start_time": "2021-10-06T12:59:39.931450Z"
    }
   },
   "outputs": [],
   "source": [
    "def remove_references(keys_to_replace):\n",
    "    to_process = list(keys_to_replace.keys())\n",
    "    updated_dict = {}\n",
    "    references = {}\n",
    "    order = []\n",
    "    while to_process:\n",
    "        key, *to_process = to_process\n",
    "        rule = keys_to_replace[key]\n",
    "        new_rule = []\n",
    "        skip = False\n",
    "        for token in rule:\n",
    "            if token not in updated_dict:\n",
    "                if token in to_process:\n",
    "                    # so this token will get defined later. We simply postpone\n",
    "                    # the processing of this key until that key is defined.\n",
    "                    # TODO: check for cycles.\n",
    "                    to_process.append(key)\n",
    "                    references.setdefault(token, set()).add(key)\n",
    "                    skip = True\n",
    "                    break\n",
    "                else:\n",
    "                    new_rule.append(token)\n",
    "            else:\n",
    "                new_rule.extend(updated_dict[token])\n",
    "        if not skip:\n",
    "            order.append(key)\n",
    "            updated_dict[key] = new_rule\n",
    "    return updated_dict"
   ]
  },
  {
   "cell_type": "code",
   "execution_count": 568,
   "metadata": {
    "ExecuteTime": {
     "end_time": "2021-10-06T12:59:39.943632Z",
     "start_time": "2021-10-06T12:59:39.938830Z"
    }
   },
   "outputs": [],
   "source": [
    "def replace_keys_by_rule(grammar, keys_to_replace):\n",
    "    # we now need to verify that none of the keys are part of the sequences.\n",
    "    keys_to_replace = remove_references(keys_to_replace)\n",
    "\n",
    "    new_grammar = {}\n",
    "    for key in grammar:\n",
    "        if key in keys_to_replace: continue\n",
    "\n",
    "        new_rules = []\n",
    "        for rule in grammar[key]:\n",
    "            new_rule = []\n",
    "            for token in rule:\n",
    "                if token in keys_to_replace:\n",
    "                    new_rule.extend(keys_to_replace[token])\n",
    "                else:\n",
    "                    new_rule.append(token)\n",
    "            new_rules.append(new_rule)\n",
    "        new_grammar[key] = new_rules\n",
    "    return new_grammar"
   ]
  },
  {
   "cell_type": "markdown",
   "metadata": {},
   "source": [
    "Now, all together."
   ]
  },
  {
   "cell_type": "code",
   "execution_count": 569,
   "metadata": {
    "ExecuteTime": {
     "end_time": "2021-10-06T12:59:39.951381Z",
     "start_time": "2021-10-06T12:59:39.945524Z"
    }
   },
   "outputs": [],
   "source": [
    "def remove_single_alts(grammar, start_symbol):\n",
    "    single_alts = {p for p in grammar if len(grammar[p]) == 1 and p != start_symbol}\n",
    "\n",
    "    child_parent_map = get_parents_of_tokens(grammar, start_symbol)\n",
    "    assert len(child_parent_map) < len(grammar)\n",
    "\n",
    "    single_refs = {p:child_parent_map[p] for p in single_alts if len(child_parent_map[p]) <= 1}\n",
    "\n",
    "    ordered = order_by_length_to_start(single_refs, child_parent_map, start_symbol)\n",
    "\n",
    "    for p in ordered:\n",
    "        assert len(grammar[p]) == 1\n",
    "        if not isinstance(grammar[p][0], str):\n",
    "            print(p, grammar[p][0])\n",
    "\n",
    "    keys_to_replace = {p:grammar[p][0] for p in ordered}\n",
    "    g =  replace_keys_by_rule(grammar, keys_to_replace)\n",
    "    return g"
   ]
  },
  {
   "cell_type": "markdown",
   "metadata": {},
   "source": [
    "remove similar rules from under a single key"
   ]
  },
  {
   "cell_type": "code",
   "execution_count": 570,
   "metadata": {
    "ExecuteTime": {
     "end_time": "2021-10-06T12:59:39.956823Z",
     "start_time": "2021-10-06T12:59:39.953031Z"
    }
   },
   "outputs": [],
   "source": [
    "def len_rule(r): return len(r)\n",
    "def len_definition(d): return sum([len_rule(r) for r in d])\n",
    "def len_grammar(g): return sum([len_definition(g[k]) for k in g])"
   ]
  },
  {
   "cell_type": "code",
   "execution_count": 571,
   "metadata": {
    "ExecuteTime": {
     "end_time": "2021-10-06T12:59:39.962065Z",
     "start_time": "2021-10-06T12:59:39.958657Z"
    }
   },
   "outputs": [],
   "source": [
    "def remove_duplicate_rules_in_a_key(g):\n",
    "    g_ = {}\n",
    "    for k in g:\n",
    "        s = {str(r):r for r in g[k]}\n",
    "        g_[k] = list(sorted(list(s.values())))\n",
    "    return g_"
   ]
  },
  {
   "cell_type": "code",
   "execution_count": 572,
   "metadata": {
    "ExecuteTime": {
     "end_time": "2021-10-06T12:59:39.969707Z",
     "start_time": "2021-10-06T12:59:39.963940Z"
    }
   },
   "outputs": [],
   "source": [
    "def grammar_gc(grammar, start_symbol):\n",
    "    def strip_key(grammar, key, order):\n",
    "        rules = sorted(grammar[key])\n",
    "        old_len = len(order)\n",
    "        for rule in rules:\n",
    "            for token in rule:\n",
    "                if is_nt(token):\n",
    "                    if token not in order:\n",
    "                        order.append(token)\n",
    "        new = order[old_len:]\n",
    "        for ckey in new:\n",
    "            strip_key(grammar, ckey, order)\n",
    "\n",
    "    order = [start_symbol]\n",
    "    strip_key(grammar, start_symbol, order)\n",
    "    assert len(order) == len(grammar.keys())\n",
    "    g = {k: sorted(grammar[k]) for k in order}\n",
    "    for k in g:\n",
    "        for r in g[k]:\n",
    "            for t in r:\n",
    "                assert isinstance(t, str)\n",
    "    return g"
   ]
  },
  {
   "cell_type": "code",
   "execution_count": 573,
   "metadata": {
    "ExecuteTime": {
     "end_time": "2021-10-06T12:59:39.975113Z",
     "start_time": "2021-10-06T12:59:39.971477Z"
    }
   },
   "outputs": [],
   "source": [
    "def cleanup_grammar(g, start_symbol):\n",
    "    g = grammar_gc(g, start_symbol)\n",
    "    #g1 = check_empty_rules(g) # add optional rules\n",
    "    g1 = grammar_gc(g, start_symbol)\n",
    " \n",
    "    g2 = collapse_rules(g1) # learn regex\n",
    "    g2 = grammar_gc(g2, start_symbol)\n",
    "\n",
    "    g3 = convert_spaces_in_keys(g2) # fuzzable grammar\n",
    "    g3 = grammar_gc(g3, start_symbol)\n",
    "    return g3"
   ]
  },
  {
   "cell_type": "code",
   "execution_count": 574,
   "metadata": {
    "ExecuteTime": {
     "end_time": "2021-10-06T12:59:39.980131Z",
     "start_time": "2021-10-06T12:59:39.976907Z"
    }
   },
   "outputs": [],
   "source": [
    "def remove_single_entry_chains(grammar, start_symbol):\n",
    "    keys_to_replace = replacement_candidate_chains(grammar, {start_symbol, '<main>'})\n",
    "    return replace_key_by_key(grammar, keys_to_replace)"
   ]
  },
  {
   "cell_type": "code",
   "execution_count": 575,
   "metadata": {
    "ExecuteTime": {
     "end_time": "2021-10-06T12:59:39.984775Z",
     "start_time": "2021-10-06T12:59:39.981925Z"
    }
   },
   "outputs": [],
   "source": [
    "def cleanup_token_names(grammar):\n",
    "    keys_to_replace = collect_replacement_keys(grammar)\n",
    "    g = replace_key_by_new_key(grammar, keys_to_replace)\n",
    "    return g"
   ]
  },
  {
   "cell_type": "code",
   "execution_count": 576,
   "metadata": {
    "ExecuteTime": {
     "end_time": "2021-10-06T12:59:39.990130Z",
     "start_time": "2021-10-06T12:59:39.986417Z"
    }
   },
   "outputs": [],
   "source": [
    "def remove_self_definitions(g):\n",
    "    g_ = {}\n",
    "    for k in g:\n",
    "        rs_ = []\n",
    "        for r in g[k]:\n",
    "            assert not isinstance(r, str)\n",
    "            if len(r) == 1 and r[0] == k: continue\n",
    "            rs_.append(r)\n",
    "        g_[k] = rs_\n",
    "    return g_"
   ]
  },
  {
   "cell_type": "code",
   "execution_count": 577,
   "metadata": {
    "ExecuteTime": {
     "end_time": "2021-10-06T12:59:39.997537Z",
     "start_time": "2021-10-06T12:59:39.991679Z"
    }
   },
   "outputs": [],
   "source": [
    "def compact_grammar(e, start_symbol):\n",
    "    assert start_symbol in e\n",
    "    l = len_grammar(e)\n",
    "    diff = 1\n",
    "    while diff > 0:\n",
    "        assert start_symbol in e\n",
    "        e = remove_single_entry_chains(e, start_symbol)\n",
    "        e = grammar_gc(e, start_symbol) # garbage collect\n",
    "\n",
    "        e = remove_duplicate_rule_keys(e)\n",
    "        e = grammar_gc(e, start_symbol) # garbage collect\n",
    "\n",
    "        e = cleanup_token_names(e)\n",
    "        e = grammar_gc(e, start_symbol) # garbage collect\n",
    "\n",
    "        e = remove_single_alts(e, start_symbol)\n",
    "        e = grammar_gc(e, start_symbol) # garbage collect\n",
    "\n",
    "        e = remove_duplicate_rules_in_a_key(e)\n",
    "        e = grammar_gc(e, start_symbol) # garbage collect\n",
    "\n",
    "        e = remove_self_definitions(e)\n",
    "        e = grammar_gc(e, start_symbol) # garbage collect\n",
    "\n",
    "        l_ = len_grammar(e)\n",
    "        diff = l - l_\n",
    "        l = l_\n",
    "    e = grammar_gc(e, start_symbol)\n",
    "    return e\n"
   ]
  },
  {
   "cell_type": "code",
   "execution_count": 578,
   "metadata": {
    "ExecuteTime": {
     "end_time": "2021-10-06T12:59:40.013550Z",
     "start_time": "2021-10-06T12:59:39.999485Z"
    }
   },
   "outputs": [
    {
     "name": "stdout",
     "output_type": "stream",
     "text": [
      "<parse_expr.0-1> ['<parse_num.0-0-c>', '<parse_expr.0-1-c>']\n",
      "<parse_expr.0-7> ['*', '<parse_expr.0-8>']\n",
      "<parse_expr.0-5> ['/', '<parse_num.0-0-c>']\n",
      "<parse_expr.0-11> ['-', '<parse_expr.0-11-c>']\n",
      "<parse_expr.0-2> ['+', '<parse_expr.0-11-c>']\n",
      "<parse_expr.0-8> ['<parse_paren.0-1>', '<parse_expr.0-9>']\n",
      "<parse_expr.0-9> ['+', '<parse_paren.0-1>']\n",
      "<parse_paren.0-2> ['<parse_num.0-0-c>', '<parse_paren.0-3>']\n",
      "<parse_paren.0-4> ['<parse_expr.0-0-c>', '<parse_paren.0-3>']\n",
      "<parse_num.0-9> ['34']\n",
      "<parse_num.0-4> ['56']\n",
      "<parse_num.0-11> ['7']\n",
      "<parse_num.0-7> ['12']\n",
      "<parse_num.0-5> ['445']\n",
      "<parse_num.0-8> ['555']\n",
      "<parse_num.0-1> ['5']\n",
      "<parse_num.0-2> ['41']\n",
      "<parse_num.0-6> ['2']\n",
      "<parse_num.0-3> ['234']\n",
      "<parse_num.0-10> ['1']\n"
     ]
    },
    {
     "data": {
      "text/plain": [
       "{'<START>': [['<parse_expr.0-0-c>']],\n",
       " '<parse_expr.0-0-c>': [['<parse_num.0-0-c>', '<parse_expr.0-1-c>'],\n",
       "  ['<parse_paren.0-1>']],\n",
       " '<parse_num.0-0-c>': [['1'],\n",
       "  ['12'],\n",
       "  ['2'],\n",
       "  ['234'],\n",
       "  ['34'],\n",
       "  ['41'],\n",
       "  ['445'],\n",
       "  ['5'],\n",
       "  ['555'],\n",
       "  ['56'],\n",
       "  ['7']],\n",
       " '<parse_expr.0-1-c>': [['*', '<parse_paren.0-1>', '+', '<parse_paren.0-1>'],\n",
       "  ['+', '<parse_expr.0-11-c>'],\n",
       "  ['-', '<parse_expr.0-11-c>'],\n",
       "  ['/', '<parse_num.0-0-c>']],\n",
       " '<parse_paren.0-1>': [['(', '<parse_paren.0-1-c>']],\n",
       " '<parse_expr.0-11-c>': [['<parse_num.0-0-c>'], ['<parse_paren.0-1>']],\n",
       " '<parse_paren.0-1-c>': [['<parse_expr.0-0-c>', '<parse_paren.0-3>'],\n",
       "  ['<parse_num.0-0-c>', '<parse_paren.0-3>']],\n",
       " '<parse_paren.0-3>': [[')']]}"
      ]
     },
     "execution_count": 578,
     "metadata": {},
     "output_type": "execute_result"
    }
   ],
   "source": [
    "compact_grammar(collapsed_calc_grammar, start_symbol='<START>')"
   ]
  },
  {
   "cell_type": "markdown",
   "metadata": {},
   "source": [
    "## Output Grammar"
   ]
  },
  {
   "cell_type": "code",
   "execution_count": 579,
   "metadata": {
    "ExecuteTime": {
     "end_time": "2021-10-06T12:59:40.018058Z",
     "start_time": "2021-10-06T12:59:40.015409Z"
    }
   },
   "outputs": [],
   "source": [
    "import jsonpickle\n",
    "from fuzzingbook.Parser import non_canonical, canonical"
   ]
  },
  {
   "cell_type": "code",
   "execution_count": 580,
   "metadata": {
    "ExecuteTime": {
     "end_time": "2021-10-06T12:59:40.035607Z",
     "start_time": "2021-10-06T12:59:40.020272Z"
    }
   },
   "outputs": [],
   "source": [
    "def binary_miner(seeds, executable, flag=None):\n",
    "    call_trace = []\n",
    "    for inp in seeds:\n",
    "        arg0 = \"\\\"py arg0='%s'\\\"\" % inp\n",
    "        arg1 = '\\'py arg1=\"%s\"\\'' % executable\n",
    "        \n",
    "        with open(f'inp.0.txt', 'w+') as f:\n",
    "            print(inp, file=f)\n",
    "        \n",
    "        if flag:\n",
    "            !gcc -g {executable} {flag}\n",
    "            with open(f'flag.txt', 'w+') as f:\n",
    "                print(flag, file=f)\n",
    "        else:\n",
    "            !gcc -g {executable}       \n",
    "        \n",
    "        !gdb --batch-silent -ex {arg1} -x BMiner.py\n",
    "        with open(f'tree', 'rb') as f:\n",
    "            call_trace.append((jsonpickle.decode(f.read())))\n",
    "            \n",
    "    mined_tree = miner(call_trace)   \n",
    "    reset_generalizer()\n",
    "    generalized_m_tree = generalize_method_trees(mined_tree)\n",
    "    reset_generalizer()\n",
    "    \n",
    "    g0 = convert_to_grammar(generalized_m_tree)\n",
    "    g = cleanup_grammar(g0, start_symbol='<START>')\n",
    "    g = compact_grammar(g, start_symbol='<START>')\n",
    "    return show_grammar(non_canonical(g), canonical=False)"
   ]
  },
  {
   "cell_type": "code",
   "execution_count": 581,
   "metadata": {
    "ExecuteTime": {
     "end_time": "2021-10-06T13:00:41.110417Z",
     "start_time": "2021-10-06T12:59:40.037597Z"
    },
    "scrolled": false
   },
   "outputs": [
    {
     "name": "stdout",
     "output_type": "stream",
     "text": [
      "<parse_expr.0-1> ['<parse_num.0-0-c>', '<parse_expr.0-1-c>']\n",
      "<parse_expr.0-2> ['*', '<parse_expr.0-3>']\n",
      "<parse_expr.0-6> ['/', '<parse_num.0-0-c>']\n",
      "<parse_expr.0-3> ['<parse_num.0-0-c>', '<parse_expr.0-4>']\n",
      "<parse_expr.0-4> ['-', '<parse_num.0-0-c>']\n",
      "<parse_num.0-5> ['7']\n",
      "<parse_num.0-3> ['4']\n",
      "<parse_num.0-4> ['6']\n",
      "<parse_num.0-1> ['1']\n",
      "<parse_num.0-2> ['2']\n"
     ]
    },
    {
     "data": {
      "text/plain": [
       "{'<START>': ['<parse_num.0-0-c><parse_expr.0-1-c>'],\n",
       " '<parse_num.0-0-c>': ['1', '2', '4', '6', '7'],\n",
       " '<parse_expr.0-1-c>': ['*<parse_num.0-0-c>-<parse_num.0-0-c>',\n",
       "  '/<parse_num.0-0-c>']}"
      ]
     },
     "execution_count": 581,
     "metadata": {},
     "output_type": "execute_result"
    }
   ],
   "source": [
    "binary_miner(['1*2-7', '4/6'], 'subject/calc/calc.c')"
   ]
  },
  {
   "cell_type": "code",
   "execution_count": 582,
   "metadata": {
    "ExecuteTime": {
     "end_time": "2021-10-06T13:00:50.040397Z",
     "start_time": "2021-10-06T13:00:41.116606Z"
    }
   },
   "outputs": [
    {
     "name": "stdout",
     "output_type": "stream",
     "text": [
      "<mini_fparse_cb.0-1> ['a', '<mini_fparse_cb.0-2>']\n",
      "<mini_fparse_cb.0-4> ['c', '<mini_fparse_cb.0-5>']\n",
      "<mini_fparse_cb.0-2> ['<mini_next.0-1>', '<mini_fparse_cb.0-3>']\n",
      "<mini_fparse_cb.0-5> ['<mini_next.0-1>', '<mini_fparse_cb.0-6>']\n",
      "<mini_fparse_cb.0-3> ['3']\n",
      "<mini_fparse_cb.0-6> ['7']\n"
     ]
    },
    {
     "data": {
      "text/plain": [
       "{'<START>': ['<mini_fparse_cb.0-0-c>'],\n",
       " '<mini_fparse_cb.0-0-c>': ['a<mini_next.0-1>3', 'c<mini_next.0-1>7'],\n",
       " '<mini_next.0-1>': ['=']}"
      ]
     },
     "execution_count": 582,
     "metadata": {},
     "output_type": "execute_result"
    }
   ],
   "source": [
    "binary_miner(['a=3', 'c=7'], 'subject/ini/mini.c')"
   ]
  },
  {
   "cell_type": "markdown",
   "metadata": {},
   "source": [
    "# Evaluation"
   ]
  },
  {
   "cell_type": "markdown",
   "metadata": {},
   "source": [
    "## Initialization"
   ]
  },
  {
   "cell_type": "code",
   "execution_count": 175,
   "metadata": {
    "ExecuteTime": {
     "end_time": "2021-09-18T21:21:50.105555Z",
     "start_time": "2021-09-18T21:21:50.096798Z"
    }
   },
   "outputs": [],
   "source": [
    "Max_Precision = 1000\n",
    "Max_Recall = 1000\n",
    "BMiner = {}\n",
    "BMinerFuzz = {}\n",
    "BMinerGrammar = {}\n",
    "MaxTimeout = 60*60*24 # 2 day\n",
    "MaxParseTimeout = 60*5\n",
    "CHECK = {'calculator', 'json', 'url', 'csv', 'tinyexpr', 'ini'}"
   ]
  },
  {
   "cell_type": "code",
   "execution_count": 176,
   "metadata": {
    "ExecuteTime": {
     "end_time": "2021-09-18T21:21:50.117285Z",
     "start_time": "2021-09-18T21:21:50.113237Z"
    }
   },
   "outputs": [],
   "source": [
    "def clean_build():\n",
    "    !rm a.out inp.0.txt gdb.txt updated_comparisons tree \\\n",
    "    comparison.txt check flag.txt"
   ]
  },
  {
   "cell_type": "markdown",
   "metadata": {},
   "source": [
    "### Check Recall\n",
    "\n",
    "How many of the *valid* inputs from the golden grammar can be recognized by a parser using our grammar?"
   ]
  },
  {
   "cell_type": "code",
   "execution_count": 177,
   "metadata": {
    "ExecuteTime": {
     "end_time": "2021-09-18T21:21:50.309587Z",
     "start_time": "2021-09-18T21:21:50.306954Z"
    }
   },
   "outputs": [],
   "source": [
    "from fuzzingbook.Parser import IterativeEarleyParser"
   ]
  },
  {
   "cell_type": "code",
   "execution_count": 867,
   "metadata": {
    "ExecuteTime": {
     "end_time": "2021-10-04T04:16:01.344234Z",
     "start_time": "2021-10-04T04:16:01.336954Z"
    }
   },
   "outputs": [],
   "source": [
    "def check_recall(golden_grammar,\n",
    "                 my_grammar,\n",
    "                 maximum=Max_Recall,\n",
    "                 start_symbol='<START>',\n",
    "                 log=False):\n",
    "    my_count = maximum\n",
    "    ie = IterativeEarleyParser(my_grammar, start_symbol=start_symbol)\n",
    "    golden = GrammarFuzzer(golden_grammar, start_symbol=start_symbol)\n",
    "    success = 0\n",
    "    while my_count != 0:\n",
    "        src = golden.fuzz()\n",
    "        try:\n",
    "            my_count -= 1\n",
    "            try:\n",
    "                for tree in ie.parse(src):\n",
    "                    success += 1\n",
    "                    break\n",
    "                if log:\n",
    "                    print(maximum - my_count,\n",
    "                          '+',\n",
    "                          repr(src),\n",
    "                          success,\n",
    "                          file=sys.stderr)\n",
    "            except:\n",
    "                if log:\n",
    "                    print(maximum - my_count, '-', repr(src), file=sys.stderr)\n",
    "                pass\n",
    "        except:\n",
    "            pass\n",
    "    return (success, maximum)"
   ]
  },
  {
   "cell_type": "markdown",
   "metadata": {},
   "source": [
    "### Check Precision\n",
    "How many of the inputs produced using our grammar are valid? (Accepted by the program)."
   ]
  },
  {
   "cell_type": "code",
   "execution_count": 179,
   "metadata": {
    "ExecuteTime": {
     "end_time": "2021-09-18T21:21:50.577857Z",
     "start_time": "2021-09-18T21:21:50.575262Z"
    }
   },
   "outputs": [],
   "source": [
    "from fuzzingbook.ExpectError import ExpectError, ExpectTimeout"
   ]
  },
  {
   "cell_type": "code",
   "execution_count": 376,
   "metadata": {
    "ExecuteTime": {
     "end_time": "2021-09-22T20:37:17.107060Z",
     "start_time": "2021-09-22T20:37:17.098778Z"
    }
   },
   "outputs": [],
   "source": [
    "check_it_src = '''\n",
    "import gdb, subprocess, os\n",
    "\n",
    "flag = None\n",
    "if os.path.exists('flag.txt'):\n",
    "    with open(f'flag.txt', 'r+') as f:\n",
    "        flag = f.read().strip()\n",
    "        subprocess.call(['gcc', '-g', arg0, flag])\n",
    "else:\n",
    "    subprocess.call(['gcc', '-g', arg0])\n",
    "\n",
    "arg_0 = None\n",
    "with open(f'inp.0.txt', 'r+') as f:\n",
    "    arg_0 = f.read().strip()\n",
    "\n",
    "gdb.execute('file a.out')\n",
    "gdb.execute(\"set args '%s'\" % arg_0)\n",
    "gdb.execute('run')\n",
    "'''\n",
    "with open('check_it.py', 'w+') as f:\n",
    "    print(check_it_src, file=f)"
   ]
  },
  {
   "cell_type": "code",
   "execution_count": 378,
   "metadata": {
    "ExecuteTime": {
     "end_time": "2021-09-22T20:38:56.440927Z",
     "start_time": "2021-09-22T20:38:56.424555Z"
    }
   },
   "outputs": [],
   "source": [
    "import subprocess\n",
    "\n",
    "\n",
    "def check_it(s, module):\n",
    "    with open(f'inp.0.txt', 'w+') as f:\n",
    "        print(s, file=f)\n",
    "\n",
    "    result = subprocess.Popen([\n",
    "        'gdb', 'batch-silent', '-ex',\n",
    "        'py arg0=\"%s\"' % module, '-x', 'check_it.py'\n",
    "    ],\n",
    "                              stdin=subprocess.PIPE,\n",
    "                              stdout=subprocess.PIPE,\n",
    "                              stderr=subprocess.STDOUT)\n",
    "    stdout, stderr = result.communicate()\n",
    "    stdout = stdout.decode('utf-8')\n",
    "    return stdout.endswith('exited normally]\\n(gdb) quit\\n')"
   ]
  },
  {
   "cell_type": "code",
   "execution_count": 914,
   "metadata": {
    "ExecuteTime": {
     "end_time": "2021-10-04T17:52:27.749480Z",
     "start_time": "2021-10-04T17:52:27.740131Z"
    }
   },
   "outputs": [],
   "source": [
    "def check_precision(name,\n",
    "                    grammar,\n",
    "                    maximum=Max_Precision,\n",
    "                    start_symbol='<START>',\n",
    "                    log=False):\n",
    "    success = 0\n",
    "    with ExpectError():\n",
    "        fuzzer = GrammarFuzzer(grammar, start_symbol)\n",
    "        for i in range(maximum):\n",
    "            v = fuzzer.fuzz()\n",
    "            c = check_it(v, name)\n",
    "            success += (1 if c else 0)\n",
    "            if log: print(i, repr(v), c)\n",
    "    return (success, maximum)"
   ]
  },
  {
   "cell_type": "code",
   "execution_count": 368,
   "metadata": {
    "ExecuteTime": {
     "end_time": "2021-09-22T19:17:11.635019Z",
     "start_time": "2021-09-22T19:17:11.626550Z"
    }
   },
   "outputs": [],
   "source": [
    "class timeit():\n",
    "    def __enter__(self):\n",
    "        self.tic = datetime.now()\n",
    "        return self\n",
    "\n",
    "    def __exit__(self, *args, **kwargs):\n",
    "        self.delta = datetime.now() - self.tic\n",
    "        self.runtime = (self.delta.microseconds, self.delta)"
   ]
  },
  {
   "cell_type": "markdown",
   "metadata": {},
   "source": [
    "### Timer"
   ]
  },
  {
   "cell_type": "code",
   "execution_count": 184,
   "metadata": {
    "ExecuteTime": {
     "end_time": "2021-09-18T21:21:50.852831Z",
     "start_time": "2021-09-18T21:21:50.850258Z"
    }
   },
   "outputs": [],
   "source": [
    "from datetime import datetime\n",
    "from fuzzingbook.GrammarFuzzer import GrammarFuzzer"
   ]
  },
  {
   "cell_type": "markdown",
   "metadata": {},
   "source": [
    "## Subjects"
   ]
  },
  {
   "cell_type": "code",
   "execution_count": 185,
   "metadata": {
    "ExecuteTime": {
     "end_time": "2021-09-18T21:21:51.067777Z",
     "start_time": "2021-09-18T21:21:51.065119Z"
    }
   },
   "outputs": [],
   "source": [
    "BMiner_p = {}\n",
    "BMiner_r = {}\n",
    "\n",
    "BMiner_t ={}"
   ]
  },
  {
   "cell_type": "markdown",
   "metadata": {},
   "source": [
    "### Calculator"
   ]
  },
  {
   "cell_type": "markdown",
   "metadata": {},
   "source": [
    "####  Golden Grammar"
   ]
  },
  {
   "cell_type": "code",
   "execution_count": 834,
   "metadata": {
    "ExecuteTime": {
     "end_time": "2021-10-03T20:12:17.538918Z",
     "start_time": "2021-10-03T20:12:17.530074Z"
    }
   },
   "outputs": [],
   "source": [
    "calc_golden = {\n",
    "    \"<START>\": [\"<expr>\"],\n",
    "    \"<expr>\": [\"<term>+<expr>\", \"<term>-<expr>\", \"<term>\"],\n",
    "    \"<term>\": [\"<factor>*<term>\", \"<factor>/<term>\", \"<factor>\"],\n",
    "    \"<factor>\": [\"(<expr>)\", \"<number>\"],\n",
    "    \"<number>\": [\"<integer><number>\", \"<integer>\"],\n",
    "    \"<integer>\": [\"<digit><integer>\", \"<digit>\"],\n",
    "    \"<digit>\": [\"0\", \"1\", \"2\", \"3\", \"4\", \"5\", \"6\", \"7\", \"8\", \"9\"]\n",
    "}"
   ]
  },
  {
   "cell_type": "markdown",
   "metadata": {},
   "source": [
    "#### Samples"
   ]
  },
  {
   "cell_type": "code",
   "execution_count": 746,
   "metadata": {
    "ExecuteTime": {
     "end_time": "2021-10-02T18:25:42.554150Z",
     "start_time": "2021-10-02T18:25:42.545108Z"
    }
   },
   "outputs": [],
   "source": [
    "calc_samples = [\n",
    "    i.strip() for i in '''\\\n",
    "123+456\n",
    "(1+2)*3/(423))\n",
    "(123+133*(12-3)/9+8)+33\n",
    "(100)\n",
    "21*3\n",
    "33/44+2\n",
    "100\n",
    "23*234*22*4\n",
    "1+2\n",
    "31/20-2\n",
    "555+(234-445)\n",
    "1-(41/2)\n",
    "443-334+33-222\n",
    "'''.split('\\n') if i.strip()\n",
    "]"
   ]
  },
  {
   "cell_type": "code",
   "execution_count": 747,
   "metadata": {
    "ExecuteTime": {
     "end_time": "2021-10-02T20:42:03.946633Z",
     "start_time": "2021-10-02T18:25:44.701032Z"
    },
    "scrolled": false
   },
   "outputs": [
    {
     "name": "stdout",
     "output_type": "stream",
     "text": [
      "<parse_expr.0-2> ['<parse_expr.0-2-s>', '<parse_num.0-0-c>']\n",
      "<parse_num.0-25> ['8']\n",
      "<parse_num.0-20> ['44']\n",
      "<parse_num.0-7> ['20']\n",
      "<parse_num.0-5> ['133']\n",
      "<parse_num.0-1> ['1']\n",
      "<parse_num.0-3> ['12']\n",
      "<parse_num.0-22> ['445']\n",
      "<parse_num.0-15> ['33']\n",
      "<parse_num.0-21> ['443']\n",
      "<parse_num.0-18> ['41']\n",
      "<parse_num.0-9> ['22']\n",
      "<parse_num.0-19> ['423']\n",
      "<parse_num.0-10> ['222']\n",
      "<parse_num.0-6> ['2']\n",
      "<parse_num.0-14> ['31']\n",
      "<parse_num.0-12> ['234']\n",
      "<parse_num.0-16> ['334']\n",
      "<parse_expr.0-20> ['/', '<parse_expr.0-21>']\n",
      "<parse_expr.0-27> ['<parse_expr.0-27-s>', '<parse_expr.0-28>']\n",
      "<parse_num.0-4> ['123']\n",
      "<parse_num.0-11> ['23']\n",
      "<parse_expr.0-13> ['-', '<parse_expr.0-13-c>']\n",
      "<parse_num.0-13> ['3']\n",
      "<parse_num.0-23> ['456']\n",
      "<parse_expr.0-4> ['+', '<parse_expr.0-4-c>']\n",
      "<parse_num.0-26> ['9']\n",
      "<parse_num.0-17> ['4']\n",
      "<parse_num.0-2> ['100']\n",
      "<parse_num.0-24> ['555']\n",
      "<parse_num.0-8> ['21']\n",
      "<parse_expr.0-28> ['/', '<parse_expr.0-29>']\n",
      "<parse_expr.0-29> ['<parse_paren.0-1>', '<parse_paren.0-3>']\n",
      "<parse_expr.0-6> ['<parse_expr.0-6-s>', '<parse_expr.0-7>']\n",
      "<parse_expr.0-15> ['+', '<parse_expr.0-16>']\n",
      "<parse_expr.0-7> ['<parse_paren.0-1>', '<parse_expr.0-8>']\n",
      "<parse_expr.0-8> ['/', '<parse_expr.0-9>']\n",
      "<parse_expr.0-16> ['<parse_num.0-0-c>', '<parse_expr.0-17>']\n",
      "<parse_paren.0-2> ['<parse_expr.0-0-c>', '<parse_paren.0-3>']\n",
      "<parse_expr.0-9> ['<parse_num.0-0-c>', '<parse_expr.0-22>']\n"
     ]
    },
    {
     "data": {
      "text/plain": [
       "{'<START>': [['<parse_expr.0-0-c>']],\n",
       " '<parse_expr.0-0-c>': [['<parse_expr.0-1>'],\n",
       "  ['<parse_expr.0-2-s>', '<parse_num.0-0-c>'],\n",
       "  ['<parse_expr.0-26>']],\n",
       " '<parse_expr.0-1>': [['<parse_num.0-0-c>'],\n",
       "  ['<parse_num.0-0-c>', '<parse_expr.0-1-c>']],\n",
       " '<parse_expr.0-2-s>': [['<parse_num.0-0-c>', '*'],\n",
       "  ['<parse_num.0-0-c>', '*', '<parse_expr.0-2-s>']],\n",
       " '<parse_num.0-0-c>': [['1'],\n",
       "  ['100'],\n",
       "  ['12'],\n",
       "  ['123'],\n",
       "  ['133'],\n",
       "  ['2'],\n",
       "  ['20'],\n",
       "  ['21'],\n",
       "  ['22'],\n",
       "  ['222'],\n",
       "  ['23'],\n",
       "  ['234'],\n",
       "  ['3'],\n",
       "  ['31'],\n",
       "  ['33'],\n",
       "  ['334'],\n",
       "  ['4'],\n",
       "  ['41'],\n",
       "  ['423'],\n",
       "  ['44'],\n",
       "  ['443'],\n",
       "  ['445'],\n",
       "  ['456'],\n",
       "  ['555'],\n",
       "  ['8'],\n",
       "  ['9']],\n",
       " '<parse_expr.0-26>': [['<parse_paren.0-1>'],\n",
       "  ['<parse_paren.0-1>', '<parse_expr.0-26-c>']],\n",
       " '<parse_expr.0-1-c>': [['+', '<parse_expr.0-4-c>'],\n",
       "  ['-', '<parse_expr.0-13-c>'],\n",
       "  ['/', '<parse_expr.0-21>']],\n",
       " '<parse_expr.0-4-c>': [['<parse_expr.0-6-s>',\n",
       "   '<parse_paren.0-1>',\n",
       "   '/',\n",
       "   '<parse_num.0-0-c>',\n",
       "   '<parse_expr.0-22>'],\n",
       "  ['<parse_num.0-0-c>'],\n",
       "  ['<parse_paren.0-1>']],\n",
       " '<parse_expr.0-13-c>': [['<parse_expr.0-14>'], ['<parse_paren.0-1>']],\n",
       " '<parse_expr.0-21>': [['<parse_num.0-0-c>'],\n",
       "  ['<parse_num.0-0-c>', '<parse_expr.0-21-c>']],\n",
       " '<parse_expr.0-6-s>': [['<parse_num.0-0-c>', '*'],\n",
       "  ['<parse_num.0-0-c>', '*', '<parse_expr.0-6-s>']],\n",
       " '<parse_paren.0-1>': [['(', '<parse_expr.0-0-c>', '<parse_paren.0-3>']],\n",
       " '<parse_expr.0-22>': [['+', '<parse_num.0-0-c>']],\n",
       " '<parse_paren.0-3>': [[')']],\n",
       " '<parse_expr.0-14>': [['<parse_num.0-0-c>'],\n",
       "  ['<parse_num.0-0-c>', '+', '<parse_num.0-0-c>', '<parse_expr.0-17>']],\n",
       " '<parse_expr.0-17>': [['-', '<parse_num.0-0-c>']],\n",
       " '<parse_expr.0-21-c>': [['<parse_expr.0-17>'], ['<parse_expr.0-22>']],\n",
       " '<parse_expr.0-26-c>': [['<parse_expr.0-22>'],\n",
       "  ['<parse_expr.0-27-s>', '/', '<parse_paren.0-1>', '<parse_paren.0-3>']],\n",
       " '<parse_expr.0-27-s>': [['*', '<parse_num.0-0-c>'],\n",
       "  ['*', '<parse_num.0-0-c>', '<parse_expr.0-27-s>']]}"
      ]
     },
     "execution_count": 747,
     "metadata": {},
     "output_type": "execute_result"
    }
   ],
   "source": [
    "calc_grammar = binary_miner(calc_samples, 'subject/calc/calc.c')\n",
    "canonical(calc_grammar)"
   ]
  },
  {
   "cell_type": "code",
   "execution_count": 848,
   "metadata": {
    "ExecuteTime": {
     "end_time": "2021-10-04T02:03:46.868028Z",
     "start_time": "2021-10-04T02:03:37.333710Z"
    }
   },
   "outputs": [
    {
     "name": "stdout",
     "output_type": "stream",
     "text": [
      "12\n",
      "2*4\n",
      "1\n",
      "3\n",
      "4\n",
      "20\n",
      "1\n",
      "(7, 1000)\n"
     ]
    }
   ],
   "source": [
    "if 'calculator' in CHECK:\n",
    "    result = check_recall(calc_golden, calc_grammar, start_symbol='<START>')\n",
    "    BMiner_r['calc.c'] = result\n",
    "    print(result)"
   ]
  },
  {
   "cell_type": "code",
   "execution_count": 749,
   "metadata": {
    "ExecuteTime": {
     "end_time": "2021-10-02T20:51:36.612545Z",
     "start_time": "2021-10-02T20:42:26.153513Z"
    },
    "scrolled": true
   },
   "outputs": [
    {
     "name": "stdout",
     "output_type": "stream",
     "text": [
      "(1000, 1000)\n"
     ]
    }
   ],
   "source": [
    "result = check_precision('subject/calc/calc.c', calc_grammar)\n",
    "BMiner_p['calc.c'] = result\n",
    "print(result)"
   ]
  },
  {
   "cell_type": "code",
   "execution_count": 189,
   "metadata": {
    "ExecuteTime": {
     "end_time": "2021-09-07T22:45:03.506389Z",
     "start_time": "2021-09-07T22:45:03.389048Z"
    }
   },
   "outputs": [],
   "source": [
    "clean_build()"
   ]
  },
  {
   "cell_type": "markdown",
   "metadata": {},
   "source": [
    "### CSV "
   ]
  },
  {
   "cell_type": "markdown",
   "metadata": {},
   "source": [
    "#### The Golden Grammar"
   ]
  },
  {
   "cell_type": "code",
   "execution_count": 878,
   "metadata": {
    "ExecuteTime": {
     "end_time": "2021-10-04T04:24:17.092953Z",
     "start_time": "2021-10-04T04:24:17.088783Z"
    }
   },
   "outputs": [],
   "source": [
    "import string\n",
    "\n",
    "CSV_GRAMMAR = {\n",
    "    '<START>': ['<csvline>'],\n",
    "    '<csvline>': ['<items>'],\n",
    "    '<items>': ['<item>,<items>', '<item>'],\n",
    "    '<item>': ['<letters>'],\n",
    "    '<letters>': ['<letter><letters>', '<letter>'],\n",
    "    '<letter>':\n",
    "    list(string.ascii_letters + string.digits + string.punctuation + ' \\t\\n')\n",
    "}"
   ]
  },
  {
   "cell_type": "markdown",
   "metadata": {},
   "source": [
    "#### Samples"
   ]
  },
  {
   "cell_type": "code",
   "execution_count": 880,
   "metadata": {
    "ExecuteTime": {
     "end_time": "2021-10-04T04:24:59.608292Z",
     "start_time": "2021-10-04T04:24:59.602178Z"
    }
   },
   "outputs": [
    {
     "data": {
      "text/plain": [
       "['gre07,2070,Laura,Grey',\n",
       " 'jenkins,9346,Mary,terraform',\n",
       " 'smith79,5079,Jamie,Smith',\n",
       " '1997,van,Ford,E350',\n",
       " '2000,car,Mercury,Cougar',\n",
       " '1999,car,Chevy,Venture']"
      ]
     },
     "execution_count": 880,
     "metadata": {},
     "output_type": "execute_result"
    }
   ],
   "source": [
    "from fuzzingbook.GrammarMiner import VEHICLES\n",
    "\n",
    "csv_samples = [i.strip() for i in '''\\\n",
    "gre07,2070,Laura,Grey\n",
    "jenkins,9346,Mary,terraform\n",
    "smith79,5079,Jamie,Smith\n",
    "'''.split('\\n') if i.strip()] + VEHICLES\n",
    "csv_samples"
   ]
  },
  {
   "cell_type": "code",
   "execution_count": 881,
   "metadata": {
    "ExecuteTime": {
     "end_time": "2021-10-04T07:22:13.481929Z",
     "start_time": "2021-10-04T04:25:10.857175Z"
    },
    "scrolled": false
   },
   "outputs": [
    {
     "ename": "KeyboardInterrupt",
     "evalue": "",
     "output_type": "error",
     "traceback": [
      "\u001b[0;31m---------------------------------------------------------------------------\u001b[0m",
      "\u001b[0;31mKeyboardInterrupt\u001b[0m                         Traceback (most recent call last)",
      "\u001b[0;32m~/anaconda3/lib/python3.7/site-packages/IPython/utils/_process_posix.py\u001b[0m in \u001b[0;36msystem\u001b[0;34m(self, cmd)\u001b[0m\n\u001b[1;32m    161\u001b[0m                 \u001b[0;31m# know whether we've finished (if we matched EOF) or not\u001b[0m\u001b[0;34m\u001b[0m\u001b[0;34m\u001b[0m\u001b[0;34m\u001b[0m\u001b[0m\n\u001b[0;32m--> 162\u001b[0;31m                 \u001b[0mres_idx\u001b[0m \u001b[0;34m=\u001b[0m \u001b[0mchild\u001b[0m\u001b[0;34m.\u001b[0m\u001b[0mexpect_list\u001b[0m\u001b[0;34m(\u001b[0m\u001b[0mpatterns\u001b[0m\u001b[0;34m,\u001b[0m \u001b[0mself\u001b[0m\u001b[0;34m.\u001b[0m\u001b[0mread_timeout\u001b[0m\u001b[0;34m)\u001b[0m\u001b[0;34m\u001b[0m\u001b[0;34m\u001b[0m\u001b[0m\n\u001b[0m\u001b[1;32m    163\u001b[0m                 \u001b[0mprint\u001b[0m\u001b[0;34m(\u001b[0m\u001b[0mchild\u001b[0m\u001b[0;34m.\u001b[0m\u001b[0mbefore\u001b[0m\u001b[0;34m[\u001b[0m\u001b[0mout_size\u001b[0m\u001b[0;34m:\u001b[0m\u001b[0;34m]\u001b[0m\u001b[0;34m.\u001b[0m\u001b[0mdecode\u001b[0m\u001b[0;34m(\u001b[0m\u001b[0menc\u001b[0m\u001b[0;34m,\u001b[0m \u001b[0;34m'replace'\u001b[0m\u001b[0;34m)\u001b[0m\u001b[0;34m,\u001b[0m \u001b[0mend\u001b[0m\u001b[0;34m=\u001b[0m\u001b[0;34m''\u001b[0m\u001b[0;34m)\u001b[0m\u001b[0;34m\u001b[0m\u001b[0;34m\u001b[0m\u001b[0m\n",
      "\u001b[0;32m~/anaconda3/lib/python3.7/site-packages/pexpect/spawnbase.py\u001b[0m in \u001b[0;36mexpect_list\u001b[0;34m(self, pattern_list, timeout, searchwindowsize, async_, **kw)\u001b[0m\n\u001b[1;32m    371\u001b[0m         \u001b[0;32melse\u001b[0m\u001b[0;34m:\u001b[0m\u001b[0;34m\u001b[0m\u001b[0;34m\u001b[0m\u001b[0m\n\u001b[0;32m--> 372\u001b[0;31m             \u001b[0;32mreturn\u001b[0m \u001b[0mexp\u001b[0m\u001b[0;34m.\u001b[0m\u001b[0mexpect_loop\u001b[0m\u001b[0;34m(\u001b[0m\u001b[0mtimeout\u001b[0m\u001b[0;34m)\u001b[0m\u001b[0;34m\u001b[0m\u001b[0;34m\u001b[0m\u001b[0m\n\u001b[0m\u001b[1;32m    373\u001b[0m \u001b[0;34m\u001b[0m\u001b[0m\n",
      "\u001b[0;32m~/anaconda3/lib/python3.7/site-packages/pexpect/expect.py\u001b[0m in \u001b[0;36mexpect_loop\u001b[0;34m(self, timeout)\u001b[0m\n\u001b[1;32m    168\u001b[0m                 \u001b[0;31m# Still have time left, so read more data\u001b[0m\u001b[0;34m\u001b[0m\u001b[0;34m\u001b[0m\u001b[0;34m\u001b[0m\u001b[0m\n\u001b[0;32m--> 169\u001b[0;31m                 \u001b[0mincoming\u001b[0m \u001b[0;34m=\u001b[0m \u001b[0mspawn\u001b[0m\u001b[0;34m.\u001b[0m\u001b[0mread_nonblocking\u001b[0m\u001b[0;34m(\u001b[0m\u001b[0mspawn\u001b[0m\u001b[0;34m.\u001b[0m\u001b[0mmaxread\u001b[0m\u001b[0;34m,\u001b[0m \u001b[0mtimeout\u001b[0m\u001b[0;34m)\u001b[0m\u001b[0;34m\u001b[0m\u001b[0;34m\u001b[0m\u001b[0m\n\u001b[0m\u001b[1;32m    170\u001b[0m                 \u001b[0;32mif\u001b[0m \u001b[0mself\u001b[0m\u001b[0;34m.\u001b[0m\u001b[0mspawn\u001b[0m\u001b[0;34m.\u001b[0m\u001b[0mdelayafterread\u001b[0m \u001b[0;32mis\u001b[0m \u001b[0;32mnot\u001b[0m \u001b[0;32mNone\u001b[0m\u001b[0;34m:\u001b[0m\u001b[0;34m\u001b[0m\u001b[0;34m\u001b[0m\u001b[0m\n",
      "\u001b[0;32m~/anaconda3/lib/python3.7/site-packages/pexpect/pty_spawn.py\u001b[0m in \u001b[0;36mread_nonblocking\u001b[0;34m(self, size, timeout)\u001b[0m\n\u001b[1;32m    499\u001b[0m         \u001b[0;31m# (possibly timeout=None), we call select() with a timeout.\u001b[0m\u001b[0;34m\u001b[0m\u001b[0;34m\u001b[0m\u001b[0;34m\u001b[0m\u001b[0m\n\u001b[0;32m--> 500\u001b[0;31m         \u001b[0;32mif\u001b[0m \u001b[0;34m(\u001b[0m\u001b[0mtimeout\u001b[0m \u001b[0;34m!=\u001b[0m \u001b[0;36m0\u001b[0m\u001b[0;34m)\u001b[0m \u001b[0;32mand\u001b[0m \u001b[0mselect\u001b[0m\u001b[0;34m(\u001b[0m\u001b[0mtimeout\u001b[0m\u001b[0;34m)\u001b[0m\u001b[0;34m:\u001b[0m\u001b[0;34m\u001b[0m\u001b[0;34m\u001b[0m\u001b[0m\n\u001b[0m\u001b[1;32m    501\u001b[0m             \u001b[0;32mreturn\u001b[0m \u001b[0msuper\u001b[0m\u001b[0;34m(\u001b[0m\u001b[0mspawn\u001b[0m\u001b[0;34m,\u001b[0m \u001b[0mself\u001b[0m\u001b[0;34m)\u001b[0m\u001b[0;34m.\u001b[0m\u001b[0mread_nonblocking\u001b[0m\u001b[0;34m(\u001b[0m\u001b[0msize\u001b[0m\u001b[0;34m)\u001b[0m\u001b[0;34m\u001b[0m\u001b[0;34m\u001b[0m\u001b[0m\n",
      "\u001b[0;32m~/anaconda3/lib/python3.7/site-packages/pexpect/pty_spawn.py\u001b[0m in \u001b[0;36mselect\u001b[0;34m(timeout)\u001b[0m\n\u001b[1;32m    449\u001b[0m             \u001b[0;32mdef\u001b[0m \u001b[0mselect\u001b[0m\u001b[0;34m(\u001b[0m\u001b[0mtimeout\u001b[0m\u001b[0;34m)\u001b[0m\u001b[0;34m:\u001b[0m\u001b[0;34m\u001b[0m\u001b[0;34m\u001b[0m\u001b[0m\n\u001b[0;32m--> 450\u001b[0;31m                 \u001b[0;32mreturn\u001b[0m \u001b[0mselect_ignore_interrupts\u001b[0m\u001b[0;34m(\u001b[0m\u001b[0;34m[\u001b[0m\u001b[0mself\u001b[0m\u001b[0;34m.\u001b[0m\u001b[0mchild_fd\u001b[0m\u001b[0;34m]\u001b[0m\u001b[0;34m,\u001b[0m \u001b[0;34m[\u001b[0m\u001b[0;34m]\u001b[0m\u001b[0;34m,\u001b[0m \u001b[0;34m[\u001b[0m\u001b[0;34m]\u001b[0m\u001b[0;34m,\u001b[0m \u001b[0mtimeout\u001b[0m\u001b[0;34m)\u001b[0m\u001b[0;34m[\u001b[0m\u001b[0;36m0\u001b[0m\u001b[0;34m]\u001b[0m\u001b[0;34m\u001b[0m\u001b[0;34m\u001b[0m\u001b[0m\n\u001b[0m\u001b[1;32m    451\u001b[0m \u001b[0;34m\u001b[0m\u001b[0m\n",
      "\u001b[0;32m~/anaconda3/lib/python3.7/site-packages/pexpect/utils.py\u001b[0m in \u001b[0;36mselect_ignore_interrupts\u001b[0;34m(iwtd, owtd, ewtd, timeout)\u001b[0m\n\u001b[1;32m    142\u001b[0m         \u001b[0;32mtry\u001b[0m\u001b[0;34m:\u001b[0m\u001b[0;34m\u001b[0m\u001b[0;34m\u001b[0m\u001b[0m\n\u001b[0;32m--> 143\u001b[0;31m             \u001b[0;32mreturn\u001b[0m \u001b[0mselect\u001b[0m\u001b[0;34m.\u001b[0m\u001b[0mselect\u001b[0m\u001b[0;34m(\u001b[0m\u001b[0miwtd\u001b[0m\u001b[0;34m,\u001b[0m \u001b[0mowtd\u001b[0m\u001b[0;34m,\u001b[0m \u001b[0mewtd\u001b[0m\u001b[0;34m,\u001b[0m \u001b[0mtimeout\u001b[0m\u001b[0;34m)\u001b[0m\u001b[0;34m\u001b[0m\u001b[0;34m\u001b[0m\u001b[0m\n\u001b[0m\u001b[1;32m    144\u001b[0m         \u001b[0;32mexcept\u001b[0m \u001b[0mInterruptedError\u001b[0m\u001b[0;34m:\u001b[0m\u001b[0;34m\u001b[0m\u001b[0;34m\u001b[0m\u001b[0m\n",
      "\u001b[0;31mKeyboardInterrupt\u001b[0m: ",
      "\nDuring handling of the above exception, another exception occurred:\n",
      "\u001b[0;31mKeyboardInterrupt\u001b[0m                         Traceback (most recent call last)",
      "\u001b[0;32m<ipython-input-881-50ffeb57e51e>\u001b[0m in \u001b[0;36m<module>\u001b[0;34m\u001b[0m\n\u001b[0;32m----> 1\u001b[0;31m \u001b[0mcsv_grammar\u001b[0m \u001b[0;34m=\u001b[0m \u001b[0mbinary_miner\u001b[0m\u001b[0;34m(\u001b[0m\u001b[0mcsv_samples\u001b[0m\u001b[0;34m,\u001b[0m \u001b[0;34m'subject/csv/csv.c'\u001b[0m\u001b[0;34m)\u001b[0m\u001b[0;34m\u001b[0m\u001b[0;34m\u001b[0m\u001b[0m\n\u001b[0m\u001b[1;32m      2\u001b[0m \u001b[0mcanonical\u001b[0m\u001b[0;34m(\u001b[0m\u001b[0mcsv_grammar\u001b[0m\u001b[0;34m)\u001b[0m\u001b[0;34m\u001b[0m\u001b[0;34m\u001b[0m\u001b[0m\n",
      "\u001b[0;32m<ipython-input-173-3fc63ab60b67>\u001b[0m in \u001b[0;36mbinary_miner\u001b[0;34m(seeds, executable, flag)\u001b[0m\n\u001b[1;32m     21\u001b[0m     \u001b[0mmined_tree\u001b[0m \u001b[0;34m=\u001b[0m \u001b[0mminer\u001b[0m\u001b[0;34m(\u001b[0m\u001b[0mcall_trace\u001b[0m\u001b[0;34m)\u001b[0m\u001b[0;34m\u001b[0m\u001b[0;34m\u001b[0m\u001b[0m\n\u001b[1;32m     22\u001b[0m     \u001b[0mreset_generalizer\u001b[0m\u001b[0;34m(\u001b[0m\u001b[0;34m)\u001b[0m\u001b[0;34m\u001b[0m\u001b[0;34m\u001b[0m\u001b[0m\n\u001b[0;32m---> 23\u001b[0;31m     \u001b[0mgeneralized_m_tree\u001b[0m \u001b[0;34m=\u001b[0m \u001b[0mgeneralize_method_trees\u001b[0m\u001b[0;34m(\u001b[0m\u001b[0mmined_tree\u001b[0m\u001b[0;34m)\u001b[0m\u001b[0;34m\u001b[0m\u001b[0;34m\u001b[0m\u001b[0m\n\u001b[0m\u001b[1;32m     24\u001b[0m     \u001b[0mreset_generalizer\u001b[0m\u001b[0;34m(\u001b[0m\u001b[0;34m)\u001b[0m\u001b[0;34m\u001b[0m\u001b[0;34m\u001b[0m\u001b[0m\n\u001b[1;32m     25\u001b[0m \u001b[0;34m\u001b[0m\u001b[0m\n",
      "\u001b[0;32m<ipython-input-122-2f2efca5e576>\u001b[0m in \u001b[0;36mgeneralize_method_trees\u001b[0;34m(jtrees, log)\u001b[0m\n\u001b[1;32m     13\u001b[0m \u001b[0;34m\u001b[0m\u001b[0m\n\u001b[1;32m     14\u001b[0m     \u001b[0;32mfor\u001b[0m \u001b[0mk\u001b[0m \u001b[0;32min\u001b[0m \u001b[0mNODE_REGISTER\u001b[0m\u001b[0;34m:\u001b[0m\u001b[0;34m\u001b[0m\u001b[0;34m\u001b[0m\u001b[0m\n\u001b[0;32m---> 15\u001b[0;31m         \u001b[0midentify_buckets\u001b[0m\u001b[0;34m(\u001b[0m\u001b[0mk\u001b[0m\u001b[0;34m)\u001b[0m\u001b[0;34m\u001b[0m\u001b[0;34m\u001b[0m\u001b[0m\n\u001b[0m\u001b[1;32m     16\u001b[0m \u001b[0;34m\u001b[0m\u001b[0m\n\u001b[1;32m     17\u001b[0m     \u001b[0;31m# finally, update the original names.\u001b[0m\u001b[0;34m\u001b[0m\u001b[0;34m\u001b[0m\u001b[0;34m\u001b[0m\u001b[0m\n",
      "\u001b[0;32m<ipython-input-118-1d819cabb9b1>\u001b[0m in \u001b[0;36midentify_buckets\u001b[0;34m(node_name)\u001b[0m\n\u001b[1;32m     14\u001b[0m             \u001b[0mnode1\u001b[0m\u001b[0;34m,\u001b[0m \u001b[0mtree1\u001b[0m\u001b[0;34m,\u001b[0m \u001b[0mexecutable1\u001b[0m\u001b[0;34m,\u001b[0m \u001b[0minputfile1\u001b[0m\u001b[0;34m,\u001b[0m \u001b[0m_info1\u001b[0m \u001b[0;34m=\u001b[0m \u001b[0mbnode\u001b[0m\u001b[0;34m\u001b[0m\u001b[0;34m\u001b[0m\u001b[0m\n\u001b[1;32m     15\u001b[0m             \u001b[0ma1\u001b[0m \u001b[0;34m=\u001b[0m \u001b[0mnode1\u001b[0m\u001b[0;34m,\u001b[0m \u001b[0minputfile1\u001b[0m\u001b[0;34m,\u001b[0m \u001b[0mtree1\u001b[0m\u001b[0;34m\u001b[0m\u001b[0;34m\u001b[0m\u001b[0m\n\u001b[0;32m---> 16\u001b[0;31m             \u001b[0mresult\u001b[0m \u001b[0;34m=\u001b[0m \u001b[0mis_compatible\u001b[0m\u001b[0;34m(\u001b[0m\u001b[0ma0\u001b[0m\u001b[0;34m,\u001b[0m \u001b[0ma1\u001b[0m\u001b[0;34m,\u001b[0m \u001b[0mexecutable0\u001b[0m\u001b[0;34m)\u001b[0m\u001b[0;34m\u001b[0m\u001b[0;34m\u001b[0m\u001b[0m\n\u001b[0m\u001b[1;32m     17\u001b[0m             \u001b[0;32mif\u001b[0m \u001b[0mresult\u001b[0m\u001b[0;34m:\u001b[0m\u001b[0;34m\u001b[0m\u001b[0;34m\u001b[0m\u001b[0m\n\u001b[1;32m     18\u001b[0m                 \u001b[0mcompatible\u001b[0m \u001b[0;34m=\u001b[0m \u001b[0mbi\u001b[0m\u001b[0;34m\u001b[0m\u001b[0;34m\u001b[0m\u001b[0m\n",
      "\u001b[0;32m<ipython-input-105-2aaed9f4d377>\u001b[0m in \u001b[0;36mis_compatible\u001b[0;34m(a1, a2, module)\u001b[0m\n\u001b[1;32m      2\u001b[0m     \u001b[0mt1\u001b[0m \u001b[0;34m=\u001b[0m \u001b[0mis_a_replaceable_with_b\u001b[0m\u001b[0;34m(\u001b[0m\u001b[0ma1\u001b[0m\u001b[0;34m,\u001b[0m \u001b[0ma2\u001b[0m\u001b[0;34m,\u001b[0m \u001b[0mmodule\u001b[0m\u001b[0;34m)\u001b[0m\u001b[0;34m\u001b[0m\u001b[0;34m\u001b[0m\u001b[0m\n\u001b[1;32m      3\u001b[0m     \u001b[0;32mif\u001b[0m \u001b[0;32mnot\u001b[0m \u001b[0mt1\u001b[0m\u001b[0;34m:\u001b[0m \u001b[0;32mreturn\u001b[0m \u001b[0;32mFalse\u001b[0m\u001b[0;34m\u001b[0m\u001b[0;34m\u001b[0m\u001b[0m\n\u001b[0;32m----> 4\u001b[0;31m     \u001b[0mt2\u001b[0m \u001b[0;34m=\u001b[0m \u001b[0mis_a_replaceable_with_b\u001b[0m\u001b[0;34m(\u001b[0m\u001b[0ma2\u001b[0m\u001b[0;34m,\u001b[0m \u001b[0ma1\u001b[0m\u001b[0;34m,\u001b[0m \u001b[0mmodule\u001b[0m\u001b[0;34m)\u001b[0m\u001b[0;34m\u001b[0m\u001b[0;34m\u001b[0m\u001b[0m\n\u001b[0m\u001b[1;32m      5\u001b[0m     \u001b[0;32mreturn\u001b[0m \u001b[0mt2\u001b[0m\u001b[0;34m\u001b[0m\u001b[0;34m\u001b[0m\u001b[0m\n",
      "\u001b[0;32m<ipython-input-104-214b2c1ef451>\u001b[0m in \u001b[0;36mis_a_replaceable_with_b\u001b[0;34m(a1, a2, module)\u001b[0m\n\u001b[1;32m      8\u001b[0m     \u001b[0mupdated_string\u001b[0m \u001b[0;34m=\u001b[0m \u001b[0mtree_to_str\u001b[0m\u001b[0;34m(\u001b[0m\u001b[0mupdated_tree\u001b[0m\u001b[0;34m)\u001b[0m\u001b[0;34m\u001b[0m\u001b[0;34m\u001b[0m\u001b[0m\n\u001b[1;32m      9\u001b[0m     \u001b[0mo\u001b[0m \u001b[0;34m=\u001b[0m \u001b[0mtree_to_str\u001b[0m\u001b[0;34m(\u001b[0m\u001b[0mt1\u001b[0m\u001b[0;34m)\u001b[0m\u001b[0;34m\u001b[0m\u001b[0;34m\u001b[0m\u001b[0m\n\u001b[0;32m---> 10\u001b[0;31m     \u001b[0mv\u001b[0m \u001b[0;34m=\u001b[0m \u001b[0mcheck\u001b[0m\u001b[0;34m(\u001b[0m\u001b[0mo\u001b[0m\u001b[0;34m,\u001b[0m \u001b[0mx\u001b[0m\u001b[0;34m,\u001b[0m \u001b[0mn1\u001b[0m\u001b[0;34m[\u001b[0m\u001b[0;36m0\u001b[0m\u001b[0;34m]\u001b[0m\u001b[0;34m,\u001b[0m \u001b[0mupdated_tree\u001b[0m\u001b[0;34m,\u001b[0m \u001b[0mmodule\u001b[0m\u001b[0;34m,\u001b[0m \u001b[0mtree_to_str\u001b[0m\u001b[0;34m(\u001b[0m\u001b[0ma1\u001b[0m\u001b[0;34m[\u001b[0m\u001b[0;36m0\u001b[0m\u001b[0;34m]\u001b[0m\u001b[0;34m)\u001b[0m\u001b[0;34m,\u001b[0m \u001b[0mtree_to_str\u001b[0m\u001b[0;34m(\u001b[0m\u001b[0ma2\u001b[0m\u001b[0;34m[\u001b[0m\u001b[0;36m0\u001b[0m\u001b[0;34m]\u001b[0m\u001b[0;34m)\u001b[0m\u001b[0;34m)\u001b[0m\u001b[0;34m\u001b[0m\u001b[0;34m\u001b[0m\u001b[0m\n\u001b[0m\u001b[1;32m     11\u001b[0m     \u001b[0;32mreturn\u001b[0m \u001b[0mv\u001b[0m\u001b[0;34m\u001b[0m\u001b[0;34m\u001b[0m\u001b[0m\n",
      "\u001b[0;32m<ipython-input-114-fae71e4ecedf>\u001b[0m in \u001b[0;36mcheck\u001b[0;34m(o, x, e, ut, module, sa1, sa2)\u001b[0m\n\u001b[1;32m     21\u001b[0m         \u001b[0marg1\u001b[0m \u001b[0;34m=\u001b[0m \u001b[0;34m'\\'py arg1=\"%s\"\\''\u001b[0m \u001b[0;34m%\u001b[0m \u001b[0mmodule\u001b[0m\u001b[0;34m\u001b[0m\u001b[0;34m\u001b[0m\u001b[0m\n\u001b[1;32m     22\u001b[0m \u001b[0;34m\u001b[0m\u001b[0m\n\u001b[0;32m---> 23\u001b[0;31m         \u001b[0mget_ipython\u001b[0m\u001b[0;34m(\u001b[0m\u001b[0;34m)\u001b[0m\u001b[0;34m.\u001b[0m\u001b[0msystem\u001b[0m\u001b[0;34m(\u001b[0m\u001b[0;34m'gdb --batch-silent -ex {arg1} -x BMiner.py'\u001b[0m\u001b[0;34m)\u001b[0m\u001b[0;34m\u001b[0m\u001b[0;34m\u001b[0m\u001b[0m\n\u001b[0m\u001b[1;32m     24\u001b[0m         \u001b[0;32mwith\u001b[0m \u001b[0mopen\u001b[0m\u001b[0;34m(\u001b[0m\u001b[0;34mf'tree'\u001b[0m\u001b[0;34m,\u001b[0m \u001b[0;34m'rb'\u001b[0m\u001b[0;34m)\u001b[0m \u001b[0;32mas\u001b[0m \u001b[0mf\u001b[0m\u001b[0;34m:\u001b[0m\u001b[0;34m\u001b[0m\u001b[0;34m\u001b[0m\u001b[0m\n\u001b[1;32m     25\u001b[0m             \u001b[0mtrace\u001b[0m\u001b[0;34m.\u001b[0m\u001b[0mappend\u001b[0m\u001b[0;34m(\u001b[0m\u001b[0;34m(\u001b[0m\u001b[0mjsonpickle\u001b[0m\u001b[0;34m.\u001b[0m\u001b[0mdecode\u001b[0m\u001b[0;34m(\u001b[0m\u001b[0mf\u001b[0m\u001b[0;34m.\u001b[0m\u001b[0mread\u001b[0m\u001b[0;34m(\u001b[0m\u001b[0;34m)\u001b[0m\u001b[0;34m)\u001b[0m\u001b[0;34m)\u001b[0m\u001b[0;34m)\u001b[0m\u001b[0;34m\u001b[0m\u001b[0;34m\u001b[0m\u001b[0m\n",
      "\u001b[0;32m~/anaconda3/lib/python3.7/site-packages/ipykernel/zmqshell.py\u001b[0m in \u001b[0;36msystem_piped\u001b[0;34m(self, cmd)\u001b[0m\n\u001b[1;32m    633\u001b[0m                 \u001b[0mself\u001b[0m\u001b[0;34m.\u001b[0m\u001b[0muser_ns\u001b[0m\u001b[0;34m[\u001b[0m\u001b[0;34m'_exit_code'\u001b[0m\u001b[0;34m]\u001b[0m \u001b[0;34m=\u001b[0m \u001b[0msystem\u001b[0m\u001b[0;34m(\u001b[0m\u001b[0mcmd\u001b[0m\u001b[0;34m)\u001b[0m\u001b[0;34m\u001b[0m\u001b[0;34m\u001b[0m\u001b[0m\n\u001b[1;32m    634\u001b[0m         \u001b[0;32melse\u001b[0m\u001b[0;34m:\u001b[0m\u001b[0;34m\u001b[0m\u001b[0;34m\u001b[0m\u001b[0m\n\u001b[0;32m--> 635\u001b[0;31m             \u001b[0mself\u001b[0m\u001b[0;34m.\u001b[0m\u001b[0muser_ns\u001b[0m\u001b[0;34m[\u001b[0m\u001b[0;34m'_exit_code'\u001b[0m\u001b[0;34m]\u001b[0m \u001b[0;34m=\u001b[0m \u001b[0msystem\u001b[0m\u001b[0;34m(\u001b[0m\u001b[0mself\u001b[0m\u001b[0;34m.\u001b[0m\u001b[0mvar_expand\u001b[0m\u001b[0;34m(\u001b[0m\u001b[0mcmd\u001b[0m\u001b[0;34m,\u001b[0m \u001b[0mdepth\u001b[0m\u001b[0;34m=\u001b[0m\u001b[0;36m1\u001b[0m\u001b[0;34m)\u001b[0m\u001b[0;34m)\u001b[0m\u001b[0;34m\u001b[0m\u001b[0;34m\u001b[0m\u001b[0m\n\u001b[0m\u001b[1;32m    636\u001b[0m \u001b[0;34m\u001b[0m\u001b[0m\n\u001b[1;32m    637\u001b[0m     \u001b[0;31m# Ensure new system_piped implementation is used\u001b[0m\u001b[0;34m\u001b[0m\u001b[0;34m\u001b[0m\u001b[0;34m\u001b[0m\u001b[0m\n",
      "\u001b[0;32m~/anaconda3/lib/python3.7/site-packages/IPython/utils/_process_posix.py\u001b[0m in \u001b[0;36msystem\u001b[0;34m(self, cmd)\u001b[0m\n\u001b[1;32m    184\u001b[0m             \u001b[0;32mfinally\u001b[0m\u001b[0;34m:\u001b[0m\u001b[0;34m\u001b[0m\u001b[0;34m\u001b[0m\u001b[0m\n\u001b[1;32m    185\u001b[0m                 \u001b[0;31m# Ensure the subprocess really is terminated\u001b[0m\u001b[0;34m\u001b[0m\u001b[0;34m\u001b[0m\u001b[0;34m\u001b[0m\u001b[0m\n\u001b[0;32m--> 186\u001b[0;31m                 \u001b[0mchild\u001b[0m\u001b[0;34m.\u001b[0m\u001b[0mterminate\u001b[0m\u001b[0;34m(\u001b[0m\u001b[0mforce\u001b[0m\u001b[0;34m=\u001b[0m\u001b[0;32mTrue\u001b[0m\u001b[0;34m)\u001b[0m\u001b[0;34m\u001b[0m\u001b[0;34m\u001b[0m\u001b[0m\n\u001b[0m\u001b[1;32m    187\u001b[0m         \u001b[0;31m# add isalive check, to ensure exitstatus is set:\u001b[0m\u001b[0;34m\u001b[0m\u001b[0;34m\u001b[0m\u001b[0;34m\u001b[0m\u001b[0m\n\u001b[1;32m    188\u001b[0m         \u001b[0mchild\u001b[0m\u001b[0;34m.\u001b[0m\u001b[0misalive\u001b[0m\u001b[0;34m(\u001b[0m\u001b[0;34m)\u001b[0m\u001b[0;34m\u001b[0m\u001b[0;34m\u001b[0m\u001b[0m\n",
      "\u001b[0;32m~/anaconda3/lib/python3.7/site-packages/pexpect/pty_spawn.py\u001b[0m in \u001b[0;36mterminate\u001b[0;34m(self, force)\u001b[0m\n\u001b[1;32m    644\u001b[0m                 \u001b[0;32mreturn\u001b[0m \u001b[0;32mTrue\u001b[0m\u001b[0;34m\u001b[0m\u001b[0;34m\u001b[0m\u001b[0m\n\u001b[1;32m    645\u001b[0m             \u001b[0mself\u001b[0m\u001b[0;34m.\u001b[0m\u001b[0mkill\u001b[0m\u001b[0;34m(\u001b[0m\u001b[0msignal\u001b[0m\u001b[0;34m.\u001b[0m\u001b[0mSIGCONT\u001b[0m\u001b[0;34m)\u001b[0m\u001b[0;34m\u001b[0m\u001b[0;34m\u001b[0m\u001b[0m\n\u001b[0;32m--> 646\u001b[0;31m             \u001b[0mtime\u001b[0m\u001b[0;34m.\u001b[0m\u001b[0msleep\u001b[0m\u001b[0;34m(\u001b[0m\u001b[0mself\u001b[0m\u001b[0;34m.\u001b[0m\u001b[0mdelayafterterminate\u001b[0m\u001b[0;34m)\u001b[0m\u001b[0;34m\u001b[0m\u001b[0;34m\u001b[0m\u001b[0m\n\u001b[0m\u001b[1;32m    647\u001b[0m             \u001b[0;32mif\u001b[0m \u001b[0;32mnot\u001b[0m \u001b[0mself\u001b[0m\u001b[0;34m.\u001b[0m\u001b[0misalive\u001b[0m\u001b[0;34m(\u001b[0m\u001b[0;34m)\u001b[0m\u001b[0;34m:\u001b[0m\u001b[0;34m\u001b[0m\u001b[0;34m\u001b[0m\u001b[0m\n\u001b[1;32m    648\u001b[0m                 \u001b[0;32mreturn\u001b[0m \u001b[0;32mTrue\u001b[0m\u001b[0;34m\u001b[0m\u001b[0;34m\u001b[0m\u001b[0m\n",
      "\u001b[0;31mKeyboardInterrupt\u001b[0m: "
     ]
    }
   ],
   "source": [
    "csv_grammar = binary_miner(csv_samples, 'subject/csv/csv.c')\n",
    "canonical(csv_grammar)"
   ]
  },
  {
   "cell_type": "code",
   "execution_count": null,
   "metadata": {
    "ExecuteTime": {
     "end_time": "2021-10-04T07:22:13.492284Z",
     "start_time": "2021-10-04T04:25:15.748Z"
    },
    "scrolled": true
   },
   "outputs": [],
   "source": [
    "if 'csv' in CHECK:\n",
    "    result = check_recall(CSV_GRAMMAR, csv_grammar, start_symbol='<START>')\n",
    "    BMiner_r['csv.c'] = result\n",
    "    print(result)"
   ]
  },
  {
   "cell_type": "code",
   "execution_count": null,
   "metadata": {
    "ExecuteTime": {
     "end_time": "2021-10-04T07:22:13.497373Z",
     "start_time": "2021-10-04T04:25:17.417Z"
    }
   },
   "outputs": [],
   "source": [
    "result = check_precision('subject/csv/csv.c', csv_grammar)\n",
    "BMiner_p['csv.c'] = result\n",
    "print(result)"
   ]
  },
  {
   "cell_type": "code",
   "execution_count": 195,
   "metadata": {
    "ExecuteTime": {
     "end_time": "2021-09-09T19:19:13.780916Z",
     "start_time": "2021-09-09T19:19:13.664984Z"
    }
   },
   "outputs": [
    {
     "name": "stdout",
     "output_type": "stream",
     "text": [
      "rm: cannot remove 'flag.txt': No such file or directory\r\n"
     ]
    }
   ],
   "source": [
    "clean_build()"
   ]
  },
  {
   "cell_type": "markdown",
   "metadata": {},
   "source": [
    "### URLParse"
   ]
  },
  {
   "cell_type": "markdown",
   "metadata": {},
   "source": [
    "#### Golden Grammar"
   ]
  },
  {
   "cell_type": "code",
   "execution_count": 861,
   "metadata": {
    "ExecuteTime": {
     "end_time": "2021-10-04T02:41:02.129708Z",
     "start_time": "2021-10-04T02:41:02.121517Z"
    }
   },
   "outputs": [],
   "source": [
    "urlparse_golden = {\n",
    "  \"<START>\": [\n",
    "    \"<url>\"\n",
    "  ],\n",
    "  \"<url>\": [\n",
    "    \"<scheme>://<authority><path><query>\"\n",
    "  ],\n",
    "  \"<scheme>\": [\n",
    "    \"http\",\n",
    "    \"https\",\n",
    "    \"ftp\",\n",
    "    \"ftps\"\n",
    "  ],\n",
    "  \"<authority>\": [\n",
    "    \"<host>\",\n",
    "#    \"<host>:<port>\",\n",
    "#    \"<userinfo>@<host>\",\n",
    "#    \"<userinfo>@<host>:<port>\"\n",
    "  ],\n",
    "#  \"<user>\": [\n",
    "#    \"user1\",\n",
    "#    \"user2\",\n",
    "#    \"user3\",\n",
    "#    \"user4\",\n",
    "#    \"user5\"\n",
    "#  ],\n",
    "#  \"<pass>\": [\n",
    "#    \"pass1\",\n",
    "#    \"pass2\",\n",
    "#    \"pass3\",\n",
    "#    \"pass4\",\n",
    "#    \"pass5\"\n",
    "#  ],\n",
    "\n",
    "  \"<host>\": [\n",
    "    \"host1\",\n",
    "    \"host2\",\n",
    "    \"host3\",\n",
    "    \"host4\",\n",
    "    \"host5\"\n",
    "  ],\n",
    "# \"<port>\": [\n",
    "#   \"<nat>\"\n",
    "# ],\n",
    "# \"<nat>\": [\n",
    "#   \"10\",\n",
    "#   \"20\",\n",
    "#   \"30\",\n",
    "#   \"40\",\n",
    "#   \"50\"\n",
    "# ],\n",
    "# \"<userinfo>\": [\n",
    "#   \"<user>:<pass>\"\n",
    "# ],\n",
    "  \"<path>\": [\n",
    "    \"\",\n",
    "    \"/\",\n",
    "    \"/<id>\",\n",
    "    \"/<id><path>\"\n",
    "  ],\n",
    "  \"<id>\": [\n",
    "    \"folder\"\n",
    "  ],\n",
    "  \"<query>\": [\n",
    "    \"\",\n",
    "    \"?<params>\"\n",
    "  ],\n",
    "  \"<params>\": [\n",
    "    \"<param>\",\n",
    "    \"<param>&<params>\"\n",
    "  ],\n",
    "  \"<param>\": [\n",
    "    \"<key>=<value>\"\n",
    "  ],\n",
    "  \"<key>\": [\n",
    "    \"key1\",\n",
    "    \"key2\",\n",
    "    \"key3\",\n",
    "    \"key4\"\n",
    "  ],\n",
    "  \"<value>\": [\n",
    "    \"value1\",\n",
    "    \"value2\",\n",
    "    \"value3\",\n",
    "    \"value4\"\n",
    "  ]\n",
    "}"
   ]
  },
  {
   "cell_type": "markdown",
   "metadata": {},
   "source": [
    "#### Samples"
   ]
  },
  {
   "cell_type": "code",
   "execution_count": 410,
   "metadata": {
    "ExecuteTime": {
     "end_time": "2021-10-06T12:05:02.861417Z",
     "start_time": "2021-10-06T12:05:02.839195Z"
    },
    "scrolled": false
   },
   "outputs": [
    {
     "ename": "NameError",
     "evalue": "name 'GrammarFuzzer' is not defined",
     "output_type": "error",
     "traceback": [
      "\u001b[0;31m---------------------------------------------------------------------------\u001b[0m",
      "\u001b[0;31mNameError\u001b[0m                                 Traceback (most recent call last)",
      "\u001b[0;32m<ipython-input-410-c97469d8a192>\u001b[0m in \u001b[0;36m<module>\u001b[0;34m\u001b[0m\n\u001b[1;32m      1\u001b[0m \u001b[0;32mfrom\u001b[0m \u001b[0mfuzzingbook\u001b[0m\u001b[0;34m.\u001b[0m\u001b[0mGrammarMiner\u001b[0m \u001b[0;32mimport\u001b[0m \u001b[0mURLS_X\u001b[0m\u001b[0;34m\u001b[0m\u001b[0;34m\u001b[0m\u001b[0m\n\u001b[0;32m----> 2\u001b[0;31m \u001b[0mgf\u001b[0m \u001b[0;34m=\u001b[0m \u001b[0mGrammarFuzzer\u001b[0m\u001b[0;34m(\u001b[0m\u001b[0murlparse_golden\u001b[0m\u001b[0;34m,\u001b[0m \u001b[0mstart_symbol\u001b[0m\u001b[0;34m=\u001b[0m\u001b[0;34m'<START>'\u001b[0m\u001b[0;34m)\u001b[0m\u001b[0;34m\u001b[0m\u001b[0;34m\u001b[0m\u001b[0m\n\u001b[0m\u001b[1;32m      3\u001b[0m \u001b[0murlparse_samples\u001b[0m \u001b[0;34m=\u001b[0m \u001b[0;34m[\u001b[0m\u001b[0mgf\u001b[0m\u001b[0;34m.\u001b[0m\u001b[0mfuzz\u001b[0m\u001b[0;34m(\u001b[0m\u001b[0;34m)\u001b[0m \u001b[0;32mfor\u001b[0m \u001b[0mi\u001b[0m \u001b[0;32min\u001b[0m \u001b[0mrange\u001b[0m\u001b[0;34m(\u001b[0m\u001b[0;36m40\u001b[0m\u001b[0;34m)\u001b[0m\u001b[0;34m]\u001b[0m\u001b[0;34m\u001b[0m\u001b[0;34m\u001b[0m\u001b[0m\n",
      "\u001b[0;31mNameError\u001b[0m: name 'GrammarFuzzer' is not defined"
     ]
    }
   ],
   "source": [
    "from fuzzingbook.GrammarMiner import URLS_X\n",
    "gf = GrammarFuzzer(urlparse_golden, start_symbol='<START>')\n",
    "urlparse_samples = [gf.fuzz() for i in range(40)]"
   ]
  },
  {
   "cell_type": "code",
   "execution_count": 864,
   "metadata": {
    "ExecuteTime": {
     "end_time": "2021-10-04T03:18:44.231878Z",
     "start_time": "2021-10-04T02:41:25.565431Z"
    },
    "scrolled": false
   },
   "outputs": [
    {
     "name": "stdout",
     "output_type": "stream",
     "text": [
      "<yuarel_parse.0-13> ['ftp', '<yuarel_parse.0-14>']\n",
      "<yuarel_parse.0-16> ['ftps', '<yuarel_parse.0-14>']\n",
      "<yuarel_parse.0-1> ['<parse_scheme.1-0-c>', '<yuarel_parse.0-2>']\n",
      "<yuarel_parse.0-22> ['https', '<yuarel_parse.0-14>']\n",
      "<yuarel_parse.0-19> ['http', '<yuarel_parse.0-14>']\n",
      "<yuarel_parse.0-2> ['<find_and_terminate.0-0-c>', '<yuarel_parse.0-3>']\n",
      "<parse_scheme.1-1> ['ftp:/']\n",
      "<parse_scheme.1-4> ['https:/']\n",
      "<parse_scheme.0-1> [':/']\n",
      "<parse_scheme.1-2> ['ftps:/']\n",
      "<yuarel_parse.0-3> ['<find_and_terminate.1-1>', '<yuarel_parse.0-3-c>']\n",
      "<parse_scheme.1-3> ['http:/']\n",
      "<find_and_terminate.1-1> ['?']\n",
      "<find_and_terminate.0-10> ['/host5']\n",
      "<find_and_terminate.0-5> ['/host2/folder']\n",
      "<find_and_terminate.0-9> ['/host4']\n",
      "<find_and_terminate.0-2> ['/host1/folder']\n",
      "<find_and_terminate.0-3> ['/host2']\n",
      "<find_and_terminate.0-11> ['/host5/']\n",
      "<find_and_terminate.0-4> ['/host2/']\n",
      "<find_and_terminate.0-6> ['/host3']\n",
      "<find_and_terminate.0-12> ['/host5/folder/']\n",
      "<find_and_terminate.0-1> ['/host1/']\n",
      "<find_and_terminate.0-8> ['/host3/folder/folder/folder/folder']\n",
      "<find_and_terminate.0-7> ['/host3/folder/folder']\n",
      "<yuarel_parse.0-9> ['key3=value2&key3=value3']\n",
      "<yuarel_parse.0-6> ['key2=value4']\n",
      "<yuarel_parse.0-7> ['key3=value1&key3=value2&key2=value4&key1=value2']\n",
      "<yuarel_parse.0-4> ['key1=value2']\n",
      "<yuarel_parse.0-10> ['key3=value4']\n",
      "<yuarel_parse.0-5> ['key2=value2']\n",
      "<yuarel_parse.0-8> ['key3=value1&key4=value4']\n",
      "<yuarel_parse.0-11> ['key4=value2&key2=value2']\n",
      "<yuarel_parse.0-12> ['key4=value3&key2=value1&key2=value4&key1=value1']\n"
     ]
    },
    {
     "data": {
      "text/plain": [
       "{'<START>': [['<yuarel_parse.0-0-c>']],\n",
       " '<yuarel_parse.0-0-c>': [['<parse_scheme.1-0-c>',\n",
       "   '<find_and_terminate.0-0-c>',\n",
       "   '?',\n",
       "   '<yuarel_parse.0-3-c>'],\n",
       "  ['ftp', '<yuarel_parse.0-14>'],\n",
       "  ['ftps', '<yuarel_parse.0-14>'],\n",
       "  ['http', '<yuarel_parse.0-14>'],\n",
       "  ['https', '<yuarel_parse.0-14>']],\n",
       " '<parse_scheme.1-0-c>': [['ftp:/'], ['ftps:/'], ['http:/'], ['https:/']],\n",
       " '<find_and_terminate.0-0-c>': [['/host1/'],\n",
       "  ['/host1/folder'],\n",
       "  ['/host2'],\n",
       "  ['/host2/'],\n",
       "  ['/host2/folder'],\n",
       "  ['/host3'],\n",
       "  ['/host3/folder/folder'],\n",
       "  ['/host3/folder/folder/folder/folder'],\n",
       "  ['/host4'],\n",
       "  ['/host5'],\n",
       "  ['/host5/'],\n",
       "  ['/host5/folder/']],\n",
       " '<yuarel_parse.0-3-c>': [['key1=value2'],\n",
       "  ['key2=value2'],\n",
       "  ['key2=value4'],\n",
       "  ['key3=value1&key3=value2&key2=value4&key1=value2'],\n",
       "  ['key3=value1&key4=value4'],\n",
       "  ['key3=value2&key3=value3'],\n",
       "  ['key3=value4'],\n",
       "  ['key4=value2&key2=value2'],\n",
       "  ['key4=value3&key2=value1&key2=value4&key1=value1']],\n",
       " '<yuarel_parse.0-14>': [[':/', '<find_and_terminate.0-0-c>']]}"
      ]
     },
     "execution_count": 864,
     "metadata": {},
     "output_type": "execute_result"
    }
   ],
   "source": [
    "url_grammar = binary_miner(urlparse_samples, 'subject/url/yuarel.c')\n",
    "canonical(url_grammar)"
   ]
  },
  {
   "cell_type": "code",
   "execution_count": 873,
   "metadata": {
    "ExecuteTime": {
     "end_time": "2021-10-04T04:18:05.208659Z",
     "start_time": "2021-10-04T04:18:03.864887Z"
    },
    "scrolled": true
   },
   "outputs": [
    {
     "name": "stdout",
     "output_type": "stream",
     "text": [
      "(298, 1000)\n"
     ]
    }
   ],
   "source": [
    "if 'url' in CHECK:\n",
    "    result = check_recall(urlparse_golden, url_grammar, start_symbol='<START>')\n",
    "    BMiner_r['url.c'] = result\n",
    "    print(result)"
   ]
  },
  {
   "cell_type": "code",
   "execution_count": 866,
   "metadata": {
    "ExecuteTime": {
     "end_time": "2021-10-04T03:25:33.669613Z",
     "start_time": "2021-10-04T03:18:46.525716Z"
    }
   },
   "outputs": [
    {
     "name": "stdout",
     "output_type": "stream",
     "text": [
      "(1000, 1000)\n"
     ]
    }
   ],
   "source": [
    "result = check_precision('subject/url/url.c', url_grammar)\n",
    "BMiner_p['url.c'] = result\n",
    "print(result)"
   ]
  },
  {
   "cell_type": "code",
   "execution_count": 201,
   "metadata": {
    "ExecuteTime": {
     "end_time": "2021-09-10T05:22:18.408126Z",
     "start_time": "2021-09-10T05:22:18.293005Z"
    }
   },
   "outputs": [
    {
     "name": "stdout",
     "output_type": "stream",
     "text": [
      "rm: cannot remove 'flag.txt': No such file or directory\r\n"
     ]
    }
   ],
   "source": [
    "clean_build()"
   ]
  },
  {
   "cell_type": "markdown",
   "metadata": {},
   "source": [
    "### JSON\n"
   ]
  },
  {
   "cell_type": "markdown",
   "metadata": {},
   "source": [
    "#### Golden Grammar"
   ]
  },
  {
   "cell_type": "code",
   "execution_count": 741,
   "metadata": {
    "ExecuteTime": {
     "end_time": "2021-10-02T18:11:49.173622Z",
     "start_time": "2021-10-02T18:11:49.154587Z"
    }
   },
   "outputs": [],
   "source": [
    "json_golden = {\n",
    "    \"<START>\": [[\"<json>\"]],\n",
    "    \"<json>\": [[\"<element>\"]],\n",
    "    \"<value>\": [\n",
    "        [\"<object>\"],\n",
    "        [\"<array>\"],\n",
    "        [\"<string>\"],\n",
    "        [\"<number>\"],\n",
    "        [\"true\"],\n",
    "        [\"false\"],\n",
    "        [\"null\"],\n",
    "    ],\n",
    "    \"<object>\": [\n",
    "        [\"{\", \"<ws>\", \"<members>\", \"<ws>\", \"}\"],\n",
    "    ],\n",
    "    \"<members>\": [[\"<member>\", \",\", \"<members>\"], [\"<member>\"]],\n",
    "    \"<member>\": [[\"<ws>\", \"<string>\", \"<ws>\", \":\", \"<element>\"]],\n",
    "    \"<array>\": [\n",
    "        [\"[\", \"<ws>\", \"]\"],\n",
    "        [\"[\", \"<elements>\", \"]\"],\n",
    "    ],\n",
    "    \"<elements>\": [\n",
    "        [\"<element>\", \",\", \"<elements>\"],\n",
    "        [\"<element>\"],\n",
    "    ],\n",
    "    \"<element>\": [\n",
    "        [\"<ws>\", \"<value>\", \"<ws>\"],\n",
    "    ],\n",
    "    \"<string>\": [[\"\\\"\", \"<characters>\", \"\\\"\"]],\n",
    "    \"<characters>\": [[\"<character>\", \"<characters>\"], []],\n",
    "    \"<character>\": [[s] for s in string.printable if s not in {\"\\\"\", \"\\\\\"}] +\n",
    "    [[\"\\\\\", \"<escape>\"]],\n",
    "    \"<escape>\":\n",
    "    [[c] for c in '\"\\\\/bfnrt\"'] + [[\"u\", \"<hex>\", \"<hex>\", \"<hex>\", \"<hex>\"]],\n",
    "    \"<hex>\": [[\"<digit>\"], [\"a\"], [\"b\"], [\"c\"], [\"d\"], [\"e\"], [\"f\"], [\"A\"],\n",
    "              [\"B\"], [\"C\"], [\"D\"], [\"E\"], [\"F\"]],\n",
    "    \"<number>\": [[\"<integer>\", \"<fraction>\", \"<exponent>\"]],\n",
    "    \"<integer>\": [\n",
    "        [\"<onenine>\", \"<digits>\"],\n",
    "        [\"<digit>\"],\n",
    "        [\"-\", \"<digit>\"],\n",
    "        [\"-\", \"<onenine>\", \"<digits>\"],\n",
    "    ],\n",
    "    \"<digits>\": [\n",
    "        [\"<digit>\", \"<digits>\"],\n",
    "        [\"<digit>\"],\n",
    "    ],\n",
    "    \"<digit>\": [\n",
    "        [\"0\"],\n",
    "        [\"<onenine>\"],\n",
    "    ],\n",
    "    \"<onenine>\": [[\"1\"], [\"2\"], [\"3\"], [\"4\"], [\"5\"], [\"6\"], [\"7\"], [\"8\"],\n",
    "                  [\"9\"]],\n",
    "    \"<fraction>\": [[\".\", \"<digits>\"], []],\n",
    "    \"<exponent>\": [[\"E\", \"<sign>\", \"<digits>\"], [\"e\", \"<sign>\", \"<digits>\"],\n",
    "                   []],\n",
    "    \"<sign>\": [[\"+\"], [\"-\"], []],\n",
    "    \"<ws>\": [[\" \", \"<ws>\"], []]\n",
    "}"
   ]
  },
  {
   "cell_type": "code",
   "execution_count": 742,
   "metadata": {
    "ExecuteTime": {
     "end_time": "2021-10-02T18:11:51.572335Z",
     "start_time": "2021-10-02T18:11:51.567583Z"
    }
   },
   "outputs": [],
   "source": [
    "def non_canonical(grammar):\n",
    "    return {k: [''.join(r) for r in grammar[k]] for k in grammar}\n",
    "json_golden = non_canonical(json_golden)"
   ]
  },
  {
   "cell_type": "markdown",
   "metadata": {},
   "source": [
    "#### Samples"
   ]
  },
  {
   "cell_type": "code",
   "execution_count": 734,
   "metadata": {
    "ExecuteTime": {
     "end_time": "2021-10-01T09:53:49.125120Z",
     "start_time": "2021-10-01T09:53:49.121112Z"
    }
   },
   "outputs": [],
   "source": [
    "json_samples = [i.strip() for i in '''\\\n",
    "{\"color\": [8, 67]}\n",
    "{\"value\": \"New\", \"onclick\": \"CreateNewDoc()\"}\n",
    "{\"color\": \"blue\", \"category\": \"hue\", \"type\": \"primary\"}\n",
    "{\"Createewoc\": {\"a\": \"b\"}}\n",
    "{\"color\": \"green\", \"category\": \"hue\", \"type\": \"secondary\"}\n",
    "{\"value\": \"Open\", \"onclick\": \"OpenDoc()\"}\n",
    "{\"value\": \"Close\", \"onclick\": \"CloseDoc()\"}\n",
    "'''.split('\\n') if i.strip()]"
   ]
  },
  {
   "cell_type": "code",
   "execution_count": 735,
   "metadata": {
    "ExecuteTime": {
     "end_time": "2021-10-02T16:36:06.180395Z",
     "start_time": "2021-10-01T09:53:49.133079Z"
    },
    "scrolled": false
   },
   "outputs": [
    {
     "name": "stdout",
     "output_type": "stream",
     "text": [
      "<json_parse_value.0-1> ['<isspace_.0-1>', '<json_parse_object.0-1>']\n",
      "<json_parse_object.0-1> ['<json_parse_value.1-0-c>', '<json_parse_object.0-1-c>']\n",
      "<json_parse_value.1-4> ['\"onclick\"']\n",
      "<json_parse_value.1-1> ['\"Createewoc\"']\n",
      "<json_parse_object.0-23> ['<skip_whitespace.1-1>', '<json_parse_object.0-24>']\n",
      "<json_parse_value.1-3> ['\"color\"']\n",
      "<json_parse_object.0-2> [':', '<json_parse_object.0-2-c>']\n",
      "<json_parse_value.1-2> ['\"a\"']\n",
      "<json_parse_value.1-5> ['\"value\"']\n",
      "<skip_whitespace.1-1> [':']\n",
      "<json_parse_object.0-5> ['<json_parse_value.5-1>', '<json_parse_object.0-6>']\n",
      "<json_parse_object.0-6> ['<skip_whitespace.4-0-c>', '<json_parse_object.0-7>']\n",
      "<json_parse_value.2-1> ['<skip_whitespace.2-1>', '<json_parse_array.0-1>']\n",
      "<json_parse_value.2-3> ['<skip_whitespace.7-1>', '<json_parse_object.1-1>']\n",
      "<json_parse_object.0-7> [' ', '<json_parse_object.0-7-c>']\n",
      "<skip_whitespace.7-1> ['<isspace_.1-1>', '<isspace_.0-1>']\n",
      "<json_parse_value.5-4> ['\"New\"']\n",
      "<json_parse_value.5-11> ['\"primary\"']\n",
      "<json_parse_array.0-1> ['<skip_whitespace.3-1>', '<json_parse_array.0-2>']\n",
      "<json_parse_value.5-12> ['\"secondary\"']\n",
      "<json_parse_value.5-10> ['\"hue\"']\n",
      "<skip_whitespace.2-1> ['<isspace_.1-1>', '<isspace_.2-1>']\n",
      "<json_parse_value.5-6> ['\"OpenDoc()\"']\n",
      "<json_parse_object.1-1> ['<json_parse_value.1-0-c>', '<json_parse_object.1-2>']\n",
      "<json_parse_value.5-9> ['\"green\"']\n",
      "<json_parse_value.5-5> ['\"Open\"']\n",
      "<json_parse_value.5-8> ['\"blue\"']\n",
      "<json_parse_value.5-2> ['\"Close\"']\n",
      "<json_parse_value.5-3> ['\"CloseDoc()\"']\n",
      "<json_parse_value.5-7> ['\"b\"']\n",
      "<isspace_.2-1> ['[']\n",
      "<json_parse_object.0-14> ['<json_parse_value.7-1>', '<json_parse_object.0-15>']\n",
      "<skip_whitespace.3-1> ['8']\n",
      "<json_parse_object.0-8> ['<json_parse_value.1-0-c>', '<json_parse_object.0-9>']\n",
      "<json_parse_array.0-2> ['<skip_whitespace.4-0-c>', '<json_parse_array.0-3>']\n",
      "<json_parse_array.0-3> ['<skip_whitespace.5-1>', '<json_parse_array.0-4>']\n",
      "<json_parse_value.7-1> ['\"category\"']\n",
      "<json_parse_object.0-9> [':', '<json_parse_object.0-9-c>']\n",
      "<json_parse_object.0-15> [':', '<json_parse_object.0-16>']\n",
      "<json_parse_object.0-16> ['<json_parse_value.5-1>', '<json_parse_object.0-17>']\n",
      "<skip_whitespace.5-1> [' 67']\n",
      "<json_parse_array.0-4> [']']\n",
      "<json_parse_object.0-17> ['<skip_whitespace.4-0-c>', '<json_parse_object.0-18>']\n",
      "<json_parse_object.0-12> ['<json_parse_value.6-1>', '<has_char.2-0-c>']\n",
      "<json_parse_object.0-18> [' ', '<json_parse_object.0-19>']\n",
      "<json_parse_value.6-1> ['<isspace_.1-1>', '<json_parse_value.6-2>']\n",
      "<json_parse_value.6-2> ['\"CreateNewDoc()\"']\n",
      "<json_parse_object.0-19> ['<json_parse_value.8-1>', '<json_parse_object.1-2>']\n",
      "<json_parse_value.8-1> ['\"type\"']\n"
     ]
    },
    {
     "data": {
      "text/plain": [
       "{'<START>': [['<isspace_.0-1>',\n",
       "   '<json_parse_value.1-0-c>',\n",
       "   '<json_parse_object.0-1-c>']],\n",
       " '<isspace_.0-1>': [['{']],\n",
       " '<json_parse_value.1-0-c>': [['\"Createewoc\"'],\n",
       "  ['\"a\"'],\n",
       "  ['\"color\"'],\n",
       "  ['\"onclick\"'],\n",
       "  ['\"value\"']],\n",
       " '<json_parse_object.0-1-c>': [[':', '<json_parse_object.0-2-c>'],\n",
       "  [':', '<json_parse_object.0-24>']],\n",
       " '<json_parse_object.0-2-c>': [['<json_parse_object.0-24>'],\n",
       "  ['<json_parse_value.5-1>',\n",
       "   '<isspace_.3-1>',\n",
       "   ' ',\n",
       "   '<json_parse_object.0-7-c>']],\n",
       " '<json_parse_object.0-24>': [['<json_parse_value.2-0-c>', '<has_char.2-2>']],\n",
       " '<json_parse_value.5-1>': [['<isspace_.1-1>', '<json_parse_value.5-1-c>']],\n",
       " '<isspace_.3-1>': [[',']],\n",
       " '<json_parse_object.0-7-c>': [['\"category\":',\n",
       "   '<json_parse_value.5-1>',\n",
       "   '<isspace_.3-1>',\n",
       "   ' \"type\"',\n",
       "   '<json_parse_object.1-2>'],\n",
       "  ['<json_parse_value.1-0-c>', ':', '<json_parse_object.0-9-c>']],\n",
       " '<isspace_.1-1>': [[' ']],\n",
       " '<json_parse_value.5-1-c>': [['\"Close\"'],\n",
       "  ['\"CloseDoc()\"'],\n",
       "  ['\"New\"'],\n",
       "  ['\"Open\"'],\n",
       "  ['\"OpenDoc()\"'],\n",
       "  ['\"b\"'],\n",
       "  ['\"blue\"'],\n",
       "  ['\"green\"'],\n",
       "  ['\"hue\"'],\n",
       "  ['\"primary\"'],\n",
       "  ['\"secondary\"']],\n",
       " '<json_parse_object.1-2>': [[':', '<json_parse_object.1-3>']],\n",
       " '<json_parse_object.0-9-c>': [['<isspace_.1-1>',\n",
       "   '\"CreateNewDoc()\"',\n",
       "   '<has_char.2-2>'],\n",
       "  ['<json_parse_object.1-3>']],\n",
       " '<json_parse_object.1-3>': [['<json_parse_value.5-1>', '<has_char.2-2>']],\n",
       " '<has_char.2-2>': [['}']],\n",
       " '<json_parse_value.2-0-c>': [['<isspace_.1-1>',\n",
       "   '<isspace_.0-1>',\n",
       "   '<json_parse_value.1-0-c>',\n",
       "   '<json_parse_object.1-2>'],\n",
       "  ['<isspace_.1-1>', '[8', '<isspace_.3-1>', ' 67]']]}"
      ]
     },
     "execution_count": 735,
     "metadata": {},
     "output_type": "execute_result"
    }
   ],
   "source": [
    "json_grammar = binary_miner(json_samples, 'subject/json/json.c')\n",
    "canonical(json_grammar)"
   ]
  },
  {
   "cell_type": "code",
   "execution_count": 744,
   "metadata": {
    "ExecuteTime": {
     "end_time": "2021-10-02T18:12:05.888237Z",
     "start_time": "2021-10-02T18:12:02.087668Z"
    },
    "scrolled": false
   },
   "outputs": [
    {
     "name": "stdout",
     "output_type": "stream",
     "text": [
      "(0, 1000)\n"
     ]
    }
   ],
   "source": [
    "if 'json' in CHECK:\n",
    "    result = check_recall(json_golden, json_grammar, start_symbol='<START>')\n",
    "    BMiner_r['json.c'] = result\n",
    "    print(result)"
   ]
  },
  {
   "cell_type": "code",
   "execution_count": 738,
   "metadata": {
    "ExecuteTime": {
     "end_time": "2021-10-02T18:10:00.018282Z",
     "start_time": "2021-10-02T17:58:25.364800Z"
    },
    "scrolled": true
   },
   "outputs": [
    {
     "name": "stdout",
     "output_type": "stream",
     "text": [
      "(1000, 1000)\n"
     ]
    }
   ],
   "source": [
    "result = check_precision('subject/json/json.c', json_grammar)\n",
    "BMiner_p['json.c'] = result\n",
    "print(result)"
   ]
  },
  {
   "cell_type": "code",
   "execution_count": null,
   "metadata": {
    "ExecuteTime": {
     "end_time": "2021-10-01T09:50:59.330511Z",
     "start_time": "2021-10-01T09:50:31.725Z"
    }
   },
   "outputs": [],
   "source": [
    "clean_build()"
   ]
  },
  {
   "cell_type": "markdown",
   "metadata": {},
   "source": [
    "### TinyExpr"
   ]
  },
  {
   "cell_type": "markdown",
   "metadata": {},
   "source": [
    "#### Golden Grammar"
   ]
  },
  {
   "cell_type": "code",
   "execution_count": 909,
   "metadata": {
    "ExecuteTime": {
     "end_time": "2021-10-04T08:08:40.146362Z",
     "start_time": "2021-10-04T08:08:40.129522Z"
    }
   },
   "outputs": [],
   "source": [
    "mathexpr_golden = {\n",
    "  \"<START>\": [\n",
    "    \"<expr>\"\n",
    "  ],\n",
    "  \"<word>\": [\n",
    "    \"pi\",\n",
    "    \"e\",\n",
    "    \"phi\",\n",
    "    \"abs\",\n",
    "    \"acos\",\n",
    "    \"asin\",\n",
    "    \"atan\",\n",
    "    \"atan2\",\n",
    "    \"ceil\",\n",
    "    \"cos\",\n",
    "    \"cosh\",\n",
    "    \"degrees\",\n",
    "    \"exp\",\n",
    "    \"fabs\",\n",
    "    \"floor\",\n",
    "    \"fmod\",\n",
    "    \"frexp\",\n",
    "    \"hypot\",\n",
    "    \"ldexp\",\n",
    "    \"log\",\n",
    "    \"log10\",\n",
    "    \"modf\",\n",
    "    \"pow\",\n",
    "    \"radians\",\n",
    "    \"sin\",\n",
    "    \"sinh\",\n",
    "    \"sqrt\",\n",
    "    \"tan\",\n",
    "    \"tanh\",\n",
    "    \"<alpha>\"\n",
    "  ],\n",
    "  \"<alpha>\": [ \"a\", \"b\", \"c\", \"d\", \"f\", \"g\", \"h\", \"i\", \"j\", \"k\", \"l\", \"m\", \"n\", \"o\", \"p\", \"q\", \"r\", \"s\", \"t\", \"u\", \"v\", \"w\", \"x\", \"y\", \"z\"],\n",
    "  \"<expr>\": [\n",
    "    \"<term>+<expr>\",\n",
    "    \"<term>-<expr>\",\n",
    "    \"<term>\"\n",
    "  ],\n",
    "  \"<term>\": [\n",
    "    \"<factor>*<term>\",\n",
    "    \"<factor>/<term>\",\n",
    "    \"<factor>\"\n",
    "  ],\n",
    "  \"<factor>\": [\n",
    "    \"+<factor>\",\n",
    "    \"-<factor>\",\n",
    "    \"(<expr>)\",\n",
    "    \"<word>(<expr>,<expr>)\",\n",
    "    \"<word>\",\n",
    "    \"<number>\"\n",
    "  ],\n",
    "  \"<number>\": [\n",
    "    \"<integer>.<integer>\",\n",
    "    \"<integer>\"\n",
    "  ],\n",
    "  \"<integer>\": [\n",
    "    \"<digit><integer>\",\n",
    "    \"<digit>\"\n",
    "  ],\n",
    "  \"<digit>\": [ \"0\", \"1\", \"2\", \"3\", \"4\", \"5\", \"6\", \"7\", \"8\", \"9\" ]\n",
    "}"
   ]
  },
  {
   "cell_type": "markdown",
   "metadata": {},
   "source": [
    "#### Samples"
   ]
  },
  {
   "cell_type": "code",
   "execution_count": 910,
   "metadata": {
    "ExecuteTime": {
     "end_time": "2021-10-04T08:08:42.590858Z",
     "start_time": "2021-10-04T08:08:42.584516Z"
    }
   },
   "outputs": [],
   "source": [
    "expr_samples = [\n",
    "    i.strip() for i in '''\\\n",
    "atan2(3,4)\n",
    "log(0)\n",
    "pow(2,5)\n",
    "fac(300)\n",
    "ncr(4,8)\n",
    "npr(30,25)\n",
    "10^5*5e-5\n",
    "exp(0)\n",
    "log10(5)\n",
    "555+(234-445)\n",
    "abs(7)\n",
    "2+(2*2)\n",
    "sqrt(9^4)\n",
    "asin(5,12)\n",
    "31/20-2\n",
    "1-(41/2)\n",
    "exp(0)\n",
    "1/3*6\n",
    "cos(56) * 1\n",
    "ceil(.96)\n",
    "cosh(45)\n",
    "'''.split('\\n') if i.strip()\n",
    "]"
   ]
  },
  {
   "cell_type": "code",
   "execution_count": 911,
   "metadata": {
    "ExecuteTime": {
     "end_time": "2021-10-04T17:08:54.202809Z",
     "start_time": "2021-10-04T08:08:44.947354Z"
    },
    "scrolled": false
   },
   "outputs": [
    {
     "name": "stdout",
     "output_type": "stream",
     "text": [
      "<te_compile.0-11> ['<find_builtin.1-0-c>', '<te_compile.0-11-c>']\n",
      "<te_compile.0-3> ['<next_token.2-0-c>', '<te_compile.0-3-c>']\n",
      "<te_compile.0-1> ['<find_builtin.0-0-c>', '<base.0-1>']\n",
      "<base.0-1> ['<next_token.1-1>', '<base.0-2>']\n",
      "<find_builtin.1-7> ['fac']\n",
      "<find_builtin.0-2> ['ncr']\n",
      "<find_builtin.1-1> ['abs']\n",
      "<find_builtin.1-6> ['exp']\n",
      "<te_compile.0-12> ['<base.3-1>', '<optimize.0-1>']\n",
      "<find_builtin.0-3> ['npr']\n",
      "<find_builtin.1-2> ['asin']\n",
      "<find_builtin.1-8> ['log']\n",
      "<term.8-1> ['<base.9-1>', '<term.8-2>']\n",
      "<find_builtin.0-1> ['atan2']\n",
      "<find_builtin.1-4> ['cos']\n",
      "<find_builtin.1-9> ['log10']\n",
      "<find_builtin.1-3> ['ceil']\n",
      "<te_compile.0-4> ['0', '<expr.2-0-c>']\n",
      "<te_compile.0-8> ['55', '<expr.2-0-c>']\n",
      "<base.0-2> ['<next_token.2-0-c>', '<base.0-3>']\n",
      "<find_builtin.1-10> ['sqrt']\n",
      "<te_compile.0-6> ['1', '<expr.2-0-c>']\n",
      "<find_builtin.1-5> ['cosh']\n",
      "<find_builtin.0-4> ['pow']\n",
      "<base.9-1> ['<next_token.1-1>', '<base.10-1>']\n",
      "<term.8-2> ['*', '<term.8-3>']\n",
      "<base.3-1> ['<next_token.1-1>', '<base.4-1>']\n",
      "<base.0-3> ['<next_token.3-1>', '<base.0-4>']\n",
      "<term.8-3> ['<next_token.9-1>', '<next_token.2-0-c>']\n",
      "<base.0-4> ['<next_token.2-0-c>', '<expr.2-0-c>']\n",
      "<base.10-1> ['<next_token.2-0-c>', '<base.10-2>']\n",
      "<base.10-2> [')', '<next_token.9-1>']\n",
      "<list.4-1> ['<next_token.3-1>', '<next_token.2-0-c>']\n",
      "<expr.2-2> ['<term.4-0-c>', '<expr.2-2-c>']\n",
      "<term.2-2> ['<factor.4-1>', '<term.2-3>']\n",
      "<term.2-5> ['<next_token.8-1>', '<term.2-6>']\n",
      "<term.2-6> ['<next_token.2-0-c>', '<term.2-6-c>']\n",
      "<expr.2-3> ['<next_token.1-1>', '<base.7-1>']\n",
      "<term.4-2> ['<next_token.8-1>', '<term.4-3>']\n",
      "<next_token.6-1> ['^']\n",
      "<base.7-1> ['<next_token.2-0-c>', '<base.7-1-c>']\n",
      "<term.4-3> ['<next_token.2-0-c>', '<next_token.7-0-c>']\n",
      "<next_token.2-15> ['45']\n",
      "<next_token.2-21> ['8']\n",
      "<next_token.2-9> ['3']\n",
      "<next_token.2-18> ['5e-5']\n",
      "<next_token.2-14> ['445']\n",
      "<next_token.2-1> ['.96']\n",
      "<next_token.2-19> ['6']\n",
      "<next_token.2-22> ['9']\n",
      "<next_token.2-2> ['0']\n",
      "<next_token.2-5> ['2']\n",
      "<next_token.2-8> ['25']\n",
      "<next_token.2-17> ['56']\n",
      "<next_token.2-3> ['1']\n",
      "<next_token.2-11> ['300']\n",
      "<next_token.2-20> ['7']\n",
      "<next_token.2-13> ['41']\n",
      "<next_token.2-6> ['20']\n",
      "<next_token.2-10> ['30']\n",
      "<next_token.2-16> ['5']\n",
      "<next_token.2-4> ['12']\n",
      "<next_token.2-12> ['4']\n",
      "<next_token.2-7> ['234']\n",
      "<base.7-2> ['*', '<term.6-1>']\n",
      "<next_token.7-2> ['-']\n",
      "<next_token.7-1> ['+']\n",
      "<term.6-1> ['<next_token.2-0-c>', '<optimize.0-1>']\n"
     ]
    },
    {
     "data": {
      "text/plain": [
       "{'<START>': [['<te_compile.0-0-c>']],\n",
       " '<te_compile.0-0-c>': [['<find_builtin.0-0-c>',\n",
       "   '<next_token.1-1>',\n",
       "   '<next_token.2-0-c>',\n",
       "   '<next_token.3-1>',\n",
       "   '<next_token.2-0-c>',\n",
       "   '<expr.2-0-c>'],\n",
       "  ['<find_builtin.1-0-c>', '<te_compile.0-11-c>'],\n",
       "  ['<next_token.2-0-c>', '<te_compile.0-3-c>']],\n",
       " '<find_builtin.0-0-c>': [['atan2'], ['ncr'], ['npr'], ['pow']],\n",
       " '<next_token.1-1>': [['(']],\n",
       " '<next_token.2-0-c>': [['.96'],\n",
       "  ['0'],\n",
       "  ['1'],\n",
       "  ['12'],\n",
       "  ['2'],\n",
       "  ['20'],\n",
       "  ['234'],\n",
       "  ['25'],\n",
       "  ['3'],\n",
       "  ['30'],\n",
       "  ['300'],\n",
       "  ['4'],\n",
       "  ['41'],\n",
       "  ['445'],\n",
       "  ['45'],\n",
       "  ['5'],\n",
       "  ['56'],\n",
       "  ['5e-5'],\n",
       "  ['6'],\n",
       "  ['7'],\n",
       "  ['8'],\n",
       "  ['9']],\n",
       " '<next_token.3-1>': [[',']],\n",
       " '<expr.2-0-c>': [['<term.2-0-c>'], ['<term.4-0-c>', '<expr.2-2-c>']],\n",
       " '<find_builtin.1-0-c>': [['abs'],\n",
       "  ['asin'],\n",
       "  ['ceil'],\n",
       "  ['cos'],\n",
       "  ['cosh'],\n",
       "  ['exp'],\n",
       "  ['fac'],\n",
       "  ['log'],\n",
       "  ['log10'],\n",
       "  ['sqrt']],\n",
       " '<te_compile.0-11-c>': [['<next_token.1-1>', '<base.4-1>', '<optimize.0-1>'],\n",
       "  ['<next_token.1-1>',\n",
       "   '<next_token.2-0-c>',\n",
       "   ')',\n",
       "   '<next_token.9-1>',\n",
       "   '*',\n",
       "   '<next_token.9-1>',\n",
       "   '<next_token.2-0-c>']],\n",
       " '<te_compile.0-3-c>': [['0', '<expr.2-0-c>'],\n",
       "  ['1', '<expr.2-0-c>'],\n",
       "  ['55', '<expr.2-0-c>'],\n",
       "  ['<expr.2-0-c>']],\n",
       " '<term.2-0-c>': [['<factor.4-1>', '<term.2-3>'],\n",
       "  ['<next_token.8-1>', '<next_token.2-0-c>', '<term.2-6-c>'],\n",
       "  ['<optimize.0-1>']],\n",
       " '<term.4-0-c>': [['<next_token.7-0-c>'],\n",
       "  ['<next_token.8-1>', '<next_token.2-0-c>', '<next_token.7-0-c>']],\n",
       " '<expr.2-2-c>': [['<expr.2-5>'],\n",
       "  ['<next_token.1-1>', '<next_token.2-0-c>', '<base.7-1-c>']],\n",
       " '<factor.4-1>': [['^', '<next_token.2-0-c>']],\n",
       " '<term.2-3>': [['*', '<next_token.2-0-c>']],\n",
       " '<next_token.8-1>': [['/']],\n",
       " '<term.2-6-c>': [['<optimize.0-1>'], ['<term.2-3>']],\n",
       " '<optimize.0-1>': [[')']],\n",
       " '<next_token.7-0-c>': [['+'], ['-']],\n",
       " '<expr.2-5>': [['<next_token.2-0-c>'],\n",
       "  ['<next_token.2-0-c>', '<term.2-0-c>']],\n",
       " '<base.7-1-c>': [['*', '<next_token.2-0-c>', '<optimize.0-1>'],\n",
       "  ['<expr.2-0-c>']],\n",
       " '<base.4-1>': [['<next_token.2-0-c>'],\n",
       "  ['<next_token.2-0-c>', '<list.4-0-c>']],\n",
       " '<next_token.9-1>': [[' ']],\n",
       " '<list.4-0-c>': [['<factor.4-1>'],\n",
       "  ['<next_token.3-1>', '<next_token.2-0-c>']]}"
      ]
     },
     "execution_count": 911,
     "metadata": {},
     "output_type": "execute_result"
    }
   ],
   "source": [
    "tinyexpr_grammar = binary_miner(expr_samples, 'subject/mth/tinyexpr.c', '-lm')\n",
    "canonical(tinyexpr_grammar)"
   ]
  },
  {
   "cell_type": "code",
   "execution_count": 912,
   "metadata": {
    "ExecuteTime": {
     "end_time": "2021-10-04T17:08:57.535228Z",
     "start_time": "2021-10-04T17:08:54.233744Z"
    }
   },
   "outputs": [
    {
     "name": "stdout",
     "output_type": "stream",
     "text": [
      "(197, 1000)\n"
     ]
    }
   ],
   "source": [
    "if 'tinyexpr' in CHECK:\n",
    "    result = check_recall(tinyexpr_grammar, mathexpr_golden, start_symbol='<START>')\n",
    "    BMiner_r['tinyexpr.c'] = result\n",
    "    print(result)"
   ]
  },
  {
   "cell_type": "code",
   "execution_count": 915,
   "metadata": {
    "ExecuteTime": {
     "end_time": "2021-10-04T18:02:12.354500Z",
     "start_time": "2021-10-04T17:52:34.443846Z"
    },
    "scrolled": true
   },
   "outputs": [
    {
     "name": "stdout",
     "output_type": "stream",
     "text": [
      "(642, 1000)\n"
     ]
    }
   ],
   "source": [
    "result = check_precision('subject/mth/tinyexpr.c', tinyexpr_grammar)\n",
    "BMiner_p['tinyexpr.c'] = result\n",
    "print(result)"
   ]
  },
  {
   "cell_type": "code",
   "execution_count": null,
   "metadata": {
    "ExecuteTime": {
     "start_time": "2021-09-18T11:33:09.068Z"
    }
   },
   "outputs": [],
   "source": [
    "clean_build()"
   ]
  },
  {
   "cell_type": "markdown",
   "metadata": {},
   "source": [
    "### INI"
   ]
  },
  {
   "cell_type": "markdown",
   "metadata": {},
   "source": [
    "#### Golden Grammar"
   ]
  },
  {
   "cell_type": "code",
   "execution_count": 514,
   "metadata": {
    "ExecuteTime": {
     "end_time": "2021-09-23T13:58:21.737650Z",
     "start_time": "2021-09-23T13:58:21.732781Z"
    },
    "scrolled": true
   },
   "outputs": [],
   "source": [
    "from fuzzingbook.Grammars import convert_ebnf_grammar\n",
    "\n",
    "ini_golden = {\n",
    "    \"<START>\": [\"<Section>\"],\n",
    "    \"<Section>\": [\"[<ID>]\", \"<Statement>\"],\n",
    "    \"<ID>\": [\"<text>*\"],\n",
    "    \"<text>\": list(string.ascii_letters + string.digits),\n",
    "    \"<Statement>\": [\"<ID> = <ID>\"],\n",
    "}\n",
    "ini_golden = convert_ebnf_grammar(ini_golden)"
   ]
  },
  {
   "cell_type": "markdown",
   "metadata": {},
   "source": [
    "#### Samples"
   ]
  },
  {
   "cell_type": "code",
   "execution_count": 515,
   "metadata": {
    "ExecuteTime": {
     "end_time": "2021-09-23T13:58:23.526331Z",
     "start_time": "2021-09-23T13:58:23.522435Z"
    }
   },
   "outputs": [],
   "source": [
    "ini_samples = [\n",
    "    i.strip() for i in '''\\\n",
    "[owner]\n",
    "server = 192.0.2.62\n",
    "name=John Doe\n",
    "organization=Acme Widgets Inc.\n",
    "[protocol]\n",
    "version=6\n",
    "[user]\n",
    "name = Bob Smith\n",
    "email = bob@smith.com\n",
    "active = true\n",
    "pi = 3.14159\n",
    "[colon_tests]\n",
    "Content-Type=text/html\n",
    "adams=42\n",
    "funny1:with = equals\n",
    "file=payroll.dat\n",
    "[bom_section]\n",
    "bom_name=bom_value\n",
    "'''.split('\\n') if i.strip()\n",
    "]"
   ]
  },
  {
   "cell_type": "code",
   "execution_count": 516,
   "metadata": {
    "ExecuteTime": {
     "end_time": "2021-09-23T15:45:10.305840Z",
     "start_time": "2021-09-23T13:58:29.767965Z"
    },
    "scrolled": false
   },
   "outputs": [
    {
     "name": "stdout",
     "output_type": "stream",
     "text": [
      "<mini_fparse_cb.0-14> ['file', '<mini_fparse_cb.0-15>']\n",
      "<mini_fparse_cb.0-2> ['Content-Type', '<mini_fparse_cb.0-3>']\n",
      "<mini_fparse_cb.0-33> ['version', '<mini_fparse_cb.0-34>']\n",
      "<mini_fparse_cb.0-17> ['funny1:with', '<mini_fparse_cb.0-18>']\n",
      "<mini_fparse_cb.0-5> ['active', '<mini_fparse_cb.0-6>']\n",
      "<mini_fparse_cb.0-24> ['organization', '<mini_fparse_cb.0-25>']\n",
      "<mini_fparse_cb.0-20> ['name', '<mini_fparse_cb.0-21>']\n",
      "<mini_fparse_cb.0-30> ['server', '<mini_fparse_cb.0-31>']\n",
      "<mini_fparse_cb.0-11> ['email', '<mini_fparse_cb.0-12>']\n",
      "<mini_fparse_cb.0-8> ['adams', '<mini_fparse_cb.0-9>']\n",
      "<mini_fparse_cb.0-27> ['pi', '<mini_fparse_cb.0-28>']\n",
      "<mini_next.0-4> ['[user]']\n",
      "<mini_next.0-1> ['[colon_tests]']\n",
      "<mini_fparse_cb.0-25> ['<mini_next.1-0-c>', '<mini_fparse_cb.0-26>']\n",
      "<mini_fparse_cb.0-21> ['<mini_next.1-0-c>', '<mini_fparse_cb.0-21-c>']\n",
      "<mini_next.0-2> ['[owner]']\n",
      "<mini_fparse_cb.0-15> ['<mini_next.1-0-c>', '<mini_fparse_cb.0-16>']\n",
      "<mini_fparse_cb.0-12> ['<mini_next.1-0-c>', '<mini_fparse_cb.0-13>']\n",
      "<mini_fparse_cb.0-28> ['<mini_next.1-0-c>', '<mini_fparse_cb.0-29>']\n",
      "<mini_fparse_cb.0-34> ['<mini_next.1-0-c>', '<mini_fparse_cb.0-35>']\n",
      "<mini_next.0-3> ['[protocol]']\n",
      "<mini_fparse_cb.0-9> ['<mini_next.1-0-c>', '<mini_fparse_cb.0-10>']\n",
      "<mini_fparse_cb.0-18> ['<mini_next.1-0-c>', '<mini_fparse_cb.0-19>']\n",
      "<mini_fparse_cb.0-3> ['<mini_next.1-0-c>', '<mini_fparse_cb.0-4>']\n",
      "<mini_fparse_cb.0-31> ['<mini_next.1-0-c>', '<mini_fparse_cb.0-32>']\n",
      "<mini_fparse_cb.0-6> ['<mini_next.1-0-c>', '<mini_fparse_cb.0-7>']\n",
      "<mini_fparse_cb.0-35> ['6']\n",
      "<mini_fparse_cb.0-13> ['bob@smith.com']\n",
      "<mini_fparse_cb.0-32> ['192.0.2.62']\n",
      "<mini_fparse_cb.0-26> ['Acme Widgets Inc.']\n",
      "<mini_fparse_cb.0-29> ['3.14159']\n",
      "<mini_fparse_cb.0-16> ['payroll.dat']\n",
      "<mini_fparse_cb.0-10> ['42']\n",
      "<mini_fparse_cb.0-4> ['text/html']\n",
      "<mini_fparse_cb.0-19> ['equals']\n",
      "<mini_fparse_cb.0-7> ['true']\n",
      "<mini_next.1-1> ['<_mini_isspace.0-1>', '<mini_next.1-2>']\n",
      "<mini_next.1-4> ['=']\n",
      "<mini_fparse_cb.0-23> ['John Doe']\n",
      "<mini_fparse_cb.0-22> ['Bob Smith']\n",
      "<mini_next.1-2> ['=', '<_mini_isspace.0-1>']\n"
     ]
    },
    {
     "data": {
      "text/plain": [
       "{'<START>': [['<mini_fparse_cb.0-0-c>']],\n",
       " '<mini_fparse_cb.0-0-c>': [['<mini_next.0-0-c>'],\n",
       "  ['Content-Type', '<mini_next.1-0-c>', 'text/html'],\n",
       "  ['active', '<mini_next.1-0-c>', 'true'],\n",
       "  ['adams', '<mini_next.1-0-c>', '42'],\n",
       "  ['email', '<mini_next.1-0-c>', 'bob@smith.com'],\n",
       "  ['file', '<mini_next.1-0-c>', 'payroll.dat'],\n",
       "  ['funny1:with', '<mini_next.1-0-c>', 'equals'],\n",
       "  ['name', '<mini_next.1-0-c>', '<mini_fparse_cb.0-21-c>'],\n",
       "  ['organization', '<mini_next.1-0-c>', 'Acme Widgets Inc.'],\n",
       "  ['pi', '<mini_next.1-0-c>', '3.14159'],\n",
       "  ['server', '<mini_next.1-0-c>', '192.0.2.62'],\n",
       "  ['version', '<mini_next.1-0-c>', '6']],\n",
       " '<mini_next.0-0-c>': [['[colon_tests]'],\n",
       "  ['[owner]'],\n",
       "  ['[protocol]'],\n",
       "  ['[user]']],\n",
       " '<mini_next.1-0-c>': [['<_mini_isspace.0-1>', '=', '<_mini_isspace.0-1>'],\n",
       "  ['=']],\n",
       " '<mini_fparse_cb.0-21-c>': [['Bob Smith'], ['John Doe']],\n",
       " '<_mini_isspace.0-1>': [[' ']]}"
      ]
     },
     "execution_count": 516,
     "metadata": {},
     "output_type": "execute_result"
    }
   ],
   "source": [
    "ini_grammar = binary_miner(ini_samples, 'subject/ini/mini.c')\n",
    "canonical(ini_grammar)"
   ]
  },
  {
   "cell_type": "code",
   "execution_count": 517,
   "metadata": {
    "ExecuteTime": {
     "end_time": "2021-09-23T15:45:14.776606Z",
     "start_time": "2021-09-23T15:45:10.329410Z"
    },
    "scrolled": true
   },
   "outputs": [
    {
     "name": "stdout",
     "output_type": "stream",
     "text": [
      "(175, 1000)\n"
     ]
    }
   ],
   "source": [
    "if 'ini' in CHECK:\n",
    "    result = check_recall(ini_grammar, ini_golden, start_symbol='<START>')\n",
    "    BMiner_r['ini.c'] = result\n",
    "    print(result)"
   ]
  },
  {
   "cell_type": "code",
   "execution_count": 518,
   "metadata": {
    "ExecuteTime": {
     "end_time": "2021-09-23T15:49:36.634563Z",
     "start_time": "2021-09-23T15:45:14.801709Z"
    },
    "scrolled": true
   },
   "outputs": [
    {
     "name": "stdout",
     "output_type": "stream",
     "text": [
      "(1000, 1000)\n"
     ]
    }
   ],
   "source": [
    "result = check_precision('subject/ini/ini.c', ini_grammar)\n",
    "BMiner_p['ini.c'] = result\n",
    "print(result)"
   ]
  },
  {
   "cell_type": "code",
   "execution_count": 418,
   "metadata": {
    "ExecuteTime": {
     "end_time": "2021-09-14T06:18:21.304105Z",
     "start_time": "2021-09-14T06:18:21.185745Z"
    }
   },
   "outputs": [
    {
     "name": "stdout",
     "output_type": "stream",
     "text": [
      "rm: cannot remove 'flag.txt': No such file or directory\r\n"
     ]
    }
   ],
   "source": [
    "clean_build()"
   ]
  },
  {
   "cell_type": "markdown",
   "metadata": {},
   "source": [
    "## Results"
   ]
  },
  {
   "cell_type": "code",
   "execution_count": 839,
   "metadata": {
    "ExecuteTime": {
     "end_time": "2021-10-03T20:27:11.256950Z",
     "start_time": "2021-10-03T20:27:11.250847Z"
    }
   },
   "outputs": [],
   "source": [
    "from IPython.display import HTML, display"
   ]
  },
  {
   "cell_type": "code",
   "execution_count": 840,
   "metadata": {
    "ExecuteTime": {
     "end_time": "2021-10-03T20:27:12.609399Z",
     "start_time": "2021-10-03T20:27:12.601067Z"
    }
   },
   "outputs": [],
   "source": [
    "def show_table(keys, autogram, title, fn):\n",
    "    keys = [k for k in keys if k in autogram and autogram[k]]\n",
    "    tbl = ['<tr>%s</tr>' % ''.join([\"<th>%s</th>\" % k for k in ['<b>%s</b>' % title,'Binary Miner']])]\n",
    "    for k in keys:\n",
    "        h_c = \"<td>%s</td>\" % k\n",
    "        a_c = \"<td>%s</td>\" % fn(autogram.get(k,('',0)))\n",
    "        tbl.append('<tr>%s</tr>' % ''.join([h_c, a_c]))\n",
    "    return display(HTML('<table>%s</table>' % '\\n'.join(tbl)))"
   ]
  },
  {
   "cell_type": "markdown",
   "metadata": {},
   "source": [
    "### Table 1 (Recall)\n",
    "\n",
    "How many *valid* inputs generated by the golden grammar or collected externally are parsable by a parser using our grammar?"
   ]
  },
  {
   "cell_type": "code",
   "execution_count": 841,
   "metadata": {
    "ExecuteTime": {
     "end_time": "2021-10-03T20:27:14.631303Z",
     "start_time": "2021-10-03T20:27:14.625381Z"
    }
   },
   "outputs": [],
   "source": [
    "def percentage_fn(x):\n",
    "    return \"%s%%\" % (x[0]*100.0/x[1])"
   ]
  },
  {
   "cell_type": "code",
   "execution_count": 916,
   "metadata": {
    "ExecuteTime": {
     "end_time": "2021-10-04T22:24:33.055790Z",
     "start_time": "2021-10-04T22:24:33.047302Z"
    }
   },
   "outputs": [
    {
     "data": {
      "text/plain": [
       "{'tinyexpr.c': (197, 1000),\n",
       " 'json.c': (0, 1000),\n",
       " 'ini.c': (175, 1000),\n",
       " 'calc.c': (7, 1000),\n",
       " 'mjs.c': (0, 1000),\n",
       " 'url.c': (298, 1000)}"
      ]
     },
     "execution_count": 916,
     "metadata": {},
     "output_type": "execute_result"
    }
   ],
   "source": [
    "BMiner_r"
   ]
  },
  {
   "cell_type": "code",
   "execution_count": 917,
   "metadata": {
    "ExecuteTime": {
     "end_time": "2021-10-04T22:24:36.641214Z",
     "start_time": "2021-10-04T22:24:36.633318Z"
    },
    "scrolled": true
   },
   "outputs": [
    {
     "data": {
      "text/html": [
       "<table><tr><th><b>Recall</b></th><th>Binary Miner</th></tr>\n",
       "<tr><td>tinyexpr.c</td><td>19.7%</td></tr>\n",
       "<tr><td>json.c</td><td>0.0%</td></tr>\n",
       "<tr><td>ini.c</td><td>17.5%</td></tr>\n",
       "<tr><td>calc.c</td><td>0.7%</td></tr>\n",
       "<tr><td>mjs.c</td><td>0.0%</td></tr>\n",
       "<tr><td>url.c</td><td>29.8%</td></tr></table>"
      ],
      "text/plain": [
       "<IPython.core.display.HTML object>"
      ]
     },
     "metadata": {},
     "output_type": "display_data"
    }
   ],
   "source": [
    "show_table(BMiner_r.keys(), BMiner_r, 'Recall', fn=percentage_fn)"
   ]
  },
  {
   "cell_type": "markdown",
   "metadata": {},
   "source": [
    "### Table 2 (Precision)\n",
    "How many inputs we generate using our inferred grammar is valid? (accepted by the subject program?)"
   ]
  },
  {
   "cell_type": "code",
   "execution_count": 918,
   "metadata": {
    "ExecuteTime": {
     "end_time": "2021-10-04T22:24:39.007558Z",
     "start_time": "2021-10-04T22:24:39.003020Z"
    },
    "scrolled": false
   },
   "outputs": [
    {
     "data": {
      "text/plain": [
       "{'tinyexpr.c': (642, 1000),\n",
       " 'json.c': (1000, 1000),\n",
       " 'ini.c': (1000, 1000),\n",
       " 'calc.c': (1000, 1000),\n",
       " 'mjs.c': (1000, 1000),\n",
       " 'url.c': (1000, 1000)}"
      ]
     },
     "execution_count": 918,
     "metadata": {},
     "output_type": "execute_result"
    }
   ],
   "source": [
    "BMiner_p"
   ]
  },
  {
   "cell_type": "code",
   "execution_count": 919,
   "metadata": {
    "ExecuteTime": {
     "end_time": "2021-10-04T22:24:40.490256Z",
     "start_time": "2021-10-04T22:24:40.481208Z"
    },
    "scrolled": false
   },
   "outputs": [
    {
     "data": {
      "text/html": [
       "<table><tr><th><b>Precision</b></th><th>Binary Miner</th></tr>\n",
       "<tr><td>tinyexpr.c</td><td>64.2%</td></tr>\n",
       "<tr><td>json.c</td><td>100.0%</td></tr>\n",
       "<tr><td>ini.c</td><td>100.0%</td></tr>\n",
       "<tr><td>calc.c</td><td>100.0%</td></tr>\n",
       "<tr><td>mjs.c</td><td>100.0%</td></tr>\n",
       "<tr><td>url.c</td><td>100.0%</td></tr></table>"
      ],
      "text/plain": [
       "<IPython.core.display.HTML object>"
      ]
     },
     "metadata": {},
     "output_type": "display_data"
    }
   ],
   "source": [
    "show_table(BMiner_p.keys(), BMiner_p, 'Precision', fn=percentage_fn)"
   ]
  }
 ],
 "metadata": {
  "kernelspec": {
   "display_name": "Python 3",
   "language": "python",
   "name": "python3"
  },
  "language_info": {
   "codemirror_mode": {
    "name": "ipython",
    "version": 3
   },
   "file_extension": ".py",
   "mimetype": "text/x-python",
   "name": "python",
   "nbconvert_exporter": "python",
   "pygments_lexer": "ipython3",
   "version": "3.7.7"
  },
  "latex_envs": {
   "LaTeX_envs_menu_present": true,
   "autoclose": false,
   "autocomplete": true,
   "bibliofile": "biblio.bib",
   "cite_by": "apalike",
   "current_citInitial": 1,
   "eqLabelWithNumbers": true,
   "eqNumInitial": 1,
   "hotkeys": {
    "equation": "Ctrl-E",
    "itemize": "Ctrl-I"
   },
   "labels_anchors": false,
   "latex_user_defs": false,
   "report_style_numbering": false,
   "user_envs_cfg": false
  },
  "toc": {
   "base_numbering": 1,
   "nav_menu": {},
   "number_sections": true,
   "sideBar": true,
   "skip_h1_title": false,
   "title_cell": "Table of Contents",
   "title_sidebar": "Contents",
   "toc_cell": false,
   "toc_position": {
    "height": "958.073px",
    "left": "133px",
    "top": "110.05px",
    "width": "454.149px"
   },
   "toc_section_display": true,
   "toc_window_display": true
  },
  "varInspector": {
   "cols": {
    "lenName": 16,
    "lenType": 16,
    "lenVar": 40
   },
   "kernels_config": {
    "python": {
     "delete_cmd_postfix": "",
     "delete_cmd_prefix": "del ",
     "library": "var_list.py",
     "varRefreshCmd": "print(var_dic_list())"
    },
    "r": {
     "delete_cmd_postfix": ") ",
     "delete_cmd_prefix": "rm(",
     "library": "var_list.r",
     "varRefreshCmd": "cat(var_dic_list()) "
    }
   },
   "types_to_exclude": [
    "module",
    "function",
    "builtin_function_or_method",
    "instance",
    "_Feature"
   ],
   "window_display": false
  }
 },
 "nbformat": 4,
 "nbformat_minor": 4
}
